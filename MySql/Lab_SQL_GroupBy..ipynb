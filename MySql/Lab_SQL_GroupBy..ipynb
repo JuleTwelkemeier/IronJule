{
 "cells": [
  {
   "cell_type": "markdown",
   "id": "9aaab247",
   "metadata": {},
   "source": [
    "# Lab | SQL Queries - Group By\n",
    "\n",
    "In this lab, you will be using the [Sakila](https://dev.mysql.com/doc/sakila/en/) database of movie rentals. If you need to get the data again, refer to the official [installation link](https://dev.mysql.com/doc/sakila/en/sakila-installation.html).\n",
    "\n",
    "The database is structured as follows:\n",
    "![DB schema](https://education-team-2020.s3-eu-west-1.amazonaws.com/data-analytics/database-sakila-schema.png)\n",
    "\n",
    "### Instructions"
   ]
  },
  {
   "cell_type": "markdown",
   "id": "774f0fdb",
   "metadata": {},
   "source": [
    "1. In the table actor, what last names are not repeated? For example if you would sort the data in the table actor by last_name, you would see that there is Christian Arkoyd, Kirsten Arkoyd, and Debbie Arkoyd. These three actors have the same last name. So we do not want to include this last name in our output. Last name \"Astaire\" is present only one time with actor \"Angelina Astaire\", hence we would want this in our output list. "
   ]
  },
  {
   "cell_type": "code",
   "execution_count": null,
   "id": "8bfbefbf",
   "metadata": {},
   "outputs": [],
   "source": [
    "''' select last_name, count(*)\n",
    "from actor\n",
    "group by last_name\n",
    "having count(*) =1  '''"
   ]
  },
  {
   "cell_type": "markdown",
   "id": "9d4b9520",
   "metadata": {},
   "source": [
    "2. Which last names appear more than once? We would use the same logic as in the previous question but this time we want to include the last names of the actors where the last name was present more than once"
   ]
  },
  {
   "cell_type": "code",
   "execution_count": null,
   "id": "58035baa",
   "metadata": {},
   "outputs": [],
   "source": [
    "'''select last_name, count(*)\n",
    "from actor\n",
    "group by last_name\n",
    "having count(*) >1 '''"
   ]
  },
  {
   "cell_type": "markdown",
   "id": "f7924665",
   "metadata": {},
   "source": [
    "3. Using the rental table, find out how many rentals were processed by each employee."
   ]
  },
  {
   "cell_type": "code",
   "execution_count": null,
   "id": "748148a5",
   "metadata": {},
   "outputs": [],
   "source": [
    "''' select staff_id, count(*)\n",
    "from rental\n",
    "group by staff_id'''"
   ]
  },
  {
   "cell_type": "markdown",
   "id": "377456a4",
   "metadata": {},
   "source": [
    "4. Using the film table, find out how many films were released."
   ]
  },
  {
   "cell_type": "code",
   "execution_count": null,
   "id": "d4d8a5ac",
   "metadata": {},
   "outputs": [],
   "source": [
    "'''SELECT count(*) as \"films_relased\" FROM film '''"
   ]
  },
  {
   "cell_type": "markdown",
   "id": "573eb2b7",
   "metadata": {},
   "source": [
    "5. Using the film table, find out how many films there are of each rating."
   ]
  },
  {
   "cell_type": "code",
   "execution_count": null,
   "id": "0fa03bae",
   "metadata": {},
   "outputs": [],
   "source": [
    "'''select rating, count(*)\n",
    "from film\n",
    "group by  rating'''"
   ]
  },
  {
   "cell_type": "markdown",
   "id": "0e5af2a3",
   "metadata": {},
   "source": [
    "6. What is the mean length of the film for each rating type. Round off the average lengths to two decimal places"
   ]
  },
  {
   "cell_type": "code",
   "execution_count": null,
   "id": "330f631b",
   "metadata": {},
   "outputs": [],
   "source": [
    "'''select rating, round(avg(length),2)\n",
    "from film\n",
    "group by rating'''"
   ]
  },
  {
   "cell_type": "markdown",
   "id": "2e1d0670",
   "metadata": {},
   "source": [
    "7. Which kind of movies (rating) have a mean duration of more than two hours?"
   ]
  },
  {
   "cell_type": "code",
   "execution_count": null,
   "id": "3be2ba2b",
   "metadata": {},
   "outputs": [],
   "source": [
    "'''\n",
    "Rating:\n",
    "\n",
    "select rating, round(avg(length),2)\n",
    "from film\n",
    "group by rating\n",
    "having round(avg(length),2) > 120\n",
    "\n",
    "\n",
    "Title:\n",
    "select title, round(avg(length),2)\n",
    "from film\n",
    "group by title\n",
    "having round(avg(length),2) > 120\n",
    "'''"
   ]
  }
 ],
 "metadata": {
  "kernelspec": {
   "display_name": "Python 3",
   "language": "python",
   "name": "python3"
  },
  "language_info": {
   "codemirror_mode": {
    "name": "ipython",
    "version": 3
   },
   "file_extension": ".py",
   "mimetype": "text/x-python",
   "name": "python",
   "nbconvert_exporter": "python",
   "pygments_lexer": "ipython3",
   "version": "3.8.8"
  }
 },
 "nbformat": 4,
 "nbformat_minor": 5
}
