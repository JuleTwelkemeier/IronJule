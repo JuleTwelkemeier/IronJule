{
 "cells": [
  {
   "cell_type": "markdown",
   "id": "1cdf122b",
   "metadata": {},
   "source": [
    "### Lab | SQL Queries - Join Two Tables\n",
    "In this lab, you will be using the Sakila database of movie rentals. If you need to get the data again, refer to the official installation link.\n",
    "\n",
    "The database is structured as follows:\n",
    "![DB schema](https://education-team-2020.s3-eu-west-1.amazonaws.com/data-analytics/database-sakila-schema.png)\n",
    "\n"
   ]
  },
  {
   "cell_type": "markdown",
   "id": "f26abec6",
   "metadata": {},
   "source": [
    "1. How many films are there for each of the categories in the category table. Use appropriate join to write this query\n"
   ]
  },
  {
   "cell_type": "code",
   "execution_count": null,
   "id": "44bfc34c",
   "metadata": {},
   "outputs": [],
   "source": [
    "'''\n",
    "select \n",
    "\tcategory.name,\n",
    "\tcount(film_category.film_id)\n",
    "from \n",
    "\tcategory\n",
    "Inner join\n",
    "\tfilm_category\n",
    "on\n",
    "\tcategory.category_id = film_category.category_id\n",
    "group by\n",
    "\tcategory.name\n",
    "\n",
    "\n",
    "Output:\n",
    "'Action','64'\n",
    "'Animation','66'\n",
    "'Children','60'\n",
    "'Classics','57'\n",
    "'Comedy','58'\n",
    "'Documentary','68'\n",
    "'Drama','62'\n",
    "'Family','69'\n",
    "'Foreign','73'\n",
    "'Games','61'\n",
    "'Horror','56'\n",
    "'Music','51'\n",
    "'New','63'\n",
    "'Sci-Fi','61'\n",
    "'Sports','74'\n",
    "'Travel','57'\n",
    "\n",
    "\n",
    "\n",
    "'''"
   ]
  },
  {
   "cell_type": "markdown",
   "id": "ed7877c6",
   "metadata": {},
   "source": [
    "2. Which actor has appeared in the most films?\n"
   ]
  },
  {
   "cell_type": "code",
   "execution_count": null,
   "id": "7e60e3b5",
   "metadata": {},
   "outputs": [],
   "source": [
    "'''select \n",
    "\tfilm_actor.actor_id,\n",
    "\tcount(film.film_id) as film_no\n",
    "from \n",
    "\tfilm_actor\n",
    "Inner join\n",
    "\tfilm\n",
    "on\n",
    "\tfilm_actor.film_id = film.film_id\n",
    "group by\n",
    "\tfilm_actor.actor_id\n",
    "order by\n",
    "\tfilm_no desc\n",
    "limit\n",
    "\t1\n",
    "    \n",
    "Output:\n",
    "actor id , film_no\n",
    "'107','42'\n",
    "\n",
    "\n",
    "'''"
   ]
  },
  {
   "cell_type": "markdown",
   "id": "7f80a153",
   "metadata": {},
   "source": [
    "3. Most active customer (the customer that has rented the most number of films)"
   ]
  },
  {
   "cell_type": "code",
   "execution_count": null,
   "id": "6cee857c",
   "metadata": {},
   "outputs": [],
   "source": [
    "'''\n",
    "select \n",
    "\tcustomer.first_name,\n",
    "    customer.last_name,\n",
    "\tcount( distinct(rental.rental_id)) as rental_no\n",
    "from \n",
    "\tcustomer\n",
    "Inner join\n",
    "\trental\n",
    "on\n",
    "\trental.customer_id = customer.customer_id\n",
    "group by\n",
    "\tcustomer.customer_id\n",
    "order by\n",
    "\trental_no desc\n",
    "limit\n",
    "\t1\n",
    "\n",
    "OUTPUT:\n",
    "'ELEANOR','HUNT','46'\n",
    "'''"
   ]
  },
  {
   "cell_type": "markdown",
   "id": "56a08f93",
   "metadata": {},
   "source": [
    "4. List number of films per `category`.\n"
   ]
  },
  {
   "cell_type": "code",
   "execution_count": null,
   "id": "cc50ede9",
   "metadata": {},
   "outputs": [],
   "source": [
    "##same as nr 1"
   ]
  },
  {
   "cell_type": "markdown",
   "id": "d00dbc0f",
   "metadata": {},
   "source": [
    "5. Display the first and last names, as well as the address, of each staff member.\n"
   ]
  },
  {
   "cell_type": "code",
   "execution_count": null,
   "id": "63511a53",
   "metadata": {},
   "outputs": [],
   "source": [
    "'''\n",
    "select \n",
    "\tstaff.first_name,\n",
    "    staff.last_name,\n",
    "\taddress.address,\n",
    "    address.district\n",
    "from \n",
    "\tstaff\n",
    "Inner join\n",
    "\taddress\n",
    "on\n",
    "\tstaff.address_id = address.address_id\n",
    "    \n",
    "Output:\n",
    "'Mike','Hillyer','23 Workhaven Lane','Alberta'\n",
    "'Jon','Stephens','1411 Lillydale Drive','QLD'\n",
    "\n",
    "'''"
   ]
  },
  {
   "cell_type": "markdown",
   "id": "b24542ed",
   "metadata": {},
   "source": [
    "6. Display the total amount rung up by each staff member in August of 2005.\n"
   ]
  },
  {
   "cell_type": "code",
   "execution_count": null,
   "id": "392f521e",
   "metadata": {},
   "outputs": [],
   "source": [
    "'''\n",
    "select \n",
    "\tstaff.first_name,\n",
    "    staff.last_name,\n",
    "    count(payment.amount) as payment_amount\n",
    "from \n",
    "\tstaff\n",
    "Inner join\n",
    "\tpayment\n",
    "on\n",
    "\tstaff.staff_id = payment.staff_id\n",
    "where payment.payment_date like \"2005-08%\" \n",
    "group by\n",
    "\tstaff.first_name,\n",
    "    staff.last_name\n",
    "    \n",
    "    \n",
    "Output:\n",
    "'Mike','Hillyer','2835'\n",
    "'Jon','Stephens','2852'\n",
    "'''"
   ]
  },
  {
   "cell_type": "markdown",
   "id": "e8c06b49",
   "metadata": {},
   "source": [
    "7. List each film and the number of actors who are listed for that film."
   ]
  },
  {
   "cell_type": "code",
   "execution_count": null,
   "id": "6d864da0",
   "metadata": {},
   "outputs": [],
   "source": [
    "'''\n",
    "select \n",
    "\tfilm.title,\n",
    "    count(distinct(film_actor.actor_id)) as \"actor_no\"\n",
    "from \n",
    "\tfilm\n",
    "Inner join\n",
    "\tfilm_actor\n",
    "on\n",
    "\tfilm.film_id = film_actor.film_id\n",
    "group by\n",
    "\tfilm.title\n",
    "    \n",
    "Output:\n",
    "'ACADEMY DINOSAUR','10'\n",
    "'ACE GOLDFINGER','4'\n",
    "'ADAPTATION HOLES','5'\n",
    "'AFFAIR PREJUDICE','5'\n",
    "'AFRICAN EGG','5'\n",
    "'AGENT TRUMAN','7'\n",
    "....\n",
    "'''"
   ]
  },
  {
   "cell_type": "markdown",
   "id": "8f5663af",
   "metadata": {},
   "source": [
    "8. Using the tables `payment` and `customer` and the JOIN command, list the total paid by each customer. List the customers alphabetically by last name."
   ]
  },
  {
   "cell_type": "code",
   "execution_count": null,
   "id": "535a90e1",
   "metadata": {},
   "outputs": [],
   "source": [
    "'''\n",
    "select \n",
    "\tcustomer.last_name,\n",
    "    customer.first_name,\n",
    "    count(payment.amount) as \"payment_amount\"\n",
    "from \n",
    "\tcustomer\n",
    "Inner join\n",
    "\tpayment\n",
    "on\n",
    "\tcustomer.customer_id = payment.customer_id\n",
    "group by\n",
    "\tcustomer.last_name,\n",
    "    customer.first_name\n",
    "order by\n",
    "\tcustomer.last_name,\n",
    "    customer.first_name\n",
    "    \n",
    "Output:\n",
    "# last_name, first_name, payment_amount\n",
    "'ABNEY', 'RAFAEL', '21'\n",
    "'ADAM', 'NATHANIEL', '28'\n",
    "'ADAMS', 'KATHLEEN', '27'\n",
    "'ALEXANDER', 'DIANA', '27'\n",
    "....\n",
    "'''"
   ]
  },
  {
   "cell_type": "markdown",
   "id": "fc9f1a71",
   "metadata": {},
   "source": [
    "**Bonus**: Which is the most rented film?\n",
    "The answer is Bucket Brotherhood\n",
    "This query might require using more than one join statement. Give it a try."
   ]
  },
  {
   "cell_type": "code",
   "execution_count": null,
   "id": "f09c2010",
   "metadata": {},
   "outputs": [],
   "source": [
    "'''select \n",
    "\tfilm.title,\n",
    "    count(rental.rental_id) as rental_amount\n",
    "from \n",
    "\tfilm\n",
    "Inner join\n",
    "\tinventory\n",
    "on\n",
    "\tfilm.film_id = inventory.film_id\n",
    "Inner join\n",
    "\trental\n",
    "on\n",
    "\tinventory.inventory_id = rental.inventory_id\n",
    "group by\n",
    "\tfilm.title\n",
    "order by\n",
    "\t count(rental.rental_id) desc\n",
    "limit\n",
    "\t1\n",
    "\n",
    "Output:\n",
    "# title, rental_amount\n",
    "'BUCKET BROTHERHOOD', '34'\n",
    "\n",
    "    '''"
   ]
  }
 ],
 "metadata": {
  "kernelspec": {
   "display_name": "Python 3",
   "language": "python",
   "name": "python3"
  },
  "language_info": {
   "codemirror_mode": {
    "name": "ipython",
    "version": 3
   },
   "file_extension": ".py",
   "mimetype": "text/x-python",
   "name": "python",
   "nbconvert_exporter": "python",
   "pygments_lexer": "ipython3",
   "version": "3.8.8"
  }
 },
 "nbformat": 4,
 "nbformat_minor": 5
}
