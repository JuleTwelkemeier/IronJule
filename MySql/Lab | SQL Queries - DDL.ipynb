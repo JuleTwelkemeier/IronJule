{
 "cells": [
  {
   "cell_type": "markdown",
   "id": "955c6a48",
   "metadata": {},
   "source": [
    "\n",
    "\n",
    "# Lab | SQL Queries - DDL\n",
    "\n",
    "In this lab, you will be using the [Sakila](https://dev.mysql.com/doc/sakila/en/) database of movie rentals. If you need to get the data again, refer to the official [installation link](https://dev.mysql.com/doc/sakila/en/sakila-installation.html).\n",
    "\n",
    "The database is structured as follows:\n",
    "![DB schema](https://education-team-2020.s3-eu-west-1.amazonaws.com/data-analytics/database-sakila-schema.png)\n",
    "\n",
    "<br><br>\n",
    "\n",
    "### Instructions\n",
    "\n"
   ]
  },
  {
   "cell_type": "markdown",
   "id": "43c042ca",
   "metadata": {},
   "source": [
    "1. Get release years.\n"
   ]
  },
  {
   "cell_type": "code",
   "execution_count": 1,
   "id": "77d645a2",
   "metadata": {},
   "outputs": [
    {
     "data": {
      "text/plain": [
       "'select release_year from film'"
      ]
     },
     "execution_count": 1,
     "metadata": {},
     "output_type": "execute_result"
    }
   ],
   "source": [
    "'''select release_year from film'''"
   ]
  },
  {
   "cell_type": "markdown",
   "id": "6d7fa9e9",
   "metadata": {},
   "source": [
    "2. Get all films with ARMAGEDDON in the title.\n"
   ]
  },
  {
   "cell_type": "code",
   "execution_count": null,
   "id": "6d118afe",
   "metadata": {},
   "outputs": [],
   "source": [
    "'''select title from film where title like \"%ARMAGEDDON%\"'''"
   ]
  },
  {
   "cell_type": "markdown",
   "id": "f709f962",
   "metadata": {},
   "source": [
    "3. Get all films which title ends with APOLLO."
   ]
  },
  {
   "cell_type": "code",
   "execution_count": null,
   "id": "94739625",
   "metadata": {},
   "outputs": [],
   "source": [
    "'''select title from film where title like \"%APOLLO\"'''"
   ]
  },
  {
   "cell_type": "markdown",
   "id": "bf0f0ca2",
   "metadata": {},
   "source": [
    "4. Get 10 the longest films.\n",
    "\n"
   ]
  },
  {
   "cell_type": "code",
   "execution_count": null,
   "id": "1c205ed7",
   "metadata": {},
   "outputs": [],
   "source": [
    "'''select title, length from film order by length desc limit 10'''"
   ]
  },
  {
   "cell_type": "markdown",
   "id": "b60d5708",
   "metadata": {},
   "source": [
    "5. How many films include **Behind the Scenes** content?"
   ]
  },
  {
   "cell_type": "code",
   "execution_count": null,
   "id": "07bf7f0a",
   "metadata": {},
   "outputs": [],
   "source": [
    "'''select count(title) from film where special_features = \"Behind the Scenes\"'''"
   ]
  },
  {
   "cell_type": "markdown",
   "id": "8ee9c216",
   "metadata": {},
   "source": [
    "6. Drop column `picture` from `staff`."
   ]
  },
  {
   "cell_type": "code",
   "execution_count": null,
   "id": "ab2f1da4",
   "metadata": {},
   "outputs": [],
   "source": [
    "'''Alter table staff\n",
    "\tdrop column picture'''"
   ]
  },
  {
   "cell_type": "markdown",
   "id": "3966a88b",
   "metadata": {},
   "source": [
    "7. A new person is hired to help Jon. Her name is TAMMY SANDERS, and she is a customer. Update the database accordingly."
   ]
  },
  {
   "cell_type": "code",
   "execution_count": null,
   "id": "7ee934b4",
   "metadata": {},
   "outputs": [],
   "source": []
  },
  {
   "cell_type": "markdown",
   "id": "4a8b14a6",
   "metadata": {},
   "source": [
    "8. Add rental for movie \"Academy Dinosaur\" by Charlotte Hunter from Mike Hillyer at Store 1. You can use current date for the `rental_date` column in the `rental` table.\n",
    "   **Hint**: Check the columns in the table rental and see what information you would need to add there. You can query those pieces of information. For eg., you would notice that you need `customer_id` information as well. To get that you can use the following query:\n",
    "\n",
    "```sql\n",
    "select customer_id from sakila.customer\n",
    "where first_name = 'CHARLOTTE' and last_name = 'HUNTER';\n",
    "```\n",
    "\n",
    "Use similar method to get `inventory_id`, `film_id`, and `staff_id`."
   ]
  },
  {
   "cell_type": "code",
   "execution_count": null,
   "id": "071cea93",
   "metadata": {},
   "outputs": [],
   "source": []
  },
  {
   "cell_type": "markdown",
   "id": "d36e29e6",
   "metadata": {},
   "source": [
    "9. Delete non-active users, but first, create a _backup table_ `deleted_users` to store `customer_id`, `email`, and the `date` for the users that would be deleted. Follow these steps:\n",
    "\n",
    "   - Check if there are any non-active users\n",
    "   - Create a table _backup table_ as suggested\n",
    "   - Insert the non active users in the table _backup table_\n",
    "   - Delete the non active users from the table _customer_\n"
   ]
  }
 ],
 "metadata": {
  "kernelspec": {
   "display_name": "Python 3",
   "language": "python",
   "name": "python3"
  },
  "language_info": {
   "codemirror_mode": {
    "name": "ipython",
    "version": 3
   },
   "file_extension": ".py",
   "mimetype": "text/x-python",
   "name": "python",
   "nbconvert_exporter": "python",
   "pygments_lexer": "ipython3",
   "version": "3.8.8"
  }
 },
 "nbformat": 4,
 "nbformat_minor": 5
}
