{
 "cells": [
  {
   "cell_type": "markdown",
   "id": "d3382e16",
   "metadata": {},
   "source": [
    "# Lab | SQL Joins on multiple tables\n",
    "\n",
    "In this lab, you will be using the [Sakila](https://dev.mysql.com/doc/sakila/en/) database of movie rentals.\n",
    "\n"
   ]
  },
  {
   "cell_type": "markdown",
   "id": "f41a8e21",
   "metadata": {},
   "source": [
    "1. Write a query to display for each store its store ID, city, and country.\n",
    "\n"
   ]
  },
  {
   "cell_type": "code",
   "execution_count": null,
   "id": "fcabdd05",
   "metadata": {},
   "outputs": [],
   "source": [
    "'''\n",
    "select \n",
    "\tstore.store_id,\n",
    "    city.city,\n",
    "    country.country\n",
    "from \n",
    "\tstore\n",
    "Inner join\n",
    "\taddress\n",
    "on\n",
    "\tstore.address_id = address.address_id\n",
    "Inner join\n",
    "\tcity\n",
    "on\n",
    "\taddress.city_id = city.city_id\n",
    "Inner join\n",
    "\tcountry\n",
    "on\n",
    "\tcity.country_id = country.country_id\n",
    "    \n",
    "Output:\n",
    "# store_id, city, country\n",
    "'1', 'Lethbridge', 'Canada'\n",
    "'2', 'Woodridge', 'Australia'\n",
    "'''"
   ]
  },
  {
   "cell_type": "markdown",
   "id": "f5f4baa0",
   "metadata": {},
   "source": [
    "2. Write a query to display how much business, in dollars, each store brought in.\n"
   ]
  },
  {
   "cell_type": "code",
   "execution_count": null,
   "id": "c83b0aee",
   "metadata": {},
   "outputs": [],
   "source": [
    "'''\n",
    "select \n",
    "   store.store_id,\n",
    "   count(payment.amount) as \"revenue in $\"\n",
    "from \n",
    "\tstore\n",
    "Inner join\n",
    "\tstaff\n",
    "on\n",
    "\tstore.store_id = staff.store_id\n",
    "Inner join\n",
    "\tpayment\n",
    "on\n",
    "\tstaff.staff_id = payment.staff_id\n",
    "group by\n",
    "\t store.store_id\n",
    "\n",
    "Output:\n",
    "# store_id, revenue in $\n",
    "'1', '8057'\n",
    "'2', '7992'\n",
    "'''"
   ]
  },
  {
   "cell_type": "markdown",
   "id": "ba4c3c40",
   "metadata": {},
   "source": [
    "3. What is the average running time of films by category?"
   ]
  },
  {
   "cell_type": "code",
   "execution_count": null,
   "id": "ae47e188",
   "metadata": {},
   "outputs": [],
   "source": [
    "'''\n",
    "select \n",
    "\tcategory.name,\n",
    "\tavg(film.length) as average_running_time\n",
    "from \n",
    "\tcategory\n",
    "Inner join\n",
    "\tfilm_category\n",
    "on\n",
    "\tcategory.category_id = film_category.category_id\n",
    "Inner join\n",
    "\tfilm\n",
    "on\n",
    "\tfilm.film_id = film_category.film_id\n",
    "group by\n",
    "\tcategory.name\n",
    "    \n",
    "Output:\n",
    "# name, average_running_time\n",
    "'Action', '111.6094'\n",
    "'Animation', '111.0152'\n",
    "'Children', '109.8000'\n",
    "'Classics', '111.6667'\n",
    "'Comedy', '115.8276'\n",
    "'Documentary', '108.7500'\n",
    "'Drama', '120.8387'\n",
    "'Family', '114.7826'\n",
    "'Foreign', '121.6986'\n",
    "'Games', '127.8361'\n",
    "'Horror', '112.4821'\n",
    "'Music', '113.6471'\n",
    "'New', '111.1270'\n",
    "'Sci-Fi', '108.1967'\n",
    "'Sports', '128.2027'\n",
    "'Travel', '113.3158'\n",
    "\n",
    "'''"
   ]
  },
  {
   "cell_type": "markdown",
   "id": "6bf9303d",
   "metadata": {},
   "source": [
    "4. Which film categories are longest?"
   ]
  },
  {
   "cell_type": "code",
   "execution_count": null,
   "id": "c71d6105",
   "metadata": {},
   "outputs": [],
   "source": [
    "'''\n",
    "select \n",
    "\tcategory.name,\n",
    "\tavg(film.length) as average_running_time\n",
    "from \n",
    "\tcategory\n",
    "Inner join\n",
    "\tfilm_category\n",
    "on\n",
    "\tcategory.category_id = film_category.category_id\n",
    "Inner join\n",
    "\tfilm\n",
    "on\n",
    "\tfilm.film_id = film_category.film_id\n",
    "group by\n",
    "\tcategory.name\n",
    "order by\n",
    "\taverage_running_time desc\n",
    "limit \n",
    "\t1\n",
    "    \n",
    "Output:\n",
    "# name, average_running_time\n",
    "'Sports', '128.2027'\n",
    "\n",
    "'''"
   ]
  },
  {
   "cell_type": "markdown",
   "id": "c5ab3173",
   "metadata": {},
   "source": [
    "5. Display the most frequently rented movies in descending order.\n"
   ]
  },
  {
   "cell_type": "code",
   "execution_count": null,
   "id": "ea04eb4d",
   "metadata": {},
   "outputs": [],
   "source": [
    "'''\n",
    "select \n",
    "\tfilm.title,\n",
    "    count(rental.rental_id) as rental_amount\n",
    "from \n",
    "\tfilm\n",
    "Inner join\n",
    "\tinventory\n",
    "on\n",
    "\tfilm.film_id = inventory.film_id\n",
    "Inner join\n",
    "\trental\n",
    "on\n",
    "\tinventory.inventory_id = rental.inventory_id\n",
    "group by\n",
    "\tfilm.title\n",
    "order by\n",
    "\t count(rental.rental_id) desc\n",
    "     \n",
    "Output:\n",
    "# title, rental_amount\n",
    "'BUCKET BROTHERHOOD', '34'\n",
    "'ROCKETEER MOTHER', '33'\n",
    "'FORWARD TEMPLE', '32'\n",
    "'GRIT CLOCKWORK', '32'\n",
    "'JUGGLER HARDLY', '32'\n",
    "'RIDGEMONT SUBMARINE', '32'\n",
    "'SCALAWAG DUCK', '32'\n",
    "'APACHE DIVINE', '31'\n",
    "'GOODFELLAS SALUTE', '31'\n",
    "'HOBBIT ALIEN', '31'\n",
    "'NETWORK PEAK', '31'\n",
    "'ROBBERS JOON', '31'\n",
    "....\n",
    "\n",
    "'''"
   ]
  },
  {
   "cell_type": "markdown",
   "id": "ba116aa0",
   "metadata": {},
   "source": [
    "6. List the top five genres in gross revenue in descending order."
   ]
  },
  {
   "cell_type": "code",
   "execution_count": null,
   "id": "fba54bf5",
   "metadata": {},
   "outputs": [],
   "source": [
    "'''\n",
    "select \n",
    "   category.name,\n",
    "   count(payment.amount) as gross_revenue\n",
    "from \n",
    "\tcategory\n",
    "Inner join\n",
    "\tfilm_category\n",
    "on\n",
    "\tcategory.category_id = film_category.category_id\n",
    "Inner join\n",
    "\tfilm\n",
    "on\n",
    "\tfilm.film_id=film_category.film_id\n",
    "Inner join\n",
    "\tinventory\n",
    "on\n",
    "\tfilm.film_id = inventory.film_id\n",
    "Inner join\n",
    "\trental\n",
    "on\n",
    "\tinventory.inventory_id = rental.inventory_id\n",
    "Inner join\n",
    "\tpayment\n",
    "on\n",
    "\tpayment.rental_id = rental.rental_id\n",
    "group by\n",
    "\t category.name\n",
    "order by\n",
    "\t gross_revenue desc\n",
    "limit\n",
    "\t5\n",
    "    \n",
    "    \n",
    "Output:\n",
    "# name, gross_revenue\n",
    "'Sports', '1179'\n",
    "'Animation', '1166'\n",
    "'Action', '1112'\n",
    "'Sci-Fi', '1101'\n",
    "'Family', '1096'\n",
    "\n",
    "'''"
   ]
  },
  {
   "cell_type": "markdown",
   "id": "52e72f03",
   "metadata": {},
   "source": [
    "7. Is \"Academy Dinosaur\" available for rent from Store 1?"
   ]
  },
  {
   "cell_type": "code",
   "execution_count": null,
   "id": "ba43b917",
   "metadata": {},
   "outputs": [],
   "source": [
    "'''\n",
    "select \n",
    "\tcount(film.title) as Academy_Dinosaur_no,\n",
    "    store.store_id\n",
    "from \n",
    "\tfilm\n",
    "Inner join\n",
    "\tinventory\n",
    "on\n",
    "\tfilm.film_id = inventory.film_id\n",
    "Inner join\n",
    "\tstore\n",
    "on\n",
    "\tinventory.store_id = store.store_id\n",
    "where\n",
    "\tfilm.title = \"Academy Dinosaur\" and store.store_id =1\n",
    "group by\n",
    "\tstore.store_id\n",
    "\n",
    "Output:\n",
    "# Academy_Dinosaur_no, store_id\n",
    "'4', '1'\n",
    "\n",
    "'''"
   ]
  }
 ],
 "metadata": {
  "kernelspec": {
   "display_name": "Python 3",
   "language": "python",
   "name": "python3"
  },
  "language_info": {
   "codemirror_mode": {
    "name": "ipython",
    "version": 3
   },
   "file_extension": ".py",
   "mimetype": "text/x-python",
   "name": "python",
   "nbconvert_exporter": "python",
   "pygments_lexer": "ipython3",
   "version": "3.8.8"
  }
 },
 "nbformat": 4,
 "nbformat_minor": 5
}
