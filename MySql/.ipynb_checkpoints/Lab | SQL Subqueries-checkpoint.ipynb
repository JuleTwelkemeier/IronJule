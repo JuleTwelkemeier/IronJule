{
 "cells": [
  {
   "cell_type": "markdown",
   "id": "5eecf0d7",
   "metadata": {},
   "source": [
    "# Lab | SQL Subqueries\n",
    "\n",
    "In this lab, you will be using the [Sakila](https://dev.mysql.com/doc/sakila/en/) database of movie rentals. Create appropriate joins wherever necessary. \n",
    "\n",
    "\n",
    "1. How many copies of the film _Hunchback Impossible_ exist in the inventory system?\n",
    "2. List all films whose length is longer than the average of all the films.\n",
    "3. Use subqueries to display all actors who appear in the film _Alone Trip_.\n",
    "4. Sales have been lagging among young families, and you wish to target all family movies for a promotion. Identify all movies categorized as family films.\n",
    "5. Get name and email from customers from Canada using subqueries. Do the same with joins. Note that to create a join, you will have to identify the correct tables with their primary keys and foreign keys, that will help you get the relevant information.\n",
    "6. Which are films starred by the most prolific actor? Most prolific actor is defined as the actor that has acted in the most number of films. First you will have to find the most prolific actor and then use that actor_id to find the different films that he/she starred.\n",
    "7. Films rented by most profitable customer. You can use the customer table and payment table to find the most profitable customer ie the customer that has made the largest sum of payments\n",
    "8. Customers who spent more than the average payments.\n"
   ]
  },
  {
   "cell_type": "markdown",
   "id": "14cb010d",
   "metadata": {},
   "source": [
    "1. How many copies of the film _Hunchback Impossible_ exist in the inventory system?"
   ]
  },
  {
   "cell_type": "code",
   "execution_count": null,
   "id": "9c632bd1",
   "metadata": {},
   "outputs": [],
   "source": [
    "'''\n",
    "select\n",
    "\tcount(inventory.inventory_id),\n",
    "    film.title\n",
    "from \n",
    "\tinventory\n",
    "inner join\n",
    "\tfilm\n",
    "on\n",
    "\tfilm.film_id = inventory.film_id\n",
    "where film.title = \"Hunchback Impossible\"\n",
    "group by\n",
    "\tfilm.title\n",
    "    \n",
    "Output:\n",
    "# count(inventory.inventory_id), title\n",
    "'6', 'HUNCHBACK IMPOSSIBLE'\n",
    "\n",
    "'''"
   ]
  },
  {
   "cell_type": "markdown",
   "id": "83935a8b",
   "metadata": {},
   "source": [
    "2. List all films whose length is longer than the average of all the films.\n"
   ]
  },
  {
   "cell_type": "code",
   "execution_count": null,
   "id": "61767332",
   "metadata": {},
   "outputs": [],
   "source": [
    "'''\n",
    "select title, length from film\n",
    "where length > (select avg(length) from film)\n",
    "\n",
    "Output:\n",
    "# title, length\n",
    "'AFFAIR PREJUDICE', '117'\n",
    "'AFRICAN EGG', '130'\n",
    "'AGENT TRUMAN', '169'\n",
    "'ALAMO VIDEOTAPE', '126'\n",
    "'ALASKA PHANTOM', '136'\n",
    "'ALI FOREVER', '150'\n",
    "...\n",
    "'''"
   ]
  },
  {
   "cell_type": "markdown",
   "id": "8f2705d8",
   "metadata": {},
   "source": [
    "3. Use subqueries to display all actors who appear in the film _Alone Trip_."
   ]
  },
  {
   "cell_type": "code",
   "execution_count": null,
   "id": "cffc9319",
   "metadata": {},
   "outputs": [],
   "source": [
    "'''\n",
    "select first_name, last_name from actor\n",
    "where actor_id in \n",
    "\t(select actor_id from film_actor\n",
    "\t\t where film_id = (select film_id from film where title = \"Alone Trip\"))\n",
    "         \n",
    "Output:\n",
    "# first_name, last_name\n",
    "'ED', 'CHASE'\n",
    "'KARL', 'BERRY'\n",
    "'UMA', 'WOOD'\n",
    "'WOODY', 'JOLIE'\n",
    "'SPENCER', 'DEPP'\n",
    "'CHRIS', 'DEPP'\n",
    "'LAURENCE', 'BULLOCK'\n",
    "'RENEE', 'BALL'\n",
    "\n",
    "'''"
   ]
  },
  {
   "cell_type": "markdown",
   "id": "7cb987d7",
   "metadata": {},
   "source": [
    "4. Sales have been lagging among young families, and you wish to target all family movies for a promotion. Identify all movies categorized as family films."
   ]
  },
  {
   "cell_type": "code",
   "execution_count": null,
   "id": "0d8a5a1b",
   "metadata": {},
   "outputs": [],
   "source": [
    "'''\n",
    "select title from film\n",
    "\twhere film_id in (select film_id from film_category \n",
    "\t\twhere category_id in (select category_id from category where name = \"Family\" ))\n",
    "        \n",
    "# title\n",
    "'AFRICAN EGG'\n",
    "'APACHE DIVINE'\n",
    "'ATLANTIS CAUSE'\n",
    "'BAKED CLEOPATRA'\n",
    "'BANG KWAI'\n",
    "'BEDAZZLED MARRIED'\n",
    "'BILKO ANONYMOUS'\n",
    "'BLANKET BEVERLY'\n",
    "'BLOOD ARGONAUTS'\n",
    "'BLUES INSTINCT'\n",
    "...\n",
    "\n",
    "\n",
    "'''"
   ]
  },
  {
   "cell_type": "markdown",
   "id": "1146db8a",
   "metadata": {},
   "source": [
    "5. Get name and email from customers from Canada using subqueries. Do the same with joins. Note that to create a join, you will have to identify the correct tables with their primary keys and foreign keys, that will help you get the relevant information."
   ]
  },
  {
   "cell_type": "code",
   "execution_count": null,
   "id": "a22bd9ff",
   "metadata": {},
   "outputs": [],
   "source": [
    "'''\n",
    "subqueries:\n",
    "select first_name, last_name, email from customer\n",
    "\twhere address_id in (select address_id from address\n",
    "\t\twhere city_id in (select city_id from city \n",
    "\t\t\twhere country_id in\n",
    "\t\t\t\t(select country_id from country where country = \"Canada\")))\n",
    "            \n",
    "Join:\n",
    "select customer.first_name, customer.last_name, customer.email from customer\n",
    "\tinner join address\n",
    "\ton customer.address_id = address.address_id \n",
    "\t\tinner join city\n",
    "\t\ton address.city_id =city.city_id \n",
    "\t\t\tinner join country\n",
    "\t\t\t\ton city.country_id = country.country_id\n",
    "where country = \"Canada\"\n",
    "\n",
    "Output (both)\n",
    "# first_name, last_name, email\n",
    "'DERRICK', 'BOURQUE', 'DERRICK.BOURQUE@sakilacustomer.org'\n",
    "'DARRELL', 'POWER', 'DARRELL.POWER@sakilacustomer.org'\n",
    "'LORETTA', 'CARPENTER', 'LORETTA.CARPENTER@sakilacustomer.org'\n",
    "'CURTIS', 'IRBY', 'CURTIS.IRBY@sakilacustomer.org'\n",
    "'TROY', 'QUIGLEY', 'TROY.QUIGLEY@sakilacustomer.org'\n",
    "'''"
   ]
  },
  {
   "cell_type": "markdown",
   "id": "9bac78ce",
   "metadata": {},
   "source": [
    "6. Which are films starred by the most prolific actor? Most prolific actor is defined as the actor that has acted in the most number of films. First you will have to find the most prolific actor and then use that actor_id to find the different films that he/she starred."
   ]
  },
  {
   "cell_type": "code",
   "execution_count": null,
   "id": "e222fc2b",
   "metadata": {},
   "outputs": [],
   "source": [
    "'''\n",
    "select title from film\n",
    "\twhere film_id in (\n",
    "\t\tselect film_id from film_actor \n",
    "\t\t\twhere actor_id =\n",
    "\t\t\t\t(select actor_id from film_actor group by actor_id order by count(film_id) desc limit 1))\n",
    "Output:\n",
    "# title\n",
    "'BED HIGHBALL'\n",
    "'CALENDAR GUNFIGHT'\n",
    "'CHAMBER ITALIAN'\n",
    "'CHAPLIN LICENSE'\n",
    "'CHARIOTS CONSPIRACY'\n",
    "'CLUELESS BUCKET'\n",
    "'COLDBLOODED DARLING'\n",
    "'CONEHEADS SMOOCHY'\n",
    "'DARKNESS WAR'\n",
    "'DEER VIRGINIAN'\n",
    "'DOGMA FAMILY'\n",
    "'ELEPHANT TROJAN'\n",
    "....\n",
    "'''"
   ]
  },
  {
   "cell_type": "markdown",
   "id": "0fd04da7",
   "metadata": {},
   "source": [
    "7. Films rented by most profitable customer. You can use the customer table and payment table to find the most profitable customer ie the customer that has made the largest sum of payments"
   ]
  },
  {
   "cell_type": "code",
   "execution_count": null,
   "id": "675c371a",
   "metadata": {},
   "outputs": [],
   "source": [
    "'''\n",
    "select title from film where film_id in (\n",
    "select film_id from inventory where store_id in (\n",
    "select store_id from store where store_id in (\n",
    "select store_id from customer where customer_id = (\n",
    "select customer_id from payment group by customer_id order by count(amount) desc limit 1))))\n",
    "\n",
    "Output:\n",
    "# title\n",
    "'ACADEMY DINOSAUR'\n",
    "'AFFAIR PREJUDICE'\n",
    "'AGENT TRUMAN'\n",
    "'AIRPLANE SIERRA'\n",
    "'ALABAMA DEVIL'\n",
    "'ALADDIN CALENDAR'\n",
    "'ALAMO VIDEOTAPE'\n",
    "'ALASKA PHANTOM'\n",
    "'ALIEN CENTER'\n",
    "'ALLEY EVOLUTION'\n",
    "'ALONE TRIP'\n",
    "...\n",
    "\n",
    "'''"
   ]
  },
  {
   "cell_type": "markdown",
   "id": "01cfebb6",
   "metadata": {},
   "source": [
    "8. Customers who spent more than the average payments."
   ]
  },
  {
   "cell_type": "code",
   "execution_count": null,
   "id": "9e2e0042",
   "metadata": {},
   "outputs": [],
   "source": [
    "'''select distinct customer_id, avg(amount) from payment where\n",
    "amount > (select avg(amount) from payment)\n",
    "group by customer_id\n",
    "\n",
    "Output:\n",
    "# customer_id, avg(amount)\n",
    "'1', '5.847143'\n",
    "'2', '6.166471'\n",
    "'3', '6.802500'\n",
    "'4', '6.115000'\n",
    "'5', '6.056667'\n",
    "\n",
    "...\n",
    "'''"
   ]
  }
 ],
 "metadata": {
  "kernelspec": {
   "display_name": "Python 3",
   "language": "python",
   "name": "python3"
  },
  "language_info": {
   "codemirror_mode": {
    "name": "ipython",
    "version": 3
   },
   "file_extension": ".py",
   "mimetype": "text/x-python",
   "name": "python",
   "nbconvert_exporter": "python",
   "pygments_lexer": "ipython3",
   "version": "3.8.8"
  }
 },
 "nbformat": 4,
 "nbformat_minor": 5
}
