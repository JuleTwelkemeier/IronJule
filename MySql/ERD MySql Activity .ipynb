{
 "cells": [
  {
   "cell_type": "markdown",
   "id": "80eb344e",
   "metadata": {},
   "source": [
    "## Activity ERD\n",
    "\n",
    "Suppose you are given the following requirements for a simple database for the National Hockey League (NHL):\n",
    "+ the NHL has many teams,\n",
    "+ each team has a name, a city, a coach, a captain, and a set of players,\n",
    "+ each player belongs to only one team,\n",
    "+ each player has a name, a position (such as left wingor goalie), a skill level, and a set of injury records,\n",
    "+ a team captain is also a player,\n",
    "+ a game is played between two teams (referred to as host_team and guest_team) and has a date (such as May 11th, 2017) and a score (such as 4 to 2).\n",
    "\n",
    "\n",
    "Please construct clean ERD Diagram for the NHL database.\n",
    "\n",
    "Source: California State University "
   ]
  }
 ],
 "metadata": {
  "kernelspec": {
   "display_name": "Python 3",
   "language": "python",
   "name": "python3"
  },
  "language_info": {
   "codemirror_mode": {
    "name": "ipython",
    "version": 3
   },
   "file_extension": ".py",
   "mimetype": "text/x-python",
   "name": "python",
   "nbconvert_exporter": "python",
   "pygments_lexer": "ipython3",
   "version": "3.9.6"
  }
 },
 "nbformat": 4,
 "nbformat_minor": 5
}
