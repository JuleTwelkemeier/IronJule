{
 "cells": [
  {
   "cell_type": "markdown",
   "id": "fa8deb88",
   "metadata": {},
   "source": [
    "### Import data after SQL-cleaning\n"
   ]
  },
  {
   "cell_type": "markdown",
   "id": "58f6ee8c",
   "metadata": {},
   "source": [
    "# Lab Case Study <a class=\"anchor\" id=\"00\"></a>\n",
    "\n",
    "### Scenario\n",
    "\n",
    "You are working as an analyst for an auto insurance company. The company has collected some data about its customers including their demographics, education, employment, policy details, vehicle information on which insurance policy is, and claim amounts. You will help the senior management with some business questions that will help them to better understand their customers, improve their services, and improve profitability.\n",
    "\n",
    "### Business Objectives\n",
    "\n",
    "- Retain customers,\n",
    "- analyze relevant customer data,\n",
    "- develop focused customer retention programs.\n",
    "\n",
    "Based on the analysis, take targeted actions to increase profitable customer response, retention, and growth.\n",
    "\n",
    "### Activities\n",
    "\n",
    "Refer to the `Activities.md` file where you will find guidelines for some of the activities that you want to do.\n",
    "\n",
    "### Data\n",
    "\n",
    "The csv files is provided in the folder. The columns in the file are self-explanatory."
   ]
  },
  {
   "cell_type": "markdown",
   "id": "9b6f44e8",
   "metadata": {},
   "source": [
    "----"
   ]
  },
  {
   "cell_type": "code",
   "execution_count": 3,
   "id": "565c123a",
   "metadata": {},
   "outputs": [],
   "source": [
    "import pandas as pd\n",
    "import getpass\n",
    "import sqlalchemy as sa\n",
    "\n",
    "\n"
   ]
  },
  {
   "cell_type": "markdown",
   "id": "cfe5ddff",
   "metadata": {},
   "source": [
    "# Importing SQL- cleaned data into pandas"
   ]
  },
  {
   "cell_type": "code",
   "execution_count": 5,
   "id": "37768515",
   "metadata": {},
   "outputs": [
    {
     "name": "stdout",
     "output_type": "stream",
     "text": [
      "Your password:········\n"
     ]
    },
    {
     "data": {
      "text/html": [
       "<div>\n",
       "<style scoped>\n",
       "    .dataframe tbody tr th:only-of-type {\n",
       "        vertical-align: middle;\n",
       "    }\n",
       "\n",
       "    .dataframe tbody tr th {\n",
       "        vertical-align: top;\n",
       "    }\n",
       "\n",
       "    .dataframe thead th {\n",
       "        text-align: right;\n",
       "    }\n",
       "</style>\n",
       "<table border=\"1\" class=\"dataframe\">\n",
       "  <thead>\n",
       "    <tr style=\"text-align: right;\">\n",
       "      <th></th>\n",
       "      <th>state</th>\n",
       "      <th>customer_lifetime_value</th>\n",
       "      <th>response</th>\n",
       "      <th>coverage</th>\n",
       "      <th>education</th>\n",
       "      <th>effective_to_date</th>\n",
       "      <th>employment_status</th>\n",
       "      <th>gender</th>\n",
       "      <th>income</th>\n",
       "      <th>location_code</th>\n",
       "      <th>...</th>\n",
       "      <th>number_of_open_complaints</th>\n",
       "      <th>number_of_policies</th>\n",
       "      <th>policy_type</th>\n",
       "      <th>policy</th>\n",
       "      <th>renew_offer_type</th>\n",
       "      <th>sales_channel</th>\n",
       "      <th>total_claim_amount</th>\n",
       "      <th>vehicle_class</th>\n",
       "      <th>vehicle_size</th>\n",
       "      <th>vehicle_type</th>\n",
       "    </tr>\n",
       "  </thead>\n",
       "  <tbody>\n",
       "    <tr>\n",
       "      <th>0</th>\n",
       "      <td></td>\n",
       "      <td>2108</td>\n",
       "      <td></td>\n",
       "      <td>Basic</td>\n",
       "      <td>Bachelor</td>\n",
       "      <td>1/2/11</td>\n",
       "      <td>Unemployed</td>\n",
       "      <td>M</td>\n",
       "      <td>0</td>\n",
       "      <td>Suburban</td>\n",
       "      <td>...</td>\n",
       "      <td>0</td>\n",
       "      <td>1</td>\n",
       "      <td>Personal Auto</td>\n",
       "      <td>Personal L2</td>\n",
       "      <td>Offer1</td>\n",
       "      <td>Agent</td>\n",
       "      <td>351.856810</td>\n",
       "      <td>Two-Door Car</td>\n",
       "      <td>Medsize</td>\n",
       "      <td>nan</td>\n",
       "    </tr>\n",
       "    <tr>\n",
       "      <th>1</th>\n",
       "      <td></td>\n",
       "      <td>2143</td>\n",
       "      <td></td>\n",
       "      <td>Basic</td>\n",
       "      <td>Bachelor</td>\n",
       "      <td>1/23/11</td>\n",
       "      <td>Unemployed</td>\n",
       "      <td>M</td>\n",
       "      <td>0</td>\n",
       "      <td>Suburban</td>\n",
       "      <td>...</td>\n",
       "      <td>0</td>\n",
       "      <td>1</td>\n",
       "      <td>Corporate Auto</td>\n",
       "      <td>Corporate L1</td>\n",
       "      <td>Offer4</td>\n",
       "      <td>Web</td>\n",
       "      <td>686.774939</td>\n",
       "      <td>Two-Door Car</td>\n",
       "      <td>Medsize</td>\n",
       "      <td>nan</td>\n",
       "    </tr>\n",
       "  </tbody>\n",
       "</table>\n",
       "<p>2 rows × 24 columns</p>\n",
       "</div>"
      ],
      "text/plain": [
       "  state  customer_lifetime_value response coverage education  \\\n",
       "0                           2108             Basic  Bachelor   \n",
       "1                           2143             Basic  Bachelor   \n",
       "\n",
       "  effective_to_date employment_status gender  income location_code  ...  \\\n",
       "0            1/2/11        Unemployed      M       0      Suburban  ...   \n",
       "1           1/23/11        Unemployed      M       0      Suburban  ...   \n",
       "\n",
       "  number_of_open_complaints  number_of_policies     policy_type        policy  \\\n",
       "0                         0                   1   Personal Auto   Personal L2   \n",
       "1                         0                   1  Corporate Auto  Corporate L1   \n",
       "\n",
       "  renew_offer_type  sales_channel total_claim_amount vehicle_class  \\\n",
       "0           Offer1          Agent         351.856810  Two-Door Car   \n",
       "1           Offer4            Web         686.774939  Two-Door Car   \n",
       "\n",
       "  vehicle_size vehicle_type  \n",
       "0      Medsize          nan  \n",
       "1      Medsize          nan  \n",
       "\n",
       "[2 rows x 24 columns]"
      ]
     },
     "execution_count": 5,
     "metadata": {},
     "output_type": "execute_result"
    }
   ],
   "source": [
    "\n",
    "driver = 'mysql+pymysql'\n",
    "user = 'root'\n",
    "password = getpass.getpass(prompt='Your password:'\"\")\n",
    "ip = '127.0.0.1'\n",
    "\n",
    "connection_string = f'{driver}://{user}:{password}@{ip}'\n",
    "    \n",
    "db_connection = sa.create_engine(connection_string)\n",
    "\n",
    "insp = sa.inspect(db_connection)\n",
    "db_list = insp.get_schema_names()\n",
    "#print(db_list)\n",
    "\n",
    "\n",
    "query = \"SELECT * FROM cs_study.cs_study\"\n",
    "cs_study = pd.read_sql_query(query, db_connection)\n",
    "cs_study.head(2)\n"
   ]
  },
  {
   "cell_type": "code",
   "execution_count": null,
   "id": "9e5d9cae",
   "metadata": {},
   "outputs": [],
   "source": []
  }
 ],
 "metadata": {
  "kernelspec": {
   "display_name": "Python 3",
   "language": "python",
   "name": "python3"
  },
  "language_info": {
   "codemirror_mode": {
    "name": "ipython",
    "version": 3
   },
   "file_extension": ".py",
   "mimetype": "text/x-python",
   "name": "python",
   "nbconvert_exporter": "python",
   "pygments_lexer": "ipython3",
   "version": "3.9.6"
  }
 },
 "nbformat": 4,
 "nbformat_minor": 5
}
