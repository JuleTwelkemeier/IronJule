{
 "cells": [
  {
   "cell_type": "markdown",
   "id": "fa8deb88",
   "metadata": {},
   "source": [
    "# Table of Content - Customer Service Study\n",
    "\n",
    "### [Lab case Study](#00)\n",
    "\n",
    "### [Pipeline df2](#0):\n",
    "1.  [Aggregate data into one Data Frame using Pandas.](#1)\n",
    "2. [Standardizing header names](#2)\n",
    "3. [Deleting and rearranging columns](#3)\n",
    "4. [Working with data types – Check the data types of all the columns](#4)\n",
    "5. [Filtering data and Correcting typos](#5)\n",
    "6. [Removing duplicates](#6)\n",
    "7. [Optional:Replacing null values](#7)\n",
    "8. [Bucketing the data](#8)\n",
    "9. [Standardizing the data](#9)\n",
    "10. [Which columns are numerical?](#10)\n",
    "11. [Which columns are categorical?](#11)\n",
    "12. [Check and deal with NaN values](#12)\n",
    "\n",
    "\n",
    "### [Pipeline df3](#15)\n",
    "1. [Datetime format ](#13)\n",
    "2. [BONUS: Put all the previously mentioned data transformations into a function/functions.](#14)\n",
    "3. [Show a plot of the total number of responses.](#16)\n",
    "4. [Show a plot of the response rate by the sales channel.](#17)\n",
    "5. [Show a plot of the response rate by the total claim amount.](#18)\n",
    "6. [Show a plot of the response rate by income.](#19)\n",
    "7. [Don't Limit your creativity!](#20)\n",
    "8. [Plot the Correlation Heatmap.](#21)\n",
    "9. [Clean your notebook ](#22)\n",
    "\n",
    "\n"
   ]
  },
  {
   "cell_type": "markdown",
   "id": "58f6ee8c",
   "metadata": {},
   "source": [
    "# Lab Case Study <a class=\"anchor\" id=\"00\"></a>\n",
    "\n",
    "### Scenario\n",
    "\n",
    "You are working as an analyst for an auto insurance company. The company has collected some data about its customers including their demographics, education, employment, policy details, vehicle information on which insurance policy is, and claim amounts. You will help the senior management with some business questions that will help them to better understand their customers, improve their services, and improve profitability.\n",
    "\n",
    "### Business Objectives\n",
    "\n",
    "- Retain customers,\n",
    "- analyze relevant customer data,\n",
    "- develop focused customer retention programs.\n",
    "\n",
    "Based on the analysis, take targeted actions to increase profitable customer response, retention, and growth.\n",
    "\n",
    "### Activities\n",
    "\n",
    "Refer to the `Activities.md` file where you will find guidelines for some of the activities that you want to do.\n",
    "\n",
    "### Data\n",
    "\n",
    "The csv files is provided in the folder. The columns in the file are self-explanatory."
   ]
  },
  {
   "cell_type": "markdown",
   "id": "9b6f44e8",
   "metadata": {},
   "source": [
    "----"
   ]
  },
  {
   "cell_type": "markdown",
   "id": "e509939a",
   "metadata": {},
   "source": [
    "# Pipeline  df 2 <a class=\"anchor\" id=\"0\"></a>\n",
    "cleaning and analysing file1.csv and file2.csv"
   ]
  },
  {
   "cell_type": "code",
   "execution_count": 1,
   "id": "2393aa47",
   "metadata": {},
   "outputs": [
    {
     "data": {
      "text/html": [
       "<div>\n",
       "<style scoped>\n",
       "    .dataframe tbody tr th:only-of-type {\n",
       "        vertical-align: middle;\n",
       "    }\n",
       "\n",
       "    .dataframe tbody tr th {\n",
       "        vertical-align: top;\n",
       "    }\n",
       "\n",
       "    .dataframe thead th {\n",
       "        text-align: right;\n",
       "    }\n",
       "</style>\n",
       "<table border=\"1\" class=\"dataframe\">\n",
       "  <thead>\n",
       "    <tr style=\"text-align: right;\">\n",
       "      <th></th>\n",
       "      <th>customer</th>\n",
       "      <th>st</th>\n",
       "      <th>gender</th>\n",
       "      <th>education</th>\n",
       "      <th>customer lifetime value</th>\n",
       "      <th>income</th>\n",
       "      <th>monthly premium auto</th>\n",
       "      <th>number of open complaints</th>\n",
       "      <th>policy type</th>\n",
       "      <th>vehicle class</th>\n",
       "      <th>total claim amount</th>\n",
       "    </tr>\n",
       "  </thead>\n",
       "  <tbody>\n",
       "    <tr>\n",
       "      <th>0</th>\n",
       "      <td>RB50392</td>\n",
       "      <td>Washington</td>\n",
       "      <td>NaN</td>\n",
       "      <td>Master</td>\n",
       "      <td>NaN</td>\n",
       "      <td>0.0</td>\n",
       "      <td>1000.0</td>\n",
       "      <td>1/0/00</td>\n",
       "      <td>Personal Auto</td>\n",
       "      <td>Four-Door Car</td>\n",
       "      <td>2.704934</td>\n",
       "    </tr>\n",
       "    <tr>\n",
       "      <th>1</th>\n",
       "      <td>QZ44356</td>\n",
       "      <td>Arizona</td>\n",
       "      <td>F</td>\n",
       "      <td>Bachelor</td>\n",
       "      <td>697953.59%</td>\n",
       "      <td>0.0</td>\n",
       "      <td>94.0</td>\n",
       "      <td>1/0/00</td>\n",
       "      <td>Personal Auto</td>\n",
       "      <td>Four-Door Car</td>\n",
       "      <td>1131.464935</td>\n",
       "    </tr>\n",
       "    <tr>\n",
       "      <th>2</th>\n",
       "      <td>AI49188</td>\n",
       "      <td>Nevada</td>\n",
       "      <td>F</td>\n",
       "      <td>Bachelor</td>\n",
       "      <td>1288743.17%</td>\n",
       "      <td>48767.0</td>\n",
       "      <td>108.0</td>\n",
       "      <td>1/0/00</td>\n",
       "      <td>Personal Auto</td>\n",
       "      <td>Two-Door Car</td>\n",
       "      <td>566.472247</td>\n",
       "    </tr>\n",
       "  </tbody>\n",
       "</table>\n",
       "</div>"
      ],
      "text/plain": [
       "  customer          st gender education customer lifetime value   income  \\\n",
       "0  RB50392  Washington    NaN    Master                     NaN      0.0   \n",
       "1  QZ44356     Arizona      F  Bachelor              697953.59%      0.0   \n",
       "2  AI49188      Nevada      F  Bachelor             1288743.17%  48767.0   \n",
       "\n",
       "   monthly premium auto number of open complaints    policy type  \\\n",
       "0                1000.0                    1/0/00  Personal Auto   \n",
       "1                  94.0                    1/0/00  Personal Auto   \n",
       "2                 108.0                    1/0/00  Personal Auto   \n",
       "\n",
       "   vehicle class  total claim amount  \n",
       "0  Four-Door Car            2.704934  \n",
       "1  Four-Door Car         1131.464935  \n",
       "2   Two-Door Car          566.472247  "
      ]
     },
     "execution_count": 1,
     "metadata": {},
     "output_type": "execute_result"
    }
   ],
   "source": [
    "# import libraries to use (pandas, numpy, matplotlib.pyplot and seaborn)\n",
    "import numpy as np\n",
    "import pandas as pd\n",
    "import matplotlib.pyplot as plt\n",
    "import seaborn as sns\n",
    "%matplotlib inline \n",
    "\n",
    "def load_data(path):\n",
    "    return pd.read_csv(path)\n",
    "\n",
    "def concat(df2):\n",
    "    df2=pd.concat([df,df1], ignore_index='TRUE')\n",
    "        \n",
    "df = load_data(path ='files/file1.csv')\n",
    "df1 = load_data(path ='files/file2.csv')\n",
    "\n",
    "def lower_case_column(df2):\n",
    "    df2.columns = [i.lower() for i in df2]\n",
    "    return df2\n",
    "\n",
    "df2 = pd.concat([df,df1], ignore_index='TRUE')\\\n",
    ".pipe(lower_case_column)\n",
    "#.pipe(rename_columns)\n",
    "\n",
    "df2.head(3)"
   ]
  },
  {
   "cell_type": "markdown",
   "id": "a6221aeb",
   "metadata": {},
   "source": [
    "## 1. Aggregate data into one Data Frame using Pandas. <a class=\"anchor\" id=\"1\"></a>"
   ]
  },
  {
   "cell_type": "code",
   "execution_count": 2,
   "id": "1f216c29",
   "metadata": {},
   "outputs": [],
   "source": [
    "\n",
    "\n",
    "df= pd.read_csv('files/file1.csv')\n",
    "df1=pd.read_csv('files/file2.csv')\n",
    "\n"
   ]
  },
  {
   "cell_type": "code",
   "execution_count": 3,
   "id": "fce90d7f",
   "metadata": {},
   "outputs": [],
   "source": [
    "#df"
   ]
  },
  {
   "cell_type": "code",
   "execution_count": 4,
   "id": "77ace539",
   "metadata": {},
   "outputs": [
    {
     "data": {
      "text/plain": [
       "True"
      ]
     },
     "execution_count": 4,
     "metadata": {},
     "output_type": "execute_result"
    }
   ],
   "source": [
    "set(df.columns) == set(df1.columns)"
   ]
  },
  {
   "cell_type": "code",
   "execution_count": 5,
   "id": "7b013629",
   "metadata": {},
   "outputs": [],
   "source": [
    "#concat or append can be used to combine both files\n",
    "#ignore_index='TRUE' is important, otherwhise the previous index will be used\n",
    "\n",
    "df2=pd.concat([df,df1], ignore_index='TRUE')"
   ]
  },
  {
   "cell_type": "code",
   "execution_count": 6,
   "id": "c9f97335",
   "metadata": {},
   "outputs": [],
   "source": [
    "#df2"
   ]
  },
  {
   "cell_type": "markdown",
   "id": "5cdd0400",
   "metadata": {},
   "source": [
    "## 2. Standardizing header names <a class=\"anchor\" id=\"2\"></a>\n",
    "\n"
   ]
  },
  {
   "cell_type": "code",
   "execution_count": 7,
   "id": "c5aecbf7",
   "metadata": {},
   "outputs": [
    {
     "data": {
      "text/plain": [
       "Index(['customer', 'st', 'gender', 'education', 'customer lifetime value',\n",
       "       'income', 'monthly premium auto', 'number of open complaints',\n",
       "       'policy type', 'vehicle class', 'total claim amount'],\n",
       "      dtype='object')"
      ]
     },
     "execution_count": 7,
     "metadata": {},
     "output_type": "execute_result"
    }
   ],
   "source": [
    "df2.columns = [i.lower() for i in df2.columns]\n",
    "df2.columns"
   ]
  },
  {
   "cell_type": "markdown",
   "id": "9f14200a",
   "metadata": {},
   "source": [
    "## 3. Deleting and rearranging columns \n",
    "delete the column customer as it is only a unique identifier for each row of data <a class=\"anchor\" id=\"3\"></a>"
   ]
  },
  {
   "cell_type": "code",
   "execution_count": 8,
   "id": "77a3c808",
   "metadata": {},
   "outputs": [],
   "source": [
    "#delete column 'customer'\n",
    "#df2 = df2.drop(columns = 'customer')"
   ]
  },
  {
   "cell_type": "code",
   "execution_count": 9,
   "id": "4dcea58a",
   "metadata": {},
   "outputs": [],
   "source": [
    "#df2"
   ]
  },
  {
   "cell_type": "markdown",
   "id": "2eb4d7a5",
   "metadata": {},
   "source": [
    "## 4. Working with data types\n",
    "Check the data types of all the columns and fix the incorrect ones (for ex. customer lifetime value and number of complaints ) <a class=\"anchor\" id=\"4\"></a>\n"
   ]
  },
  {
   "cell_type": "code",
   "execution_count": 10,
   "id": "b7581146",
   "metadata": {},
   "outputs": [
    {
     "data": {
      "text/plain": [
       "customer                      object\n",
       "st                            object\n",
       "gender                        object\n",
       "education                     object\n",
       "customer lifetime value       object\n",
       "income                       float64\n",
       "monthly premium auto         float64\n",
       "number of open complaints     object\n",
       "policy type                   object\n",
       "vehicle class                 object\n",
       "total claim amount           float64\n",
       "dtype: object"
      ]
     },
     "execution_count": 10,
     "metadata": {},
     "output_type": "execute_result"
    }
   ],
   "source": [
    "#Checking the data types of every column\n",
    "df2.dtypes"
   ]
  },
  {
   "cell_type": "code",
   "execution_count": 11,
   "id": "7534d51c",
   "metadata": {},
   "outputs": [
    {
     "name": "stdout",
     "output_type": "stream",
     "text": [
      "<class 'pandas.core.frame.DataFrame'>\n",
      "RangeIndex: 5004 entries, 0 to 5003\n",
      "Data columns (total 11 columns):\n",
      " #   Column                     Non-Null Count  Dtype  \n",
      "---  ------                     --------------  -----  \n",
      " 0   customer                   2067 non-null   object \n",
      " 1   st                         2067 non-null   object \n",
      " 2   gender                     1945 non-null   object \n",
      " 3   education                  2067 non-null   object \n",
      " 4   customer lifetime value    2060 non-null   object \n",
      " 5   income                     2067 non-null   float64\n",
      " 6   monthly premium auto       2067 non-null   float64\n",
      " 7   number of open complaints  2067 non-null   object \n",
      " 8   policy type                2067 non-null   object \n",
      " 9   vehicle class              2067 non-null   object \n",
      " 10  total claim amount         2067 non-null   float64\n",
      "dtypes: float64(3), object(8)\n",
      "memory usage: 430.2+ KB\n"
     ]
    }
   ],
   "source": [
    "df2.info()"
   ]
  },
  {
   "cell_type": "code",
   "execution_count": 12,
   "id": "97bfdb80",
   "metadata": {},
   "outputs": [],
   "source": [
    "#customer lifetime value should be a float and not a %\n",
    "\n",
    "def function(x):\n",
    "    x= str(x)\n",
    "\n",
    "    if x != \"nan\":\n",
    "        #all vales besides of the last % shall be a float number\n",
    "        y = x [:-1]\n",
    "        return float (y)\n",
    "    else:\n",
    "        return 0\n",
    "\n",
    "df2[\"customer lifetime value\"] = df2[\"customer lifetime value\"].apply(function)\n",
    "\n",
    "\n"
   ]
  },
  {
   "cell_type": "code",
   "execution_count": 13,
   "id": "67d8d191",
   "metadata": {},
   "outputs": [
    {
     "data": {
      "text/plain": [
       "1/0/00    1626\n",
       "1/1/00     247\n",
       "1/2/00      93\n",
       "1/3/00      60\n",
       "1/4/00      29\n",
       "1/5/00      12\n",
       "Name: number of open complaints, dtype: int64"
      ]
     },
     "execution_count": 13,
     "metadata": {},
     "output_type": "execute_result"
    }
   ],
   "source": [
    "# values of 'number of complaints'\n",
    "df2[\"number of open complaints\"].value_counts()\n",
    "\n"
   ]
  },
  {
   "cell_type": "code",
   "execution_count": 14,
   "id": "a63aec34",
   "metadata": {},
   "outputs": [],
   "source": [
    "#number of complaints should only disply the 3rd character\n",
    "def function2(x):\n",
    "    x= str(x)\n",
    "\n",
    "    if x != \"nan\":\n",
    "        #all vales besides of the last % shall be a float number\n",
    "        y = x[2]\n",
    "        return int(y)\n",
    "    else:\n",
    "        return 0\n",
    "\n",
    "df2[\"number of open complaints\"] = df2[\"number of open complaints\"].apply(function2)\n",
    "\n",
    "\n"
   ]
  },
  {
   "cell_type": "code",
   "execution_count": 15,
   "id": "e6a1d977",
   "metadata": {},
   "outputs": [
    {
     "data": {
      "text/plain": [
       "array([0, 2, 1, 3, 5, 4])"
      ]
     },
     "execution_count": 15,
     "metadata": {},
     "output_type": "execute_result"
    }
   ],
   "source": [
    "#check of the function\n",
    "df2[\"number of open complaints\"].unique()\n",
    "\n"
   ]
  },
  {
   "cell_type": "markdown",
   "id": "d630b970",
   "metadata": {},
   "source": [
    "## 5. Filtering data and Correcting typos \n",
    "Filter the data in state and gender column to standardize the texts in those columns <a class=\"anchor\" id=\"5\"></a>\n"
   ]
  },
  {
   "cell_type": "code",
   "execution_count": 16,
   "id": "0d92ba57",
   "metadata": {},
   "outputs": [
    {
     "data": {
      "text/plain": [
       "array(['Washington', 'Arizona', 'Nevada', 'California', 'Oregon', 'Cali',\n",
       "       'AZ', 'WA', nan], dtype=object)"
      ]
     },
     "execution_count": 16,
     "metadata": {},
     "output_type": "execute_result"
    }
   ],
   "source": [
    "#analyse the uniques in st\n",
    "df2.st.unique()\n"
   ]
  },
  {
   "cell_type": "code",
   "execution_count": 17,
   "id": "8aa6a935",
   "metadata": {},
   "outputs": [],
   "source": [
    "#cleaning the state names\n",
    "def st_clean(x):\n",
    "    if not x == x:\n",
    "    #then i know that x is = none\n",
    "        return x\n",
    "    else:\n",
    "        states= {'Arizona' : 'AZ', \n",
    "                 'California': 'CA',\n",
    "                 'Nevada' : 'NV', \n",
    "                 'Cali' :'CA,', \n",
    "                 'Oregon':'OR', \n",
    "                 'AZ' :'AZ', \n",
    "                 'WA':'WA',\n",
    "                 'Washington':'WA',\n",
    "                 'Cali':'CA'}\n",
    "        \n",
    "        return states[x]"
   ]
  },
  {
   "cell_type": "code",
   "execution_count": 18,
   "id": "cd585764",
   "metadata": {},
   "outputs": [],
   "source": [
    "#apply the function to the main df2\n",
    "df2[\"st\"] = df2[\"st\"].apply(st_clean)"
   ]
  },
  {
   "cell_type": "code",
   "execution_count": 19,
   "id": "770aa5fc",
   "metadata": {},
   "outputs": [
    {
     "data": {
      "text/plain": [
       "array([nan, 'F', 'M', 'Femal', 'Male', 'female'], dtype=object)"
      ]
     },
     "execution_count": 19,
     "metadata": {},
     "output_type": "execute_result"
    }
   ],
   "source": [
    "#analyse the uniques in gender\n",
    "df2.gender.unique()"
   ]
  },
  {
   "cell_type": "code",
   "execution_count": 20,
   "id": "b0ecdd41",
   "metadata": {},
   "outputs": [],
   "source": [
    "#cleaning the gender names\n",
    "def gender1_clean(x):\n",
    "    if not x == x:\n",
    "    #then i know that x is = none\n",
    "        return x\n",
    "    else:\n",
    "        g = {'F': 'F', \n",
    "                 'M' : 'M', \n",
    "                 'Femal': 'F',\n",
    "                 'Male' : 'M', \n",
    "                 'female' :'F'}\n",
    "        \n",
    "        return g[x]\n",
    "        \n",
    "\n",
    "\n",
    "\n"
   ]
  },
  {
   "cell_type": "code",
   "execution_count": 21,
   "id": "9c7ebc9d",
   "metadata": {},
   "outputs": [],
   "source": [
    "df2[\"gender\"] = df2[\"gender\"].apply(gender1_clean)"
   ]
  },
  {
   "cell_type": "code",
   "execution_count": 22,
   "id": "16b663d0",
   "metadata": {},
   "outputs": [
    {
     "data": {
      "text/plain": [
       "array([nan, 'F', 'M'], dtype=object)"
      ]
     },
     "execution_count": 22,
     "metadata": {},
     "output_type": "execute_result"
    }
   ],
   "source": [
    "df2.gender.unique()"
   ]
  },
  {
   "cell_type": "markdown",
   "id": "afd3e176",
   "metadata": {},
   "source": [
    "## 6. Removing duplicates <a class=\"anchor\" id=\"6\"></a>\n"
   ]
  },
  {
   "cell_type": "code",
   "execution_count": 23,
   "id": "3be067bf",
   "metadata": {},
   "outputs": [
    {
     "data": {
      "text/html": [
       "<div>\n",
       "<style scoped>\n",
       "    .dataframe tbody tr th:only-of-type {\n",
       "        vertical-align: middle;\n",
       "    }\n",
       "\n",
       "    .dataframe tbody tr th {\n",
       "        vertical-align: top;\n",
       "    }\n",
       "\n",
       "    .dataframe thead th {\n",
       "        text-align: right;\n",
       "    }\n",
       "</style>\n",
       "<table border=\"1\" class=\"dataframe\">\n",
       "  <thead>\n",
       "    <tr style=\"text-align: right;\">\n",
       "      <th></th>\n",
       "      <th>customer</th>\n",
       "      <th>st</th>\n",
       "      <th>gender</th>\n",
       "      <th>education</th>\n",
       "      <th>customer lifetime value</th>\n",
       "      <th>income</th>\n",
       "      <th>monthly premium auto</th>\n",
       "      <th>number of open complaints</th>\n",
       "      <th>policy type</th>\n",
       "      <th>vehicle class</th>\n",
       "      <th>total claim amount</th>\n",
       "    </tr>\n",
       "  </thead>\n",
       "  <tbody>\n",
       "    <tr>\n",
       "      <th>0</th>\n",
       "      <td>RB50392</td>\n",
       "      <td>WA</td>\n",
       "      <td>NaN</td>\n",
       "      <td>Master</td>\n",
       "      <td>0.00</td>\n",
       "      <td>0.0</td>\n",
       "      <td>1000.0</td>\n",
       "      <td>0</td>\n",
       "      <td>Personal Auto</td>\n",
       "      <td>Four-Door Car</td>\n",
       "      <td>2.704934</td>\n",
       "    </tr>\n",
       "    <tr>\n",
       "      <th>1</th>\n",
       "      <td>QZ44356</td>\n",
       "      <td>AZ</td>\n",
       "      <td>F</td>\n",
       "      <td>Bachelor</td>\n",
       "      <td>697953.59</td>\n",
       "      <td>0.0</td>\n",
       "      <td>94.0</td>\n",
       "      <td>0</td>\n",
       "      <td>Personal Auto</td>\n",
       "      <td>Four-Door Car</td>\n",
       "      <td>1131.464935</td>\n",
       "    </tr>\n",
       "    <tr>\n",
       "      <th>2</th>\n",
       "      <td>AI49188</td>\n",
       "      <td>NV</td>\n",
       "      <td>F</td>\n",
       "      <td>Bachelor</td>\n",
       "      <td>1288743.17</td>\n",
       "      <td>48767.0</td>\n",
       "      <td>108.0</td>\n",
       "      <td>0</td>\n",
       "      <td>Personal Auto</td>\n",
       "      <td>Two-Door Car</td>\n",
       "      <td>566.472247</td>\n",
       "    </tr>\n",
       "    <tr>\n",
       "      <th>3</th>\n",
       "      <td>WW63253</td>\n",
       "      <td>CA</td>\n",
       "      <td>M</td>\n",
       "      <td>Bachelor</td>\n",
       "      <td>764586.18</td>\n",
       "      <td>0.0</td>\n",
       "      <td>106.0</td>\n",
       "      <td>0</td>\n",
       "      <td>Corporate Auto</td>\n",
       "      <td>SUV</td>\n",
       "      <td>529.881344</td>\n",
       "    </tr>\n",
       "    <tr>\n",
       "      <th>4</th>\n",
       "      <td>GA49547</td>\n",
       "      <td>WA</td>\n",
       "      <td>M</td>\n",
       "      <td>High School or Below</td>\n",
       "      <td>536307.65</td>\n",
       "      <td>36357.0</td>\n",
       "      <td>68.0</td>\n",
       "      <td>0</td>\n",
       "      <td>Personal Auto</td>\n",
       "      <td>Four-Door Car</td>\n",
       "      <td>17.269323</td>\n",
       "    </tr>\n",
       "    <tr>\n",
       "      <th>...</th>\n",
       "      <td>...</td>\n",
       "      <td>...</td>\n",
       "      <td>...</td>\n",
       "      <td>...</td>\n",
       "      <td>...</td>\n",
       "      <td>...</td>\n",
       "      <td>...</td>\n",
       "      <td>...</td>\n",
       "      <td>...</td>\n",
       "      <td>...</td>\n",
       "      <td>...</td>\n",
       "    </tr>\n",
       "    <tr>\n",
       "      <th>4999</th>\n",
       "      <td>HV85198</td>\n",
       "      <td>AZ</td>\n",
       "      <td>M</td>\n",
       "      <td>Master</td>\n",
       "      <td>847141.75</td>\n",
       "      <td>63513.0</td>\n",
       "      <td>70.0</td>\n",
       "      <td>0</td>\n",
       "      <td>Personal Auto</td>\n",
       "      <td>Four-Door Car</td>\n",
       "      <td>185.667213</td>\n",
       "    </tr>\n",
       "    <tr>\n",
       "      <th>5000</th>\n",
       "      <td>BS91566</td>\n",
       "      <td>AZ</td>\n",
       "      <td>F</td>\n",
       "      <td>College</td>\n",
       "      <td>543121.91</td>\n",
       "      <td>58161.0</td>\n",
       "      <td>68.0</td>\n",
       "      <td>0</td>\n",
       "      <td>Corporate Auto</td>\n",
       "      <td>Four-Door Car</td>\n",
       "      <td>140.747286</td>\n",
       "    </tr>\n",
       "    <tr>\n",
       "      <th>5001</th>\n",
       "      <td>IL40123</td>\n",
       "      <td>NV</td>\n",
       "      <td>F</td>\n",
       "      <td>College</td>\n",
       "      <td>568964.41</td>\n",
       "      <td>83640.0</td>\n",
       "      <td>70.0</td>\n",
       "      <td>0</td>\n",
       "      <td>Corporate Auto</td>\n",
       "      <td>Two-Door Car</td>\n",
       "      <td>471.050488</td>\n",
       "    </tr>\n",
       "    <tr>\n",
       "      <th>5002</th>\n",
       "      <td>MY32149</td>\n",
       "      <td>CA</td>\n",
       "      <td>F</td>\n",
       "      <td>Master</td>\n",
       "      <td>368672.38</td>\n",
       "      <td>0.0</td>\n",
       "      <td>96.0</td>\n",
       "      <td>0</td>\n",
       "      <td>Personal Auto</td>\n",
       "      <td>Two-Door Car</td>\n",
       "      <td>28.460568</td>\n",
       "    </tr>\n",
       "    <tr>\n",
       "      <th>5003</th>\n",
       "      <td>SA91515</td>\n",
       "      <td>CA</td>\n",
       "      <td>M</td>\n",
       "      <td>Bachelor</td>\n",
       "      <td>399258.39</td>\n",
       "      <td>0.0</td>\n",
       "      <td>111.0</td>\n",
       "      <td>0</td>\n",
       "      <td>Personal Auto</td>\n",
       "      <td>SUV</td>\n",
       "      <td>700.349052</td>\n",
       "    </tr>\n",
       "  </tbody>\n",
       "</table>\n",
       "<p>2065 rows × 11 columns</p>\n",
       "</div>"
      ],
      "text/plain": [
       "     customer  st gender             education  customer lifetime value  \\\n",
       "0     RB50392  WA    NaN                Master                     0.00   \n",
       "1     QZ44356  AZ      F              Bachelor                697953.59   \n",
       "2     AI49188  NV      F              Bachelor               1288743.17   \n",
       "3     WW63253  CA      M              Bachelor                764586.18   \n",
       "4     GA49547  WA      M  High School or Below                536307.65   \n",
       "...       ...  ..    ...                   ...                      ...   \n",
       "4999  HV85198  AZ      M                Master                847141.75   \n",
       "5000  BS91566  AZ      F               College                543121.91   \n",
       "5001  IL40123  NV      F               College                568964.41   \n",
       "5002  MY32149  CA      F                Master                368672.38   \n",
       "5003  SA91515  CA      M              Bachelor                399258.39   \n",
       "\n",
       "       income  monthly premium auto  number of open complaints  \\\n",
       "0         0.0                1000.0                          0   \n",
       "1         0.0                  94.0                          0   \n",
       "2     48767.0                 108.0                          0   \n",
       "3         0.0                 106.0                          0   \n",
       "4     36357.0                  68.0                          0   \n",
       "...       ...                   ...                        ...   \n",
       "4999  63513.0                  70.0                          0   \n",
       "5000  58161.0                  68.0                          0   \n",
       "5001  83640.0                  70.0                          0   \n",
       "5002      0.0                  96.0                          0   \n",
       "5003      0.0                 111.0                          0   \n",
       "\n",
       "         policy type  vehicle class  total claim amount  \n",
       "0      Personal Auto  Four-Door Car            2.704934  \n",
       "1      Personal Auto  Four-Door Car         1131.464935  \n",
       "2      Personal Auto   Two-Door Car          566.472247  \n",
       "3     Corporate Auto            SUV          529.881344  \n",
       "4      Personal Auto  Four-Door Car           17.269323  \n",
       "...              ...            ...                 ...  \n",
       "4999   Personal Auto  Four-Door Car          185.667213  \n",
       "5000  Corporate Auto  Four-Door Car          140.747286  \n",
       "5001  Corporate Auto   Two-Door Car          471.050488  \n",
       "5002   Personal Auto   Two-Door Car           28.460568  \n",
       "5003   Personal Auto            SUV          700.349052  \n",
       "\n",
       "[2065 rows x 11 columns]"
      ]
     },
     "execution_count": 23,
     "metadata": {},
     "output_type": "execute_result"
    }
   ],
   "source": [
    "df2.drop_duplicates()"
   ]
  },
  {
   "cell_type": "code",
   "execution_count": 24,
   "id": "4156767b",
   "metadata": {},
   "outputs": [],
   "source": [
    "#index should be from 0 to 2055\n",
    "import numpy as np\n",
    "df2.index = np.arange(0,5004)"
   ]
  },
  {
   "cell_type": "code",
   "execution_count": 25,
   "id": "1b802668",
   "metadata": {},
   "outputs": [],
   "source": [
    "#df2"
   ]
  },
  {
   "cell_type": "markdown",
   "id": "fec7164d",
   "metadata": {},
   "source": [
    "## 7. Optional:Replacing null values \n",
    "Replace missing values with means of the column (for numerical columns) <a class=\"anchor\" id=\"7\"></a>"
   ]
  },
  {
   "cell_type": "code",
   "execution_count": 26,
   "id": "5b687f0d",
   "metadata": {},
   "outputs": [
    {
     "data": {
      "text/plain": [
       "Index(['customer', 'st', 'gender', 'education', 'customer lifetime value',\n",
       "       'income', 'monthly premium auto', 'number of open complaints',\n",
       "       'policy type', 'vehicle class', 'total claim amount'],\n",
       "      dtype='object')"
      ]
     },
     "execution_count": 26,
     "metadata": {},
     "output_type": "execute_result"
    }
   ],
   "source": [
    "df2.columns"
   ]
  },
  {
   "cell_type": "code",
   "execution_count": 27,
   "id": "977f6b91",
   "metadata": {},
   "outputs": [
    {
     "data": {
      "text/plain": [
       "321081.0141846531"
      ]
     },
     "execution_count": 27,
     "metadata": {},
     "output_type": "execute_result"
    }
   ],
   "source": [
    "df2[\"customer lifetime value\"].mean()"
   ]
  },
  {
   "cell_type": "code",
   "execution_count": 28,
   "id": "9e68ef13",
   "metadata": {},
   "outputs": [],
   "source": [
    "#replace empty fields with mean\n",
    "df2['customer lifetime value'].fillna(df2[\"customer lifetime value\"].mean(),inplace=True )"
   ]
  },
  {
   "cell_type": "code",
   "execution_count": 29,
   "id": "cc972676",
   "metadata": {},
   "outputs": [],
   "source": [
    "df2['income'].fillna(df2[\"income\"].mean(),inplace=True)"
   ]
  },
  {
   "cell_type": "code",
   "execution_count": 30,
   "id": "d58875c2",
   "metadata": {},
   "outputs": [],
   "source": [
    "df2['monthly premium auto'].fillna(df2[\"monthly premium auto\"].mean(),inplace=True)"
   ]
  },
  {
   "cell_type": "code",
   "execution_count": 31,
   "id": "4788eae8",
   "metadata": {},
   "outputs": [],
   "source": [
    "df2['total claim amount'].fillna(df2[\"total claim amount\"].mean(),inplace=True)"
   ]
  },
  {
   "cell_type": "code",
   "execution_count": 32,
   "id": "008d86e3",
   "metadata": {},
   "outputs": [],
   "source": [
    "df2['number of open complaints'].fillna(df2[\"number of open complaints\"].mean(),inplace=True)"
   ]
  },
  {
   "cell_type": "code",
   "execution_count": 33,
   "id": "32f20745",
   "metadata": {},
   "outputs": [],
   "source": [
    "# isn't working:\n",
    "#df2 = df2.applymap(lambda i: i.mean() if type(df2.columns) == float or  type(df2.columns)== int else i)"
   ]
  },
  {
   "cell_type": "code",
   "execution_count": 34,
   "id": "70a3ed1e",
   "metadata": {},
   "outputs": [
    {
     "data": {
      "text/plain": [
       "17744"
      ]
     },
     "execution_count": 34,
     "metadata": {},
     "output_type": "execute_result"
    }
   ],
   "source": [
    "df2.isnull().sum().sum()"
   ]
  },
  {
   "cell_type": "markdown",
   "id": "c6be8b9b",
   "metadata": {},
   "source": [
    "## 8. Bucketing the data \n",
    "Write a function to replace column \"State\" to different zones. California as West Region, Oregon as North West, and Washington as East, and Arizona and Nevada as Central <a class=\"anchor\" id=\"8\"></a>\n"
   ]
  },
  {
   "cell_type": "code",
   "execution_count": 35,
   "id": "3d21859d",
   "metadata": {},
   "outputs": [],
   "source": [
    "df2.st.unique()\n",
    "def st_region(x):\n",
    "    if not x == x:\n",
    "    #then i know that x is = none\n",
    "        return x\n",
    "    else:\n",
    "        region= {'AZ': 'Central', \n",
    "                  'CA': 'West',\n",
    "                 'NV': 'Central', \n",
    "                 'OR':'North West', \n",
    "                  'AZ':'Central', \n",
    "                 'WA':'East'}\n",
    "        \n",
    "        return region[x]\n",
    "    \n",
    "df2[\"st\"] = df2[\"st\"].apply(st_region)"
   ]
  },
  {
   "cell_type": "code",
   "execution_count": 36,
   "id": "298c08e5",
   "metadata": {},
   "outputs": [],
   "source": [
    "df2 = df2.rename(columns={'st': 'region'})"
   ]
  },
  {
   "cell_type": "markdown",
   "id": "4a8e7062",
   "metadata": {},
   "source": [
    "## 9. Standardizing the data \n",
    "Use string functions to standardize the text data (lower case) <a class=\"anchor\" id=\"9\"></a>"
   ]
  },
  {
   "cell_type": "code",
   "execution_count": 37,
   "id": "5b2af3d0",
   "metadata": {},
   "outputs": [],
   "source": [
    "df2 = df2.applymap(lambda i: i.lower() if type(i) == str else i)\n"
   ]
  },
  {
   "cell_type": "code",
   "execution_count": 38,
   "id": "c711f1da",
   "metadata": {},
   "outputs": [
    {
     "data": {
      "text/plain": [
       "'lambda x : x **2'"
      ]
     },
     "execution_count": 38,
     "metadata": {},
     "output_type": "execute_result"
    }
   ],
   "source": [
    "# of topic lambda\n",
    "def my_func(x):\n",
    "    return x **2\n",
    "#is like lambda but lambda cannot be called later (have no specific name), useful if you just need a function ones:\n",
    "'lambda x : x **2'"
   ]
  },
  {
   "cell_type": "markdown",
   "id": "d4c8638a",
   "metadata": {},
   "source": [
    "\n",
    "## 10. Which columns are numerical? <a class=\"anchor\" id=\"10\"></a>"
   ]
  },
  {
   "cell_type": "code",
   "execution_count": 39,
   "id": "f7d9227d",
   "metadata": {},
   "outputs": [
    {
     "data": {
      "text/plain": [
       "['customer lifetime value',\n",
       " 'income',\n",
       " 'monthly premium auto',\n",
       " 'number of open complaints',\n",
       " 'total claim amount']"
      ]
     },
     "execution_count": 39,
     "metadata": {},
     "output_type": "execute_result"
    }
   ],
   "source": [
    "df2_numerical= df2.select_dtypes(include=np.number).columns.tolist()\n",
    "df2_numerical"
   ]
  },
  {
   "cell_type": "markdown",
   "id": "49ec8f1e",
   "metadata": {},
   "source": [
    "## 11. Which columns are categorical? <a class=\"anchor\" id=\"11\"></a>"
   ]
  },
  {
   "cell_type": "code",
   "execution_count": 40,
   "id": "f793f6a3",
   "metadata": {},
   "outputs": [
    {
     "data": {
      "text/plain": [
       "['customer', 'region', 'gender', 'education', 'policy type', 'vehicle class']"
      ]
     },
     "execution_count": 40,
     "metadata": {},
     "output_type": "execute_result"
    }
   ],
   "source": [
    "df2_categorical = df2.select_dtypes(include=object).columns.tolist()\n",
    "df2_categorical"
   ]
  }
 ],
 "metadata": {
  "kernelspec": {
   "display_name": "Python 3",
   "language": "python",
   "name": "python3"
  },
  "language_info": {
   "codemirror_mode": {
    "name": "ipython",
    "version": 3
   },
   "file_extension": ".py",
   "mimetype": "text/x-python",
   "name": "python",
   "nbconvert_exporter": "python",
   "pygments_lexer": "ipython3",
   "version": "3.9.6"
  }
 },
 "nbformat": 4,
 "nbformat_minor": 5
}
