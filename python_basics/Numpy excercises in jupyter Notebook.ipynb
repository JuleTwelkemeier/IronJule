{
 "cells": [
  {
   "cell_type": "markdown",
   "id": "161c75b0",
   "metadata": {},
   "source": [
    "# 100 numpy exercises"
   ]
  },
  {
   "cell_type": "markdown",
   "id": "f06268c2",
   "metadata": {},
   "source": [
    "This is a collection of exercises that have been collected in the numpy mailing list, on stack overflow and in the numpy documentation. The goal of this collection is to offer a quick reference for both old and new users but also to provide a set of exercises for those who teach.\n",
    "\n",
    "If you find an error or think you've a better way to solve some of them, feel free to open an issue at https://github.com/rougier/numpy-100. File automatically generated. See the documentation to update questions/answers/hints programmatically.\n",
    "\n"
   ]
  },
  {
   "cell_type": "code",
   "execution_count": 1,
   "id": "1effb379",
   "metadata": {},
   "outputs": [],
   "source": [
    "#1. Import the numpy package under the name np\n",
    "import numpy as np"
   ]
  },
  {
   "cell_type": "code",
   "execution_count": 2,
   "id": "7c90146b",
   "metadata": {},
   "outputs": [
    {
     "data": {
      "text/plain": [
       "'1.20.3'"
      ]
     },
     "execution_count": 2,
     "metadata": {},
     "output_type": "execute_result"
    }
   ],
   "source": [
    "#2. Print the numpy version and the configuration \n",
    "np.__version__"
   ]
  },
  {
   "cell_type": "code",
   "execution_count": 4,
   "id": "914ef9b2",
   "metadata": {},
   "outputs": [
    {
     "data": {
      "text/plain": [
       "array([0., 0., 0., 0., 0., 0., 0., 0., 0., 0.])"
      ]
     },
     "execution_count": 4,
     "metadata": {},
     "output_type": "execute_result"
    }
   ],
   "source": [
    "#3. Create a null vector of size 10\n",
    "a=np.zeros(10)"
   ]
  },
  {
   "cell_type": "code",
   "execution_count": 5,
   "id": "8c2c8b24",
   "metadata": {},
   "outputs": [
    {
     "data": {
      "text/plain": [
       "3"
      ]
     },
     "execution_count": 5,
     "metadata": {},
     "output_type": "execute_result"
    }
   ],
   "source": [
    "#4. How to find the memory size of any array\n",
    "lst = [1,2,3]\n",
    "np.size(lst)"
   ]
  },
  {
   "cell_type": "code",
   "execution_count": 11,
   "id": "685449f1",
   "metadata": {},
   "outputs": [
    {
     "name": "stdout",
     "output_type": "stream",
     "text": [
      "add(x1, x2, /, out=None, *, where=True, casting='same_kind', order='K', dtype=None, subok=True[, signature, extobj])\n",
      "\n",
      "Add arguments element-wise.\n",
      "\n",
      "Parameters\n",
      "----------\n",
      "x1, x2 : array_like\n",
      "    The arrays to be added.\n",
      "    If ``x1.shape != x2.shape``, they must be broadcastable to a common\n",
      "    shape (which becomes the shape of the output).\n",
      "out : ndarray, None, or tuple of ndarray and None, optional\n",
      "    A location into which the result is stored. If provided, it must have\n",
      "    a shape that the inputs broadcast to. If not provided or None,\n",
      "    a freshly-allocated array is returned. A tuple (possible only as a\n",
      "    keyword argument) must have length equal to the number of outputs.\n",
      "where : array_like, optional\n",
      "    This condition is broadcast over the input. At locations where the\n",
      "    condition is True, the `out` array will be set to the ufunc result.\n",
      "    Elsewhere, the `out` array will retain its original value.\n",
      "    Note that if an uninitialized `out` array is created via the default\n",
      "    ``out=None``, locations within it where the condition is False will\n",
      "    remain uninitialized.\n",
      "**kwargs\n",
      "    For other keyword-only arguments, see the\n",
      "    :ref:`ufunc docs <ufuncs.kwargs>`.\n",
      "\n",
      "Returns\n",
      "-------\n",
      "add : ndarray or scalar\n",
      "    The sum of `x1` and `x2`, element-wise.\n",
      "    This is a scalar if both `x1` and `x2` are scalars.\n",
      "\n",
      "Notes\n",
      "-----\n",
      "Equivalent to `x1` + `x2` in terms of array broadcasting.\n",
      "\n",
      "Examples\n",
      "--------\n",
      ">>> np.add(1.0, 4.0)\n",
      "5.0\n",
      ">>> x1 = np.arange(9.0).reshape((3, 3))\n",
      ">>> x2 = np.arange(3.0)\n",
      ">>> np.add(x1, x2)\n",
      "array([[  0.,   2.,   4.],\n",
      "       [  3.,   5.,   7.],\n",
      "       [  6.,   8.,  10.]])\n",
      "\n",
      "The ``+`` operator can be used as a shorthand for ``np.add`` on ndarrays.\n",
      "\n",
      ">>> x1 = np.arange(9.0).reshape((3, 3))\n",
      ">>> x2 = np.arange(3.0)\n",
      ">>> x1 + x2\n",
      "array([[ 0.,  2.,  4.],\n",
      "       [ 3.,  5.,  7.],\n",
      "       [ 6.,  8., 10.]])\n"
     ]
    }
   ],
   "source": [
    "#5. How to get the documentation of the numpy add function from the command line?\n",
    "np.info(np.add)"
   ]
  },
  {
   "cell_type": "code",
   "execution_count": 21,
   "id": "211cbc0b",
   "metadata": {},
   "outputs": [
    {
     "data": {
      "text/plain": [
       "array([0., 0., 0., 0., 1., 0., 0., 0., 0., 0.])"
      ]
     },
     "execution_count": 21,
     "metadata": {},
     "output_type": "execute_result"
    }
   ],
   "source": [
    "#6. Create a null vector of size 10 but the fifth value which is 1\n",
    "#hint array[4]\n",
    "a =np.zeros(10)\n",
    "a[4] =1\n",
    "a"
   ]
  },
  {
   "cell_type": "code",
   "execution_count": 24,
   "id": "3cca1619",
   "metadata": {},
   "outputs": [
    {
     "data": {
      "text/plain": [
       "array([10, 11, 12, 13, 14, 15, 16, 17, 18, 19, 20, 21, 22, 23, 24, 25, 26,\n",
       "       27, 28, 29, 30, 31, 32, 33, 34, 35, 36, 37, 38, 39, 40, 41, 42, 43,\n",
       "       44, 45, 46, 47, 48, 49])"
      ]
     },
     "execution_count": 24,
     "metadata": {},
     "output_type": "execute_result"
    }
   ],
   "source": [
    "#7. Create a vector with values ranging from 10 to 49\n",
    "b=np.arange(10,50)\n",
    "b"
   ]
  },
  {
   "cell_type": "code",
   "execution_count": 35,
   "id": "81a36c37",
   "metadata": {},
   "outputs": [
    {
     "data": {
      "text/plain": [
       "array([49, 48, 47, 46, 45, 44, 43, 42, 41, 40, 39, 38, 37, 36, 35, 34, 33,\n",
       "       32, 31, 30, 29, 28, 27, 26, 25, 24, 23, 22, 21, 20, 19, 18, 17, 16,\n",
       "       15, 14, 13, 12, 11, 10])"
      ]
     },
     "execution_count": 35,
     "metadata": {},
     "output_type": "execute_result"
    }
   ],
   "source": [
    "#8. Reverse a vector (first element becomes last)\n",
    "c = b[::-1]\n",
    "c\n"
   ]
  },
  {
   "cell_type": "code",
   "execution_count": 41,
   "id": "04c81213",
   "metadata": {},
   "outputs": [
    {
     "data": {
      "text/plain": [
       "array([[0, 1, 2],\n",
       "       [3, 4, 5],\n",
       "       [6, 7, 8]])"
      ]
     },
     "execution_count": 41,
     "metadata": {},
     "output_type": "execute_result"
    }
   ],
   "source": [
    "#9. Create a 3x3 matrix with values ranging from 0 to 8\n",
    "np.arange(0,9).reshape(3,3)"
   ]
  },
  {
   "cell_type": "code",
   "execution_count": 43,
   "id": "b6f9579a",
   "metadata": {},
   "outputs": [
    {
     "data": {
      "text/plain": [
       "(array([0, 1, 4]),)"
      ]
     },
     "execution_count": 43,
     "metadata": {},
     "output_type": "execute_result"
    }
   ],
   "source": [
    "#10. Find indices of non-zero elements from [1,2,0,0,4,0]\n",
    "d =[1,2,0,0,4,0]\n",
    "np.nonzero(d)"
   ]
  },
  {
   "cell_type": "code",
   "execution_count": 44,
   "id": "e074e3d8",
   "metadata": {},
   "outputs": [
    {
     "data": {
      "text/plain": [
       "array([[1., 0., 0.],\n",
       "       [0., 1., 0.],\n",
       "       [0., 0., 1.]])"
      ]
     },
     "execution_count": 44,
     "metadata": {},
     "output_type": "execute_result"
    }
   ],
   "source": [
    "#11. Create a 3x3 identity matrix\n",
    "np.eye(3,3)"
   ]
  },
  {
   "cell_type": "code",
   "execution_count": 46,
   "id": "489375ec",
   "metadata": {},
   "outputs": [
    {
     "data": {
      "text/plain": [
       "array([[[0.74837936, 0.72336903, 0.45278213],\n",
       "        [0.98560369, 0.7464351 , 0.68245056],\n",
       "        [0.35037643, 0.69718501, 0.14304076]],\n",
       "\n",
       "       [[0.43064021, 0.34093264, 0.18927354],\n",
       "        [0.26649677, 0.22253755, 0.89875998],\n",
       "        [0.57228758, 0.20291082, 0.16052192]],\n",
       "\n",
       "       [[0.43386439, 0.15390423, 0.04155414],\n",
       "        [0.13232616, 0.19322451, 0.07731336],\n",
       "        [0.42271889, 0.11639193, 0.19823317]]])"
      ]
     },
     "execution_count": 46,
     "metadata": {},
     "output_type": "execute_result"
    }
   ],
   "source": [
    "#12. Create a 3x3x3 array with random values\n",
    "np.random.random([3,3,3])"
   ]
  },
  {
   "cell_type": "code",
   "execution_count": 54,
   "id": "c776513e",
   "metadata": {},
   "outputs": [
    {
     "name": "stdout",
     "output_type": "stream",
     "text": [
      "[[0.2602139  0.23628591 0.42993306 0.44085572 0.51651659 0.47410383\n",
      "  0.27831485 0.13888329 0.11903889 0.55593999]\n",
      " [0.58325636 0.60229829 0.01894296 0.69910169 0.05547869 0.95191133\n",
      "  0.80401043 0.99902442 0.90904506 0.33966241]\n",
      " [0.37214566 0.43592682 0.4848658  0.94031684 0.31864132 0.00483363\n",
      "  0.49500792 0.75073786 0.77214784 0.90760075]\n",
      " [0.59783321 0.42101347 0.50944183 0.36544139 0.2248067  0.33059179\n",
      "  0.30260123 0.18448072 0.13820285 0.5774431 ]\n",
      " [0.99444246 0.01028586 0.4844242  0.90933081 0.46624713 0.27518994\n",
      "  0.88133492 0.12944457 0.69973188 0.4870694 ]\n",
      " [0.09163152 0.69053055 0.65940847 0.20462377 0.99740774 0.69104114\n",
      "  0.13349171 0.5865914  0.59694541 0.19785506]\n",
      " [0.16821252 0.41652456 0.6016235  0.32070837 0.0112179  0.17595374\n",
      "  0.08837397 0.21650946 0.10550662 0.72034953]\n",
      " [0.11112782 0.45013918 0.32180498 0.48241864 0.8735307  0.51961681\n",
      "  0.26955772 0.0958716  0.28781553 0.59310772]\n",
      " [0.6684027  0.17434774 0.14119748 0.76305834 0.28956652 0.82926771\n",
      "  0.49695674 0.6075299  0.88830642 0.5702221 ]\n",
      " [0.83006652 0.85516665 0.66818058 0.22307574 0.61213781 0.16038882\n",
      "  0.42000345 0.46453575 0.14076848 0.79992662]]\n",
      "0.004833627999910828\n",
      "0.9990244176250487\n"
     ]
    }
   ],
   "source": [
    "#13. Create a 10x10 array with random values and find the minimum and maximum values\n",
    "e=np.random.random([10,10])\n",
    "print(e)\n",
    "print(np.min(e))\n",
    "print(np.max(e))"
   ]
  },
  {
   "cell_type": "code",
   "execution_count": 59,
   "id": "9d5d9547",
   "metadata": {},
   "outputs": [
    {
     "name": "stdout",
     "output_type": "stream",
     "text": [
      "[0.49508476 0.13017756 0.1289515  0.91733374 0.93585321 0.42753996\n",
      " 0.10478201 0.64237511 0.66368842 0.64933805 0.68305263 0.80739199\n",
      " 0.08269797 0.35603256 0.44330717 0.61511956 0.84416403 0.6761657\n",
      " 0.09202016 0.2969498  0.78305232 0.46593883 0.47837942 0.39770774\n",
      " 0.82766606 0.20541106 0.1622001  0.08099225 0.21750364 0.39259082]\n"
     ]
    },
    {
     "data": {
      "text/plain": [
       "0.4667822710948368"
      ]
     },
     "execution_count": 59,
     "metadata": {},
     "output_type": "execute_result"
    }
   ],
   "source": [
    "#14. Create a random vector of size 30 and find the mean value \n",
    "f=np.random.random([30])\n",
    "print(f)\n",
    "np.mean(f)"
   ]
  },
  {
   "cell_type": "code",
   "execution_count": 88,
   "id": "ad9b561b",
   "metadata": {},
   "outputs": [
    {
     "data": {
      "text/plain": [
       "array([[1., 1., 1., 1., 1.],\n",
       "       [1., 0., 0., 0., 1.],\n",
       "       [1., 0., 0., 0., 1.],\n",
       "       [1., 0., 0., 0., 1.],\n",
       "       [1., 1., 1., 1., 1.]])"
      ]
     },
     "execution_count": 88,
     "metadata": {},
     "output_type": "execute_result"
    }
   ],
   "source": [
    "#15. Create a 2d array with 1 on the border and 0 inside \n",
    "#np.array[1:-1, 1:-1]\n",
    "g=np.ones((5,5))\n",
    "g[1:-1, 1:-1]=0\n",
    "g"
   ]
  },
  {
   "cell_type": "code",
   "execution_count": 102,
   "id": "2d3b3bc8",
   "metadata": {},
   "outputs": [
    {
     "data": {
      "text/plain": [
       "array([[0., 0., 0., 0., 0., 0., 0.],\n",
       "       [0., 1., 1., 1., 1., 1., 0.],\n",
       "       [0., 1., 1., 1., 1., 1., 0.],\n",
       "       [0., 1., 1., 1., 1., 1., 0.],\n",
       "       [0., 1., 1., 1., 1., 1., 0.],\n",
       "       [0., 1., 1., 1., 1., 1., 0.],\n",
       "       [0., 0., 0., 0., 0., 0., 0.]])"
      ]
     },
     "execution_count": 102,
     "metadata": {},
     "output_type": "execute_result"
    }
   ],
   "source": [
    "#16. How to add a border (filled with 0's) around an existing array? \n",
    "h=np.ones((5,5))\n",
    "np.pad(h,(1))"
   ]
  },
  {
   "cell_type": "code",
   "execution_count": 103,
   "id": "ac67a1b7",
   "metadata": {},
   "outputs": [
    {
     "data": {
      "text/plain": [
       "False"
      ]
     },
     "execution_count": 103,
     "metadata": {},
     "output_type": "execute_result"
    }
   ],
   "source": [
    "#17. What is the result of the following expression?\n",
    "0 * np.nan\n",
    "np.nan == np.nan\n",
    "np.inf > np.nan\n",
    "np.nan - np.nan\n",
    "np.nan in set([np.nan])\n",
    "0.3 == 3 * 0.1\n",
    "\n",
    "#np.nan =Convert a string or number to a floating point number, if possible."
   ]
  },
  {
   "cell_type": "code",
   "execution_count": 133,
   "id": "4ea95992",
   "metadata": {},
   "outputs": [
    {
     "data": {
      "text/plain": [
       "array([[0, 0, 0, 0, 0],\n",
       "       [1, 0, 0, 0, 0],\n",
       "       [0, 2, 0, 0, 0],\n",
       "       [0, 0, 3, 0, 0],\n",
       "       [0, 0, 0, 4, 0]])"
      ]
     },
     "execution_count": 133,
     "metadata": {},
     "output_type": "execute_result"
    }
   ],
   "source": [
    "#18. Create a 5x5 matrix with values 1,2,3,4 just below the diagonal\n",
    "i = np.diag([1, 2, 3, 4],k=-1)\n",
    "i"
   ]
  },
  {
   "cell_type": "code",
   "execution_count": 141,
   "id": "80012c39",
   "metadata": {},
   "outputs": [
    {
     "name": "stdout",
     "output_type": "stream",
     "text": [
      "[[0 1 0 1 0 1 0 1]\n",
      " [1 0 1 0 1 0 1 0]\n",
      " [0 1 0 1 0 1 0 1]\n",
      " [1 0 1 0 1 0 1 0]\n",
      " [0 1 0 1 0 1 0 1]\n",
      " [1 0 1 0 1 0 1 0]\n",
      " [0 1 0 1 0 1 0 1]\n",
      " [1 0 1 0 1 0 1 0]]\n"
     ]
    }
   ],
   "source": [
    "#19. Create a 8x8 matrix and fill it with a checkerboard pattern\n",
    "j = np.zeros((8,8),int)\n",
    "# odd rows and even columns\n",
    "j[1::2,::2] = 1\n",
    "# even rows and odd columns\n",
    "j[::2,1::2] = 1\n",
    "print(j)"
   ]
  },
  {
   "cell_type": "code",
   "execution_count": 158,
   "id": "b1426393",
   "metadata": {},
   "outputs": [
    {
     "data": {
      "text/plain": [
       "(1, 5, 4)"
      ]
     },
     "execution_count": 158,
     "metadata": {},
     "output_type": "execute_result"
    }
   ],
   "source": [
    "#20. Consider a (6,7,8) shape array, what is the index (x,y,z) of the 100th element?\n",
    "#k = np.arange(0,336).reshape(6,7,8)\n",
    "np.unravel_index(100,(6,7,8))\n"
   ]
  },
  {
   "cell_type": "code",
   "execution_count": null,
   "id": "3a78134d",
   "metadata": {},
   "outputs": [],
   "source": []
  }
 ],
 "metadata": {
  "kernelspec": {
   "display_name": "Python 3",
   "language": "python",
   "name": "python3"
  },
  "language_info": {
   "codemirror_mode": {
    "name": "ipython",
    "version": 3
   },
   "file_extension": ".py",
   "mimetype": "text/x-python",
   "name": "python",
   "nbconvert_exporter": "python",
   "pygments_lexer": "ipython3",
   "version": "3.9.6"
  }
 },
 "nbformat": 4,
 "nbformat_minor": 5
}
