{
 "cells": [
  {
   "cell_type": "markdown",
   "metadata": {},
   "source": [
    "# Lab -Python Strings Operations"
   ]
  },
  {
   "cell_type": "markdown",
   "metadata": {},
   "source": [
    "# Challenge 1 - Combining Strings\n",
    "\n",
    "Combining strings is an important skill to acquire. There are multiple ways of combining strings in Python, as well as combining strings with variables. We will explore this in the first challenge. In the cell below, combine the strings in the list and add spaces between the strings (do not add a space after the last string). Insert a period after the last string."
   ]
  },
  {
   "cell_type": "code",
   "execution_count": 1,
   "metadata": {},
   "outputs": [
    {
     "data": {
      "text/plain": [
       "'I am strengthening my programming skills in order to become a great Data Analyst'"
      ]
     },
     "execution_count": 1,
     "metadata": {},
     "output_type": "execute_result"
    }
   ],
   "source": [
    "str_list = ['I', 'am', 'strengthening', 'my', 'programming', 'skills', 'in', 'order', 'to', 'become', 'a', 'great', 'Data','Analyst']\n",
    "# Your code here:\n",
    "s=\" \"\n",
    "s.join(str_list)"
   ]
  },
  {
   "cell_type": "markdown",
   "metadata": {},
   "source": [
    "In the cell below, use the list of strings to create a grocery list. Start the list with the string `Grocery list: ` and include a comma and a space between each item except for the last one. Include a period at the end. Only include foods in the list that start with the letter 'b' and ensure all foods are lower case."
   ]
  },
  {
   "cell_type": "code",
   "execution_count": 22,
   "metadata": {},
   "outputs": [
    {
     "data": {
      "text/plain": [
       "'Grocery List: bananas, bread, brownie mix, broccoli'"
      ]
     },
     "execution_count": 22,
     "metadata": {},
     "output_type": "execute_result"
    }
   ],
   "source": [
    "food_list = ['Bananas', 'Chocolate', 'bread', 'diapers', 'Ice Cream', 'Brownie Mix', 'broccoli']\n",
    "\n",
    "\n",
    "#\"Grocery List: \" + \", \".join([item.lower() for item in food_list if item.lower()[0]==\"b\"]) +\".\"\n",
    "\n",
    "\"Grocery List: \" + \", \".join(str(item.lower()) for item in food_list if item.lower().startswith(\"b\"))\n",
    "\n",
    "\n"
   ]
  },
  {
   "cell_type": "markdown",
   "metadata": {},
   "source": [
    "In the cell below, compute the area of a circle using its radius and insert the radius and the area between `string1` and `string2`. Make sure to include spaces between the variable and the strings. \n",
    "\n",
    "Note: You can use the techniques we have learned so far or use f-strings. F-strings allow us to embed code inside strings. You can read more about f-strings [here](https://www.python.org/dev/peps/pep-0498/)."
   ]
  },
  {
   "cell_type": "code",
   "execution_count": 25,
   "metadata": {},
   "outputs": [
    {
     "name": "stdout",
     "output_type": "stream",
     "text": [
      "The area of the circle with radius: 4.5 is: 63.6\n"
     ]
    },
    {
     "data": {
      "text/plain": [
       "'The area of the circle with radius:4.5 is 63.62'"
      ]
     },
     "execution_count": 25,
     "metadata": {},
     "output_type": "execute_result"
    }
   ],
   "source": [
    "import math\n",
    "\n",
    "string1 = \"The area of the circle with radius:\"\n",
    "string2  = \"is:\"\n",
    "radius = 4.5\n",
    "pi = math.pi\n",
    "\n",
    "# Your code here:\n",
    "area = pi * (radius**2)\n",
    "\n",
    "\n",
    "def display_area_of_circle():\n",
    "    print(string1,radius,string2,round(area,1))\n",
    "\n",
    "display_area_of_circle()\n",
    "\n",
    "#rafaats answer:\n",
    "f'{string1}{radius} is {round(area,2)}'"
   ]
  },
  {
   "cell_type": "markdown",
   "metadata": {},
   "source": [
    "# Challenge 2 - Splitting Strings\n",
    "\n",
    "We have first looked at combining strings into one long string. There are times where we need to do the opposite and split the string into smaller components for further analysis. \n",
    "\n",
    "In the cell below, split the string into a list of strings using the space delimiter. Count the frequency of each word in the string in a dictionary. Strip the periods, line breaks and commas from the text. Make sure to remove empty strings from your dictionary."
   ]
  },
  {
   "cell_type": "code",
   "execution_count": 46,
   "metadata": {},
   "outputs": [],
   "source": [
    "poem = \"\"\"Some say the world will end in fire,\n",
    "Some say in ice.\n",
    "From what I’ve tasted of desire\n",
    "I hold with those who favor fire.\n",
    "But if it had to perish twice,\n",
    "I think I know enough of hate\n",
    "To say that for destruction ice\n",
    "Is also great\n",
    "And would suffice.\"\"\"\n",
    "\n",
    "\n"
   ]
  },
  {
   "cell_type": "code",
   "execution_count": 47,
   "metadata": {},
   "outputs": [
    {
     "name": "stdout",
     "output_type": "stream",
     "text": [
      "['Some', 'say', 'the', 'world', 'will', 'end', 'in', 'fire', 'Some', 'say', 'in', 'ice', 'From', 'what', 'I’ve', 'tasted', 'of', 'desire', 'I', 'hold', 'with', 'those', 'who', 'favor', 'fire', 'But', 'if', 'it', 'had', 'to', 'perish', 'twice', 'I', 'think', 'I', 'know', 'enough', 'of', 'hate', 'To', 'say', 'that', 'for', 'destruction', 'ice', 'Is', 'also', 'great', 'And', 'would', 'suffice']\n"
     ]
    }
   ],
   "source": [
    "poem_list = poem.replace(\".\",\"\").replace(\"\\n\",\" \").replace(\",\",\"\").split(\" \")\n",
    "print(poem_list)\n"
   ]
  },
  {
   "cell_type": "code",
   "execution_count": null,
   "metadata": {},
   "outputs": [],
   "source": []
  },
  {
   "cell_type": "code",
   "execution_count": 49,
   "metadata": {},
   "outputs": [
    {
     "data": {
      "text/plain": [
       "{'Some': 2,\n",
       " 'say': 3,\n",
       " 'the': 1,\n",
       " 'world': 1,\n",
       " 'will': 1,\n",
       " 'end': 1,\n",
       " 'in': 2,\n",
       " 'fire': 2,\n",
       " 'ice': 2,\n",
       " 'From': 1,\n",
       " 'what': 1,\n",
       " 'I’ve': 1,\n",
       " 'tasted': 1,\n",
       " 'of': 2,\n",
       " 'desire': 1,\n",
       " 'I': 3,\n",
       " 'hold': 1,\n",
       " 'with': 1,\n",
       " 'those': 1,\n",
       " 'who': 1,\n",
       " 'favor': 1,\n",
       " 'But': 1,\n",
       " 'if': 1,\n",
       " 'it': 1,\n",
       " 'had': 1,\n",
       " 'to': 1,\n",
       " 'perish': 1,\n",
       " 'twice': 1,\n",
       " 'think': 1,\n",
       " 'know': 1,\n",
       " 'enough': 1,\n",
       " 'hate': 1,\n",
       " 'To': 1,\n",
       " 'that': 1,\n",
       " 'for': 1,\n",
       " 'destruction': 1,\n",
       " 'Is': 1,\n",
       " 'also': 1,\n",
       " 'great': 1,\n",
       " 'And': 1,\n",
       " 'would': 1,\n",
       " 'suffice': 1}"
      ]
     },
     "execution_count": 49,
     "metadata": {},
     "output_type": "execute_result"
    }
   ],
   "source": [
    "def poem_count(poem_list):\n",
    "    dic = {}\n",
    "    \n",
    "    for word in poem_list:\n",
    "        if word not in dic:\n",
    "            dic[word] = 1\n",
    "        else:\n",
    "            dic[word] += 1\n",
    "\n",
    "    return dic\n",
    "\n",
    "poem_count(poem_list)"
   ]
  },
  {
   "cell_type": "markdown",
   "metadata": {},
   "source": [
    "In the cell below, find all the words that appear in the text and do not appear in the blacklist. You must parse the string but can choose any data structure you wish for the words that do not appear in the blacklist. Remove all non letter characters and convert all words to lower case."
   ]
  },
  {
   "cell_type": "code",
   "execution_count": 114,
   "metadata": {},
   "outputs": [],
   "source": [
    "blacklist = ['and', 'as', 'an', 'a', 'the', 'in', 'it']\n",
    "\n",
    "poem = \"\"\"I was angry with my friend; \n",
    "I told my wrath, my wrath did end.\n",
    "I was angry with my foe: \n",
    "I told it not, my wrath did grow. \n",
    "\n",
    "And I waterd it in fears,\n",
    "Night & morning with my tears: \n",
    "And I sunned it with smiles,\n",
    "And with soft deceitful wiles. \n",
    "\n",
    "And it grew both day and night. \n",
    "Till it bore an apple bright. \n",
    "And my foe beheld it shine,\n",
    "And he knew that it was mine. \n",
    "\n",
    "And into my garden stole, \n",
    "When the night had veild the pole; \n",
    "In the morning glad I see; \n",
    "My foe outstretched beneath the tree.\"\"\"\n",
    "\n",
    "# Your code here:"
   ]
  },
  {
   "cell_type": "code",
   "execution_count": 182,
   "metadata": {},
   "outputs": [
    {
     "data": {
      "text/plain": [
       "'i was angry with my friend; \\ni told my wrath, my wrath did end.\\ni was angry with my foe: \\ni told it not, my wrath did grow. \\n\\nand i waterd it in fears,\\nnight & morning with my tears: \\nand i sunned it with smiles,\\nand with soft deceitful wiles. \\n\\nand it grew both day and night. \\ntill it bore an apple bright. \\nand my foe beheld it shine,\\nand he knew that it was mine. \\n\\nand into my garden stole, \\nwhen the night had veild the pole; \\nin the morning glad i see; \\nmy foe outstretched beneath the tree.'"
      ]
     },
     "execution_count": 182,
     "metadata": {},
     "output_type": "execute_result"
    }
   ],
   "source": [
    "poem.lower()"
   ]
  },
  {
   "cell_type": "code",
   "execution_count": 185,
   "metadata": {},
   "outputs": [],
   "source": [
    "#remove non letter\n",
    "#check this code\n",
    "import re\n",
    "regex = re.compile('[^a-zA-Z]')\n",
    "lowered_alphabet = regex.sub(' ',poem.lower())"
   ]
  },
  {
   "cell_type": "code",
   "execution_count": 186,
   "metadata": {},
   "outputs": [
    {
     "data": {
      "text/plain": [
       "'i was angry with my friend   i told my wrath  my wrath did end  i was angry with my foe   i told it not  my wrath did grow    and i waterd it in fears  night   morning with my tears   and i sunned it with smiles  and with soft deceitful wiles    and it grew both day and night   till it bore an apple bright   and my foe beheld it shine  and he knew that it was mine    and into my garden stole   when the night had veild the pole   in the morning glad i see   my foe outstretched beneath the tree '"
      ]
     },
     "execution_count": 186,
     "metadata": {},
     "output_type": "execute_result"
    }
   ],
   "source": [
    "lowered_alphabet"
   ]
  },
  {
   "cell_type": "code",
   "execution_count": 181,
   "metadata": {},
   "outputs": [
    {
     "data": {
      "text/plain": [
       "{'',\n",
       " 'an',\n",
       " 'and',\n",
       " 'angry',\n",
       " 'apple',\n",
       " 'beheld',\n",
       " 'beneath',\n",
       " 'bore',\n",
       " 'both',\n",
       " 'bright',\n",
       " 'day',\n",
       " 'deceitful',\n",
       " 'did',\n",
       " 'end',\n",
       " 'fears',\n",
       " 'foe',\n",
       " 'friend',\n",
       " 'garden',\n",
       " 'glad',\n",
       " 'grew',\n",
       " 'grow',\n",
       " 'had',\n",
       " 'he',\n",
       " 'i',\n",
       " 'in',\n",
       " 'into',\n",
       " 'it',\n",
       " 'knew',\n",
       " 'mine',\n",
       " 'morning',\n",
       " 'my',\n",
       " 'night',\n",
       " 'not',\n",
       " 'outstretched',\n",
       " 'pole',\n",
       " 'see',\n",
       " 'shine',\n",
       " 'smiles',\n",
       " 'soft',\n",
       " 'stole',\n",
       " 'sunned',\n",
       " 'tears',\n",
       " 'that',\n",
       " 'the',\n",
       " 'till',\n",
       " 'told',\n",
       " 'tree',\n",
       " 'veild',\n",
       " 'was',\n",
       " 'waterd',\n",
       " 'when',\n",
       " 'wiles',\n",
       " 'with',\n",
       " 'wrath'}"
      ]
     },
     "execution_count": 181,
     "metadata": {},
     "output_type": "execute_result"
    }
   ],
   "source": [
    "cleaned_word =set(lowered_alphabet.split(\" \"))\n",
    "cleaned_word"
   ]
  },
  {
   "cell_type": "code",
   "execution_count": 176,
   "metadata": {},
   "outputs": [
    {
     "data": {
      "text/plain": [
       "{'',\n",
       " 'angry',\n",
       " 'apple',\n",
       " 'beheld',\n",
       " 'beneath',\n",
       " 'bore',\n",
       " 'both',\n",
       " 'bright',\n",
       " 'day',\n",
       " 'deceitful',\n",
       " 'did',\n",
       " 'end',\n",
       " 'fears',\n",
       " 'foe',\n",
       " 'friend',\n",
       " 'garden',\n",
       " 'glad',\n",
       " 'grew',\n",
       " 'grow',\n",
       " 'had',\n",
       " 'he',\n",
       " 'i',\n",
       " 'into',\n",
       " 'knew',\n",
       " 'mine',\n",
       " 'morning',\n",
       " 'my',\n",
       " 'night',\n",
       " 'not',\n",
       " 'outstretched',\n",
       " 'pole',\n",
       " 'see',\n",
       " 'shine',\n",
       " 'smiles',\n",
       " 'soft',\n",
       " 'stole',\n",
       " 'sunned',\n",
       " 'tears',\n",
       " 'that',\n",
       " 'till',\n",
       " 'told',\n",
       " 'tree',\n",
       " 'veild',\n",
       " 'was',\n",
       " 'waterd',\n",
       " 'when',\n",
       " 'wiles',\n",
       " 'with',\n",
       " 'wrath'}"
      ]
     },
     "execution_count": 176,
     "metadata": {},
     "output_type": "execute_result"
    }
   ],
   "source": [
    "final_list = cleaned_word - set(blacklist)\n",
    "final_list"
   ]
  },
  {
   "cell_type": "code",
   "execution_count": null,
   "metadata": {},
   "outputs": [],
   "source": []
  },
  {
   "cell_type": "code",
   "execution_count": null,
   "metadata": {},
   "outputs": [],
   "source": []
  }
 ],
 "metadata": {
  "file_extension": ".py",
  "kernelspec": {
   "display_name": "Python 3",
   "language": "python",
   "name": "python3"
  },
  "language_info": {
   "codemirror_mode": {
    "name": "ipython",
    "version": 3
   },
   "file_extension": ".py",
   "mimetype": "text/x-python",
   "name": "python",
   "nbconvert_exporter": "python",
   "pygments_lexer": "ipython3",
   "version": "3.9.6"
  },
  "mimetype": "text/x-python",
  "name": "python",
  "npconvert_exporter": "python",
  "pygments_lexer": "ipython3",
  "version": 3
 },
 "nbformat": 4,
 "nbformat_minor": 2
}
