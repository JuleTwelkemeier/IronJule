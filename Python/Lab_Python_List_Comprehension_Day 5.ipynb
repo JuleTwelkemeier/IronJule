{
 "cells": [
  {
   "cell_type": "markdown",
   "id": "a836f789",
   "metadata": {},
   "source": [
    "# Lab Python List Comprehension"
   ]
  },
  {
   "cell_type": "markdown",
   "id": "0e09ac40",
   "metadata": {},
   "source": [
    "1. let's say we need to create a list of integers which specify the length of each word in a certain sentence, but only if the word is not the word \"the\"."
   ]
  },
  {
   "cell_type": "code",
   "execution_count": 2,
   "id": "ae10b087",
   "metadata": {},
   "outputs": [
    {
     "name": "stdout",
     "output_type": "stream",
     "text": [
      "['the', 'quick', 'brown', 'fox', 'jumps', 'over', 'the', 'lazy', 'dog']\n",
      "[5, 5, 3, 5, 4, 4, 3]\n"
     ]
    }
   ],
   "source": [
    "sentence = \"the quick brown fox jumps over the lazy dog\"\n",
    "words = sentence.split()\n",
    "word_lengths = []\n",
    "for word in words:\n",
    "      if word != \"the\":\n",
    "          word_lengths.append(len(word))\n",
    "print(words)\n",
    "print(word_lengths)"
   ]
  },
  {
   "cell_type": "markdown",
   "id": "e65f8cf0",
   "metadata": {},
   "source": [
    "Using a list comprehension, we could simplify this process to this notation:"
   ]
  },
  {
   "cell_type": "code",
   "execution_count": 6,
   "id": "98d22960",
   "metadata": {},
   "outputs": [
    {
     "data": {
      "text/plain": [
       "[5, 5, 3, 5, 4, 4, 3]"
      ]
     },
     "execution_count": 6,
     "metadata": {},
     "output_type": "execute_result"
    }
   ],
   "source": [
    "####. Your Code here\n",
    "word_lenghts = [len(word) for word in words if word!=\"the\"]\n",
    "word_lenghts\n"
   ]
  },
  {
   "cell_type": "markdown",
   "id": "4c099be7",
   "metadata": {},
   "source": [
    "2. Using a list comprehension, create a new list called \"newlist\" out of the list \"numbers\", which contains only the positive numbers AND only odd numbers from the list, as integers."
   ]
  },
  {
   "cell_type": "code",
   "execution_count": 12,
   "id": "5e97aca7",
   "metadata": {},
   "outputs": [
    {
     "data": {
      "text/plain": [
       "['34.6', '44.9', '15', '7', '19']"
      ]
     },
     "execution_count": 12,
     "metadata": {},
     "output_type": "execute_result"
    }
   ],
   "source": [
    "numbers = [34.6, -203, 44.9, 68, -12, 44, 12, 15,7,19]\n",
    "\n",
    "##### Your code is here\n",
    "newlist = [str(number) for number in numbers if number>0 and number%2>0]\n",
    "newlist"
   ]
  },
  {
   "cell_type": "code",
   "execution_count": null,
   "id": "174c4fe8",
   "metadata": {},
   "outputs": [],
   "source": []
  }
 ],
 "metadata": {
  "kernelspec": {
   "display_name": "Python 3",
   "language": "python",
   "name": "python3"
  },
  "language_info": {
   "codemirror_mode": {
    "name": "ipython",
    "version": 3
   },
   "file_extension": ".py",
   "mimetype": "text/x-python",
   "name": "python",
   "nbconvert_exporter": "python",
   "pygments_lexer": "ipython3",
   "version": "3.9.6"
  }
 },
 "nbformat": 4,
 "nbformat_minor": 5
}
