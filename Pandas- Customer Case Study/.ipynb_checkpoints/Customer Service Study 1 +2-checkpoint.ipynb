{
 "cells": [
  {
   "cell_type": "markdown",
   "id": "fa8deb88",
   "metadata": {},
   "source": [
    "# Table of Content - Customer Service Study\n",
    "\n",
    "### [Lab case Study](#00)\n",
    "\n",
    "### [Pipeline df2](#0):\n",
    "1.  [Aggregate data into one Data Frame using Pandas.](#1)\n",
    "2. [Standardizing header names](#2)\n",
    "3. [Deleting and rearranging columns](#3)\n",
    "4. [Working with data types – Check the data types of all the columns](#4)\n",
    "5. [Filtering data and Correcting typos](#5)\n",
    "6. [Removing duplicates](#6)\n",
    "7. [Optional:Replacing null values](#7)\n",
    "8. [Bucketing the data](#8)\n",
    "9. [Standardizing the data](#9)\n",
    "10. [Which columns are numerical?](#10)\n",
    "11. [Which columns are categorical?](#11)\n",
    "12. [Check and deal with NaN values](#12)\n",
    "\n",
    "\n",
    "### [Pipeline df3](#15)\n",
    "1. [Datetime format ](#13)\n",
    "2. [BONUS: Put all the previously mentioned data transformations into a function/functions.](#14)\n",
    "3. [Show a plot of the total number of responses.](#16)\n",
    "4. [Show a plot of the response rate by the sales channel.](#17)\n",
    "5. [Show a plot of the response rate by the total claim amount.](#18)\n",
    "6. [Show a plot of the response rate by income.](#19)\n",
    "7. [Don't Limit your creativity!](#20)\n",
    "8. [Plot the Correlation Heatmap.](#21)\n",
    "9. [Clean your notebook ](#22)"
   ]
  },
  {
   "cell_type": "markdown",
   "id": "58f6ee8c",
   "metadata": {},
   "source": [
    "# Lab Case Study <a class=\"anchor\" id=\"00\"></a>\n",
    "\n",
    "### Scenario\n",
    "\n",
    "You are working as an analyst for an auto insurance company. The company has collected some data about its customers including their demographics, education, employment, policy details, vehicle information on which insurance policy is, and claim amounts. You will help the senior management with some business questions that will help them to better understand their customers, improve their services, and improve profitability.\n",
    "\n",
    "### Business Objectives\n",
    "\n",
    "- Retain customers,\n",
    "- analyze relevant customer data,\n",
    "- develop focused customer retention programs.\n",
    "\n",
    "Based on the analysis, take targeted actions to increase profitable customer response, retention, and growth.\n",
    "\n",
    "### Activities\n",
    "\n",
    "Refer to the `Activities.md` file where you will find guidelines for some of the activities that you want to do.\n",
    "\n",
    "### Data\n",
    "\n",
    "The csv files is provided in the folder. The columns in the file are self-explanatory."
   ]
  },
  {
   "cell_type": "markdown",
   "id": "9b6f44e8",
   "metadata": {},
   "source": [
    "----"
   ]
  },
  {
   "cell_type": "markdown",
   "id": "e509939a",
   "metadata": {},
   "source": [
    "# Pipeline  df 2 <a class=\"anchor\" id=\"0\"></a>\n",
    "cleaning and analysing file1.csv and file2.csv"
   ]
  },
  {
   "cell_type": "code",
   "execution_count": 106,
   "id": "2393aa47",
   "metadata": {},
   "outputs": [
    {
     "data": {
      "text/html": [
       "<div>\n",
       "<style scoped>\n",
       "    .dataframe tbody tr th:only-of-type {\n",
       "        vertical-align: middle;\n",
       "    }\n",
       "\n",
       "    .dataframe tbody tr th {\n",
       "        vertical-align: top;\n",
       "    }\n",
       "\n",
       "    .dataframe thead th {\n",
       "        text-align: right;\n",
       "    }\n",
       "</style>\n",
       "<table border=\"1\" class=\"dataframe\">\n",
       "  <thead>\n",
       "    <tr style=\"text-align: right;\">\n",
       "      <th></th>\n",
       "      <th>customer</th>\n",
       "      <th>st</th>\n",
       "      <th>gender</th>\n",
       "      <th>education</th>\n",
       "      <th>customer lifetime value</th>\n",
       "      <th>income</th>\n",
       "      <th>monthly premium auto</th>\n",
       "      <th>number of open complaints</th>\n",
       "      <th>policy type</th>\n",
       "      <th>vehicle class</th>\n",
       "      <th>total claim amount</th>\n",
       "    </tr>\n",
       "  </thead>\n",
       "  <tbody>\n",
       "    <tr>\n",
       "      <th>0</th>\n",
       "      <td>RB50392</td>\n",
       "      <td>Washington</td>\n",
       "      <td>NaN</td>\n",
       "      <td>Master</td>\n",
       "      <td>NaN</td>\n",
       "      <td>0.0</td>\n",
       "      <td>1000.0</td>\n",
       "      <td>1/0/00</td>\n",
       "      <td>Personal Auto</td>\n",
       "      <td>Four-Door Car</td>\n",
       "      <td>2.704934</td>\n",
       "    </tr>\n",
       "    <tr>\n",
       "      <th>1</th>\n",
       "      <td>QZ44356</td>\n",
       "      <td>Arizona</td>\n",
       "      <td>F</td>\n",
       "      <td>Bachelor</td>\n",
       "      <td>697953.59%</td>\n",
       "      <td>0.0</td>\n",
       "      <td>94.0</td>\n",
       "      <td>1/0/00</td>\n",
       "      <td>Personal Auto</td>\n",
       "      <td>Four-Door Car</td>\n",
       "      <td>1131.464935</td>\n",
       "    </tr>\n",
       "    <tr>\n",
       "      <th>2</th>\n",
       "      <td>AI49188</td>\n",
       "      <td>Nevada</td>\n",
       "      <td>F</td>\n",
       "      <td>Bachelor</td>\n",
       "      <td>1288743.17%</td>\n",
       "      <td>48767.0</td>\n",
       "      <td>108.0</td>\n",
       "      <td>1/0/00</td>\n",
       "      <td>Personal Auto</td>\n",
       "      <td>Two-Door Car</td>\n",
       "      <td>566.472247</td>\n",
       "    </tr>\n",
       "  </tbody>\n",
       "</table>\n",
       "</div>"
      ],
      "text/plain": [
       "  customer          st gender education customer lifetime value   income  \\\n",
       "0  RB50392  Washington    NaN    Master                     NaN      0.0   \n",
       "1  QZ44356     Arizona      F  Bachelor              697953.59%      0.0   \n",
       "2  AI49188      Nevada      F  Bachelor             1288743.17%  48767.0   \n",
       "\n",
       "   monthly premium auto number of open complaints    policy type  \\\n",
       "0                1000.0                    1/0/00  Personal Auto   \n",
       "1                  94.0                    1/0/00  Personal Auto   \n",
       "2                 108.0                    1/0/00  Personal Auto   \n",
       "\n",
       "   vehicle class  total claim amount  \n",
       "0  Four-Door Car            2.704934  \n",
       "1  Four-Door Car         1131.464935  \n",
       "2   Two-Door Car          566.472247  "
      ]
     },
     "execution_count": 106,
     "metadata": {},
     "output_type": "execute_result"
    }
   ],
   "source": [
    "# import libraries to use (pandas, numpy, matplotlib.pyplot and seaborn)\n",
    "import numpy as np\n",
    "import pandas as pd\n",
    "import matplotlib.pyplot as plt\n",
    "import seaborn as sns\n",
    "%matplotlib inline \n",
    "\n",
    "def load_data(path):\n",
    "    return pd.read_csv(path)\n",
    "\n",
    "def concat(df2):\n",
    "    df2=pd.concat([df,df1], ignore_index='TRUE')\n",
    "        \n",
    "df = load_data(path ='files/file1.csv')\n",
    "df1 = load_data(path ='files/file2.csv')\n",
    "\n",
    "def lower_case_column(df2):\n",
    "    df2.columns = [i.lower() for i in df2]\n",
    "    return df2\n",
    "\n",
    "df2 = pd.concat([df,df1], ignore_index='TRUE')\\\n",
    ".pipe(lower_case_column)\n",
    "#.pipe(rename_columns)\n",
    "\n",
    "df2.head(3)"
   ]
  },
  {
   "cell_type": "markdown",
   "id": "a6221aeb",
   "metadata": {},
   "source": [
    "## 1. Aggregate data into one Data Frame using Pandas. <a class=\"anchor\" id=\"1\"></a>"
   ]
  },
  {
   "cell_type": "code",
   "execution_count": 82,
   "id": "1f216c29",
   "metadata": {},
   "outputs": [],
   "source": [
    "\n",
    "\n",
    "df= pd.read_csv('files/file1.csv')\n",
    "df1=pd.read_csv('files/file2.csv')\n",
    "\n"
   ]
  },
  {
   "cell_type": "code",
   "execution_count": 263,
   "id": "fce90d7f",
   "metadata": {},
   "outputs": [],
   "source": [
    "#df"
   ]
  },
  {
   "cell_type": "code",
   "execution_count": 264,
   "id": "77ace539",
   "metadata": {},
   "outputs": [
    {
     "data": {
      "text/plain": [
       "True"
      ]
     },
     "execution_count": 264,
     "metadata": {},
     "output_type": "execute_result"
    }
   ],
   "source": [
    "set(df.columns) == set(df1.columns)"
   ]
  },
  {
   "cell_type": "code",
   "execution_count": 265,
   "id": "7b013629",
   "metadata": {},
   "outputs": [],
   "source": [
    "#concat or append can be used to combine both files\n",
    "#ignore_index='TRUE' is important, otherwhise the previous index will be used\n",
    "\n",
    "df2=pd.concat([df,df1], ignore_index='TRUE')"
   ]
  },
  {
   "cell_type": "code",
   "execution_count": 266,
   "id": "c9f97335",
   "metadata": {},
   "outputs": [],
   "source": [
    "#df2"
   ]
  },
  {
   "cell_type": "markdown",
   "id": "5cdd0400",
   "metadata": {},
   "source": [
    "## 2. Standardizing header names <a class=\"anchor\" id=\"2\"></a>\n",
    "\n"
   ]
  },
  {
   "cell_type": "code",
   "execution_count": 267,
   "id": "c5aecbf7",
   "metadata": {},
   "outputs": [
    {
     "data": {
      "text/plain": [
       "Index(['customer', 'st', 'gender', 'education', 'customer lifetime value',\n",
       "       'income', 'monthly premium auto', 'number of open complaints',\n",
       "       'policy type', 'vehicle class', 'total claim amount'],\n",
       "      dtype='object')"
      ]
     },
     "execution_count": 267,
     "metadata": {},
     "output_type": "execute_result"
    }
   ],
   "source": [
    "df2.columns = [i.lower() for i in df2.columns]\n",
    "df2.columns"
   ]
  },
  {
   "cell_type": "markdown",
   "id": "9f14200a",
   "metadata": {},
   "source": [
    "## 3. Deleting and rearranging columns \n",
    "delete the column customer as it is only a unique identifier for each row of data <a class=\"anchor\" id=\"3\"></a>"
   ]
  },
  {
   "cell_type": "code",
   "execution_count": 268,
   "id": "77a3c808",
   "metadata": {},
   "outputs": [],
   "source": [
    "#delete column 'customer'\n",
    "#df2 = df2.drop(columns = 'customer')"
   ]
  },
  {
   "cell_type": "code",
   "execution_count": 269,
   "id": "4dcea58a",
   "metadata": {},
   "outputs": [],
   "source": [
    "#df2"
   ]
  },
  {
   "cell_type": "markdown",
   "id": "2eb4d7a5",
   "metadata": {},
   "source": [
    "## 4. Working with data types\n",
    "Check the data types of all the columns and fix the incorrect ones (for ex. customer lifetime value and number of complaints ) <a class=\"anchor\" id=\"4\"></a>\n"
   ]
  },
  {
   "cell_type": "code",
   "execution_count": 270,
   "id": "b7581146",
   "metadata": {},
   "outputs": [
    {
     "data": {
      "text/plain": [
       "customer                      object\n",
       "st                            object\n",
       "gender                        object\n",
       "education                     object\n",
       "customer lifetime value       object\n",
       "income                       float64\n",
       "monthly premium auto         float64\n",
       "number of open complaints     object\n",
       "policy type                   object\n",
       "vehicle class                 object\n",
       "total claim amount           float64\n",
       "dtype: object"
      ]
     },
     "execution_count": 270,
     "metadata": {},
     "output_type": "execute_result"
    }
   ],
   "source": [
    "#Checking the data types of every column\n",
    "df2.dtypes"
   ]
  },
  {
   "cell_type": "code",
   "execution_count": 271,
   "id": "7534d51c",
   "metadata": {},
   "outputs": [
    {
     "name": "stdout",
     "output_type": "stream",
     "text": [
      "<class 'pandas.core.frame.DataFrame'>\n",
      "RangeIndex: 5004 entries, 0 to 5003\n",
      "Data columns (total 11 columns):\n",
      " #   Column                     Non-Null Count  Dtype  \n",
      "---  ------                     --------------  -----  \n",
      " 0   customer                   2067 non-null   object \n",
      " 1   st                         2067 non-null   object \n",
      " 2   gender                     1945 non-null   object \n",
      " 3   education                  2067 non-null   object \n",
      " 4   customer lifetime value    2060 non-null   object \n",
      " 5   income                     2067 non-null   float64\n",
      " 6   monthly premium auto       2067 non-null   float64\n",
      " 7   number of open complaints  2067 non-null   object \n",
      " 8   policy type                2067 non-null   object \n",
      " 9   vehicle class              2067 non-null   object \n",
      " 10  total claim amount         2067 non-null   float64\n",
      "dtypes: float64(3), object(8)\n",
      "memory usage: 430.2+ KB\n"
     ]
    }
   ],
   "source": [
    "df2.info()"
   ]
  },
  {
   "cell_type": "code",
   "execution_count": 272,
   "id": "97bfdb80",
   "metadata": {},
   "outputs": [],
   "source": [
    "#customer lifetime value should be a float and not a %\n",
    "\n",
    "def function(x):\n",
    "    x= str(x)\n",
    "\n",
    "    if x != \"nan\":\n",
    "        #all vales besides of the last % shall be a float number\n",
    "        y = x [:-1]\n",
    "        return float (y)\n",
    "    else:\n",
    "        return 0\n",
    "\n",
    "df2[\"customer lifetime value\"] = df2[\"customer lifetime value\"].apply(function)\n",
    "\n",
    "\n"
   ]
  },
  {
   "cell_type": "code",
   "execution_count": 273,
   "id": "67d8d191",
   "metadata": {},
   "outputs": [
    {
     "data": {
      "text/plain": [
       "1/0/00    1626\n",
       "1/1/00     247\n",
       "1/2/00      93\n",
       "1/3/00      60\n",
       "1/4/00      29\n",
       "1/5/00      12\n",
       "Name: number of open complaints, dtype: int64"
      ]
     },
     "execution_count": 273,
     "metadata": {},
     "output_type": "execute_result"
    }
   ],
   "source": [
    "# values of 'number of complaints'\n",
    "df2[\"number of open complaints\"].value_counts()\n",
    "\n"
   ]
  },
  {
   "cell_type": "code",
   "execution_count": 274,
   "id": "a63aec34",
   "metadata": {},
   "outputs": [],
   "source": [
    "#number of complaints should only disply the 3rd character\n",
    "def function2(x):\n",
    "    x= str(x)\n",
    "\n",
    "    if x != \"nan\":\n",
    "        #all vales besides of the last % shall be a float number\n",
    "        y = x[2]\n",
    "        return int(y)\n",
    "    else:\n",
    "        return 0\n",
    "\n",
    "df2[\"number of open complaints\"] = df2[\"number of open complaints\"].apply(function2)\n",
    "\n",
    "\n"
   ]
  },
  {
   "cell_type": "code",
   "execution_count": 275,
   "id": "e6a1d977",
   "metadata": {},
   "outputs": [
    {
     "data": {
      "text/plain": [
       "array([0, 2, 1, 3, 5, 4])"
      ]
     },
     "execution_count": 275,
     "metadata": {},
     "output_type": "execute_result"
    }
   ],
   "source": [
    "#check of the function\n",
    "df2[\"number of open complaints\"].unique()\n",
    "\n"
   ]
  },
  {
   "cell_type": "markdown",
   "id": "d630b970",
   "metadata": {},
   "source": [
    "## 5. Filtering data and Correcting typos \n",
    "Filter the data in state and gender column to standardize the texts in those columns <a class=\"anchor\" id=\"5\"></a>\n"
   ]
  },
  {
   "cell_type": "code",
   "execution_count": 276,
   "id": "0d92ba57",
   "metadata": {},
   "outputs": [
    {
     "data": {
      "text/plain": [
       "array(['Washington', 'Arizona', 'Nevada', 'California', 'Oregon', 'Cali',\n",
       "       'AZ', 'WA', nan], dtype=object)"
      ]
     },
     "execution_count": 276,
     "metadata": {},
     "output_type": "execute_result"
    }
   ],
   "source": [
    "#analyse the uniques in st\n",
    "df2.st.unique()\n"
   ]
  },
  {
   "cell_type": "code",
   "execution_count": 277,
   "id": "8aa6a935",
   "metadata": {},
   "outputs": [],
   "source": [
    "#cleaning the state names\n",
    "def st_clean(x):\n",
    "    if not x == x:\n",
    "    #then i know that x is = none\n",
    "        return x\n",
    "    else:\n",
    "        states= {'Arizona' : 'AZ', \n",
    "                 'California': 'CA',\n",
    "                 'Nevada' : 'NV', \n",
    "                 'Cali' :'CA,', \n",
    "                 'Oregon':'OR', \n",
    "                 'AZ' :'AZ', \n",
    "                 'WA':'WA',\n",
    "                 'Washington':'WA',\n",
    "                 'Cali':'CA'}\n",
    "        \n",
    "        return states[x]"
   ]
  },
  {
   "cell_type": "code",
   "execution_count": 278,
   "id": "cd585764",
   "metadata": {},
   "outputs": [],
   "source": [
    "#apply the function to the main df2\n",
    "df2[\"st\"] = df2[\"st\"].apply(st_clean)"
   ]
  },
  {
   "cell_type": "code",
   "execution_count": 279,
   "id": "770aa5fc",
   "metadata": {},
   "outputs": [
    {
     "data": {
      "text/plain": [
       "array([nan, 'F', 'M', 'Femal', 'Male', 'female'], dtype=object)"
      ]
     },
     "execution_count": 279,
     "metadata": {},
     "output_type": "execute_result"
    }
   ],
   "source": [
    "#analyse the uniques in gender\n",
    "df2.gender.unique()"
   ]
  },
  {
   "cell_type": "code",
   "execution_count": 280,
   "id": "b0ecdd41",
   "metadata": {},
   "outputs": [],
   "source": [
    "#cleaning the gender names\n",
    "def gender1_clean(x):\n",
    "    if not x == x:\n",
    "    #then i know that x is = none\n",
    "        return x\n",
    "    else:\n",
    "        g = {'F': 'F', \n",
    "                 'M' : 'M', \n",
    "                 'Femal': 'F',\n",
    "                 'Male' : 'M', \n",
    "                 'female' :'F'}\n",
    "        \n",
    "        return g[x]\n",
    "        \n",
    "\n",
    "\n",
    "\n"
   ]
  },
  {
   "cell_type": "code",
   "execution_count": 281,
   "id": "9c7ebc9d",
   "metadata": {},
   "outputs": [],
   "source": [
    "df2[\"gender\"] = df2[\"gender\"].apply(gender1_clean)"
   ]
  },
  {
   "cell_type": "code",
   "execution_count": 282,
   "id": "16b663d0",
   "metadata": {},
   "outputs": [
    {
     "data": {
      "text/plain": [
       "array([nan, 'F', 'M'], dtype=object)"
      ]
     },
     "execution_count": 282,
     "metadata": {},
     "output_type": "execute_result"
    }
   ],
   "source": [
    "df2.gender.unique()"
   ]
  },
  {
   "cell_type": "markdown",
   "id": "afd3e176",
   "metadata": {},
   "source": [
    "## 6. Removing duplicates <a class=\"anchor\" id=\"6\"></a>\n"
   ]
  },
  {
   "cell_type": "code",
   "execution_count": 283,
   "id": "3be067bf",
   "metadata": {},
   "outputs": [
    {
     "data": {
      "text/html": [
       "<div>\n",
       "<style scoped>\n",
       "    .dataframe tbody tr th:only-of-type {\n",
       "        vertical-align: middle;\n",
       "    }\n",
       "\n",
       "    .dataframe tbody tr th {\n",
       "        vertical-align: top;\n",
       "    }\n",
       "\n",
       "    .dataframe thead th {\n",
       "        text-align: right;\n",
       "    }\n",
       "</style>\n",
       "<table border=\"1\" class=\"dataframe\">\n",
       "  <thead>\n",
       "    <tr style=\"text-align: right;\">\n",
       "      <th></th>\n",
       "      <th>customer</th>\n",
       "      <th>st</th>\n",
       "      <th>gender</th>\n",
       "      <th>education</th>\n",
       "      <th>customer lifetime value</th>\n",
       "      <th>income</th>\n",
       "      <th>monthly premium auto</th>\n",
       "      <th>number of open complaints</th>\n",
       "      <th>policy type</th>\n",
       "      <th>vehicle class</th>\n",
       "      <th>total claim amount</th>\n",
       "    </tr>\n",
       "  </thead>\n",
       "  <tbody>\n",
       "    <tr>\n",
       "      <th>0</th>\n",
       "      <td>RB50392</td>\n",
       "      <td>WA</td>\n",
       "      <td>NaN</td>\n",
       "      <td>Master</td>\n",
       "      <td>0.00</td>\n",
       "      <td>0.0</td>\n",
       "      <td>1000.0</td>\n",
       "      <td>0</td>\n",
       "      <td>Personal Auto</td>\n",
       "      <td>Four-Door Car</td>\n",
       "      <td>2.704934</td>\n",
       "    </tr>\n",
       "    <tr>\n",
       "      <th>1</th>\n",
       "      <td>QZ44356</td>\n",
       "      <td>AZ</td>\n",
       "      <td>F</td>\n",
       "      <td>Bachelor</td>\n",
       "      <td>697953.59</td>\n",
       "      <td>0.0</td>\n",
       "      <td>94.0</td>\n",
       "      <td>0</td>\n",
       "      <td>Personal Auto</td>\n",
       "      <td>Four-Door Car</td>\n",
       "      <td>1131.464935</td>\n",
       "    </tr>\n",
       "    <tr>\n",
       "      <th>2</th>\n",
       "      <td>AI49188</td>\n",
       "      <td>NV</td>\n",
       "      <td>F</td>\n",
       "      <td>Bachelor</td>\n",
       "      <td>1288743.17</td>\n",
       "      <td>48767.0</td>\n",
       "      <td>108.0</td>\n",
       "      <td>0</td>\n",
       "      <td>Personal Auto</td>\n",
       "      <td>Two-Door Car</td>\n",
       "      <td>566.472247</td>\n",
       "    </tr>\n",
       "    <tr>\n",
       "      <th>3</th>\n",
       "      <td>WW63253</td>\n",
       "      <td>CA</td>\n",
       "      <td>M</td>\n",
       "      <td>Bachelor</td>\n",
       "      <td>764586.18</td>\n",
       "      <td>0.0</td>\n",
       "      <td>106.0</td>\n",
       "      <td>0</td>\n",
       "      <td>Corporate Auto</td>\n",
       "      <td>SUV</td>\n",
       "      <td>529.881344</td>\n",
       "    </tr>\n",
       "    <tr>\n",
       "      <th>4</th>\n",
       "      <td>GA49547</td>\n",
       "      <td>WA</td>\n",
       "      <td>M</td>\n",
       "      <td>High School or Below</td>\n",
       "      <td>536307.65</td>\n",
       "      <td>36357.0</td>\n",
       "      <td>68.0</td>\n",
       "      <td>0</td>\n",
       "      <td>Personal Auto</td>\n",
       "      <td>Four-Door Car</td>\n",
       "      <td>17.269323</td>\n",
       "    </tr>\n",
       "    <tr>\n",
       "      <th>...</th>\n",
       "      <td>...</td>\n",
       "      <td>...</td>\n",
       "      <td>...</td>\n",
       "      <td>...</td>\n",
       "      <td>...</td>\n",
       "      <td>...</td>\n",
       "      <td>...</td>\n",
       "      <td>...</td>\n",
       "      <td>...</td>\n",
       "      <td>...</td>\n",
       "      <td>...</td>\n",
       "    </tr>\n",
       "    <tr>\n",
       "      <th>4999</th>\n",
       "      <td>HV85198</td>\n",
       "      <td>AZ</td>\n",
       "      <td>M</td>\n",
       "      <td>Master</td>\n",
       "      <td>847141.75</td>\n",
       "      <td>63513.0</td>\n",
       "      <td>70.0</td>\n",
       "      <td>0</td>\n",
       "      <td>Personal Auto</td>\n",
       "      <td>Four-Door Car</td>\n",
       "      <td>185.667213</td>\n",
       "    </tr>\n",
       "    <tr>\n",
       "      <th>5000</th>\n",
       "      <td>BS91566</td>\n",
       "      <td>AZ</td>\n",
       "      <td>F</td>\n",
       "      <td>College</td>\n",
       "      <td>543121.91</td>\n",
       "      <td>58161.0</td>\n",
       "      <td>68.0</td>\n",
       "      <td>0</td>\n",
       "      <td>Corporate Auto</td>\n",
       "      <td>Four-Door Car</td>\n",
       "      <td>140.747286</td>\n",
       "    </tr>\n",
       "    <tr>\n",
       "      <th>5001</th>\n",
       "      <td>IL40123</td>\n",
       "      <td>NV</td>\n",
       "      <td>F</td>\n",
       "      <td>College</td>\n",
       "      <td>568964.41</td>\n",
       "      <td>83640.0</td>\n",
       "      <td>70.0</td>\n",
       "      <td>0</td>\n",
       "      <td>Corporate Auto</td>\n",
       "      <td>Two-Door Car</td>\n",
       "      <td>471.050488</td>\n",
       "    </tr>\n",
       "    <tr>\n",
       "      <th>5002</th>\n",
       "      <td>MY32149</td>\n",
       "      <td>CA</td>\n",
       "      <td>F</td>\n",
       "      <td>Master</td>\n",
       "      <td>368672.38</td>\n",
       "      <td>0.0</td>\n",
       "      <td>96.0</td>\n",
       "      <td>0</td>\n",
       "      <td>Personal Auto</td>\n",
       "      <td>Two-Door Car</td>\n",
       "      <td>28.460568</td>\n",
       "    </tr>\n",
       "    <tr>\n",
       "      <th>5003</th>\n",
       "      <td>SA91515</td>\n",
       "      <td>CA</td>\n",
       "      <td>M</td>\n",
       "      <td>Bachelor</td>\n",
       "      <td>399258.39</td>\n",
       "      <td>0.0</td>\n",
       "      <td>111.0</td>\n",
       "      <td>0</td>\n",
       "      <td>Personal Auto</td>\n",
       "      <td>SUV</td>\n",
       "      <td>700.349052</td>\n",
       "    </tr>\n",
       "  </tbody>\n",
       "</table>\n",
       "<p>2065 rows × 11 columns</p>\n",
       "</div>"
      ],
      "text/plain": [
       "     customer  st gender             education  customer lifetime value  \\\n",
       "0     RB50392  WA    NaN                Master                     0.00   \n",
       "1     QZ44356  AZ      F              Bachelor                697953.59   \n",
       "2     AI49188  NV      F              Bachelor               1288743.17   \n",
       "3     WW63253  CA      M              Bachelor                764586.18   \n",
       "4     GA49547  WA      M  High School or Below                536307.65   \n",
       "...       ...  ..    ...                   ...                      ...   \n",
       "4999  HV85198  AZ      M                Master                847141.75   \n",
       "5000  BS91566  AZ      F               College                543121.91   \n",
       "5001  IL40123  NV      F               College                568964.41   \n",
       "5002  MY32149  CA      F                Master                368672.38   \n",
       "5003  SA91515  CA      M              Bachelor                399258.39   \n",
       "\n",
       "       income  monthly premium auto  number of open complaints  \\\n",
       "0         0.0                1000.0                          0   \n",
       "1         0.0                  94.0                          0   \n",
       "2     48767.0                 108.0                          0   \n",
       "3         0.0                 106.0                          0   \n",
       "4     36357.0                  68.0                          0   \n",
       "...       ...                   ...                        ...   \n",
       "4999  63513.0                  70.0                          0   \n",
       "5000  58161.0                  68.0                          0   \n",
       "5001  83640.0                  70.0                          0   \n",
       "5002      0.0                  96.0                          0   \n",
       "5003      0.0                 111.0                          0   \n",
       "\n",
       "         policy type  vehicle class  total claim amount  \n",
       "0      Personal Auto  Four-Door Car            2.704934  \n",
       "1      Personal Auto  Four-Door Car         1131.464935  \n",
       "2      Personal Auto   Two-Door Car          566.472247  \n",
       "3     Corporate Auto            SUV          529.881344  \n",
       "4      Personal Auto  Four-Door Car           17.269323  \n",
       "...              ...            ...                 ...  \n",
       "4999   Personal Auto  Four-Door Car          185.667213  \n",
       "5000  Corporate Auto  Four-Door Car          140.747286  \n",
       "5001  Corporate Auto   Two-Door Car          471.050488  \n",
       "5002   Personal Auto   Two-Door Car           28.460568  \n",
       "5003   Personal Auto            SUV          700.349052  \n",
       "\n",
       "[2065 rows x 11 columns]"
      ]
     },
     "execution_count": 283,
     "metadata": {},
     "output_type": "execute_result"
    }
   ],
   "source": [
    "df2.drop_duplicates()"
   ]
  },
  {
   "cell_type": "code",
   "execution_count": 284,
   "id": "4156767b",
   "metadata": {},
   "outputs": [],
   "source": [
    "#index should be from 0 to 2055\n",
    "import numpy as np\n",
    "df2.index = np.arange(0,5004)"
   ]
  },
  {
   "cell_type": "code",
   "execution_count": 285,
   "id": "1b802668",
   "metadata": {},
   "outputs": [],
   "source": [
    "#df2"
   ]
  },
  {
   "cell_type": "markdown",
   "id": "fec7164d",
   "metadata": {},
   "source": [
    "## 7. Optional:Replacing null values \n",
    "Replace missing values with means of the column (for numerical columns) <a class=\"anchor\" id=\"7\"></a>"
   ]
  },
  {
   "cell_type": "code",
   "execution_count": 286,
   "id": "5b687f0d",
   "metadata": {},
   "outputs": [
    {
     "data": {
      "text/plain": [
       "Index(['customer', 'st', 'gender', 'education', 'customer lifetime value',\n",
       "       'income', 'monthly premium auto', 'number of open complaints',\n",
       "       'policy type', 'vehicle class', 'total claim amount'],\n",
       "      dtype='object')"
      ]
     },
     "execution_count": 286,
     "metadata": {},
     "output_type": "execute_result"
    }
   ],
   "source": [
    "df2.columns"
   ]
  },
  {
   "cell_type": "code",
   "execution_count": 287,
   "id": "977f6b91",
   "metadata": {},
   "outputs": [
    {
     "data": {
      "text/plain": [
       "321081.0141846531"
      ]
     },
     "execution_count": 287,
     "metadata": {},
     "output_type": "execute_result"
    }
   ],
   "source": [
    "df2[\"customer lifetime value\"].mean()"
   ]
  },
  {
   "cell_type": "code",
   "execution_count": 288,
   "id": "9e68ef13",
   "metadata": {},
   "outputs": [],
   "source": [
    "#replace empty fields with mean\n",
    "df2['customer lifetime value'].fillna(df2[\"customer lifetime value\"].mean(),inplace=True )"
   ]
  },
  {
   "cell_type": "code",
   "execution_count": 289,
   "id": "cc972676",
   "metadata": {},
   "outputs": [],
   "source": [
    "df2['income'].fillna(df2[\"income\"].mean(),inplace=True)"
   ]
  },
  {
   "cell_type": "code",
   "execution_count": 290,
   "id": "d58875c2",
   "metadata": {},
   "outputs": [],
   "source": [
    "df2['monthly premium auto'].fillna(df2[\"monthly premium auto\"].mean(),inplace=True)"
   ]
  },
  {
   "cell_type": "code",
   "execution_count": 291,
   "id": "4788eae8",
   "metadata": {},
   "outputs": [],
   "source": [
    "df2['total claim amount'].fillna(df2[\"total claim amount\"].mean(),inplace=True)"
   ]
  },
  {
   "cell_type": "code",
   "execution_count": 292,
   "id": "008d86e3",
   "metadata": {},
   "outputs": [],
   "source": [
    "df2['number of open complaints'].fillna(df2[\"number of open complaints\"].mean(),inplace=True)"
   ]
  },
  {
   "cell_type": "code",
   "execution_count": 293,
   "id": "32f20745",
   "metadata": {},
   "outputs": [],
   "source": [
    "# isn't working:\n",
    "#df2 = df2.applymap(lambda i: i.mean() if type(df2.columns) == float or  type(df2.columns)== int else i)"
   ]
  },
  {
   "cell_type": "code",
   "execution_count": 294,
   "id": "70a3ed1e",
   "metadata": {},
   "outputs": [
    {
     "data": {
      "text/plain": [
       "17744"
      ]
     },
     "execution_count": 294,
     "metadata": {},
     "output_type": "execute_result"
    }
   ],
   "source": [
    "df2.isnull().sum().sum()"
   ]
  },
  {
   "cell_type": "markdown",
   "id": "c6be8b9b",
   "metadata": {},
   "source": [
    "## 8. Bucketing the data \n",
    "Write a function to replace column \"State\" to different zones. California as West Region, Oregon as North West, and Washington as East, and Arizona and Nevada as Central <a class=\"anchor\" id=\"8\"></a>\n"
   ]
  },
  {
   "cell_type": "code",
   "execution_count": 295,
   "id": "3d21859d",
   "metadata": {},
   "outputs": [],
   "source": [
    "df2.st.unique()\n",
    "def st_region(x):\n",
    "    if not x == x:\n",
    "    #then i know that x is = none\n",
    "        return x\n",
    "    else:\n",
    "        region= {'AZ': 'Central', \n",
    "                  'CA': 'West',\n",
    "                 'NV': 'Central', \n",
    "                 'OR':'North West', \n",
    "                  'AZ':'Central', \n",
    "                 'WA':'East'}\n",
    "        \n",
    "        return region[x]\n",
    "    \n",
    "df2[\"st\"] = df2[\"st\"].apply(st_region)"
   ]
  },
  {
   "cell_type": "code",
   "execution_count": 296,
   "id": "298c08e5",
   "metadata": {},
   "outputs": [],
   "source": [
    "df2 = df2.rename(columns={'st': 'region'})"
   ]
  },
  {
   "cell_type": "markdown",
   "id": "4a8e7062",
   "metadata": {},
   "source": [
    "## 9. Standardizing the data \n",
    "Use string functions to standardize the text data (lower case) <a class=\"anchor\" id=\"9\"></a>"
   ]
  },
  {
   "cell_type": "code",
   "execution_count": 297,
   "id": "5b2af3d0",
   "metadata": {},
   "outputs": [],
   "source": [
    "df2 = df2.applymap(lambda i: i.lower() if type(i) == str else i)\n"
   ]
  },
  {
   "cell_type": "code",
   "execution_count": 298,
   "id": "c711f1da",
   "metadata": {},
   "outputs": [
    {
     "data": {
      "text/plain": [
       "'lambda x : x **2'"
      ]
     },
     "execution_count": 298,
     "metadata": {},
     "output_type": "execute_result"
    }
   ],
   "source": [
    "# of topic lambda\n",
    "def my_func(x):\n",
    "    return x **2\n",
    "#is like lambda but lambda cannot be called later (have no specific name), useful if you just need a function ones:\n",
    "'lambda x : x **2'"
   ]
  },
  {
   "cell_type": "markdown",
   "id": "d4c8638a",
   "metadata": {},
   "source": [
    "\n",
    "## 10. Which columns are numerical? <a class=\"anchor\" id=\"10\"></a>"
   ]
  },
  {
   "cell_type": "code",
   "execution_count": 299,
   "id": "f7d9227d",
   "metadata": {},
   "outputs": [
    {
     "data": {
      "text/plain": [
       "['customer lifetime value',\n",
       " 'income',\n",
       " 'monthly premium auto',\n",
       " 'number of open complaints',\n",
       " 'total claim amount']"
      ]
     },
     "execution_count": 299,
     "metadata": {},
     "output_type": "execute_result"
    }
   ],
   "source": [
    "df2_numerical= df2.select_dtypes(include=np.number).columns.tolist()\n",
    "df2_numerical"
   ]
  },
  {
   "cell_type": "markdown",
   "id": "49ec8f1e",
   "metadata": {},
   "source": [
    "## 11. Which columns are categorical? <a class=\"anchor\" id=\"11\"></a>"
   ]
  },
  {
   "cell_type": "code",
   "execution_count": 300,
   "id": "f793f6a3",
   "metadata": {},
   "outputs": [
    {
     "data": {
      "text/plain": [
       "['customer', 'region', 'gender', 'education', 'policy type', 'vehicle class']"
      ]
     },
     "execution_count": 300,
     "metadata": {},
     "output_type": "execute_result"
    }
   ],
   "source": [
    "df2_categorical = df2.select_dtypes(include=object).columns.tolist()\n",
    "df2_categorical"
   ]
  },
  {
   "cell_type": "markdown",
   "id": "532e56fd",
   "metadata": {},
   "source": [
    "\n",
    "## 12. Check and deal with NaN values. \n",
    "(Hint:Replacing null values – Replace missing values with means of the column (for numerical columns)). <a class=\"anchor\" id=\"12\"></a>"
   ]
  },
  {
   "cell_type": "code",
   "execution_count": 301,
   "id": "3317c076",
   "metadata": {},
   "outputs": [],
   "source": [
    "df2.fillna(0,inplace=True)"
   ]
  },
  {
   "cell_type": "code",
   "execution_count": 302,
   "id": "32a5926f",
   "metadata": {},
   "outputs": [
    {
     "data": {
      "text/plain": [
       "0"
      ]
     },
     "execution_count": 302,
     "metadata": {},
     "output_type": "execute_result"
    }
   ],
   "source": [
    "df2.isnull().sum().sum()"
   ]
  },
  {
   "cell_type": "markdown",
   "id": "8352b96c",
   "metadata": {},
   "source": [
    "## Pipline df3  <a class=\"anchor\" id=\"15\"></a>\n",
    "cleaning and analysing Data_Marketing_Customer_Analysis_Round2.csv"
   ]
  },
  {
   "cell_type": "markdown",
   "id": "92305335",
   "metadata": {},
   "source": [
    "## 1. Datetime format -\n",
    "Extract the months from the dataset and store in a separate column. Then filter the data to show only the information for the first quarter , ie. January, February and March. Hint: If data from March does not exist, consider only January and February. <a class=\"anchor\" id=\"13\"></a>"
   ]
  },
  {
   "cell_type": "code",
   "execution_count": 8,
   "id": "bed4b14e",
   "metadata": {},
   "outputs": [],
   "source": [
    "df3 = pd.read_csv(\"Data_Marketing_Customer_Analysis_Round2.csv\")\n",
    "\n",
    "\n",
    "df3['date']= pd.to_datetime(df3['Effective To Date'])"
   ]
  },
  {
   "cell_type": "code",
   "execution_count": 9,
   "id": "c4cf1330",
   "metadata": {},
   "outputs": [],
   "source": [
    "df3['date']=list(map(lambda date:date.strftime(format='%B'),df3['date']))"
   ]
  },
  {
   "cell_type": "code",
   "execution_count": 10,
   "id": "861821f5",
   "metadata": {},
   "outputs": [
    {
     "data": {
      "text/plain": [
       "array(['February', 'January'], dtype=object)"
      ]
     },
     "execution_count": 10,
     "metadata": {},
     "output_type": "execute_result"
    }
   ],
   "source": [
    "df3['date'].unique()\n",
    "#there is only data for the first quarter, so no filtering is needed\n"
   ]
  },
  {
   "cell_type": "markdown",
   "id": "8c99b307",
   "metadata": {},
   "source": [
    "## 2. BONUS: Put all the previously mentioned data transformations into a function/functions. <a class=\"anchor\" id=\"14\"></a>"
   ]
  },
  {
   "cell_type": "markdown",
   "id": "12348c74",
   "metadata": {},
   "source": [
    "### Putting cleaning activities into functions "
   ]
  },
  {
   "cell_type": "code",
   "execution_count": 16,
   "id": "dc653f0b",
   "metadata": {},
   "outputs": [],
   "source": [
    "def load_data(path):\n",
    "    return pd.read_csv(path)"
   ]
  },
  {
   "cell_type": "code",
   "execution_count": 11,
   "id": "f28b183f",
   "metadata": {},
   "outputs": [],
   "source": [
    "def lower_case_column(df3):\n",
    "    df3.columns = [i.lower() for i in df3]\n",
    "    return df3"
   ]
  },
  {
   "cell_type": "code",
   "execution_count": 308,
   "id": "150f0cef",
   "metadata": {},
   "outputs": [],
   "source": [
    "def rename_columns(df3):\n",
    "    df3.rename(columns={'state':'STATE'},inplace =True)\n",
    "    return df3"
   ]
  },
  {
   "cell_type": "markdown",
   "id": "0df3b912",
   "metadata": {},
   "source": [
    "### Pipeline control - to be put at the top to rerun (just comment the function you don't want to be runned)\n"
   ]
  },
  {
   "cell_type": "code",
   "execution_count": 17,
   "id": "56a12403",
   "metadata": {},
   "outputs": [],
   "source": [
    "df3 = load_data(path =\"Data_Marketing_Customer_Analysis_Round2.csv\")\\\n",
    ".pipe(lower_case_column)\n",
    "#.pipe(rename_columns)\n",
    "#..."
   ]
  },
  {
   "cell_type": "code",
   "execution_count": null,
   "id": "380c60b3",
   "metadata": {},
   "outputs": [],
   "source": [
    "#df3.to_csv(\".../cleaned_file.csv\")"
   ]
  },
  {
   "cell_type": "code",
   "execution_count": 19,
   "id": "8ee05fbf",
   "metadata": {},
   "outputs": [],
   "source": [
    "df3 = df3.applymap(lambda i: i.lower() if type(i) == str else i)"
   ]
  },
  {
   "cell_type": "markdown",
   "id": "d324c7c0",
   "metadata": {},
   "source": [
    "## 3. Show a plot of the total number of responses.<a class=\"anchor\" id=\"16\"></a>"
   ]
  },
  {
   "cell_type": "code",
   "execution_count": 230,
   "id": "a36b9543",
   "metadata": {},
   "outputs": [
    {
     "data": {
      "text/plain": [
       "No     8813\n",
       "Yes    1466\n",
       "Name: response, dtype: int64"
      ]
     },
     "execution_count": 230,
     "metadata": {},
     "output_type": "execute_result"
    }
   ],
   "source": [
    "response = df3['response'].value_counts()\n",
    "response"
   ]
  },
  {
   "cell_type": "code",
   "execution_count": 245,
   "id": "0a16b843",
   "metadata": {},
   "outputs": [
    {
     "data": {
      "text/plain": [
       "<AxesSubplot:title={'center':'Number of responses'}, ylabel='response'>"
      ]
     },
     "execution_count": 245,
     "metadata": {},
     "output_type": "execute_result"
    },
    {
     "data": {
      "image/png": "[encoded data removed]",
      "text/plain": [
       "<Figure size 432x288 with 1 Axes>"
      ]
     },
     "metadata": {
      "needs_background": "light"
     },
     "output_type": "display_data"
    }
   ],
   "source": [
    "# create figure and axes\n",
    "# subplots()\n",
    "fig1, ax1 = plt.subplots()\n",
    "# set title\n",
    "# set_title()\n",
    "ax1.set_title(\"Number of responses\")\n",
    "# plot the bar chart\n",
    "# bar()\n",
    "\n",
    "\n",
    "sns.barplot(x=response.index ,y =response)"
   ]
  },
  {
   "cell_type": "code",
   "execution_count": 332,
   "id": "66f37624",
   "metadata": {},
   "outputs": [
    {
     "data": {
      "text/html": [
       "<div>\n",
       "<style scoped>\n",
       "    .dataframe tbody tr th:only-of-type {\n",
       "        vertical-align: middle;\n",
       "    }\n",
       "\n",
       "    .dataframe tbody tr th {\n",
       "        vertical-align: top;\n",
       "    }\n",
       "\n",
       "    .dataframe thead th {\n",
       "        text-align: right;\n",
       "    }\n",
       "</style>\n",
       "<table border=\"1\" class=\"dataframe\">\n",
       "  <thead>\n",
       "    <tr style=\"text-align: right;\">\n",
       "      <th></th>\n",
       "      <th>unnamed: 0</th>\n",
       "      <th>customer</th>\n",
       "      <th>state</th>\n",
       "      <th>customer lifetime value</th>\n",
       "      <th>response</th>\n",
       "      <th>coverage</th>\n",
       "      <th>education</th>\n",
       "      <th>effective to date</th>\n",
       "      <th>employmentstatus</th>\n",
       "      <th>gender</th>\n",
       "      <th>...</th>\n",
       "      <th>number of open complaints</th>\n",
       "      <th>number of policies</th>\n",
       "      <th>policy type</th>\n",
       "      <th>policy</th>\n",
       "      <th>renew offer type</th>\n",
       "      <th>sales channel</th>\n",
       "      <th>total claim amount</th>\n",
       "      <th>vehicle class</th>\n",
       "      <th>vehicle size</th>\n",
       "      <th>vehicle type</th>\n",
       "    </tr>\n",
       "  </thead>\n",
       "  <tbody>\n",
       "    <tr>\n",
       "      <th>0</th>\n",
       "      <td>0</td>\n",
       "      <td>dk49336</td>\n",
       "      <td>arizona</td>\n",
       "      <td>4809.216960</td>\n",
       "      <td>no</td>\n",
       "      <td>basic</td>\n",
       "      <td>college</td>\n",
       "      <td>2/18/11</td>\n",
       "      <td>employed</td>\n",
       "      <td>m</td>\n",
       "      <td>...</td>\n",
       "      <td>0.0</td>\n",
       "      <td>9</td>\n",
       "      <td>corporate auto</td>\n",
       "      <td>corporate l3</td>\n",
       "      <td>offer3</td>\n",
       "      <td>agent</td>\n",
       "      <td>292.800000</td>\n",
       "      <td>four-door car</td>\n",
       "      <td>medsize</td>\n",
       "      <td>NaN</td>\n",
       "    </tr>\n",
       "    <tr>\n",
       "      <th>1</th>\n",
       "      <td>1</td>\n",
       "      <td>kx64629</td>\n",
       "      <td>california</td>\n",
       "      <td>2228.525238</td>\n",
       "      <td>no</td>\n",
       "      <td>basic</td>\n",
       "      <td>college</td>\n",
       "      <td>1/18/11</td>\n",
       "      <td>unemployed</td>\n",
       "      <td>f</td>\n",
       "      <td>...</td>\n",
       "      <td>0.0</td>\n",
       "      <td>1</td>\n",
       "      <td>personal auto</td>\n",
       "      <td>personal l3</td>\n",
       "      <td>offer4</td>\n",
       "      <td>call center</td>\n",
       "      <td>744.924331</td>\n",
       "      <td>four-door car</td>\n",
       "      <td>medsize</td>\n",
       "      <td>NaN</td>\n",
       "    </tr>\n",
       "    <tr>\n",
       "      <th>2</th>\n",
       "      <td>2</td>\n",
       "      <td>lz68649</td>\n",
       "      <td>washington</td>\n",
       "      <td>14947.917300</td>\n",
       "      <td>no</td>\n",
       "      <td>basic</td>\n",
       "      <td>bachelor</td>\n",
       "      <td>2/10/11</td>\n",
       "      <td>employed</td>\n",
       "      <td>m</td>\n",
       "      <td>...</td>\n",
       "      <td>0.0</td>\n",
       "      <td>2</td>\n",
       "      <td>personal auto</td>\n",
       "      <td>personal l3</td>\n",
       "      <td>offer3</td>\n",
       "      <td>call center</td>\n",
       "      <td>480.000000</td>\n",
       "      <td>suv</td>\n",
       "      <td>medsize</td>\n",
       "      <td>a</td>\n",
       "    </tr>\n",
       "  </tbody>\n",
       "</table>\n",
       "<p>3 rows × 26 columns</p>\n",
       "</div>"
      ],
      "text/plain": [
       "   unnamed: 0 customer       state  customer lifetime value response coverage  \\\n",
       "0           0  dk49336     arizona              4809.216960       no    basic   \n",
       "1           1  kx64629  california              2228.525238       no    basic   \n",
       "2           2  lz68649  washington             14947.917300       no    basic   \n",
       "\n",
       "  education effective to date employmentstatus gender  ...  \\\n",
       "0   college           2/18/11         employed      m  ...   \n",
       "1   college           1/18/11       unemployed      f  ...   \n",
       "2  bachelor           2/10/11         employed      m  ...   \n",
       "\n",
       "   number of open complaints number of policies     policy type        policy  \\\n",
       "0                        0.0                  9  corporate auto  corporate l3   \n",
       "1                        0.0                  1   personal auto   personal l3   \n",
       "2                        0.0                  2   personal auto   personal l3   \n",
       "\n",
       "   renew offer type  sales channel  total claim amount  vehicle class  \\\n",
       "0            offer3          agent          292.800000  four-door car   \n",
       "1            offer4    call center          744.924331  four-door car   \n",
       "2            offer3    call center          480.000000            suv   \n",
       "\n",
       "  vehicle size vehicle type  \n",
       "0      medsize          NaN  \n",
       "1      medsize          NaN  \n",
       "2      medsize            a  \n",
       "\n",
       "[3 rows x 26 columns]"
      ]
     },
     "execution_count": 332,
     "metadata": {},
     "output_type": "execute_result"
    }
   ],
   "source": [
    "df3.head(3)"
   ]
  },
  {
   "cell_type": "markdown",
   "id": "9599fb45",
   "metadata": {},
   "source": [
    "## 4. Show a plot of the response rate by the sales channel.<a class=\"anchor\" id=\"17\"></a>"
   ]
  },
  {
   "cell_type": "code",
   "execution_count": 20,
   "id": "ea0d5bef",
   "metadata": {},
   "outputs": [
    {
     "data": {
      "text/html": [
       "<div>\n",
       "<style scoped>\n",
       "    .dataframe tbody tr th:only-of-type {\n",
       "        vertical-align: middle;\n",
       "    }\n",
       "\n",
       "    .dataframe tbody tr th {\n",
       "        vertical-align: top;\n",
       "    }\n",
       "\n",
       "    .dataframe thead th {\n",
       "        text-align: right;\n",
       "    }\n",
       "</style>\n",
       "<table border=\"1\" class=\"dataframe\">\n",
       "  <thead>\n",
       "    <tr style=\"text-align: right;\">\n",
       "      <th></th>\n",
       "      <th>sales channel</th>\n",
       "      <th>response</th>\n",
       "      <th># of responses</th>\n",
       "    </tr>\n",
       "  </thead>\n",
       "  <tbody>\n",
       "    <tr>\n",
       "      <th>0</th>\n",
       "      <td>agent</td>\n",
       "      <td>no</td>\n",
       "      <td>3148</td>\n",
       "    </tr>\n",
       "    <tr>\n",
       "      <th>1</th>\n",
       "      <td>agent</td>\n",
       "      <td>yes</td>\n",
       "      <td>742</td>\n",
       "    </tr>\n",
       "    <tr>\n",
       "      <th>2</th>\n",
       "      <td>branch</td>\n",
       "      <td>no</td>\n",
       "      <td>2539</td>\n",
       "    </tr>\n",
       "    <tr>\n",
       "      <th>3</th>\n",
       "      <td>branch</td>\n",
       "      <td>yes</td>\n",
       "      <td>326</td>\n",
       "    </tr>\n",
       "    <tr>\n",
       "      <th>4</th>\n",
       "      <td>call center</td>\n",
       "      <td>no</td>\n",
       "      <td>1792</td>\n",
       "    </tr>\n",
       "    <tr>\n",
       "      <th>5</th>\n",
       "      <td>call center</td>\n",
       "      <td>yes</td>\n",
       "      <td>221</td>\n",
       "    </tr>\n",
       "    <tr>\n",
       "      <th>6</th>\n",
       "      <td>web</td>\n",
       "      <td>no</td>\n",
       "      <td>1334</td>\n",
       "    </tr>\n",
       "    <tr>\n",
       "      <th>7</th>\n",
       "      <td>web</td>\n",
       "      <td>yes</td>\n",
       "      <td>177</td>\n",
       "    </tr>\n",
       "  </tbody>\n",
       "</table>\n",
       "</div>"
      ],
      "text/plain": [
       "  sales channel response  # of responses\n",
       "0         agent       no            3148\n",
       "1         agent      yes             742\n",
       "2        branch       no            2539\n",
       "3        branch      yes             326\n",
       "4   call center       no            1792\n",
       "5   call center      yes             221\n",
       "6           web       no            1334\n",
       "7           web      yes             177"
      ]
     },
     "execution_count": 20,
     "metadata": {},
     "output_type": "execute_result"
    }
   ],
   "source": [
    "#size includes NaN values, count does not:\n",
    "response_channel = df3.groupby(['sales channel','response']).size().reset_index(name='# of responses')\n",
    "response_channel\n",
    "\n",
    "\n"
   ]
  },
  {
   "cell_type": "code",
   "execution_count": 362,
   "id": "b52c764c",
   "metadata": {},
   "outputs": [],
   "source": [
    "#sales_channel_count= df3['sales channel'].value_counts()\n",
    "#sales_channel_count"
   ]
  },
  {
   "cell_type": "code",
   "execution_count": 361,
   "id": "bdd5969a",
   "metadata": {},
   "outputs": [
    {
     "data": {
      "text/plain": [
       "<AxesSubplot:title={'center':'Response by channel'}, xlabel='response', ylabel='total'>"
      ]
     },
     "execution_count": 361,
     "metadata": {},
     "output_type": "execute_result"
    },
    {
     "data": {
      "image/png": "[encoded data removed]",
      "text/plain": [
       "<Figure size 432x288 with 1 Axes>"
      ]
     },
     "metadata": {},
     "output_type": "display_data"
    }
   ],
   "source": [
    "# Start with the usual matplotlib subplots() function\n",
    "fig2, ax2 = plt.subplots()\n",
    "\n",
    "# set the title using: set_title()\n",
    "ax2.set_title(\"Response by channel\")\n",
    "\n",
    "# uses seaborn barplot\n",
    "sns.barplot(x = response_channel['response'], y = response_channel['total'],hue = response_channel['sales channel'])\n"
   ]
  },
  {
   "cell_type": "code",
   "execution_count": null,
   "id": "bd5bbb5e",
   "metadata": {},
   "outputs": [],
   "source": []
  },
  {
   "cell_type": "markdown",
   "id": "21ac2c64",
   "metadata": {},
   "source": [
    "## 5. Show a plot of the response rate by the total claim amount.<a class=\"anchor\" id=\"18\"></a>"
   ]
  },
  {
   "cell_type": "code",
   "execution_count": 74,
   "id": "2042b084",
   "metadata": {},
   "outputs": [
    {
     "data": {
      "text/html": [
       "<div>\n",
       "<style scoped>\n",
       "    .dataframe tbody tr th:only-of-type {\n",
       "        vertical-align: middle;\n",
       "    }\n",
       "\n",
       "    .dataframe tbody tr th {\n",
       "        vertical-align: top;\n",
       "    }\n",
       "\n",
       "    .dataframe thead th {\n",
       "        text-align: right;\n",
       "    }\n",
       "</style>\n",
       "<table border=\"1\" class=\"dataframe\">\n",
       "  <thead>\n",
       "    <tr style=\"text-align: right;\">\n",
       "      <th></th>\n",
       "      <th>response</th>\n",
       "      <th>total claim amount</th>\n",
       "      <th># of respones</th>\n",
       "    </tr>\n",
       "  </thead>\n",
       "  <tbody>\n",
       "    <tr>\n",
       "      <th>0</th>\n",
       "      <td>no</td>\n",
       "      <td>0.099007</td>\n",
       "      <td>1</td>\n",
       "    </tr>\n",
       "    <tr>\n",
       "      <th>1</th>\n",
       "      <td>no</td>\n",
       "      <td>0.382107</td>\n",
       "      <td>2</td>\n",
       "    </tr>\n",
       "    <tr>\n",
       "      <th>2</th>\n",
       "      <td>no</td>\n",
       "      <td>0.423310</td>\n",
       "      <td>2</td>\n",
       "    </tr>\n",
       "    <tr>\n",
       "      <th>3</th>\n",
       "      <td>no</td>\n",
       "      <td>0.517753</td>\n",
       "      <td>1</td>\n",
       "    </tr>\n",
       "    <tr>\n",
       "      <th>4</th>\n",
       "      <td>no</td>\n",
       "      <td>0.769185</td>\n",
       "      <td>1</td>\n",
       "    </tr>\n",
       "    <tr>\n",
       "      <th>...</th>\n",
       "      <td>...</td>\n",
       "      <td>...</td>\n",
       "      <td>...</td>\n",
       "    </tr>\n",
       "    <tr>\n",
       "      <th>5161</th>\n",
       "      <td>yes</td>\n",
       "      <td>1261.319869</td>\n",
       "      <td>6</td>\n",
       "    </tr>\n",
       "    <tr>\n",
       "      <th>5162</th>\n",
       "      <td>yes</td>\n",
       "      <td>1294.700423</td>\n",
       "      <td>6</td>\n",
       "    </tr>\n",
       "    <tr>\n",
       "      <th>5163</th>\n",
       "      <td>yes</td>\n",
       "      <td>1300.800000</td>\n",
       "      <td>6</td>\n",
       "    </tr>\n",
       "    <tr>\n",
       "      <th>5164</th>\n",
       "      <td>yes</td>\n",
       "      <td>1324.800000</td>\n",
       "      <td>7</td>\n",
       "    </tr>\n",
       "    <tr>\n",
       "      <th>5165</th>\n",
       "      <td>yes</td>\n",
       "      <td>1358.400000</td>\n",
       "      <td>7</td>\n",
       "    </tr>\n",
       "  </tbody>\n",
       "</table>\n",
       "<p>5166 rows × 3 columns</p>\n",
       "</div>"
      ],
      "text/plain": [
       "     response  total claim amount  # of respones\n",
       "0          no            0.099007              1\n",
       "1          no            0.382107              2\n",
       "2          no            0.423310              2\n",
       "3          no            0.517753              1\n",
       "4          no            0.769185              1\n",
       "...       ...                 ...            ...\n",
       "5161      yes         1261.319869              6\n",
       "5162      yes         1294.700423              6\n",
       "5163      yes         1300.800000              6\n",
       "5164      yes         1324.800000              7\n",
       "5165      yes         1358.400000              7\n",
       "\n",
       "[5166 rows x 3 columns]"
      ]
     },
     "execution_count": 74,
     "metadata": {},
     "output_type": "execute_result"
    }
   ],
   "source": [
    "response_claim_amount = df3.groupby(['response','total claim amount']).size().reset_index(name='# of respones')\n",
    "response_claim_amount"
   ]
  },
  {
   "cell_type": "code",
   "execution_count": 78,
   "id": "a5a4a8f8",
   "metadata": {},
   "outputs": [],
   "source": [
    "#analysing the amount of yes / no /nan and putting them into seperate lists\n",
    "response_claim_amount_yes =[]\n",
    "response_claim_amount_no =[]\n",
    "response_claim_amount_nan =[]\n",
    "for i in df3.response:\n",
    "    if i == 'yes':\n",
    "        response_claim_amount_yes.append(i)\n",
    "    elif i == 'no':\n",
    "        response_claim_amount_no.append(i)\n",
    "    else:\n",
    "        response_claim_amount_nan.append(i) "
   ]
  },
  {
   "cell_type": "code",
   "execution_count": 79,
   "id": "4eaa3c86",
   "metadata": {},
   "outputs": [
    {
     "data": {
      "text/plain": [
       "0     NaN\n",
       "1     NaN\n",
       "2     NaN\n",
       "3     NaN\n",
       "4     NaN\n",
       "       ..\n",
       "626   NaN\n",
       "627   NaN\n",
       "628   NaN\n",
       "629   NaN\n",
       "630   NaN\n",
       "Length: 631, dtype: float64"
      ]
     },
     "execution_count": 79,
     "metadata": {},
     "output_type": "execute_result"
    }
   ],
   "source": [
    "# converting to a series\n",
    "# not yet working for the analysis as adding it to df3 would put all cells in that column as Nan\n",
    "response_claim_amount_nan = pd.Series(response_claim_amount_nan)\n",
    "response_claim_amount_nan\n"
   ]
  },
  {
   "cell_type": "code",
   "execution_count": 419,
   "id": "35f75d04",
   "metadata": {},
   "outputs": [
    {
     "data": {
      "image/png": "[encoded data removed]",
      "text/plain": [
       "<Figure size 720x360 with 1 Axes>"
      ]
     },
     "metadata": {},
     "output_type": "display_data"
    }
   ],
   "source": [
    "#not yet final as it doesn't differiate between no, yes and nan responses\n",
    "sns.set_style(\"whitegrid\")\n",
    "g = sns.lmplot(x='# of respones', y=\"total claim amount\",data=response_claim_amount, aspect=2)\n",
    "g = (g.set_axis_labels(\"# of responses\",\"total claim amount\").set(xlim=(0,120),ylim=(0,3500)))\n",
    "plt.title(\"response rate by the total claim amount.\")\n",
    "plt.show(g)"
   ]
  },
  {
   "cell_type": "code",
   "execution_count": 398,
   "id": "18b00739",
   "metadata": {},
   "outputs": [
    {
     "data": {
      "image/png": "[encoded data removed]",
      "text/plain": [
       "<Figure size 720x360 with 1 Axes>"
      ]
     },
     "metadata": {},
     "output_type": "display_data"
    }
   ],
   "source": [
    "#switching x and y axis\n",
    "sns.set_style(\"whitegrid\")\n",
    "g = sns.lmplot(x=\"total claim amount\", y='# of respones',data=response_claim_amount, aspect=2)\n",
    "g = (g.set_axis_labels(\"total claim amount\",\"# of responses\").set(xlim=(0,3500),ylim=(0,120)))\n",
    "plt.title(\"response rate by the total claim amount.\")\n",
    "plt.show(g)"
   ]
  },
  {
   "cell_type": "markdown",
   "id": "29b6e2cc",
   "metadata": {},
   "source": [
    "## 6. Show a plot of the response rate by income.<a class=\"anchor\" id=\"19\"></a>"
   ]
  },
  {
   "cell_type": "code",
   "execution_count": 399,
   "id": "665731a4",
   "metadata": {},
   "outputs": [
    {
     "data": {
      "text/html": [
       "<div>\n",
       "<style scoped>\n",
       "    .dataframe tbody tr th:only-of-type {\n",
       "        vertical-align: middle;\n",
       "    }\n",
       "\n",
       "    .dataframe tbody tr th {\n",
       "        vertical-align: top;\n",
       "    }\n",
       "\n",
       "    .dataframe thead th {\n",
       "        text-align: right;\n",
       "    }\n",
       "</style>\n",
       "<table border=\"1\" class=\"dataframe\">\n",
       "  <thead>\n",
       "    <tr style=\"text-align: right;\">\n",
       "      <th></th>\n",
       "      <th>response</th>\n",
       "      <th>income</th>\n",
       "      <th># of respones</th>\n",
       "    </tr>\n",
       "  </thead>\n",
       "  <tbody>\n",
       "    <tr>\n",
       "      <th>0</th>\n",
       "      <td>no</td>\n",
       "      <td>0</td>\n",
       "      <td>2392</td>\n",
       "    </tr>\n",
       "    <tr>\n",
       "      <th>1</th>\n",
       "      <td>no</td>\n",
       "      <td>10037</td>\n",
       "      <td>1</td>\n",
       "    </tr>\n",
       "    <tr>\n",
       "      <th>2</th>\n",
       "      <td>no</td>\n",
       "      <td>10074</td>\n",
       "      <td>1</td>\n",
       "    </tr>\n",
       "    <tr>\n",
       "      <th>3</th>\n",
       "      <td>no</td>\n",
       "      <td>10097</td>\n",
       "      <td>2</td>\n",
       "    </tr>\n",
       "    <tr>\n",
       "      <th>4</th>\n",
       "      <td>no</td>\n",
       "      <td>10105</td>\n",
       "      <td>1</td>\n",
       "    </tr>\n",
       "    <tr>\n",
       "      <th>...</th>\n",
       "      <td>...</td>\n",
       "      <td>...</td>\n",
       "      <td>...</td>\n",
       "    </tr>\n",
       "    <tr>\n",
       "      <th>5699</th>\n",
       "      <td>yes</td>\n",
       "      <td>95697</td>\n",
       "      <td>14</td>\n",
       "    </tr>\n",
       "    <tr>\n",
       "      <th>5700</th>\n",
       "      <td>yes</td>\n",
       "      <td>96306</td>\n",
       "      <td>6</td>\n",
       "    </tr>\n",
       "    <tr>\n",
       "      <th>5701</th>\n",
       "      <td>yes</td>\n",
       "      <td>97131</td>\n",
       "      <td>7</td>\n",
       "    </tr>\n",
       "    <tr>\n",
       "      <th>5702</th>\n",
       "      <td>yes</td>\n",
       "      <td>97361</td>\n",
       "      <td>6</td>\n",
       "    </tr>\n",
       "    <tr>\n",
       "      <th>5703</th>\n",
       "      <td>yes</td>\n",
       "      <td>99845</td>\n",
       "      <td>7</td>\n",
       "    </tr>\n",
       "  </tbody>\n",
       "</table>\n",
       "<p>5704 rows × 3 columns</p>\n",
       "</div>"
      ],
      "text/plain": [
       "     response  income  # of respones\n",
       "0          no       0           2392\n",
       "1          no   10037              1\n",
       "2          no   10074              1\n",
       "3          no   10097              2\n",
       "4          no   10105              1\n",
       "...       ...     ...            ...\n",
       "5699      yes   95697             14\n",
       "5700      yes   96306              6\n",
       "5701      yes   97131              7\n",
       "5702      yes   97361              6\n",
       "5703      yes   99845              7\n",
       "\n",
       "[5704 rows x 3 columns]"
      ]
     },
     "execution_count": 399,
     "metadata": {},
     "output_type": "execute_result"
    }
   ],
   "source": [
    "response_income = df3.groupby(['response','income']).size().reset_index(name='# of respones')\n",
    "response_income"
   ]
  },
  {
   "cell_type": "code",
   "execution_count": null,
   "id": "de2a1deb",
   "metadata": {},
   "outputs": [],
   "source": []
  },
  {
   "cell_type": "markdown",
   "id": "305f3ff7",
   "metadata": {},
   "source": [
    "5. Don't Limit your creativity!  plot Any interesting findings/insights that describe some interesting facts about your data set and its variables. Use the relevant plotting when you feel it is needed. <a class=\"anchor\" id=\"20\"></a>"
   ]
  },
  {
   "cell_type": "code",
   "execution_count": null,
   "id": "b2c09870",
   "metadata": {},
   "outputs": [],
   "source": []
  },
  {
   "cell_type": "markdown",
   "id": "e5c9fbdd",
   "metadata": {},
   "source": [
    "## 8. Plot the Correlation Heatmap. <a class=\"anchor\" id=\"21\"></a>"
   ]
  },
  {
   "cell_type": "code",
   "execution_count": null,
   "id": "680230fb",
   "metadata": {},
   "outputs": [],
   "source": []
  },
  {
   "cell_type": "markdown",
   "id": "76289b86",
   "metadata": {},
   "source": [
    "## 9. Clean your notebook and make it a readible and presentable with a good documentation that summarizes the Data Cleaning, Exploration(including plots) Steps that you have performed.<a class=\"anchor\" id=\"22\"></a>"
   ]
  },
  {
   "cell_type": "code",
   "execution_count": null,
   "id": "565c123a",
   "metadata": {},
   "outputs": [],
   "source": []
  }
 ],
 "metadata": {
  "kernelspec": {
   "display_name": "Python 3",
   "language": "python",
   "name": "python3"
  },
  "language_info": {
   "codemirror_mode": {
    "name": "ipython",
    "version": 3
   },
   "file_extension": ".py",
   "mimetype": "text/x-python",
   "name": "python",
   "nbconvert_exporter": "python",
   "pygments_lexer": "ipython3",
   "version": "3.9.6"
  }
 },
 "nbformat": 4,
 "nbformat_minor": 5
}
