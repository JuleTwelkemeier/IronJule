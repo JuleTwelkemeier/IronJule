{
 "cells": [
  {
   "cell_type": "markdown",
   "id": "c31ff798",
   "metadata": {},
   "source": [
    "# Lab | Logisitc Regression, Handling Imbalanced Data\n",
    "For this lab we will build a model on customer churn binary classification problem. You will be using Data/DATA_Customer-Churn.csv file.\n",
    "\n",
    "## Scenario\n",
    "You are working as an analyst with this internet service provider. You are provided with this historical data about your company's customers and their churn trends. Your task is to build a machine learning model that will help the company identify customers that are more likely to default/churn and thus prevent losses from such customers.\n",
    "\n",
    "## Instructions\n",
    "In this lab, we will first take a look at the degree of imbalance in the data and correct it using the techniques we learned on the class.\n",
    "\n",
    "Here is the list of steps to be followed (building a simple model without balancing the data):\n",
    "\n",
    "- Import the required libraries and modules that you would need.\n",
    "- Read that data into Python and call the dataframe churnData.\n",
    "- Check the datatypes of all the columns in the data. You would see that the column TotalCharges is object type. ----  - Convert this column into numeric type using pd.to_numeric function.\n",
    "- Check for null values in the dataframe. Replace the null values.\n",
    "- Use the following features: tenure, SeniorCitizen, MonthlyCharges and TotalCharges:\n",
    "    - Scale the features either by using normalizer or a standard scaler.\n",
    "    - Split the data into a training set and a test set.\n",
    "    - Fit a logistic regression model on the training data.\n",
    "    - Fit a Decision Tree Classifier on the training data.\n",
    "    - Bonus: apply K-fold cross validation on y ourt classifier. \n",
    "    - Check the accuracy on the test data."
   ]
  },
  {
   "cell_type": "code",
   "execution_count": 63,
   "id": "dbbdfaad",
   "metadata": {},
   "outputs": [],
   "source": [
    "# libaries\n",
    "import pandas as pd\n",
    "import numpy as np\n",
    "import matplotlib.pyplot as plt\n",
    "#from sklearn.tree import DecisionTreeRegressor\n",
    "#from sklearn.tree import DecisionTreeClassifier\n",
    "from sklearn.model_selection import train_test_split\n",
    "#from sklearn.tree import plot_tree\n",
    "from sklearn.preprocessing import StandardScaler\n",
    "%matplotlib inline\n",
    "import seaborn as sns\n",
    "from sklearn.linear_model import LogisticRegression\n",
    "from sklearn.metrics import classification_report\n",
    "from sklearn.metrics import accuracy_score, precision_score, recall_score, confusion_matrix\n",
    "from sklearn.metrics import plot_confusion_matrix\n",
    "pd.set_option('display.max_columns', None)\n",
    "from imblearn.over_sampling import SMOTE\n",
    "from imblearn.under_sampling import TomekLinks\n",
    "import warnings\n",
    "warnings.filterwarnings('ignore')\n",
    "from sklearn.tree import DecisionTreeClassifier\n",
    "from sklearn.tree import plot_tree\n",
    "from sklearn.metrics import mean_absolute_error, mean_squared_error, r2_score"
   ]
  },
  {
   "cell_type": "code",
   "execution_count": 72,
   "id": "20d6250f",
   "metadata": {},
   "outputs": [],
   "source": [
    "churnData = pd.read_csv(\"Data/DATA_Customer-Churn.csv\")"
   ]
  },
  {
   "cell_type": "code",
   "execution_count": 44,
   "id": "857fd21b",
   "metadata": {},
   "outputs": [
    {
     "data": {
      "text/html": [
       "<div>\n",
       "<style scoped>\n",
       "    .dataframe tbody tr th:only-of-type {\n",
       "        vertical-align: middle;\n",
       "    }\n",
       "\n",
       "    .dataframe tbody tr th {\n",
       "        vertical-align: top;\n",
       "    }\n",
       "\n",
       "    .dataframe thead th {\n",
       "        text-align: right;\n",
       "    }\n",
       "</style>\n",
       "<table border=\"1\" class=\"dataframe\">\n",
       "  <thead>\n",
       "    <tr style=\"text-align: right;\">\n",
       "      <th></th>\n",
       "      <th>gender</th>\n",
       "      <th>SeniorCitizen</th>\n",
       "      <th>Partner</th>\n",
       "      <th>Dependents</th>\n",
       "      <th>tenure</th>\n",
       "      <th>PhoneService</th>\n",
       "      <th>OnlineSecurity</th>\n",
       "      <th>OnlineBackup</th>\n",
       "      <th>DeviceProtection</th>\n",
       "      <th>TechSupport</th>\n",
       "      <th>StreamingTV</th>\n",
       "      <th>StreamingMovies</th>\n",
       "      <th>Contract</th>\n",
       "      <th>MonthlyCharges</th>\n",
       "      <th>TotalCharges</th>\n",
       "      <th>Churn</th>\n",
       "    </tr>\n",
       "  </thead>\n",
       "  <tbody>\n",
       "    <tr>\n",
       "      <th>0</th>\n",
       "      <td>Female</td>\n",
       "      <td>0</td>\n",
       "      <td>Yes</td>\n",
       "      <td>No</td>\n",
       "      <td>1</td>\n",
       "      <td>No</td>\n",
       "      <td>No</td>\n",
       "      <td>Yes</td>\n",
       "      <td>No</td>\n",
       "      <td>No</td>\n",
       "      <td>No</td>\n",
       "      <td>No</td>\n",
       "      <td>Month-to-month</td>\n",
       "      <td>29.85</td>\n",
       "      <td>29.85</td>\n",
       "      <td>No</td>\n",
       "    </tr>\n",
       "    <tr>\n",
       "      <th>1</th>\n",
       "      <td>Male</td>\n",
       "      <td>0</td>\n",
       "      <td>No</td>\n",
       "      <td>No</td>\n",
       "      <td>34</td>\n",
       "      <td>Yes</td>\n",
       "      <td>Yes</td>\n",
       "      <td>No</td>\n",
       "      <td>Yes</td>\n",
       "      <td>No</td>\n",
       "      <td>No</td>\n",
       "      <td>No</td>\n",
       "      <td>One year</td>\n",
       "      <td>56.95</td>\n",
       "      <td>1889.5</td>\n",
       "      <td>No</td>\n",
       "    </tr>\n",
       "  </tbody>\n",
       "</table>\n",
       "</div>"
      ],
      "text/plain": [
       "   gender  SeniorCitizen Partner Dependents  tenure PhoneService  \\\n",
       "0  Female              0     Yes         No       1           No   \n",
       "1    Male              0      No         No      34          Yes   \n",
       "\n",
       "  OnlineSecurity OnlineBackup DeviceProtection TechSupport StreamingTV  \\\n",
       "0             No          Yes               No          No          No   \n",
       "1            Yes           No              Yes          No          No   \n",
       "\n",
       "  StreamingMovies        Contract  MonthlyCharges TotalCharges Churn  \n",
       "0              No  Month-to-month           29.85        29.85    No  \n",
       "1              No        One year           56.95       1889.5    No  "
      ]
     },
     "execution_count": 44,
     "metadata": {},
     "output_type": "execute_result"
    }
   ],
   "source": [
    "churnData.head(2)"
   ]
  },
  {
   "cell_type": "code",
   "execution_count": 45,
   "id": "4c252d28",
   "metadata": {},
   "outputs": [
    {
     "data": {
      "text/plain": [
       "gender               object\n",
       "SeniorCitizen         int64\n",
       "Partner              object\n",
       "Dependents           object\n",
       "tenure                int64\n",
       "PhoneService         object\n",
       "OnlineSecurity       object\n",
       "OnlineBackup         object\n",
       "DeviceProtection     object\n",
       "TechSupport          object\n",
       "StreamingTV          object\n",
       "StreamingMovies      object\n",
       "Contract             object\n",
       "MonthlyCharges      float64\n",
       "TotalCharges         object\n",
       "Churn                object\n",
       "dtype: object"
      ]
     },
     "execution_count": 45,
     "metadata": {},
     "output_type": "execute_result"
    }
   ],
   "source": [
    "churnData.dtypes"
   ]
  },
  {
   "cell_type": "markdown",
   "id": "9310c9af",
   "metadata": {},
   "source": [
    "### Cleaning of column TotalCharges "
   ]
  },
  {
   "cell_type": "code",
   "execution_count": 75,
   "id": "cc76d872",
   "metadata": {},
   "outputs": [],
   "source": [
    "#TotalCharges is object type. Convert this column into numeric type using pd.to_numeric function.\n",
    "churnData.TotalCharges = pd.to_numeric(churnData.TotalCharges, errors=\"coerce\")"
   ]
  },
  {
   "cell_type": "code",
   "execution_count": 47,
   "id": "6a11b266",
   "metadata": {},
   "outputs": [
    {
     "data": {
      "text/plain": [
       "gender               object\n",
       "SeniorCitizen         int64\n",
       "Partner              object\n",
       "Dependents           object\n",
       "tenure                int64\n",
       "PhoneService         object\n",
       "OnlineSecurity       object\n",
       "OnlineBackup         object\n",
       "DeviceProtection     object\n",
       "TechSupport          object\n",
       "StreamingTV          object\n",
       "StreamingMovies      object\n",
       "Contract             object\n",
       "MonthlyCharges      float64\n",
       "TotalCharges        float64\n",
       "Churn                object\n",
       "dtype: object"
      ]
     },
     "execution_count": 47,
     "metadata": {},
     "output_type": "execute_result"
    }
   ],
   "source": [
    "churnData.dtypes"
   ]
  },
  {
   "cell_type": "code",
   "execution_count": 48,
   "id": "1410c7d5",
   "metadata": {},
   "outputs": [
    {
     "data": {
      "text/plain": [
       "gender               0\n",
       "SeniorCitizen        0\n",
       "Partner              0\n",
       "Dependents           0\n",
       "tenure               0\n",
       "PhoneService         0\n",
       "OnlineSecurity       0\n",
       "OnlineBackup         0\n",
       "DeviceProtection     0\n",
       "TechSupport          0\n",
       "StreamingTV          0\n",
       "StreamingMovies      0\n",
       "Contract             0\n",
       "MonthlyCharges       0\n",
       "TotalCharges        11\n",
       "Churn                0\n",
       "dtype: int64"
      ]
     },
     "execution_count": 48,
     "metadata": {},
     "output_type": "execute_result"
    }
   ],
   "source": [
    "#checking null values\n",
    "churnData.isnull().sum()"
   ]
  },
  {
   "cell_type": "code",
   "execution_count": 49,
   "id": "556d8338",
   "metadata": {},
   "outputs": [],
   "source": [
    "# replacing null values in TotalCharge with the mean\n",
    "churnData.TotalCharges.fillna(churnData.TotalCharges.mean(),inplace=True)"
   ]
  },
  {
   "cell_type": "code",
   "execution_count": 50,
   "id": "1fcc54db",
   "metadata": {},
   "outputs": [
    {
     "data": {
      "text/plain": [
       "0"
      ]
     },
     "execution_count": 50,
     "metadata": {},
     "output_type": "execute_result"
    }
   ],
   "source": [
    "churnData.TotalCharges.isnull().sum()"
   ]
  },
  {
   "cell_type": "markdown",
   "id": "c92c731d",
   "metadata": {},
   "source": [
    "### Modelling\n",
    "- Use the following features: tenure, SeniorCitizen, MonthlyCharges and TotalCharges:\n",
    "    - Scale the features either by using normalizer or a standard scaler.\n",
    "    - Split the data into a training set and a test set.\n",
    "    - Fit a logistic regression model on the training data.\n",
    "    - Check the accuracy on the test data."
   ]
  },
  {
   "cell_type": "code",
   "execution_count": 51,
   "id": "6315856d",
   "metadata": {},
   "outputs": [],
   "source": [
    "\n",
    "x_raw = churnData[[\"tenure\", \"SeniorCitizen\", \"MonthlyCharges\", \"TotalCharges\"]]\n",
    "# change Churn into numerical values\n",
    "churnData.Churn= churnData.Churn.replace(\"No\", 0).replace(\"Yes\", 1)\n",
    "y = churnData.Churn"
   ]
  },
  {
   "cell_type": "code",
   "execution_count": 52,
   "id": "20f1e0b8",
   "metadata": {},
   "outputs": [
    {
     "data": {
      "text/html": [
       "<div>\n",
       "<style scoped>\n",
       "    .dataframe tbody tr th:only-of-type {\n",
       "        vertical-align: middle;\n",
       "    }\n",
       "\n",
       "    .dataframe tbody tr th {\n",
       "        vertical-align: top;\n",
       "    }\n",
       "\n",
       "    .dataframe thead th {\n",
       "        text-align: right;\n",
       "    }\n",
       "</style>\n",
       "<table border=\"1\" class=\"dataframe\">\n",
       "  <thead>\n",
       "    <tr style=\"text-align: right;\">\n",
       "      <th></th>\n",
       "      <th>tenure</th>\n",
       "      <th>SeniorCitizen</th>\n",
       "      <th>MonthlyCharges</th>\n",
       "      <th>TotalCharges</th>\n",
       "    </tr>\n",
       "  </thead>\n",
       "  <tbody>\n",
       "    <tr>\n",
       "      <th>0</th>\n",
       "      <td>1</td>\n",
       "      <td>0</td>\n",
       "      <td>29.85</td>\n",
       "      <td>29.85</td>\n",
       "    </tr>\n",
       "    <tr>\n",
       "      <th>1</th>\n",
       "      <td>34</td>\n",
       "      <td>0</td>\n",
       "      <td>56.95</td>\n",
       "      <td>1889.50</td>\n",
       "    </tr>\n",
       "  </tbody>\n",
       "</table>\n",
       "</div>"
      ],
      "text/plain": [
       "   tenure  SeniorCitizen  MonthlyCharges  TotalCharges\n",
       "0       1              0           29.85         29.85\n",
       "1      34              0           56.95       1889.50"
      ]
     },
     "execution_count": 52,
     "metadata": {},
     "output_type": "execute_result"
    }
   ],
   "source": [
    "x_raw.head(2)"
   ]
  },
  {
   "cell_type": "code",
   "execution_count": 34,
   "id": "3bf63a8b",
   "metadata": {},
   "outputs": [],
   "source": [
    "#standardizing data\n",
    "\n",
    "scaler = StandardScaler()\n",
    "scaler.fit(x_raw) #z score \n",
    "x = scaler.transform(x_raw) #gives an array\n",
    "x = pd.DataFrame(x, columns = x_raw.columns) #transform it to a df\n",
    "\n",
    "   "
   ]
  },
  {
   "cell_type": "code",
   "execution_count": 35,
   "id": "a225cd1e",
   "metadata": {},
   "outputs": [
    {
     "data": {
      "text/html": [
       "<div>\n",
       "<style scoped>\n",
       "    .dataframe tbody tr th:only-of-type {\n",
       "        vertical-align: middle;\n",
       "    }\n",
       "\n",
       "    .dataframe tbody tr th {\n",
       "        vertical-align: top;\n",
       "    }\n",
       "\n",
       "    .dataframe thead th {\n",
       "        text-align: right;\n",
       "    }\n",
       "</style>\n",
       "<table border=\"1\" class=\"dataframe\">\n",
       "  <thead>\n",
       "    <tr style=\"text-align: right;\">\n",
       "      <th></th>\n",
       "      <th>tenure</th>\n",
       "      <th>SeniorCitizen</th>\n",
       "      <th>MonthlyCharges</th>\n",
       "      <th>TotalCharges</th>\n",
       "    </tr>\n",
       "  </thead>\n",
       "  <tbody>\n",
       "    <tr>\n",
       "      <th>0</th>\n",
       "      <td>-1.277445</td>\n",
       "      <td>-0.439916</td>\n",
       "      <td>-1.160323</td>\n",
       "      <td>-0.994971</td>\n",
       "    </tr>\n",
       "    <tr>\n",
       "      <th>1</th>\n",
       "      <td>0.066327</td>\n",
       "      <td>-0.439916</td>\n",
       "      <td>-0.259629</td>\n",
       "      <td>-0.173876</td>\n",
       "    </tr>\n",
       "    <tr>\n",
       "      <th>2</th>\n",
       "      <td>-1.236724</td>\n",
       "      <td>-0.439916</td>\n",
       "      <td>-0.362660</td>\n",
       "      <td>-0.960399</td>\n",
       "    </tr>\n",
       "    <tr>\n",
       "      <th>3</th>\n",
       "      <td>0.514251</td>\n",
       "      <td>-0.439916</td>\n",
       "      <td>-0.746535</td>\n",
       "      <td>-0.195400</td>\n",
       "    </tr>\n",
       "    <tr>\n",
       "      <th>4</th>\n",
       "      <td>-1.236724</td>\n",
       "      <td>-0.439916</td>\n",
       "      <td>0.197365</td>\n",
       "      <td>-0.941193</td>\n",
       "    </tr>\n",
       "    <tr>\n",
       "      <th>...</th>\n",
       "      <td>...</td>\n",
       "      <td>...</td>\n",
       "      <td>...</td>\n",
       "      <td>...</td>\n",
       "    </tr>\n",
       "    <tr>\n",
       "      <th>7038</th>\n",
       "      <td>-0.340876</td>\n",
       "      <td>-0.439916</td>\n",
       "      <td>0.665992</td>\n",
       "      <td>-0.129281</td>\n",
       "    </tr>\n",
       "    <tr>\n",
       "      <th>7039</th>\n",
       "      <td>1.613701</td>\n",
       "      <td>-0.439916</td>\n",
       "      <td>1.277533</td>\n",
       "      <td>2.242808</td>\n",
       "    </tr>\n",
       "    <tr>\n",
       "      <th>7040</th>\n",
       "      <td>-0.870241</td>\n",
       "      <td>-0.439916</td>\n",
       "      <td>-1.168632</td>\n",
       "      <td>-0.855182</td>\n",
       "    </tr>\n",
       "    <tr>\n",
       "      <th>7041</th>\n",
       "      <td>-1.155283</td>\n",
       "      <td>2.273159</td>\n",
       "      <td>0.320338</td>\n",
       "      <td>-0.872777</td>\n",
       "    </tr>\n",
       "    <tr>\n",
       "      <th>7042</th>\n",
       "      <td>1.369379</td>\n",
       "      <td>-0.439916</td>\n",
       "      <td>1.358961</td>\n",
       "      <td>2.013917</td>\n",
       "    </tr>\n",
       "  </tbody>\n",
       "</table>\n",
       "<p>7043 rows × 4 columns</p>\n",
       "</div>"
      ],
      "text/plain": [
       "        tenure  SeniorCitizen  MonthlyCharges  TotalCharges\n",
       "0    -1.277445      -0.439916       -1.160323     -0.994971\n",
       "1     0.066327      -0.439916       -0.259629     -0.173876\n",
       "2    -1.236724      -0.439916       -0.362660     -0.960399\n",
       "3     0.514251      -0.439916       -0.746535     -0.195400\n",
       "4    -1.236724      -0.439916        0.197365     -0.941193\n",
       "...        ...            ...             ...           ...\n",
       "7038 -0.340876      -0.439916        0.665992     -0.129281\n",
       "7039  1.613701      -0.439916        1.277533      2.242808\n",
       "7040 -0.870241      -0.439916       -1.168632     -0.855182\n",
       "7041 -1.155283       2.273159        0.320338     -0.872777\n",
       "7042  1.369379      -0.439916        1.358961      2.013917\n",
       "\n",
       "[7043 rows x 4 columns]"
      ]
     },
     "execution_count": 35,
     "metadata": {},
     "output_type": "execute_result"
    }
   ],
   "source": [
    "x"
   ]
  },
  {
   "cell_type": "code",
   "execution_count": 36,
   "id": "702c3655",
   "metadata": {},
   "outputs": [],
   "source": [
    "\n",
    "# test_train _split\n",
    "x_train, x_test, y_train, y_test = train_test_split(x, y, test_size=0.3, random_state = 10)\n",
    "\n",
    "model = LogisticRegression(random_state=0)\n",
    "model.fit(x_train, y_train)\n",
    "        \n",
    "predicted_y = model.predict(x_test)\n",
    "predicted_y_train = model.predict(x_train)"
   ]
  },
  {
   "cell_type": "code",
   "execution_count": 37,
   "id": "ca820b6a",
   "metadata": {},
   "outputs": [
    {
     "data": {
      "text/plain": [
       "0.7903454803596782"
      ]
     },
     "execution_count": 37,
     "metadata": {},
     "output_type": "execute_result"
    }
   ],
   "source": [
    "model.score(x_test, y_test)"
   ]
  },
  {
   "cell_type": "code",
   "execution_count": 38,
   "id": "97f25239",
   "metadata": {},
   "outputs": [],
   "source": [
    "#classification_report(y_test, predicted_y)"
   ]
  },
  {
   "cell_type": "code",
   "execution_count": 39,
   "id": "abfbd406",
   "metadata": {},
   "outputs": [],
   "source": [
    "def performance_log(y_test, predicted_y):\n",
    "    return pd.DataFrame({'Error_metric': ['Accuracy','Precision','Recall'],\n",
    "                               'Test': [accuracy_score(y_test, predicted_y),\n",
    "                                        precision_score(y_test, predicted_y,pos_label=1),\n",
    "                                        recall_score(y_test, predicted_y,pos_label=1)]})"
   ]
  },
  {
   "cell_type": "code",
   "execution_count": 40,
   "id": "c56b1d22",
   "metadata": {},
   "outputs": [
    {
     "data": {
      "text/html": [
       "<div>\n",
       "<style scoped>\n",
       "    .dataframe tbody tr th:only-of-type {\n",
       "        vertical-align: middle;\n",
       "    }\n",
       "\n",
       "    .dataframe tbody tr th {\n",
       "        vertical-align: top;\n",
       "    }\n",
       "\n",
       "    .dataframe thead th {\n",
       "        text-align: right;\n",
       "    }\n",
       "</style>\n",
       "<table border=\"1\" class=\"dataframe\">\n",
       "  <thead>\n",
       "    <tr style=\"text-align: right;\">\n",
       "      <th></th>\n",
       "      <th>Error_metric</th>\n",
       "      <th>Test</th>\n",
       "    </tr>\n",
       "  </thead>\n",
       "  <tbody>\n",
       "    <tr>\n",
       "      <th>0</th>\n",
       "      <td>Accuracy</td>\n",
       "      <td>0.790345</td>\n",
       "    </tr>\n",
       "    <tr>\n",
       "      <th>1</th>\n",
       "      <td>Precision</td>\n",
       "      <td>0.643216</td>\n",
       "    </tr>\n",
       "    <tr>\n",
       "      <th>2</th>\n",
       "      <td>Recall</td>\n",
       "      <td>0.459605</td>\n",
       "    </tr>\n",
       "  </tbody>\n",
       "</table>\n",
       "</div>"
      ],
      "text/plain": [
       "  Error_metric      Test\n",
       "0     Accuracy  0.790345\n",
       "1    Precision  0.643216\n",
       "2       Recall  0.459605"
      ]
     },
     "execution_count": 40,
     "metadata": {},
     "output_type": "execute_result"
    }
   ],
   "source": [
    "performance_log(y_test, predicted_y)"
   ]
  },
  {
   "cell_type": "code",
   "execution_count": 41,
   "id": "723d6c2e",
   "metadata": {},
   "outputs": [
    {
     "name": "stdout",
     "output_type": "stream",
     "text": [
      "Confusion matrix for the train set\n",
      "[[3295  323]\n",
      " [ 714  598]]\n"
     ]
    },
    {
     "data": {
      "image/png": "[encoded data removed]",
      "text/plain": [
       "<Figure size 432x288 with 2 Axes>"
      ]
     },
     "metadata": {
      "needs_background": "light"
     },
     "output_type": "display_data"
    },
    {
     "name": "stdout",
     "output_type": "stream",
     "text": [
      "\n",
      "\n",
      "Confusion matrix for the test set\n",
      "[[1414  142]\n",
      " [ 301  256]]\n"
     ]
    },
    {
     "data": {
      "image/png": "[encoded data removed]",
      "text/plain": [
       "<Figure size 432x288 with 2 Axes>"
      ]
     },
     "metadata": {
      "needs_background": "light"
     },
     "output_type": "display_data"
    }
   ],
   "source": [
    "#do a function \n",
    "\n",
    "print(\"Confusion matrix for the train set\")\n",
    "print(confusion_matrix(y_train,predicted_y_train))\n",
    "plot_confusion_matrix(model,x_train,y_train, values_format = 'd')\n",
    "plt.show()\n",
    "\n",
    "print()\n",
    "print()\n",
    "\n",
    "print(\"Confusion matrix for the test set\")\n",
    "print(confusion_matrix(y_test, predicted_y))\n",
    "plot_confusion_matrix(model,x_test,y_test, values_format = 'd')\n",
    "plt.show()"
   ]
  },
  {
   "cell_type": "markdown",
   "id": "7456ecad",
   "metadata": {},
   "source": [
    "### Fit a Decision Tree Classifier on the training data."
   ]
  },
  {
   "cell_type": "code",
   "execution_count": 85,
   "id": "40646fef",
   "metadata": {},
   "outputs": [],
   "source": [
    "churnData = pd.read_csv(\"Data/DATA_Customer-Churn.csv\")\n",
    "churnData.TotalCharges = pd.to_numeric(churnData.TotalCharges, errors=\"coerce\")\n",
    "churnData.TotalCharges.fillna(churnData.TotalCharges.mean(),inplace=True)\n",
    "x = churnData[[\"tenure\", \"SeniorCitizen\", \"MonthlyCharges\", \"TotalCharges\"]]\n",
    "# change Churn into numerical values\n",
    "churnData.Churn= churnData.Churn.replace(\"No\", 0).replace(\"Yes\", 1)\n",
    "y = churnData.Churn"
   ]
  },
  {
   "cell_type": "code",
   "execution_count": 86,
   "id": "03d45605",
   "metadata": {},
   "outputs": [],
   "source": [
    "# test_train _split\n",
    "x_train, x_test, y_train, y_test = train_test_split(x, y, test_size=0.3, random_state = 10)\n",
    "\n",
    "model = DecisionTreeClassifier(max_depth=3)\n",
    "\n",
    "# scaling not needed because I'm using a decision tree\n",
    "\n",
    "\n",
    "model.fit(x_train, y_train)\n",
    "\n",
    "y_pred_train = model.predict(x_train)\n",
    "y_pred_test  = model.predict(x_test)"
   ]
  },
  {
   "cell_type": "code",
   "execution_count": 87,
   "id": "e631181f",
   "metadata": {},
   "outputs": [],
   "source": [
    "\n",
    "\n",
    "def performance_model(y_train, y_test, y_pred_train, y_pred_test):\n",
    "\n",
    "    # Model validation y_train - y_pred_train\n",
    "    ME_train = np.mean(y_train-y_pred_train)\n",
    "    ME_test  = np.mean(y_test-y_pred_test)\n",
    "\n",
    "    MAE_train = mean_absolute_error(y_train,y_pred_train)\n",
    "    MAE_test  = mean_absolute_error(y_test,y_pred_test)\n",
    "\n",
    "    MSE_train = mean_squared_error(y_train,y_pred_train)\n",
    "    MSE_test  = mean_squared_error(y_test,y_pred_test)\n",
    "\n",
    "    RMSE_train = np.sqrt(MSE_train)\n",
    "    RMSE_test  = np.sqrt(MSE_test)\n",
    "\n",
    "    MAPE_train = np.mean((np.abs(y_train-y_pred_train) / y_train)* 100.)\n",
    "    MAPE_test  = np.mean((np.abs(y_test-y_pred_test) / y_test)* 100.)\n",
    "\n",
    "    R2_train = r2_score(y_train,y_pred_train)\n",
    "    R2_test  = r2_score(y_test,y_pred_test)\n",
    "\n",
    "    performance = pd.DataFrame({'Error_metric': ['Mean error','Mean absolute error','Mean squared error',\n",
    "                                             'Root mean squared error','Mean absolute percentual error',\n",
    "                                             'R2'],\n",
    "                            'Train': [ME_train, MAE_train, MSE_train, RMSE_train, MAPE_train, R2_train],\n",
    "                            'Test' : [ME_test, MAE_test , MSE_test, RMSE_test, MAPE_test, R2_test]})\n",
    "\n",
    "    pd.options.display.float_format = '{:.2f}'.format\n",
    "\n",
    "\n",
    "    df_train = pd.DataFrame({'Real_value': y_train, 'Predicted_value': y_pred_train})\n",
    "    df_test  = pd.DataFrame({'Real_value': y_test,  'PRedicted_value': y_pred_test})\n",
    "\n",
    "    return performance, df_train, df_test"
   ]
  },
  {
   "cell_type": "code",
   "execution_count": 88,
   "id": "2e193e91",
   "metadata": {},
   "outputs": [
    {
     "data": {
      "text/html": [
       "<div>\n",
       "<style scoped>\n",
       "    .dataframe tbody tr th:only-of-type {\n",
       "        vertical-align: middle;\n",
       "    }\n",
       "\n",
       "    .dataframe tbody tr th {\n",
       "        vertical-align: top;\n",
       "    }\n",
       "\n",
       "    .dataframe thead th {\n",
       "        text-align: right;\n",
       "    }\n",
       "</style>\n",
       "<table border=\"1\" class=\"dataframe\">\n",
       "  <thead>\n",
       "    <tr style=\"text-align: right;\">\n",
       "      <th></th>\n",
       "      <th>Error_metric</th>\n",
       "      <th>Train</th>\n",
       "      <th>Test</th>\n",
       "    </tr>\n",
       "  </thead>\n",
       "  <tbody>\n",
       "    <tr>\n",
       "      <th>0</th>\n",
       "      <td>Mean error</td>\n",
       "      <td>0.14</td>\n",
       "      <td>0.14</td>\n",
       "    </tr>\n",
       "    <tr>\n",
       "      <th>1</th>\n",
       "      <td>Mean absolute error</td>\n",
       "      <td>0.22</td>\n",
       "      <td>0.22</td>\n",
       "    </tr>\n",
       "    <tr>\n",
       "      <th>2</th>\n",
       "      <td>Mean squared error</td>\n",
       "      <td>0.22</td>\n",
       "      <td>0.22</td>\n",
       "    </tr>\n",
       "    <tr>\n",
       "      <th>3</th>\n",
       "      <td>Root mean squared error</td>\n",
       "      <td>0.46</td>\n",
       "      <td>0.47</td>\n",
       "    </tr>\n",
       "    <tr>\n",
       "      <th>4</th>\n",
       "      <td>Mean absolute percentual error</td>\n",
       "      <td>inf</td>\n",
       "      <td>inf</td>\n",
       "    </tr>\n",
       "    <tr>\n",
       "      <th>5</th>\n",
       "      <td>R2</td>\n",
       "      <td>-0.10</td>\n",
       "      <td>-0.15</td>\n",
       "    </tr>\n",
       "  </tbody>\n",
       "</table>\n",
       "</div>"
      ],
      "text/plain": [
       "                     Error_metric  Train  Test\n",
       "0                      Mean error   0.14  0.14\n",
       "1             Mean absolute error   0.22  0.22\n",
       "2              Mean squared error   0.22  0.22\n",
       "3         Root mean squared error   0.46  0.47\n",
       "4  Mean absolute percentual error    inf   inf\n",
       "5                              R2  -0.10 -0.15"
      ]
     },
     "execution_count": 88,
     "metadata": {},
     "output_type": "execute_result"
    }
   ],
   "source": [
    "performance, _ ,_ = performance_model(y_train, y_test, y_pred_train, y_pred_test)\n",
    "performance"
   ]
  },
  {
   "cell_type": "code",
   "execution_count": 98,
   "id": "21bb498e",
   "metadata": {},
   "outputs": [
    {
     "data": {
      "text/html": [
       "<div>\n",
       "<style scoped>\n",
       "    .dataframe tbody tr th:only-of-type {\n",
       "        vertical-align: middle;\n",
       "    }\n",
       "\n",
       "    .dataframe tbody tr th {\n",
       "        vertical-align: top;\n",
       "    }\n",
       "\n",
       "    .dataframe thead th {\n",
       "        text-align: right;\n",
       "    }\n",
       "</style>\n",
       "<table border=\"1\" class=\"dataframe\">\n",
       "  <thead>\n",
       "    <tr style=\"text-align: right;\">\n",
       "      <th></th>\n",
       "      <th>Error_metric</th>\n",
       "      <th>Test</th>\n",
       "    </tr>\n",
       "  </thead>\n",
       "  <tbody>\n",
       "    <tr>\n",
       "      <th>0</th>\n",
       "      <td>Accuracy</td>\n",
       "      <td>0.78</td>\n",
       "    </tr>\n",
       "    <tr>\n",
       "      <th>1</th>\n",
       "      <td>Precision</td>\n",
       "      <td>0.67</td>\n",
       "    </tr>\n",
       "    <tr>\n",
       "      <th>2</th>\n",
       "      <td>Recall</td>\n",
       "      <td>0.31</td>\n",
       "    </tr>\n",
       "  </tbody>\n",
       "</table>\n",
       "</div>"
      ],
      "text/plain": [
       "  Error_metric  Test\n",
       "0     Accuracy  0.78\n",
       "1    Precision  0.67\n",
       "2       Recall  0.31"
      ]
     },
     "execution_count": 98,
     "metadata": {},
     "output_type": "execute_result"
    }
   ],
   "source": [
    "#accurancy\n",
    "performance_log(y_test, y_pred_test)"
   ]
  },
  {
   "cell_type": "markdown",
   "id": "ccc3aa71",
   "metadata": {},
   "source": [
    "#### Viszualizing the Decision Tree"
   ]
  },
  {
   "cell_type": "code",
   "execution_count": 89,
   "id": "68ef0378",
   "metadata": {},
   "outputs": [
    {
     "data": {
      "image/png": "[encoded data removed]",
      "text/plain": [
       "<Figure size 1200x1200 with 1 Axes>"
      ]
     },
     "metadata": {
      "needs_background": "light"
     },
     "output_type": "display_data"
    }
   ],
   "source": [
    "fig, axes = plt.subplots(nrows = 1,ncols = 1,figsize = (4,4), dpi=300)\n",
    "\n",
    "plot_tree(model,filled = True, rounded=True)\n",
    "plt.show() "
   ]
  },
  {
   "cell_type": "code",
   "execution_count": 97,
   "id": "6e614b84",
   "metadata": {},
   "outputs": [
    {
     "data": {
      "text/plain": [
       "0    3618\n",
       "1    1312\n",
       "Name: Churn, dtype: int64"
      ]
     },
     "execution_count": 97,
     "metadata": {},
     "output_type": "execute_result"
    }
   ],
   "source": [
    "y_train.value_counts()\n"
   ]
  },
  {
   "cell_type": "markdown",
   "id": "dbcf013b",
   "metadata": {},
   "source": [
    "First number of the value 0 = No (no churn) and second number of the value 1 = Yes (churn)\n",
    "\n",
    "Feature importance according to the Tree:\n",
    "1. \"tenure\"= 0\n",
    "2. \"MonthlyCharges\" = 1\n",
    "3. \"TotalCharges\" = 2\n",
    "4. \"SeniorCitizen\" = 3 --> not important"
   ]
  },
  {
   "cell_type": "markdown",
   "id": "7839b04b",
   "metadata": {},
   "source": [
    "### Bonus: apply K-fold cross validation on y ourt classifier. "
   ]
  },
  {
   "cell_type": "code",
   "execution_count": 122,
   "id": "9616551a",
   "metadata": {},
   "outputs": [],
   "source": [
    "from sklearn.model_selection import KFold\n",
    "from sklearn.model_selection import RepeatedKFold\n",
    "from sklearn.model_selection import cross_val_score\n",
    "\n",
    "from scipy.stats import sem\n",
    "from numpy import mean\n",
    "from numpy import std\n",
    "from sklearn.datasets import make_classification\n",
    "from matplotlib import pyplot\n",
    "\n"
   ]
  },
  {
   "cell_type": "code",
   "execution_count": 109,
   "id": "0918476e",
   "metadata": {},
   "outputs": [
    {
     "name": "stdout",
     "output_type": "stream",
     "text": [
      "Train: [1409 1410 1411 ... 7040 7041 7042] Validation: [   0    1    2 ... 1406 1407 1408]\n",
      "Train: [   0    1    2 ... 7040 7041 7042] Validation: [1409 1410 1411 ... 2815 2816 2817]\n",
      "Train: [   0    1    2 ... 7040 7041 7042] Validation: [2818 2819 2820 ... 4224 4225 4226]\n",
      "Train: [   0    1    2 ... 7040 7041 7042] Validation: [4227 4228 4229 ... 5632 5633 5634]\n",
      "Train: [   0    1    2 ... 5632 5633 5634] Validation: [5635 5636 5637 ... 7040 7041 7042]\n"
     ]
    }
   ],
   "source": [
    "\n",
    "kf = KFold(n_splits=5, random_state=None) \n",
    "\n",
    "for train_index, test_index in kf.split(x):\n",
    "    \n",
    "    print(\"Train:\", train_index, \"Validation:\",test_index)\n",
    "    x_train, x_test = x.iloc[train_index], x.iloc[test_index] \n",
    "    y_train, y_test = y.iloc[train_index], y.iloc[test_index]\n",
    "    "
   ]
  },
  {
   "cell_type": "code",
   "execution_count": 110,
   "id": "e8d01173",
   "metadata": {},
   "outputs": [
    {
     "name": "stdout",
     "output_type": "stream",
     "text": [
      "Train: [   0    2    4 ... 7040 7041 7042] Validation: [   1    3    5 ... 7021 7022 7039]\n",
      "Train: [   0    1    3 ... 7040 7041 7042] Validation: [   2    8   12 ... 7027 7031 7036]\n",
      "Train: [   0    1    2 ... 7037 7039 7040] Validation: [  18   19   23 ... 7038 7041 7042]\n",
      "Train: [   1    2    3 ... 7039 7041 7042] Validation: [   0    4    6 ... 7035 7037 7040]\n",
      "Train: [   0    1    2 ... 7040 7041 7042] Validation: [  11   14   27 ... 7025 7030 7032]\n",
      "Train: [   0    1    2 ... 7040 7041 7042] Validation: [   5    7   10 ... 7026 7029 7030]\n",
      "Train: [   0    1    2 ... 7040 7041 7042] Validation: [  13   16   17 ... 7037 7038 7039]\n",
      "Train: [   0    1    3 ... 7040 7041 7042] Validation: [   2    6    8 ... 7033 7035 7036]\n",
      "Train: [   1    2    3 ... 7038 7039 7040] Validation: [   0    4   11 ... 7034 7041 7042]\n",
      "Train: [   0    2    4 ... 7039 7041 7042] Validation: [   1    3   19 ... 7028 7032 7040]\n",
      "Train: [   0    1    3 ... 7038 7039 7042] Validation: [   2    9   13 ... 7037 7040 7041]\n",
      "Train: [   0    1    2 ... 7040 7041 7042] Validation: [  10   16   19 ... 7034 7035 7038]\n",
      "Train: [   1    2    3 ... 7040 7041 7042] Validation: [   0    7   17 ... 7028 7031 7036]\n",
      "Train: [   0    2    6 ... 7040 7041 7042] Validation: [   1    3    4 ... 7021 7023 7032]\n",
      "Train: [   0    1    2 ... 7038 7040 7041] Validation: [   6   15   18 ... 7029 7039 7042]\n",
      "Train: [   0    3    4 ... 7038 7039 7041] Validation: [   1    2   10 ... 7031 7040 7042]\n",
      "Train: [   1    2    3 ... 7040 7041 7042] Validation: [   0    7    8 ... 7025 7028 7036]\n",
      "Train: [   0    1    2 ... 7040 7041 7042] Validation: [   3    4   14 ... 7029 7037 7039]\n",
      "Train: [   0    1    2 ... 7039 7040 7042] Validation: [   6    9   11 ... 7034 7038 7041]\n",
      "Train: [   0    1    2 ... 7040 7041 7042] Validation: [   5   16   20 ... 7024 7026 7035]\n",
      "Train: [   0    1    2 ... 7040 7041 7042] Validation: [   3    6   13 ... 7029 7037 7039]\n",
      "Train: [   0    1    2 ... 7039 7040 7041] Validation: [  10   17   24 ... 7030 7036 7042]\n",
      "Train: [   0    3    5 ... 7040 7041 7042] Validation: [   1    2    4 ... 7023 7033 7038]\n",
      "Train: [   1    2    3 ... 7039 7040 7042] Validation: [   0    5    7 ... 7032 7035 7041]\n",
      "Train: [   0    1    2 ... 7039 7041 7042] Validation: [  31   32   34 ... 7031 7034 7040]\n",
      "Train: [   0    1    2 ... 7040 7041 7042] Validation: [   6   11   18 ... 7031 7035 7036]\n",
      "Train: [   0    1    4 ... 7038 7039 7042] Validation: [   2    3   13 ... 7024 7040 7041]\n",
      "Train: [   0    1    2 ... 7040 7041 7042] Validation: [   4    5    7 ... 7026 7030 7039]\n",
      "Train: [   2    3    4 ... 7040 7041 7042] Validation: [   0    1    8 ... 7033 7037 7038]\n",
      "Train: [   0    1    2 ... 7039 7040 7041] Validation: [  17   20   24 ... 7032 7034 7042]\n",
      "Train: [   0    1    2 ... 7039 7040 7042] Validation: [  22   23   39 ... 7030 7033 7041]\n",
      "Train: [   0    1    2 ... 7040 7041 7042] Validation: [   4    5   10 ... 7008 7031 7032]\n",
      "Train: [   0    1    2 ... 7039 7041 7042] Validation: [   8    9   13 ... 7025 7027 7040]\n",
      "Train: [   4    5    6 ... 7040 7041 7042] Validation: [   0    1    2 ... 7037 7038 7039]\n",
      "Train: [   0    1    2 ... 7039 7040 7041] Validation: [   6   15   17 ... 7029 7034 7042]\n",
      "Train: [   0    1    2 ... 7040 7041 7042] Validation: [   3   20   26 ... 7024 7030 7038]\n",
      "Train: [   0    1    3 ... 7038 7040 7042] Validation: [   2    9   11 ... 7037 7039 7041]\n",
      "Train: [   1    2    3 ... 7040 7041 7042] Validation: [   0    6    8 ... 7021 7029 7032]\n",
      "Train: [   0    1    2 ... 7040 7041 7042] Validation: [   7   12   15 ... 7002 7004 7034]\n",
      "Train: [   0    2    3 ... 7038 7039 7041] Validation: [   1    4    5 ... 7036 7040 7042]\n",
      "Train: [   0    1    5 ... 7039 7040 7042] Validation: [   2    3    4 ... 7029 7038 7041]\n",
      "Train: [   0    1    2 ... 7035 7038 7041] Validation: [   8    9   12 ... 7039 7040 7042]\n",
      "Train: [   1    2    3 ... 7040 7041 7042] Validation: [   0   15   16 ... 7013 7016 7017]\n",
      "Train: [   0    2    3 ... 7040 7041 7042] Validation: [   1   10   18 ... 7020 7026 7035]\n",
      "Train: [   0    1    2 ... 7040 7041 7042] Validation: [   5    7   11 ... 7031 7032 7033]\n",
      "Train: [   0    2    3 ... 7039 7040 7041] Validation: [   1    5    6 ... 7012 7027 7042]\n",
      "Train: [   0    1    2 ... 7039 7041 7042] Validation: [   3   26   32 ... 7023 7036 7040]\n",
      "Train: [   0    1    2 ... 7038 7040 7042] Validation: [   4    8   13 ... 7033 7039 7041]\n",
      "Train: [   0    1    2 ... 7040 7041 7042] Validation: [  10   11   21 ... 7032 7034 7037]\n",
      "Train: [   1    3    4 ... 7040 7041 7042] Validation: [   0    2    7 ... 7021 7035 7038]\n"
     ]
    }
   ],
   "source": [
    "\n",
    "kf = RepeatedKFold(n_splits=5, n_repeats=10, random_state=None) \n",
    "\n",
    "for train_index, test_index in kf.split(x):\n",
    "    \n",
    "    print(\"Train:\", train_index, \"Validation:\",test_index)\n",
    "    x_train, x_test = x.iloc[train_index], x.iloc[test_index] \n",
    "    y_train, y_test = y.iloc[train_index], y.iloc[test_index]\n",
    "    "
   ]
  },
  {
   "cell_type": "markdown",
   "id": "fbf4fdf1",
   "metadata": {},
   "source": [
    "Note: \n",
    "The k-fold cross-validation procedure is a standard method for estimating the performance of a machine learning algorithm or configuration on a dataset.\n",
    "\n",
    "A single run of the k-fold cross-validation procedure may result in a noisy estimate of model performance. Different splits of the data may result in very different results.\n",
    "\n",
    "Repeated k-fold cross-validation provides a way to improve the estimated performance of a machine learning model. This involves simply repeating the cross-validation procedure multiple times and reporting the mean result across all folds from all runs. This mean result is expected to be a more accurate estimate of the true unknown underlying mean performance of the model on the dataset, as calculated using the standard error."
   ]
  },
  {
   "cell_type": "code",
   "execution_count": 114,
   "id": "a8527a0f",
   "metadata": {},
   "outputs": [
    {
     "data": {
      "text/plain": [
       "array([0.78779276, 0.78708304, 0.76792051, 0.78764205, 0.78622159])"
      ]
     },
     "execution_count": 114,
     "metadata": {},
     "output_type": "execute_result"
    }
   ],
   "source": [
    "# evaluate model\n",
    "scores = cross_val_score(model, x, y, scoring='accuracy', n_jobs=-1)\n",
    "scores"
   ]
  },
  {
   "cell_type": "code",
   "execution_count": 123,
   "id": "e94d4581",
   "metadata": {},
   "outputs": [
    {
     "name": "stdout",
     "output_type": "stream",
     "text": [
      ">1 mean=0.7620 se=0.010\n",
      ">2 mean=0.7620 se=0.010\n",
      ">3 mean=0.7620 se=0.010\n",
      ">4 mean=0.7620 se=0.010\n",
      ">5 mean=0.7620 se=0.010\n",
      ">6 mean=0.7620 se=0.010\n",
      ">7 mean=0.7620 se=0.010\n",
      ">8 mean=0.7620 se=0.010\n",
      ">9 mean=0.7620 se=0.010\n",
      ">10 mean=0.7620 se=0.010\n",
      ">11 mean=0.7620 se=0.010\n",
      ">12 mean=0.7620 se=0.010\n",
      ">13 mean=0.7620 se=0.010\n",
      ">14 mean=0.7620 se=0.010\n",
      ">15 mean=0.7620 se=0.010\n"
     ]
    },
    {
     "data": {
      "image/png": "[encoded data removed]",
      "text/plain": [
       "<Figure size 432x288 with 1 Axes>"
      ]
     },
     "metadata": {
      "needs_background": "light"
     },
     "output_type": "display_data"
    }
   ],
   "source": [
    "#https://machinelearningmastery.com/repeated-k-fold-cross-validation-with-python/\n",
    "\n",
    "def evaluate_model(X, y, repeats):\n",
    "    \n",
    "# prepare the cross-validation procedure\n",
    "    cv = RepeatedKFold(n_splits=10, n_repeats=repeats, random_state=1)\n",
    "# create model\n",
    "    model = DecisionTreeClassifier(max_depth=3)\n",
    "    # evaluate model\n",
    "    scores = cross_val_score(model, X, y, scoring='accuracy', cv=10, n_jobs=-1)\n",
    "    return scores\n",
    " \n",
    "# create dataset\n",
    "x, y = make_classification(n_samples=1000, n_features=20, n_informative=15, n_redundant=5, random_state=1)\n",
    "# configurations to test\n",
    "repeats = range(1,16)\n",
    "results = list()\n",
    "\n",
    "for r in repeats:\n",
    "    # evaluate using a given number of repeats\n",
    "    scores = evaluate_model(x, y, r)\n",
    "    # summarize\n",
    "    print('>%d mean=%.4f se=%.3f' % (r, mean(scores), sem(scores)))\n",
    "    # store\n",
    "    results.append(scores)\n",
    "# plot the results\n",
    "pyplot.boxplot(results, labels=[str(r) for r in repeats], showmeans=True)\n",
    "pyplot.show()"
   ]
  },
  {
   "cell_type": "code",
   "execution_count": null,
   "id": "5a7187f0",
   "metadata": {},
   "outputs": [],
   "source": []
  }
 ],
 "metadata": {
  "kernelspec": {
   "display_name": "Python 3",
   "language": "python",
   "name": "python3"
  },
  "language_info": {
   "codemirror_mode": {
    "name": "ipython",
    "version": 3
   },
   "file_extension": ".py",
   "mimetype": "text/x-python",
   "name": "python",
   "nbconvert_exporter": "python",
   "pygments_lexer": "ipython3",
   "version": "3.9.6"
  }
 },
 "nbformat": 4,
 "nbformat_minor": 5
}
