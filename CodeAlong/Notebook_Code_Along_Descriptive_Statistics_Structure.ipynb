{
 "cells": [
  {
   "cell_type": "markdown",
   "metadata": {
    "id": "1z3R4YIT3A2w"
   },
   "source": [
    "# Population vs Sample"
   ]
  },
  {
   "cell_type": "markdown",
   "metadata": {
    "id": "Al8_EakY3G6f"
   },
   "source": [
    "Let's explore in this notebook the difference between both. \n",
    "\n",
    "To this end, we're going to generate a random set of 100.000 integers.\n",
    "\n",
    "Then we will try to guess the mean of the total population using SAMPLES taken at random from the population"
   ]
  },
  {
   "cell_type": "code",
   "execution_count": 1,
   "metadata": {
    "executionInfo": {
     "elapsed": 824,
     "status": "ok",
     "timestamp": 1623309425301,
     "user": {
      "displayName": "Ignacio Soteras",
      "photoUrl": "",
      "userId": "02050793736257155229"
     },
     "user_tz": -120
    },
    "id": "e3Qa49M_3hg_"
   },
   "outputs": [],
   "source": [
    "import numpy as np\n",
    "import pandas as pd\n",
    "import matplotlib.pyplot as plt\n",
    "%matplotlib inline"
   ]
  },
  {
   "cell_type": "code",
   "execution_count": 5,
   "metadata": {
    "colab": {
     "base_uri": "https://localhost:8080/"
    },
    "executionInfo": {
     "elapsed": 213,
     "status": "ok",
     "timestamp": 1623309680962,
     "user": {
      "displayName": "Ignacio Soteras",
      "photoUrl": "",
      "userId": "02050793736257155229"
     },
     "user_tz": -120
    },
    "id": "W2PP-o5d3mhL",
    "outputId": "7de49090-48ef-4da6-919a-51f9e25fed82"
   },
   "outputs": [
    {
     "name": "stdout",
     "output_type": "stream",
     "text": [
      "(100000,)\n",
      "Population mean: 499.45\n",
      "Population mean: 499.44726\n",
      "Population mean rounded:  499.45\n"
     ]
    }
   ],
   "source": [
    "np.random.seed(12)\n",
    "population = np.random.choice(1000,100000) # 100K random integer numbers between [0,1000]\n",
    "print(population.shape)\n",
    "\n",
    "population_mean = np.mean(population)\n",
    "print(\"Population mean: {:.2f}\".format(population_mean)) # puts the population mean with 2 numbers after the . into the print\n",
    "print(\"Population mean: {}\".format(population_mean))\n",
    "print(\"Population mean rounded: \",round(population_mean,2))"
   ]
  },
  {
   "cell_type": "code",
   "execution_count": 3,
   "metadata": {
    "colab": {
     "base_uri": "https://localhost:8080/"
    },
    "executionInfo": {
     "elapsed": 377,
     "status": "ok",
     "timestamp": 1623309721727,
     "user": {
      "displayName": "Ignacio Soteras",
      "photoUrl": "",
      "userId": "02050793736257155229"
     },
     "user_tz": -120
    },
    "id": "qB80_jk5TBeb",
    "outputId": "444a92a2-ffe7-456c-d09e-92232653906c"
   },
   "outputs": [
    {
     "data": {
      "text/plain": [
       "numpy.ndarray"
      ]
     },
     "execution_count": 3,
     "metadata": {},
     "output_type": "execute_result"
    }
   ],
   "source": [
    "type(population)"
   ]
  },
  {
   "cell_type": "markdown",
   "metadata": {
    "id": "DtXMLnKJ4Cbq"
   },
   "source": [
    "*Now* let's take 5 (20) random samples of 5(1000) picks from this population and see how each sample mean changes.\n",
    "\n",
    "Create a dictionary in which the keys have the name: 'sample_1', 'sample_2',..... and so on. As values, every key should contain the sample of 1000 random numbers from the population"
   ]
  },
  {
   "cell_type": "code",
   "execution_count": 9,
   "metadata": {
    "colab": {
     "base_uri": "https://localhost:8080/"
    },
    "executionInfo": {
     "elapsed": 844,
     "status": "ok",
     "timestamp": 1623310110045,
     "user": {
      "displayName": "Ignacio Soteras",
      "photoUrl": "",
      "userId": "02050793736257155229"
     },
     "user_tz": -120
    },
    "id": "HPnQmWCRzeqZ",
    "outputId": "94d3f829-4f9c-415b-b8ac-0431911ccf22"
   },
   "outputs": [
    {
     "data": {
      "text/plain": [
       "{'sample_0': [421, 220, 502, 807, 743],\n",
       " 'sample_1': [704, 302, 970, 491, 149],\n",
       " 'sample_2': [163, 15, 328, 768, 129],\n",
       " 'sample_3': [495, 321, 567, 587, 769],\n",
       " 'sample_4': [28, 16, 23, 621, 711]}"
      ]
     },
     "execution_count": 9,
     "metadata": {},
     "output_type": "execute_result"
    }
   ],
   "source": [
    "{ 'sample_' + str(numbers): np.random.choice(population,5).tolist() for numbers in range(5)}"
   ]
  },
  {
   "cell_type": "code",
   "execution_count": 10,
   "metadata": {
    "colab": {
     "base_uri": "https://localhost:8080/"
    },
    "executionInfo": {
     "elapsed": 483,
     "status": "ok",
     "timestamp": 1623311492720,
     "user": {
      "displayName": "Ignacio Soteras",
      "photoUrl": "",
      "userId": "02050793736257155229"
     },
     "user_tz": -120
    },
    "id": "oyoAftyi4LOV",
    "outputId": "4831edbd-a5f7-4497-8f5c-f16ef1caa569"
   },
   "outputs": [
    {
     "name": "stdout",
     "output_type": "stream",
     "text": [
      "{'sample_1': [717, 50, 200, 853, 92], 'sample_2': [922, 312, 395, 240, 703], 'sample_3': [978, 750, 552, 843, 0], 'sample_4': [936, 634, 87, 722, 4], 'sample_5': [291, 635, 824, 503, 123]}\n"
     ]
    }
   ],
   "source": [
    "#samples = {}\n",
    "\n",
    "samples = {'sample_' + str(i+1): np.random.choice(population, size = 5).tolist() for i in range(5)}\n",
    "print(samples)"
   ]
  },
  {
   "cell_type": "markdown",
   "metadata": {
    "id": "Te-skRKu5S7m"
   },
   "source": [
    "Now, compute the mean of each sample.\n"
   ]
  },
  {
   "cell_type": "code",
   "execution_count": 18,
   "metadata": {
    "colab": {
     "base_uri": "https://localhost:8080/"
    },
    "executionInfo": {
     "elapsed": 214,
     "status": "ok",
     "timestamp": 1623311495725,
     "user": {
      "displayName": "Ignacio Soteras",
      "photoUrl": "",
      "userId": "02050793736257155229"
     },
     "user_tz": -120
    },
    "id": "UMHev0rz5fcs",
    "outputId": "59e0ac0b-eaf9-4888-a1ab-914a5765ae92"
   },
   "outputs": [
    {
     "name": "stdout",
     "output_type": "stream",
     "text": [
      "Population mean: 499.45\n",
      "Sample sample_1 has a mean of 382.4\n",
      "Sample sample_2 has a mean of 514.4\n",
      "Sample sample_3 has a mean of 624.6\n",
      "Sample sample_4 has a mean of 476.6\n",
      "Sample sample_5 has a mean of 475.2\n"
     ]
    }
   ],
   "source": [
    "print(\"Population mean: {:.2f}\".format(population_mean))\n",
    "\n",
    "for key, values in samples.items():\n",
    "    print(\"Sample {} has a mean of {}\".format(key,np.mean(values)))"
   ]
  },
  {
   "cell_type": "markdown",
   "metadata": {
    "id": "Wa7ZvMYe2vr2"
   },
   "source": [
    "$\\mu_{1}=x_{1}$\n",
    "\n",
    "$\\mu_{2}=\\frac{x_{1}+x_{2}}{2} = \\frac{x_{1}}{2}+\\frac{x_{2}}{2}=\\frac{\\mu_{1}}{2}+\\frac{x_{2}}{2}$\n",
    "\n",
    "$\\mu_{3}=\\frac{x_{1}+x_{2}+x_{3}}{3}=\\frac{x_{1}+x_{2}}{3}+\\frac{x_{3}}{3}=\\frac{2}{3}\\frac{x_{1}+x_{2}}{2}+\\frac{x_{3}}{3}=\\frac{2}{3}\\mu_{2}+\\frac{x_{3}}{3}$\n",
    "\n",
    "$\\mu_{n}=\\frac{(n-1)}{n}\\mu_{n-1}+\\frac{x_{n}}{n}=\\mu_{n-1}-\\frac{\\mu_{n-1}}{n}+\\frac{x_{n}}{n}$"
   ]
  },
  {
   "cell_type": "markdown",
   "metadata": {
    "id": "t3A5CQM76c8I"
   },
   "source": [
    "Now construct a pandas dataframe with the samples:\n"
   ]
  },
  {
   "cell_type": "code",
   "execution_count": 36,
   "metadata": {
    "colab": {
     "base_uri": "https://localhost:8080/",
     "height": 427
    },
    "executionInfo": {
     "elapsed": 218,
     "status": "ok",
     "timestamp": 1623311614504,
     "user": {
      "displayName": "Ignacio Soteras",
      "photoUrl": "",
      "userId": "02050793736257155229"
     },
     "user_tz": -120
    },
    "id": "ily4V8EF6iFe",
    "outputId": "ab591263-62cb-42b1-9d8b-d18528b86196"
   },
   "outputs": [
    {
     "data": {
      "text/html": [
       "<div>\n",
       "<style scoped>\n",
       "    .dataframe tbody tr th:only-of-type {\n",
       "        vertical-align: middle;\n",
       "    }\n",
       "\n",
       "    .dataframe tbody tr th {\n",
       "        vertical-align: top;\n",
       "    }\n",
       "\n",
       "    .dataframe thead th {\n",
       "        text-align: right;\n",
       "    }\n",
       "</style>\n",
       "<table border=\"1\" class=\"dataframe\">\n",
       "  <thead>\n",
       "    <tr style=\"text-align: right;\">\n",
       "      <th></th>\n",
       "      <th>sample_1</th>\n",
       "      <th>sample_2</th>\n",
       "      <th>sample_3</th>\n",
       "      <th>sample_4</th>\n",
       "      <th>sample_5</th>\n",
       "    </tr>\n",
       "  </thead>\n",
       "  <tbody>\n",
       "    <tr>\n",
       "      <th>0</th>\n",
       "      <td>717</td>\n",
       "      <td>922</td>\n",
       "      <td>978</td>\n",
       "      <td>936</td>\n",
       "      <td>291</td>\n",
       "    </tr>\n",
       "    <tr>\n",
       "      <th>1</th>\n",
       "      <td>50</td>\n",
       "      <td>312</td>\n",
       "      <td>750</td>\n",
       "      <td>634</td>\n",
       "      <td>635</td>\n",
       "    </tr>\n",
       "    <tr>\n",
       "      <th>2</th>\n",
       "      <td>200</td>\n",
       "      <td>395</td>\n",
       "      <td>552</td>\n",
       "      <td>87</td>\n",
       "      <td>824</td>\n",
       "    </tr>\n",
       "    <tr>\n",
       "      <th>3</th>\n",
       "      <td>853</td>\n",
       "      <td>240</td>\n",
       "      <td>843</td>\n",
       "      <td>722</td>\n",
       "      <td>503</td>\n",
       "    </tr>\n",
       "    <tr>\n",
       "      <th>4</th>\n",
       "      <td>92</td>\n",
       "      <td>703</td>\n",
       "      <td>0</td>\n",
       "      <td>4</td>\n",
       "      <td>123</td>\n",
       "    </tr>\n",
       "  </tbody>\n",
       "</table>\n",
       "</div>"
      ],
      "text/plain": [
       "   sample_1  sample_2  sample_3  sample_4  sample_5\n",
       "0       717       922       978       936       291\n",
       "1        50       312       750       634       635\n",
       "2       200       395       552        87       824\n",
       "3       853       240       843       722       503\n",
       "4        92       703         0         4       123"
      ]
     },
     "execution_count": 36,
     "metadata": {},
     "output_type": "execute_result"
    }
   ],
   "source": [
    "df = pd.DataFrame(samples)\n",
    "df"
   ]
  },
  {
   "cell_type": "code",
   "execution_count": 37,
   "metadata": {
    "colab": {
     "base_uri": "https://localhost:8080/"
    },
    "executionInfo": {
     "elapsed": 230,
     "status": "ok",
     "timestamp": 1623311759397,
     "user": {
      "displayName": "Ignacio Soteras",
      "photoUrl": "",
      "userId": "02050793736257155229"
     },
     "user_tz": -120
    },
    "id": "9AxHu6YP6xzq",
    "outputId": "8ed52e0a-0d7c-4557-bdd3-a67cbd7ad0f5"
   },
   "outputs": [
    {
     "data": {
      "text/html": [
       "<div>\n",
       "<style scoped>\n",
       "    .dataframe tbody tr th:only-of-type {\n",
       "        vertical-align: middle;\n",
       "    }\n",
       "\n",
       "    .dataframe tbody tr th {\n",
       "        vertical-align: top;\n",
       "    }\n",
       "\n",
       "    .dataframe thead th {\n",
       "        text-align: right;\n",
       "    }\n",
       "</style>\n",
       "<table border=\"1\" class=\"dataframe\">\n",
       "  <thead>\n",
       "    <tr style=\"text-align: right;\">\n",
       "      <th></th>\n",
       "      <th>sample_1</th>\n",
       "      <th>sample_2</th>\n",
       "      <th>sample_3</th>\n",
       "      <th>sample_4</th>\n",
       "      <th>sample_5</th>\n",
       "    </tr>\n",
       "  </thead>\n",
       "  <tbody>\n",
       "    <tr>\n",
       "      <th>count</th>\n",
       "      <td>5.000000</td>\n",
       "      <td>5.000000</td>\n",
       "      <td>5.000000</td>\n",
       "      <td>5.000000</td>\n",
       "      <td>5.000000</td>\n",
       "    </tr>\n",
       "    <tr>\n",
       "      <th>mean</th>\n",
       "      <td>382.400000</td>\n",
       "      <td>514.400000</td>\n",
       "      <td>624.600000</td>\n",
       "      <td>476.600000</td>\n",
       "      <td>475.200000</td>\n",
       "    </tr>\n",
       "    <tr>\n",
       "      <th>std</th>\n",
       "      <td>374.670922</td>\n",
       "      <td>288.194899</td>\n",
       "      <td>382.004974</td>\n",
       "      <td>409.628856</td>\n",
       "      <td>276.561386</td>\n",
       "    </tr>\n",
       "    <tr>\n",
       "      <th>min</th>\n",
       "      <td>50.000000</td>\n",
       "      <td>240.000000</td>\n",
       "      <td>0.000000</td>\n",
       "      <td>4.000000</td>\n",
       "      <td>123.000000</td>\n",
       "    </tr>\n",
       "    <tr>\n",
       "      <th>25%</th>\n",
       "      <td>92.000000</td>\n",
       "      <td>312.000000</td>\n",
       "      <td>552.000000</td>\n",
       "      <td>87.000000</td>\n",
       "      <td>291.000000</td>\n",
       "    </tr>\n",
       "    <tr>\n",
       "      <th>50%</th>\n",
       "      <td>200.000000</td>\n",
       "      <td>395.000000</td>\n",
       "      <td>750.000000</td>\n",
       "      <td>634.000000</td>\n",
       "      <td>503.000000</td>\n",
       "    </tr>\n",
       "    <tr>\n",
       "      <th>75%</th>\n",
       "      <td>717.000000</td>\n",
       "      <td>703.000000</td>\n",
       "      <td>843.000000</td>\n",
       "      <td>722.000000</td>\n",
       "      <td>635.000000</td>\n",
       "    </tr>\n",
       "    <tr>\n",
       "      <th>max</th>\n",
       "      <td>853.000000</td>\n",
       "      <td>922.000000</td>\n",
       "      <td>978.000000</td>\n",
       "      <td>936.000000</td>\n",
       "      <td>824.000000</td>\n",
       "    </tr>\n",
       "  </tbody>\n",
       "</table>\n",
       "</div>"
      ],
      "text/plain": [
       "         sample_1    sample_2    sample_3    sample_4    sample_5\n",
       "count    5.000000    5.000000    5.000000    5.000000    5.000000\n",
       "mean   382.400000  514.400000  624.600000  476.600000  475.200000\n",
       "std    374.670922  288.194899  382.004974  409.628856  276.561386\n",
       "min     50.000000  240.000000    0.000000    4.000000  123.000000\n",
       "25%     92.000000  312.000000  552.000000   87.000000  291.000000\n",
       "50%    200.000000  395.000000  750.000000  634.000000  503.000000\n",
       "75%    717.000000  703.000000  843.000000  722.000000  635.000000\n",
       "max    853.000000  922.000000  978.000000  936.000000  824.000000"
      ]
     },
     "execution_count": 37,
     "metadata": {},
     "output_type": "execute_result"
    }
   ],
   "source": [
    "df.describe()"
   ]
  },
  {
   "cell_type": "code",
   "execution_count": 38,
   "metadata": {},
   "outputs": [
    {
     "data": {
      "text/plain": [
       "sample_1    382.4\n",
       "sample_2    514.4\n",
       "sample_3    624.6\n",
       "sample_4    476.6\n",
       "sample_5    475.2\n",
       "Name: mean, dtype: float64"
      ]
     },
     "execution_count": 38,
     "metadata": {},
     "output_type": "execute_result"
    }
   ],
   "source": [
    "df.describe().loc['mean']"
   ]
  },
  {
   "cell_type": "markdown",
   "metadata": {
    "id": "3m2f7MCP6wWS"
   },
   "source": [
    "Now compute the means of each sample using \"apply\""
   ]
  },
  {
   "cell_type": "code",
   "execution_count": 39,
   "metadata": {
    "colab": {
     "base_uri": "https://localhost:8080/"
    },
    "executionInfo": {
     "elapsed": 220,
     "status": "ok",
     "timestamp": 1623311819818,
     "user": {
      "displayName": "Ignacio Soteras",
      "photoUrl": "",
      "userId": "02050793736257155229"
     },
     "user_tz": -120
    },
    "id": "7BkxE3uT68OI",
    "outputId": "bda7dd81-0d5d-489f-c666-398afb684557"
   },
   "outputs": [
    {
     "name": "stdout",
     "output_type": "stream",
     "text": [
      "sample_1    382.4\n",
      "sample_2    514.4\n",
      "sample_3    624.6\n",
      "sample_4    476.6\n",
      "sample_5    475.2\n",
      "dtype: float64\n"
     ]
    }
   ],
   "source": [
    "result = df.apply(np.mean)\n",
    "print(result)"
   ]
  },
  {
   "cell_type": "markdown",
   "metadata": {
    "id": "LBr9ihLT7HxZ"
   },
   "source": [
    "Check the type of the previous object"
   ]
  },
  {
   "cell_type": "code",
   "execution_count": 40,
   "metadata": {
    "colab": {
     "base_uri": "https://localhost:8080/"
    },
    "executionInfo": {
     "elapsed": 207,
     "status": "ok",
     "timestamp": 1623311846101,
     "user": {
      "displayName": "Ignacio Soteras",
      "photoUrl": "",
      "userId": "02050793736257155229"
     },
     "user_tz": -120
    },
    "id": "VFXfF01s7Mqi",
    "outputId": "6c7f4ff2-39c4-4090-c75a-f4de520dd685"
   },
   "outputs": [
    {
     "data": {
      "text/plain": [
       "pandas.core.series.Series"
      ]
     },
     "execution_count": 40,
     "metadata": {},
     "output_type": "execute_result"
    }
   ],
   "source": [
    "type(result)"
   ]
  },
  {
   "cell_type": "markdown",
   "metadata": {
    "id": "iWwOULKH7WvZ"
   },
   "source": [
    "Use the previous `result` to create another dataframe in which the columns are the samples names and the row contains the mean of the sample using `transpose()`"
   ]
  },
  {
   "cell_type": "code",
   "execution_count": 41,
   "metadata": {
    "colab": {
     "base_uri": "https://localhost:8080/",
     "height": 98
    },
    "executionInfo": {
     "elapsed": 218,
     "status": "ok",
     "timestamp": 1623311958744,
     "user": {
      "displayName": "Ignacio Soteras",
      "photoUrl": "",
      "userId": "02050793736257155229"
     },
     "user_tz": -120
    },
    "id": "0b25quj87Z2a",
    "outputId": "66891cc2-0f79-4364-d47b-ac34057bd9b8"
   },
   "outputs": [
    {
     "data": {
      "text/html": [
       "<div>\n",
       "<style scoped>\n",
       "    .dataframe tbody tr th:only-of-type {\n",
       "        vertical-align: middle;\n",
       "    }\n",
       "\n",
       "    .dataframe tbody tr th {\n",
       "        vertical-align: top;\n",
       "    }\n",
       "\n",
       "    .dataframe thead th {\n",
       "        text-align: right;\n",
       "    }\n",
       "</style>\n",
       "<table border=\"1\" class=\"dataframe\">\n",
       "  <thead>\n",
       "    <tr style=\"text-align: right;\">\n",
       "      <th></th>\n",
       "      <th>sample_1</th>\n",
       "      <th>sample_2</th>\n",
       "      <th>sample_3</th>\n",
       "      <th>sample_4</th>\n",
       "      <th>sample_5</th>\n",
       "    </tr>\n",
       "  </thead>\n",
       "  <tbody>\n",
       "    <tr>\n",
       "      <th>0</th>\n",
       "      <td>382.4</td>\n",
       "      <td>514.4</td>\n",
       "      <td>624.6</td>\n",
       "      <td>476.6</td>\n",
       "      <td>475.2</td>\n",
       "    </tr>\n",
       "  </tbody>\n",
       "</table>\n",
       "</div>"
      ],
      "text/plain": [
       "   sample_1  sample_2  sample_3  sample_4  sample_5\n",
       "0     382.4     514.4     624.6     476.6     475.2"
      ]
     },
     "execution_count": 41,
     "metadata": {},
     "output_type": "execute_result"
    }
   ],
   "source": [
    "means = pd.DataFrame(result).transpose()\n",
    "means"
   ]
  },
  {
   "cell_type": "markdown",
   "metadata": {
    "id": "X5WY4jxC9EEv"
   },
   "source": [
    "Add another column to the previous dataframe called 'population_mean' which contain the mean of the population"
   ]
  },
  {
   "cell_type": "code",
   "execution_count": 43,
   "metadata": {
    "colab": {
     "base_uri": "https://localhost:8080/",
     "height": 98
    },
    "executionInfo": {
     "elapsed": 222,
     "status": "ok",
     "timestamp": 1623312007914,
     "user": {
      "displayName": "Ignacio Soteras",
      "photoUrl": "",
      "userId": "02050793736257155229"
     },
     "user_tz": -120
    },
    "id": "hgH2El0z9Q9w",
    "outputId": "32dd6a32-d644-4c88-ff81-bf79717389c7"
   },
   "outputs": [
    {
     "data": {
      "text/html": [
       "<div>\n",
       "<style scoped>\n",
       "    .dataframe tbody tr th:only-of-type {\n",
       "        vertical-align: middle;\n",
       "    }\n",
       "\n",
       "    .dataframe tbody tr th {\n",
       "        vertical-align: top;\n",
       "    }\n",
       "\n",
       "    .dataframe thead th {\n",
       "        text-align: right;\n",
       "    }\n",
       "</style>\n",
       "<table border=\"1\" class=\"dataframe\">\n",
       "  <thead>\n",
       "    <tr style=\"text-align: right;\">\n",
       "      <th></th>\n",
       "      <th>sample_1</th>\n",
       "      <th>sample_2</th>\n",
       "      <th>sample_3</th>\n",
       "      <th>sample_4</th>\n",
       "      <th>sample_5</th>\n",
       "      <th>population_mean</th>\n",
       "    </tr>\n",
       "  </thead>\n",
       "  <tbody>\n",
       "    <tr>\n",
       "      <th>0</th>\n",
       "      <td>382.4</td>\n",
       "      <td>514.4</td>\n",
       "      <td>624.6</td>\n",
       "      <td>476.6</td>\n",
       "      <td>475.2</td>\n",
       "      <td>499.44726</td>\n",
       "    </tr>\n",
       "  </tbody>\n",
       "</table>\n",
       "</div>"
      ],
      "text/plain": [
       "   sample_1  sample_2  sample_3  sample_4  sample_5  population_mean\n",
       "0     382.4     514.4     624.6     476.6     475.2        499.44726"
      ]
     },
     "execution_count": 43,
     "metadata": {},
     "output_type": "execute_result"
    }
   ],
   "source": [
    "means['population_mean'] = population_mean\n",
    "means"
   ]
  },
  {
   "cell_type": "markdown",
   "metadata": {
    "id": "hKuo5s6i9m8b"
   },
   "source": [
    "Add another row to the dataframe with the deviations from the population mean using the following steps:\n",
    "\n",
    "1. Compute the difference between `result` and `population_mean`\n",
    "2. Create a dataframe with the previous output.\n",
    "3. Transpose the resulting dataframe.\n",
    "3. Concat both dataframes."
   ]
  },
  {
   "cell_type": "code",
   "execution_count": 44,
   "metadata": {
    "colab": {
     "base_uri": "https://localhost:8080/"
    },
    "executionInfo": {
     "elapsed": 220,
     "status": "ok",
     "timestamp": 1623312077227,
     "user": {
      "displayName": "Ignacio Soteras",
      "photoUrl": "",
      "userId": "02050793736257155229"
     },
     "user_tz": -120
    },
    "id": "aRY9IwQy90Ny",
    "outputId": "357c4799-863a-4481-981b-71bec60b6cc8"
   },
   "outputs": [
    {
     "data": {
      "text/plain": [
       "sample_1    117.04726\n",
       "sample_2    -14.95274\n",
       "sample_3   -125.15274\n",
       "sample_4     22.84726\n",
       "sample_5     24.24726\n",
       "dtype: float64"
      ]
     },
     "execution_count": 44,
     "metadata": {},
     "output_type": "execute_result"
    }
   ],
   "source": [
    "population_mean -result"
   ]
  },
  {
   "cell_type": "code",
   "execution_count": 45,
   "metadata": {
    "colab": {
     "base_uri": "https://localhost:8080/",
     "height": 98
    },
    "executionInfo": {
     "elapsed": 329,
     "status": "ok",
     "timestamp": 1623312130742,
     "user": {
      "displayName": "Ignacio Soteras",
      "photoUrl": "",
      "userId": "02050793736257155229"
     },
     "user_tz": -120
    },
    "id": "uSvU_YpA_Zpo",
    "outputId": "a2cc8460-3cb8-4618-cd6d-58a7ce61adec"
   },
   "outputs": [
    {
     "data": {
      "text/html": [
       "<div>\n",
       "<style scoped>\n",
       "    .dataframe tbody tr th:only-of-type {\n",
       "        vertical-align: middle;\n",
       "    }\n",
       "\n",
       "    .dataframe tbody tr th {\n",
       "        vertical-align: top;\n",
       "    }\n",
       "\n",
       "    .dataframe thead th {\n",
       "        text-align: right;\n",
       "    }\n",
       "</style>\n",
       "<table border=\"1\" class=\"dataframe\">\n",
       "  <thead>\n",
       "    <tr style=\"text-align: right;\">\n",
       "      <th></th>\n",
       "      <th>sample_1</th>\n",
       "      <th>sample_2</th>\n",
       "      <th>sample_3</th>\n",
       "      <th>sample_4</th>\n",
       "      <th>sample_5</th>\n",
       "    </tr>\n",
       "  </thead>\n",
       "  <tbody>\n",
       "    <tr>\n",
       "      <th>0</th>\n",
       "      <td>117.04726</td>\n",
       "      <td>-14.95274</td>\n",
       "      <td>-125.15274</td>\n",
       "      <td>22.84726</td>\n",
       "      <td>24.24726</td>\n",
       "    </tr>\n",
       "  </tbody>\n",
       "</table>\n",
       "</div>"
      ],
      "text/plain": [
       "    sample_1  sample_2   sample_3  sample_4  sample_5\n",
       "0  117.04726 -14.95274 -125.15274  22.84726  24.24726"
      ]
     },
     "execution_count": 45,
     "metadata": {},
     "output_type": "execute_result"
    }
   ],
   "source": [
    "new_df = pd.DataFrame( population_mean - result ).transpose()\n",
    "new_df"
   ]
  },
  {
   "cell_type": "markdown",
   "metadata": {
    "id": "_FRLo356Ps8S"
   },
   "source": [
    "Use `pd.concat` in order to add the previous dataframe as another row to `final`. Remember to reset the index."
   ]
  },
  {
   "cell_type": "code",
   "execution_count": 47,
   "metadata": {
    "colab": {
     "base_uri": "https://localhost:8080/",
     "height": 128
    },
    "executionInfo": {
     "elapsed": 233,
     "status": "ok",
     "timestamp": 1623312268330,
     "user": {
      "displayName": "Ignacio Soteras",
      "photoUrl": "",
      "userId": "02050793736257155229"
     },
     "user_tz": -120
    },
    "id": "ux-YuBEM_muk",
    "outputId": "94faf5be-8eae-4be2-dcf2-45a1066d2fda"
   },
   "outputs": [
    {
     "data": {
      "text/html": [
       "<div>\n",
       "<style scoped>\n",
       "    .dataframe tbody tr th:only-of-type {\n",
       "        vertical-align: middle;\n",
       "    }\n",
       "\n",
       "    .dataframe tbody tr th {\n",
       "        vertical-align: top;\n",
       "    }\n",
       "\n",
       "    .dataframe thead th {\n",
       "        text-align: right;\n",
       "    }\n",
       "</style>\n",
       "<table border=\"1\" class=\"dataframe\">\n",
       "  <thead>\n",
       "    <tr style=\"text-align: right;\">\n",
       "      <th></th>\n",
       "      <th>sample_1</th>\n",
       "      <th>sample_2</th>\n",
       "      <th>sample_3</th>\n",
       "      <th>sample_4</th>\n",
       "      <th>sample_5</th>\n",
       "      <th>population_mean</th>\n",
       "    </tr>\n",
       "  </thead>\n",
       "  <tbody>\n",
       "    <tr>\n",
       "      <th>0</th>\n",
       "      <td>382.40000</td>\n",
       "      <td>514.40000</td>\n",
       "      <td>624.60000</td>\n",
       "      <td>476.60000</td>\n",
       "      <td>475.20000</td>\n",
       "      <td>499.44726</td>\n",
       "    </tr>\n",
       "    <tr>\n",
       "      <th>1</th>\n",
       "      <td>117.04726</td>\n",
       "      <td>-14.95274</td>\n",
       "      <td>-125.15274</td>\n",
       "      <td>22.84726</td>\n",
       "      <td>24.24726</td>\n",
       "      <td>NaN</td>\n",
       "    </tr>\n",
       "  </tbody>\n",
       "</table>\n",
       "</div>"
      ],
      "text/plain": [
       "    sample_1   sample_2   sample_3   sample_4   sample_5  population_mean\n",
       "0  382.40000  514.40000  624.60000  476.60000  475.20000        499.44726\n",
       "1  117.04726  -14.95274 -125.15274   22.84726   24.24726              NaN"
      ]
     },
     "execution_count": 47,
     "metadata": {},
     "output_type": "execute_result"
    }
   ],
   "source": [
    "final = pd.concat([means, new_df],axis=0).reset_index(drop=True)\n",
    "final"
   ]
  },
  {
   "cell_type": "markdown",
   "metadata": {
    "id": "QTbuep_sHxgN"
   },
   "source": [
    "Let's obtain some basic plots"
   ]
  },
  {
   "cell_type": "code",
   "execution_count": 48,
   "metadata": {
    "colab": {
     "base_uri": "https://localhost:8080/",
     "height": 286
    },
    "executionInfo": {
     "elapsed": 375,
     "status": "ok",
     "timestamp": 1623312327470,
     "user": {
      "displayName": "Ignacio Soteras",
      "photoUrl": "",
      "userId": "02050793736257155229"
     },
     "user_tz": -120
    },
    "id": "3L1xPIi-Mvxl",
    "outputId": "c1c4087f-8d48-43c7-9df7-627fd04912c7"
   },
   "outputs": [
    {
     "data": {
      "text/plain": [
       "<AxesSubplot:>"
      ]
     },
     "execution_count": 48,
     "metadata": {},
     "output_type": "execute_result"
    },
    {
     "data": {
      "image/png": "[encoded data removed]",
      "text/plain": [
       "<Figure size 432x288 with 1 Axes>"
      ]
     },
     "metadata": {
      "needs_background": "light"
     },
     "output_type": "display_data"
    }
   ],
   "source": [
    "final.iloc[1,:-1].plot()"
   ]
  },
  {
   "cell_type": "code",
   "execution_count": 49,
   "metadata": {
    "colab": {
     "base_uri": "https://localhost:8080/",
     "height": 282
    },
    "executionInfo": {
     "elapsed": 563,
     "status": "ok",
     "timestamp": 1623312436738,
     "user": {
      "displayName": "Ignacio Soteras",
      "photoUrl": "",
      "userId": "02050793736257155229"
     },
     "user_tz": -120
    },
    "id": "hwq_EMl2H0rY",
    "outputId": "52df6670-ce84-49cb-cffa-ac20e9a5bf4c"
   },
   "outputs": [
    {
     "data": {
      "text/plain": [
       "<AxesSubplot:>"
      ]
     },
     "execution_count": 49,
     "metadata": {},
     "output_type": "execute_result"
    },
    {
     "data": {
      "image/png": "[encoded data removed]",
      "text/plain": [
       "<Figure size 432x288 with 1 Axes>"
      ]
     },
     "metadata": {
      "needs_background": "light"
     },
     "output_type": "display_data"
    }
   ],
   "source": [
    "final.iloc[1,:-1].hist(bins=20)"
   ]
  },
  {
   "cell_type": "code",
   "execution_count": 50,
   "metadata": {
    "colab": {
     "base_uri": "https://localhost:8080/"
    },
    "executionInfo": {
     "elapsed": 225,
     "status": "ok",
     "timestamp": 1623312580141,
     "user": {
      "displayName": "Ignacio Soteras",
      "photoUrl": "",
      "userId": "02050793736257155229"
     },
     "user_tz": -120
    },
    "id": "N5n3d3HT94gP",
    "outputId": "f636a308-e6cb-4dff-c69e-36d82bf58834"
   },
   "outputs": [
    {
     "data": {
      "text/plain": [
       "count      5.000000\n",
       "mean       4.807260\n",
       "std       87.437452\n",
       "min     -125.152740\n",
       "25%      -14.952740\n",
       "50%       22.847260\n",
       "75%       24.247260\n",
       "max      117.047260\n",
       "Name: 1, dtype: float64"
      ]
     },
     "execution_count": 50,
     "metadata": {},
     "output_type": "execute_result"
    }
   ],
   "source": [
    "final.iloc[1,:-1].describe()"
   ]
  },
  {
   "cell_type": "code",
   "execution_count": 51,
   "metadata": {
    "colab": {
     "base_uri": "https://localhost:8080/",
     "height": 285
    },
    "executionInfo": {
     "elapsed": 348,
     "status": "ok",
     "timestamp": 1623312478047,
     "user": {
      "displayName": "Ignacio Soteras",
      "photoUrl": "",
      "userId": "02050793736257155229"
     },
     "user_tz": -120
    },
    "id": "Rb3urnB0NXIZ",
    "outputId": "ef8b8d01-acfc-43e8-a3ac-274d8be6c9c5"
   },
   "outputs": [
    {
     "data": {
      "text/plain": [
       "<AxesSubplot:>"
      ]
     },
     "execution_count": 51,
     "metadata": {},
     "output_type": "execute_result"
    },
    {
     "data": {
      "image/png": "[encoded data removed]",
      "text/plain": [
       "<Figure size 432x288 with 1 Axes>"
      ]
     },
     "metadata": {
      "needs_background": "light"
     },
     "output_type": "display_data"
    }
   ],
   "source": [
    "final.iloc[1,:-1].plot.box()\n",
    "# Lower_wisker = Q1-1.5(Q3-Q1)\n",
    "# Upper_wisker = Q3+1.5(Q3-Q1)"
   ]
  },
  {
   "cell_type": "markdown",
   "metadata": {
    "id": "GpDDfGJb_w89"
   },
   "source": [
    "Can you obtain which sample name has the most similar mean to the population mean?\n",
    "\n",
    "*Hint: use np.argmin()*"
   ]
  },
  {
   "cell_type": "code",
   "execution_count": 52,
   "metadata": {
    "colab": {
     "base_uri": "https://localhost:8080/"
    },
    "executionInfo": {
     "elapsed": 209,
     "status": "ok",
     "timestamp": 1623313161620,
     "user": {
      "displayName": "Ignacio Soteras",
      "photoUrl": "",
      "userId": "02050793736257155229"
     },
     "user_tz": -120
    },
    "id": "ZP_pxmXL_6Xk",
    "outputId": "eaf28364-a908-4023-d901-ac6586c375dc"
   },
   "outputs": [
    {
     "name": "stdout",
     "output_type": "stream",
     "text": [
      "The minimum deviation is: -14.95\n",
      "wich correspondds to 'sample_2'\n"
     ]
    }
   ],
   "source": [
    "loc_min = np.argmin(np.abs(final.iloc[1,:-1]))\n",
    "print(\"The minimum deviation is: {:.2f}\".format(final.iloc[1,loc_min]))\n",
    "print(\"wich correspondds to 'sample_{}'\".format(loc_min+1))"
   ]
  },
  {
   "cell_type": "code",
   "execution_count": 26,
   "metadata": {
    "colab": {
     "base_uri": "https://localhost:8080/",
     "height": 128
    },
    "executionInfo": {
     "elapsed": 230,
     "status": "ok",
     "timestamp": 1623313212659,
     "user": {
      "displayName": "Ignacio Soteras",
      "photoUrl": "",
      "userId": "02050793736257155229"
     },
     "user_tz": -120
    },
    "id": "GY-w9movJYkF",
    "outputId": "15309fae-fa63-4b5d-a5a5-9b2d9b08a254"
   },
   "outputs": [
    {
     "data": {
      "text/html": [
       "<div>\n",
       "<style scoped>\n",
       "    .dataframe tbody tr th:only-of-type {\n",
       "        vertical-align: middle;\n",
       "    }\n",
       "\n",
       "    .dataframe tbody tr th {\n",
       "        vertical-align: top;\n",
       "    }\n",
       "\n",
       "    .dataframe thead th {\n",
       "        text-align: right;\n",
       "    }\n",
       "</style>\n",
       "<table border=\"1\" class=\"dataframe\">\n",
       "  <thead>\n",
       "    <tr style=\"text-align: right;\">\n",
       "      <th></th>\n",
       "      <th>sample_1</th>\n",
       "      <th>sample_2</th>\n",
       "      <th>sample_3</th>\n",
       "      <th>sample_4</th>\n",
       "      <th>sample_5</th>\n",
       "      <th>sample_6</th>\n",
       "      <th>sample_7</th>\n",
       "      <th>sample_8</th>\n",
       "      <th>sample_9</th>\n",
       "      <th>sample_10</th>\n",
       "      <th>...</th>\n",
       "      <th>sample_12</th>\n",
       "      <th>sample_13</th>\n",
       "      <th>sample_14</th>\n",
       "      <th>sample_15</th>\n",
       "      <th>sample_16</th>\n",
       "      <th>sample_17</th>\n",
       "      <th>sample_18</th>\n",
       "      <th>sample_19</th>\n",
       "      <th>sample_20</th>\n",
       "      <th>population_mean</th>\n",
       "    </tr>\n",
       "  </thead>\n",
       "  <tbody>\n",
       "    <tr>\n",
       "      <th>0</th>\n",
       "      <td>501.02700</td>\n",
       "      <td>514.76300</td>\n",
       "      <td>491.29100</td>\n",
       "      <td>497.36800</td>\n",
       "      <td>497.35100</td>\n",
       "      <td>513.33900</td>\n",
       "      <td>492.23600</td>\n",
       "      <td>504.92700</td>\n",
       "      <td>490.75400</td>\n",
       "      <td>501.32000</td>\n",
       "      <td>...</td>\n",
       "      <td>502.41100</td>\n",
       "      <td>505.14200</td>\n",
       "      <td>490.34600</td>\n",
       "      <td>491.15800</td>\n",
       "      <td>499.20400</td>\n",
       "      <td>483.49500</td>\n",
       "      <td>509.22600</td>\n",
       "      <td>499.00200</td>\n",
       "      <td>499.73800</td>\n",
       "      <td>499.44726</td>\n",
       "    </tr>\n",
       "    <tr>\n",
       "      <th>1</th>\n",
       "      <td>-1.57974</td>\n",
       "      <td>-15.31574</td>\n",
       "      <td>8.15626</td>\n",
       "      <td>2.07926</td>\n",
       "      <td>2.09626</td>\n",
       "      <td>-13.89174</td>\n",
       "      <td>7.21126</td>\n",
       "      <td>-5.47974</td>\n",
       "      <td>8.69326</td>\n",
       "      <td>-1.87274</td>\n",
       "      <td>...</td>\n",
       "      <td>-2.96374</td>\n",
       "      <td>-5.69474</td>\n",
       "      <td>9.10126</td>\n",
       "      <td>8.28926</td>\n",
       "      <td>0.24326</td>\n",
       "      <td>15.95226</td>\n",
       "      <td>-9.77874</td>\n",
       "      <td>0.44526</td>\n",
       "      <td>-0.29074</td>\n",
       "      <td>NaN</td>\n",
       "    </tr>\n",
       "  </tbody>\n",
       "</table>\n",
       "<p>2 rows × 21 columns</p>\n",
       "</div>"
      ],
      "text/plain": [
       "    sample_1   sample_2   sample_3   sample_4   sample_5   sample_6  \\\n",
       "0  501.02700  514.76300  491.29100  497.36800  497.35100  513.33900   \n",
       "1   -1.57974  -15.31574    8.15626    2.07926    2.09626  -13.89174   \n",
       "\n",
       "    sample_7   sample_8   sample_9  sample_10  ...  sample_12  sample_13  \\\n",
       "0  492.23600  504.92700  490.75400  501.32000  ...  502.41100  505.14200   \n",
       "1    7.21126   -5.47974    8.69326   -1.87274  ...   -2.96374   -5.69474   \n",
       "\n",
       "   sample_14  sample_15  sample_16  sample_17  sample_18  sample_19  \\\n",
       "0  490.34600  491.15800  499.20400  483.49500  509.22600  499.00200   \n",
       "1    9.10126    8.28926    0.24326   15.95226   -9.77874    0.44526   \n",
       "\n",
       "   sample_20  population_mean  \n",
       "0  499.73800        499.44726  \n",
       "1   -0.29074              NaN  \n",
       "\n",
       "[2 rows x 21 columns]"
      ]
     },
     "execution_count": 26,
     "metadata": {},
     "output_type": "execute_result"
    }
   ],
   "source": [
    "final"
   ]
  },
  {
   "cell_type": "markdown",
   "metadata": {
    "id": "eyGuSugIDVP1"
   },
   "source": [
    "Now get the coresponding column name"
   ]
  },
  {
   "cell_type": "code",
   "execution_count": 27,
   "metadata": {
    "colab": {
     "base_uri": "https://localhost:8080/",
     "height": 35
    },
    "executionInfo": {
     "elapsed": 234,
     "status": "ok",
     "timestamp": 1623313201388,
     "user": {
      "displayName": "Ignacio Soteras",
      "photoUrl": "",
      "userId": "02050793736257155229"
     },
     "user_tz": -120
    },
    "id": "aAxEMeUNCDUn",
    "outputId": "114c848f-52d7-4da0-ccc5-9b2f85368bd6"
   },
   "outputs": [
    {
     "data": {
      "text/plain": [
       "'sample_16'"
      ]
     },
     "execution_count": 27,
     "metadata": {},
     "output_type": "execute_result"
    }
   ],
   "source": [
    "final.columns[loc_min]"
   ]
  },
  {
   "cell_type": "markdown",
   "metadata": {
    "id": "Dwu_ZNQiFlR1"
   },
   "source": [
    "What is the mean of the samples deviations?"
   ]
  },
  {
   "cell_type": "code",
   "execution_count": 28,
   "metadata": {
    "colab": {
     "base_uri": "https://localhost:8080/"
    },
    "executionInfo": {
     "elapsed": 215,
     "status": "ok",
     "timestamp": 1623313264073,
     "user": {
      "displayName": "Ignacio Soteras",
      "photoUrl": "",
      "userId": "02050793736257155229"
     },
     "user_tz": -120
    },
    "id": "uIhDeEQIFq1w",
    "outputId": "f9647969-a2b5-44b4-d862-8f082ae2e822"
   },
   "outputs": [
    {
     "name": "stdout",
     "output_type": "stream",
     "text": [
      "The mean sample deviation is -0.17: \n"
     ]
    }
   ],
   "source": [
    "print(\"The mean sample deviation is {:.2f}: \".format(np.mean(final.iloc[1,:-1])))"
   ]
  },
  {
   "cell_type": "markdown",
   "metadata": {
    "id": "kRTaiOCnGoB4"
   },
   "source": [
    "What is the median of the deviations from the mean?"
   ]
  },
  {
   "cell_type": "code",
   "execution_count": 29,
   "metadata": {
    "colab": {
     "base_uri": "https://localhost:8080/"
    },
    "executionInfo": {
     "elapsed": 213,
     "status": "ok",
     "timestamp": 1623313290185,
     "user": {
      "displayName": "Ignacio Soteras",
      "photoUrl": "",
      "userId": "02050793736257155229"
     },
     "user_tz": -120
    },
    "id": "8yLZkrBLGxA2",
    "outputId": "abf52f79-b483-4a93-a20d-e63caa228878"
   },
   "outputs": [
    {
     "name": "stdout",
     "output_type": "stream",
     "text": [
      "The median sample deviation is -0.02: \n"
     ]
    }
   ],
   "source": [
    "print(\"The median sample deviation is {:.2f}: \".format(np.median(final.iloc[1,:-1])))"
   ]
  }
 ],
 "metadata": {
  "colab": {
   "authorship_tag": "ABX9TyOqDXoLuxmo3Jlj+rqoFHBu",
   "name": "Copy of Code_along_descriptive_statistics_Structure.ipynb",
   "provenance": []
  },
  "kernelspec": {
   "display_name": "Python 3",
   "language": "python",
   "name": "python3"
  },
  "language_info": {
   "codemirror_mode": {
    "name": "ipython",
    "version": 3
   },
   "file_extension": ".py",
   "mimetype": "text/x-python",
   "name": "python",
   "nbconvert_exporter": "python",
   "pygments_lexer": "ipython3",
   "version": "3.9.6"
  }
 },
 "nbformat": 4,
 "nbformat_minor": 1
}
