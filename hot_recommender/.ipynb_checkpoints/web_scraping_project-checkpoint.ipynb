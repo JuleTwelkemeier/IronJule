{
 "cells": [
  {
   "cell_type": "markdown",
   "id": "6c155280",
   "metadata": {},
   "source": [
    "# Hot Music recommender\n",
    "\n",
    "### [Prototype 1](#1)\n",
    "#### [Retrieving music information from \"The Hot 100 Chart - Billboard\"](#2)\n",
    "#### [Retrieving music information from \"DECADE-END CHARTS HOT 100 SONGS\"](#3)\n",
    "#### [Creating recommendations based on a song and charts input](#4)\n",
    "    "
   ]
  },
  {
   "cell_type": "markdown",
   "id": "c0b50cc0",
   "metadata": {},
   "source": [
    "## Prototype 1<a class=\"anchor\" id=\"1\"></a>\n",
    "Hot music recommender based on current Top 100 charts or Top 100 decade-end charts.\n"
   ]
  },
  {
   "cell_type": "code",
   "execution_count": 341,
   "id": "4f732b00",
   "metadata": {},
   "outputs": [],
   "source": [
    "#libraries\n",
    "\n",
    "from bs4 import BeautifulSoup\n",
    "import requests\n",
    "import pandas as pd"
   ]
  },
  {
   "cell_type": "markdown",
   "id": "96825f07",
   "metadata": {},
   "source": [
    "### Retrieving music information from \"The Hot 100 Chart - Billboard\"<a class=\"anchor\" id=\"2\"></a>"
   ]
  },
  {
   "cell_type": "code",
   "execution_count": 342,
   "id": "78fbef0e",
   "metadata": {},
   "outputs": [],
   "source": [
    "#top 100 charts url\n",
    "url = \"https://www.billboard.com/charts/hot-100\""
   ]
  },
  {
   "cell_type": "code",
   "execution_count": 343,
   "id": "a2de8f3f",
   "metadata": {},
   "outputs": [
    {
     "data": {
      "text/plain": [
       "200"
      ]
     },
     "execution_count": 343,
     "metadata": {},
     "output_type": "execute_result"
    }
   ],
   "source": [
    "#download html with a get request\n",
    "response = requests.get(url)\n",
    "response.status_code # 200 status code means OK! when it starts with 4 or 5 it is an error"
   ]
  },
  {
   "cell_type": "code",
   "execution_count": 344,
   "id": "7826c72a",
   "metadata": {},
   "outputs": [],
   "source": [
    "# parse html (create the 'soup')\n",
    "soup = BeautifulSoup(response.content, \"html.parser\")\n",
    "#check that the html code looks like it should\n",
    "#soup"
   ]
  },
  {
   "cell_type": "code",
   "execution_count": 345,
   "id": "bb0b5551",
   "metadata": {},
   "outputs": [],
   "source": [
    "# song_title\n",
    "song_title = []\n",
    "for i in soup.find_all(\"span\", {\"class\":\"chart-element__information__song\"}):\n",
    "    #print(i.get_text())\n",
    "    song_title.append(i.text)\n",
    "\n",
    "#song_title"
   ]
  },
  {
   "cell_type": "code",
   "execution_count": 346,
   "id": "cebdbe99",
   "metadata": {},
   "outputs": [],
   "source": [
    "#artist\n",
    "song_artist = []\n",
    "for i in soup.find_all(\"span\", {\"class\":\"chart-element__information__artist\"}):\n",
    "    song_artist.append(i.text)\n",
    "\n",
    "#song_artist                       "
   ]
  },
  {
   "cell_type": "code",
   "execution_count": 347,
   "id": "056ac84c",
   "metadata": {},
   "outputs": [],
   "source": [
    "#album & #release year not available from that url"
   ]
  },
  {
   "cell_type": "code",
   "execution_count": 348,
   "id": "4a23daf3",
   "metadata": {},
   "outputs": [],
   "source": [
    "#creating df from lists\n",
    "Top100 = pd.DataFrame(list(zip(song_title, song_artist)),columns =['Title','Artist'],index=pd.RangeIndex(start=1, stop=101))\n",
    "                     \n",
    "               "
   ]
  },
  {
   "cell_type": "code",
   "execution_count": 349,
   "id": "d5d51c35",
   "metadata": {},
   "outputs": [
    {
     "data": {
      "text/html": [
       "<div>\n",
       "<style scoped>\n",
       "    .dataframe tbody tr th:only-of-type {\n",
       "        vertical-align: middle;\n",
       "    }\n",
       "\n",
       "    .dataframe tbody tr th {\n",
       "        vertical-align: top;\n",
       "    }\n",
       "\n",
       "    .dataframe thead th {\n",
       "        text-align: right;\n",
       "    }\n",
       "</style>\n",
       "<table border=\"1\" class=\"dataframe\">\n",
       "  <thead>\n",
       "    <tr style=\"text-align: right;\">\n",
       "      <th></th>\n",
       "      <th>Title</th>\n",
       "      <th>Artist</th>\n",
       "    </tr>\n",
       "  </thead>\n",
       "  <tbody>\n",
       "    <tr>\n",
       "      <th>1</th>\n",
       "      <td>Butter</td>\n",
       "      <td>BTS</td>\n",
       "    </tr>\n",
       "    <tr>\n",
       "      <th>2</th>\n",
       "      <td>Stay</td>\n",
       "      <td>The Kid LAROI &amp; Justin Bieber</td>\n",
       "    </tr>\n",
       "    <tr>\n",
       "      <th>3</th>\n",
       "      <td>Bad Habits</td>\n",
       "      <td>Ed Sheeran</td>\n",
       "    </tr>\n",
       "    <tr>\n",
       "      <th>4</th>\n",
       "      <td>Good 4 U</td>\n",
       "      <td>Olivia Rodrigo</td>\n",
       "    </tr>\n",
       "    <tr>\n",
       "      <th>5</th>\n",
       "      <td>Kiss Me More</td>\n",
       "      <td>Doja Cat Featuring SZA</td>\n",
       "    </tr>\n",
       "    <tr>\n",
       "      <th>...</th>\n",
       "      <td>...</td>\n",
       "      <td>...</td>\n",
       "    </tr>\n",
       "    <tr>\n",
       "      <th>96</th>\n",
       "      <td>In Da Getto</td>\n",
       "      <td>J Balvin &amp; Skrillex</td>\n",
       "    </tr>\n",
       "    <tr>\n",
       "      <th>97</th>\n",
       "      <td>Brutal</td>\n",
       "      <td>Olivia Rodrigo</td>\n",
       "    </tr>\n",
       "    <tr>\n",
       "      <th>98</th>\n",
       "      <td>AM</td>\n",
       "      <td>Nio Garcia X J Balvin X Bad Bunny</td>\n",
       "    </tr>\n",
       "    <tr>\n",
       "      <th>99</th>\n",
       "      <td>Repeat It</td>\n",
       "      <td>Lil Tecca &amp; Gunna</td>\n",
       "    </tr>\n",
       "    <tr>\n",
       "      <th>100</th>\n",
       "      <td>Matt Hardy 999</td>\n",
       "      <td>Trippie Redd Featuring Juice WRLD</td>\n",
       "    </tr>\n",
       "  </tbody>\n",
       "</table>\n",
       "<p>100 rows × 2 columns</p>\n",
       "</div>"
      ],
      "text/plain": [
       "              Title                             Artist\n",
       "1            Butter                                BTS\n",
       "2              Stay      The Kid LAROI & Justin Bieber\n",
       "3        Bad Habits                         Ed Sheeran\n",
       "4          Good 4 U                     Olivia Rodrigo\n",
       "5      Kiss Me More             Doja Cat Featuring SZA\n",
       "..              ...                                ...\n",
       "96      In Da Getto                J Balvin & Skrillex\n",
       "97           Brutal                     Olivia Rodrigo\n",
       "98               AM  Nio Garcia X J Balvin X Bad Bunny\n",
       "99        Repeat It                  Lil Tecca & Gunna\n",
       "100  Matt Hardy 999  Trippie Redd Featuring Juice WRLD\n",
       "\n",
       "[100 rows x 2 columns]"
      ]
     },
     "execution_count": 349,
     "metadata": {},
     "output_type": "execute_result"
    }
   ],
   "source": [
    "Top100"
   ]
  },
  {
   "cell_type": "markdown",
   "id": "43e794d1",
   "metadata": {},
   "source": [
    "-----"
   ]
  },
  {
   "cell_type": "markdown",
   "id": "2584927d",
   "metadata": {},
   "source": [
    "### Retrieving music information from \"DECADE-END CHARTS HOT 100 SONGS\"<a class=\"anchor\" id=\"3\"></a>"
   ]
  },
  {
   "cell_type": "code",
   "execution_count": 351,
   "id": "256f44d1",
   "metadata": {},
   "outputs": [],
   "source": [
    "url_decade= \"https://www.billboard.com/charts/decade-end/hot-100\""
   ]
  },
  {
   "cell_type": "code",
   "execution_count": 352,
   "id": "2d516f10",
   "metadata": {},
   "outputs": [
    {
     "data": {
      "text/plain": [
       "200"
      ]
     },
     "execution_count": 352,
     "metadata": {},
     "output_type": "execute_result"
    }
   ],
   "source": [
    "#download html with a get request\n",
    "response = requests.get(url_decade)\n",
    "response.status_code # 200 status code means OK! when it starts with 4 or 5 it is an error"
   ]
  },
  {
   "cell_type": "code",
   "execution_count": 353,
   "id": "e6d908e6",
   "metadata": {},
   "outputs": [],
   "source": [
    "# parse html (create the 'soup')\n",
    "soup_decade = BeautifulSoup(response.content, \"html.parser\")\n",
    "#check that the html code looks like it should\n",
    "#soup_decade"
   ]
  },
  {
   "cell_type": "code",
   "execution_count": 354,
   "id": "b32e0011",
   "metadata": {},
   "outputs": [],
   "source": [
    "# song_title\n",
    "song_title_decade = []\n",
    "for i in soup_decade.find_all(\"div\", {\"class\":\"ye-chart-item__title\"}):\n",
    "    song_title_decade.append(i.text.strip())\n",
    "#song_title_decade"
   ]
  },
  {
   "cell_type": "code",
   "execution_count": 355,
   "id": "7b48bfe8",
   "metadata": {},
   "outputs": [],
   "source": [
    "#artist\n",
    "song_artist_decade = []\n",
    "for i in soup_decade.find_all(\"div\", {\"class\":\"ye-chart-item__artist\"}):\n",
    "    song_artist_decade.append(i.text.strip())\n",
    "\n",
    "#song_artist_decade "
   ]
  },
  {
   "cell_type": "code",
   "execution_count": 356,
   "id": "ecc1b987",
   "metadata": {},
   "outputs": [],
   "source": [
    "#peak time of the songs\n",
    "song_peak_decade = []\n",
    "for i in soup_decade.find_all(\"span\", {\"class\":\"decade-end-chart-item__peak-info-date\"}):\n",
    "    song_peak_decade.append(i.text.strip(\"Peak Date\"))\n",
    "\n",
    "#song_peak_decade\n",
    "\n"
   ]
  },
  {
   "cell_type": "code",
   "execution_count": 357,
   "id": "97d59ff0",
   "metadata": {},
   "outputs": [],
   "source": [
    "#creating df from lists\n",
    "Top100Decade = pd.DataFrame(list(zip(song_title_decade, song_artist_decade, song_peak_decade)),columns =['Title','Artist', \"Peak\"],index=pd.RangeIndex(start=1, stop=101))\n",
    "                     \n",
    "               "
   ]
  },
  {
   "cell_type": "code",
   "execution_count": 358,
   "id": "d0a1d767",
   "metadata": {},
   "outputs": [
    {
     "data": {
      "text/html": [
       "<div>\n",
       "<style scoped>\n",
       "    .dataframe tbody tr th:only-of-type {\n",
       "        vertical-align: middle;\n",
       "    }\n",
       "\n",
       "    .dataframe tbody tr th {\n",
       "        vertical-align: top;\n",
       "    }\n",
       "\n",
       "    .dataframe thead th {\n",
       "        text-align: right;\n",
       "    }\n",
       "</style>\n",
       "<table border=\"1\" class=\"dataframe\">\n",
       "  <thead>\n",
       "    <tr style=\"text-align: right;\">\n",
       "      <th></th>\n",
       "      <th>Title</th>\n",
       "      <th>Artist</th>\n",
       "      <th>Peak</th>\n",
       "    </tr>\n",
       "  </thead>\n",
       "  <tbody>\n",
       "    <tr>\n",
       "      <th>1</th>\n",
       "      <td>Uptown Funk!</td>\n",
       "      <td>Mark Ronson Featuring Bruno Mars</td>\n",
       "      <td>2015-01-17</td>\n",
       "    </tr>\n",
       "    <tr>\n",
       "      <th>2</th>\n",
       "      <td>Party Rock Anthem</td>\n",
       "      <td>LMFAO Featuring Lauren Bennett &amp; GoonRock</td>\n",
       "      <td>2011-07-16</td>\n",
       "    </tr>\n",
       "    <tr>\n",
       "      <th>3</th>\n",
       "      <td>Shape Of You</td>\n",
       "      <td>Ed Sheeran</td>\n",
       "      <td>2017-01-28</td>\n",
       "    </tr>\n",
       "    <tr>\n",
       "      <th>4</th>\n",
       "      <td>Closer</td>\n",
       "      <td>The Chainsmokers Featuring Halsey</td>\n",
       "      <td>2016-09-03</td>\n",
       "    </tr>\n",
       "    <tr>\n",
       "      <th>5</th>\n",
       "      <td>Girls Like You</td>\n",
       "      <td>Maroon 5 Featuring Cardi B</td>\n",
       "      <td>2018-09-29</td>\n",
       "    </tr>\n",
       "    <tr>\n",
       "      <th>...</th>\n",
       "      <td>...</td>\n",
       "      <td>...</td>\n",
       "      <td>...</td>\n",
       "    </tr>\n",
       "    <tr>\n",
       "      <th>96</th>\n",
       "      <td>Panda</td>\n",
       "      <td>Desiigner</td>\n",
       "      <td>2016-05-07</td>\n",
       "    </tr>\n",
       "    <tr>\n",
       "      <th>97</th>\n",
       "      <td>Break Your Heart</td>\n",
       "      <td>Taio Cruz Featuring Ludacris</td>\n",
       "      <td>2010-03-20</td>\n",
       "    </tr>\n",
       "    <tr>\n",
       "      <th>98</th>\n",
       "      <td>In My Feelings</td>\n",
       "      <td>Drake</td>\n",
       "      <td>2018-07-21</td>\n",
       "    </tr>\n",
       "    <tr>\n",
       "      <th>99</th>\n",
       "      <td>Wrecking Ball</td>\n",
       "      <td>Miley Cyrus</td>\n",
       "      <td>2013-09-28</td>\n",
       "    </tr>\n",
       "    <tr>\n",
       "      <th>100</th>\n",
       "      <td>Ho Hey</td>\n",
       "      <td>The Lumineers</td>\n",
       "      <td>2012-12-29</td>\n",
       "    </tr>\n",
       "  </tbody>\n",
       "</table>\n",
       "<p>100 rows × 3 columns</p>\n",
       "</div>"
      ],
      "text/plain": [
       "                 Title                                     Artist        Peak\n",
       "1         Uptown Funk!           Mark Ronson Featuring Bruno Mars  2015-01-17\n",
       "2    Party Rock Anthem  LMFAO Featuring Lauren Bennett & GoonRock  2011-07-16\n",
       "3         Shape Of You                                 Ed Sheeran  2017-01-28\n",
       "4               Closer          The Chainsmokers Featuring Halsey  2016-09-03\n",
       "5       Girls Like You                 Maroon 5 Featuring Cardi B  2018-09-29\n",
       "..                 ...                                        ...         ...\n",
       "96               Panda                                  Desiigner  2016-05-07\n",
       "97    Break Your Heart               Taio Cruz Featuring Ludacris  2010-03-20\n",
       "98      In My Feelings                                      Drake  2018-07-21\n",
       "99       Wrecking Ball                                Miley Cyrus  2013-09-28\n",
       "100             Ho Hey                              The Lumineers  2012-12-29\n",
       "\n",
       "[100 rows x 3 columns]"
      ]
     },
     "execution_count": 358,
     "metadata": {},
     "output_type": "execute_result"
    }
   ],
   "source": [
    "Top100Decade"
   ]
  },
  {
   "cell_type": "markdown",
   "id": "49b01138",
   "metadata": {},
   "source": [
    "-------"
   ]
  },
  {
   "cell_type": "markdown",
   "id": "addf164f",
   "metadata": {},
   "source": [
    "### Creating recommendations based on a song and charts input <a class=\"anchor\" id=\"4\"></a>"
   ]
  },
  {
   "cell_type": "code",
   "execution_count": 365,
   "id": "0cb99bac",
   "metadata": {},
   "outputs": [],
   "source": [
    "#taking an input and check if it's in the df, if yes it will recommend another song from the top 100 but will exclude the song input\n",
    "\n",
    "def pick_song():\n",
    "    choose_song = input(\"choose your song \")\n",
    "    df = input(\"Which charts do you want to search? Select Top100 for latest charts and Top100Decade for decade charts \")\n",
    "    if df == \"Top100\":\n",
    "        check = Top100.isin([choose_song]).any().any()\n",
    "    elif df == \"Top100Decade\":\n",
    "        check = Top100Decade.isin([choose_song]).any().any()\n",
    "    else:\n",
    "        print(\"wrong input\")\n",
    "        df = input(\"Which charts do you want to search? Select `top_100` for latest charts and `top_100_decade` for decade-end charts \")\n",
    "        \n",
    "\n",
    "    if check :\n",
    "        print(\"\\nThis song is in the top 100 charts. You might also like this song:\\n\")\n",
    "        print(Top100.query('(Title != \"choose_song\")').sample())\n",
    "    else :\n",
    "        print(\"\\nThis song is not in this top 100 charts \")"
   ]
  },
  {
   "cell_type": "code",
   "execution_count": 367,
   "id": "4d043fb2",
   "metadata": {},
   "outputs": [
    {
     "name": "stdout",
     "output_type": "stream",
     "text": [
      "choose your song AM\n",
      "Which charts do you want to search? Select Top100 for latest charts and Top100Decade for decade charts Top100\n",
      "\n",
      "This song is in the top 100 charts. You might also like this song:\n",
      "\n",
      "        Title                 Artist\n",
      "21  You Right  Doja Cat & The Weeknd\n"
     ]
    }
   ],
   "source": [
    "pick_song()"
   ]
  },
  {
   "cell_type": "code",
   "execution_count": null,
   "id": "02c4c1d1",
   "metadata": {},
   "outputs": [],
   "source": []
  }
 ],
 "metadata": {
  "kernelspec": {
   "display_name": "Python 3",
   "language": "python",
   "name": "python3"
  },
  "language_info": {
   "codemirror_mode": {
    "name": "ipython",
    "version": 3
   },
   "file_extension": ".py",
   "mimetype": "text/x-python",
   "name": "python",
   "nbconvert_exporter": "python",
   "pygments_lexer": "ipython3",
   "version": "3.9.6"
  }
 },
 "nbformat": 4,
 "nbformat_minor": 5
}
