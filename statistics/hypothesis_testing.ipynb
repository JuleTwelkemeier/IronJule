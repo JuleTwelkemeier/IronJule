{
 "cells": [
  {
   "cell_type": "markdown",
   "id": "82da325f",
   "metadata": {},
   "source": [
    "# Lab | Hypothesis Testing\n",
    "\n",
    "## Instructions\n",
    "It is assumed that the mean systolic blood pressure is μ = 120 mm Hg. In the Honolulu Heart Study, a sample of n = 100 people had an average systolic blood pressure of 130.1 mm Hg with a standard deviation of 21.21 mm Hg. Is the group significantly different (with respect to systolic blood pressure!) from the regular population?\n",
    "\n",
    "- Set up the hypothesis test.\n",
    "- Write down all the steps followed for setting up the test.\n",
    "- Calculate the test statistic by hand and also code it in Python. It should be 4.76190. What decision can you make -  based on this calculated value?"
   ]
  },
  {
   "cell_type": "markdown",
   "id": "01b38aac",
   "metadata": {},
   "source": [
    "Ho = the population mean systolic blood pressure is μ = 120 mm Hg\n",
    "\n",
    "Ha = the population mean systolic blood pressure is not μ > 120 mm Hg\n",
    "\n",
    "- Fix the confidence level. = 95 %\n",
    "- Compute the test statistic. My sample parameter  z \n",
    "- Compute the critical value of the corresponding distribution.\n",
    "- Compare the test statistic with the critical value.\n",
    "- If the test statistic is in the allowed region, (the allowed region is determined by the confidence level) accept the null hypothesis, otherwise reject the it.\n",
    "- The allowed region depends on the type of test.\n",
    "\n"
   ]
  },
  {
   "cell_type": "code",
   "execution_count": 16,
   "id": "2939b15b",
   "metadata": {},
   "outputs": [],
   "source": [
    "import math\n",
    "import scipy.stats "
   ]
  },
  {
   "cell_type": "code",
   "execution_count": 26,
   "id": "fb80a190",
   "metadata": {},
   "outputs": [
    {
     "data": {
      "text/plain": [
       "-1.6448536269514722"
      ]
     },
     "execution_count": 26,
     "metadata": {},
     "output_type": "execute_result"
    }
   ],
   "source": [
    "zc = +- scipy.stats.norm.ppf(0.95)\n",
    "zc"
   ]
  },
  {
   "cell_type": "code",
   "execution_count": 24,
   "id": "e297457d",
   "metadata": {},
   "outputs": [
    {
     "data": {
      "text/plain": [
       "4.761904761904759"
      ]
     },
     "execution_count": 24,
     "metadata": {},
     "output_type": "execute_result"
    }
   ],
   "source": [
    "# Calculation by hand\n",
    "z = (130.1 - 120)/(21.21/math.sqrt(100))\n",
    "z"
   ]
  },
  {
   "cell_type": "code",
   "execution_count": 25,
   "id": "110c48c6",
   "metadata": {},
   "outputs": [],
   "source": [
    "# Our z = 4.7619 > - 1.64 = zc\n",
    "# --> Ho rejected and Ha accepted"
   ]
  },
  {
   "cell_type": "code",
   "execution_count": null,
   "id": "fc22902e",
   "metadata": {},
   "outputs": [],
   "source": []
  }
 ],
 "metadata": {
  "kernelspec": {
   "display_name": "Python 3",
   "language": "python",
   "name": "python3"
  },
  "language_info": {
   "codemirror_mode": {
    "name": "ipython",
    "version": 3
   },
   "file_extension": ".py",
   "mimetype": "text/x-python",
   "name": "python",
   "nbconvert_exporter": "python",
   "pygments_lexer": "ipython3",
   "version": "3.9.6"
  }
 },
 "nbformat": 4,
 "nbformat_minor": 5
}
