{
 "cells": [
  {
   "cell_type": "markdown",
   "id": "58f6ee8c",
   "metadata": {},
   "source": [
    "# Lab Case Study\n",
    "\n",
    "### Scenario\n",
    "\n",
    "You are working as an analyst for an auto insurance company. The company has collected some data about its customers including their demographics, education, employment, policy details, vehicle information on which insurance policy is, and claim amounts. You will help the senior management with some business questions that will help them to better understand their customers, improve their services, and improve profitability.\n",
    "\n",
    "### Business Objectives\n",
    "\n",
    "- Retain customers,\n",
    "- analyze relevant customer data,\n",
    "- develop focused customer retention programs.\n",
    "\n",
    "Based on the analysis, take targeted actions to increase profitable customer response, retention, and growth.\n",
    "\n",
    "### Activities\n",
    "\n",
    "Refer to the `Activities.md` file where you will find guidelines for some of the activities that you want to do.\n",
    "\n",
    "### Data\n",
    "\n",
    "The csv files is provided in the folder. The columns in the file are self-explanatory."
   ]
  },
  {
   "cell_type": "markdown",
   "id": "6393278d",
   "metadata": {},
   "source": [
    "# Activites List\n",
    "\n",
    "Here are some of the tasks you need to perform:\n",
    "\n",
    "### Activities:\n",
    "-  Aggregate data into one Data Frame using Pandas.\n",
    "- Standardizing header names\n",
    "- Deleting and rearranging columns – delete the column customer as it is only a unique identifier for each row of data\n",
    "- Working with data types – Check the data types of all the columns and fix the incorrect ones (for ex. customer lifetime value and number of complaints )\n",
    "- Filtering data and Correcting typos – Filter the data in state and gender column to standardize the texts in those columns\n",
    "- Removing duplicates\n",
    "- Optional:Replacing null values – Replace missing values with means of the column (for numerical columns)\n",
    "\n",
    "- Bucketing the data - Write a function to replace column \"State\" to different zones. California as West Region, Oregon as North West, and Washington as East, and Arizona and Nevada as Central\n",
    "- Standardizing the data – Use string functions to standardize the text data (lower case)\n",
    "- Which columns are numerical?\n",
    "- Which columns are categorical?\n",
    "- Check and deal with NaN values. (Hint:Replacing null values – Replace missing values with means of the column (for numerical columns)).\n",
    "- Datetime format - Extract the months from the dataset and store in a separate column. Then filter the data to show only the information for the first quarter , ie. January, February and March. Hint: If data from March does not exist, consider only January and February.\n",
    "- BONUS: Put all the previously mentioned data transformations into a function/functions.\n"
   ]
  },
  {
   "cell_type": "markdown",
   "id": "9b6f44e8",
   "metadata": {},
   "source": [
    "----"
   ]
  },
  {
   "cell_type": "markdown",
   "id": "a6221aeb",
   "metadata": {},
   "source": [
    "## 1. Aggregate data into one Data Frame using Pandas."
   ]
  },
  {
   "cell_type": "code",
   "execution_count": 120,
   "id": "1f216c29",
   "metadata": {},
   "outputs": [],
   "source": [
    "\n",
    "import pandas as pd\n",
    "df= pd.read_csv('files/file1.csv')\n",
    "df1=pd.read_csv('files/file2.csv')\n",
    "\n"
   ]
  },
  {
   "cell_type": "code",
   "execution_count": 121,
   "id": "fce90d7f",
   "metadata": {},
   "outputs": [],
   "source": [
    "#df"
   ]
  },
  {
   "cell_type": "code",
   "execution_count": 122,
   "id": "77ace539",
   "metadata": {},
   "outputs": [
    {
     "data": {
      "text/plain": [
       "True"
      ]
     },
     "execution_count": 122,
     "metadata": {},
     "output_type": "execute_result"
    }
   ],
   "source": [
    "set(df.columns) == set(df1.columns)"
   ]
  },
  {
   "cell_type": "code",
   "execution_count": 123,
   "id": "7b013629",
   "metadata": {},
   "outputs": [],
   "source": [
    "#concat or append can be used to combine both files\n",
    "#ignore_index='TRUE' is important, otherwhise the previous index will be used\n",
    "\n",
    "df2=pd.concat([df,df1], ignore_index='TRUE')"
   ]
  },
  {
   "cell_type": "code",
   "execution_count": 124,
   "id": "c9f97335",
   "metadata": {},
   "outputs": [],
   "source": [
    "#df2"
   ]
  },
  {
   "cell_type": "markdown",
   "id": "5cdd0400",
   "metadata": {},
   "source": [
    "## 2. Standardizing header names\n",
    "\n"
   ]
  },
  {
   "cell_type": "code",
   "execution_count": 125,
   "id": "c5aecbf7",
   "metadata": {},
   "outputs": [
    {
     "data": {
      "text/plain": [
       "Index(['customer', 'st', 'gender', 'education', 'customer lifetime value',\n",
       "       'income', 'monthly premium auto', 'number of open complaints',\n",
       "       'policy type', 'vehicle class', 'total claim amount'],\n",
       "      dtype='object')"
      ]
     },
     "execution_count": 125,
     "metadata": {},
     "output_type": "execute_result"
    }
   ],
   "source": [
    "df2.columns = [i.lower() for i in df2.columns]\n",
    "df2.columns"
   ]
  },
  {
   "cell_type": "markdown",
   "id": "9f14200a",
   "metadata": {},
   "source": [
    "## 3. Deleting and rearranging columns – delete the column customer as it is only a unique identifier for each row of data"
   ]
  },
  {
   "cell_type": "code",
   "execution_count": 126,
   "id": "77a3c808",
   "metadata": {},
   "outputs": [],
   "source": [
    "#delete column 'customer'\n",
    "df2 = df2.drop(columns = 'customer')"
   ]
  },
  {
   "cell_type": "code",
   "execution_count": 127,
   "id": "4dcea58a",
   "metadata": {},
   "outputs": [],
   "source": [
    "#df2"
   ]
  },
  {
   "cell_type": "markdown",
   "id": "2eb4d7a5",
   "metadata": {},
   "source": [
    "## 4. Working with data types – Check the data types of all the columns and fix the incorrect ones (for ex. customer lifetime value and number of complaints )\n"
   ]
  },
  {
   "cell_type": "code",
   "execution_count": 128,
   "id": "b7581146",
   "metadata": {},
   "outputs": [
    {
     "data": {
      "text/plain": [
       "st                            object\n",
       "gender                        object\n",
       "education                     object\n",
       "customer lifetime value       object\n",
       "income                       float64\n",
       "monthly premium auto         float64\n",
       "number of open complaints     object\n",
       "policy type                   object\n",
       "vehicle class                 object\n",
       "total claim amount           float64\n",
       "dtype: object"
      ]
     },
     "execution_count": 128,
     "metadata": {},
     "output_type": "execute_result"
    }
   ],
   "source": [
    "#Checking the data types of every column\n",
    "df2.dtypes"
   ]
  },
  {
   "cell_type": "code",
   "execution_count": 129,
   "id": "7534d51c",
   "metadata": {},
   "outputs": [
    {
     "name": "stdout",
     "output_type": "stream",
     "text": [
      "<class 'pandas.core.frame.DataFrame'>\n",
      "RangeIndex: 5004 entries, 0 to 5003\n",
      "Data columns (total 10 columns):\n",
      " #   Column                     Non-Null Count  Dtype  \n",
      "---  ------                     --------------  -----  \n",
      " 0   st                         2067 non-null   object \n",
      " 1   gender                     1945 non-null   object \n",
      " 2   education                  2067 non-null   object \n",
      " 3   customer lifetime value    2060 non-null   object \n",
      " 4   income                     2067 non-null   float64\n",
      " 5   monthly premium auto       2067 non-null   float64\n",
      " 6   number of open complaints  2067 non-null   object \n",
      " 7   policy type                2067 non-null   object \n",
      " 8   vehicle class              2067 non-null   object \n",
      " 9   total claim amount         2067 non-null   float64\n",
      "dtypes: float64(3), object(7)\n",
      "memory usage: 391.1+ KB\n"
     ]
    }
   ],
   "source": [
    "df2.info()"
   ]
  },
  {
   "cell_type": "code",
   "execution_count": 130,
   "id": "97bfdb80",
   "metadata": {},
   "outputs": [],
   "source": [
    "#customer lifetime value should be a float and not a %\n",
    "\n",
    "def function(x):\n",
    "    x= str(x)\n",
    "\n",
    "    if x != \"nan\":\n",
    "        #all vales besides of the last % shall be a float number\n",
    "        y = x [:-1]\n",
    "        return float (y)\n",
    "    else:\n",
    "        return 0\n",
    "\n",
    "df2[\"customer lifetime value\"] = df2[\"customer lifetime value\"].apply(function)\n",
    "\n",
    "\n"
   ]
  },
  {
   "cell_type": "code",
   "execution_count": 131,
   "id": "67d8d191",
   "metadata": {},
   "outputs": [
    {
     "data": {
      "text/plain": [
       "1/0/00    1626\n",
       "1/1/00     247\n",
       "1/2/00      93\n",
       "1/3/00      60\n",
       "1/4/00      29\n",
       "1/5/00      12\n",
       "Name: number of open complaints, dtype: int64"
      ]
     },
     "execution_count": 131,
     "metadata": {},
     "output_type": "execute_result"
    }
   ],
   "source": [
    "# values of 'number of complaints'\n",
    "df2[\"number of open complaints\"].value_counts()\n",
    "\n"
   ]
  },
  {
   "cell_type": "code",
   "execution_count": 132,
   "id": "a63aec34",
   "metadata": {},
   "outputs": [],
   "source": [
    "#number of complaints should only disply the 3rd character\n",
    "def function2(x):\n",
    "    x= str(x)\n",
    "\n",
    "    if x != \"nan\":\n",
    "        #all vales besides of the last % shall be a float number\n",
    "        y = x[2]\n",
    "        return int(y)\n",
    "    else:\n",
    "        return 0\n",
    "\n",
    "df2[\"number of open complaints\"] = df2[\"number of open complaints\"].apply(function2)\n",
    "\n",
    "\n"
   ]
  },
  {
   "cell_type": "code",
   "execution_count": 133,
   "id": "e6a1d977",
   "metadata": {},
   "outputs": [
    {
     "data": {
      "text/plain": [
       "array([0, 2, 1, 3, 5, 4])"
      ]
     },
     "execution_count": 133,
     "metadata": {},
     "output_type": "execute_result"
    }
   ],
   "source": [
    "#check of the function\n",
    "df2[\"number of open complaints\"].unique()\n",
    "\n"
   ]
  },
  {
   "cell_type": "markdown",
   "id": "d630b970",
   "metadata": {},
   "source": [
    "## 5. Filtering data and Correcting typos – Filter the data in state and gender column to standardize the texts in those columns\n"
   ]
  },
  {
   "cell_type": "code",
   "execution_count": 134,
   "id": "0d92ba57",
   "metadata": {},
   "outputs": [
    {
     "data": {
      "text/plain": [
       "array(['Washington', 'Arizona', 'Nevada', 'California', 'Oregon', 'Cali',\n",
       "       'AZ', 'WA', nan], dtype=object)"
      ]
     },
     "execution_count": 134,
     "metadata": {},
     "output_type": "execute_result"
    }
   ],
   "source": [
    "#analyse the uniques in st\n",
    "df2.st.unique()\n"
   ]
  },
  {
   "cell_type": "code",
   "execution_count": 135,
   "id": "8aa6a935",
   "metadata": {},
   "outputs": [],
   "source": [
    "#cleaning the state names\n",
    "def st_clean(x):\n",
    "    if not x == x:\n",
    "    #then i know that x is = none\n",
    "        return x\n",
    "    else:\n",
    "        states= {'Arizona' : 'AZ', \n",
    "                 'California': 'CA',\n",
    "                 'Nevada' : 'NV', \n",
    "                 'Cali' :'CA,', \n",
    "                 'Oregon':'OR', \n",
    "                 'AZ' :'AZ', \n",
    "                 'WA':'WA',\n",
    "                 'Washington':'WA',\n",
    "                 'Cali':'CA'}\n",
    "        \n",
    "        return states[x]"
   ]
  },
  {
   "cell_type": "code",
   "execution_count": 136,
   "id": "cd585764",
   "metadata": {},
   "outputs": [],
   "source": [
    "#apply the function to the main df2\n",
    "df2[\"st\"] = df2[\"st\"].apply(st_clean)"
   ]
  },
  {
   "cell_type": "code",
   "execution_count": 137,
   "id": "770aa5fc",
   "metadata": {},
   "outputs": [
    {
     "data": {
      "text/plain": [
       "array([nan, 'F', 'M', 'Femal', 'Male', 'female'], dtype=object)"
      ]
     },
     "execution_count": 137,
     "metadata": {},
     "output_type": "execute_result"
    }
   ],
   "source": [
    "#analyse the uniques in gender\n",
    "df2.gender.unique()"
   ]
  },
  {
   "cell_type": "code",
   "execution_count": 138,
   "id": "b0ecdd41",
   "metadata": {},
   "outputs": [],
   "source": [
    "#cleaning the gender names\n",
    "def gender1_clean(x):\n",
    "    if not x == x:\n",
    "    #then i know that x is = none\n",
    "        return x\n",
    "    else:\n",
    "        g = {'F': 'F', \n",
    "                 'M' : 'M', \n",
    "                 'Femal': 'F',\n",
    "                 'Male' : 'M', \n",
    "                 'female' :'F'}\n",
    "        \n",
    "        return g[x]\n",
    "        \n",
    "\n",
    "\n",
    "\n"
   ]
  },
  {
   "cell_type": "code",
   "execution_count": 139,
   "id": "9c7ebc9d",
   "metadata": {},
   "outputs": [],
   "source": [
    "df2[\"gender\"] = df2[\"gender\"].apply(gender1_clean)"
   ]
  },
  {
   "cell_type": "code",
   "execution_count": 140,
   "id": "16b663d0",
   "metadata": {},
   "outputs": [
    {
     "data": {
      "text/plain": [
       "array([nan, 'F', 'M'], dtype=object)"
      ]
     },
     "execution_count": 140,
     "metadata": {},
     "output_type": "execute_result"
    }
   ],
   "source": [
    "df2.gender.unique()"
   ]
  },
  {
   "cell_type": "markdown",
   "id": "afd3e176",
   "metadata": {},
   "source": [
    "## 6. Removing duplicates\n"
   ]
  },
  {
   "cell_type": "code",
   "execution_count": 142,
   "id": "3be067bf",
   "metadata": {},
   "outputs": [
    {
     "data": {
      "text/html": [
       "<div>\n",
       "<style scoped>\n",
       "    .dataframe tbody tr th:only-of-type {\n",
       "        vertical-align: middle;\n",
       "    }\n",
       "\n",
       "    .dataframe tbody tr th {\n",
       "        vertical-align: top;\n",
       "    }\n",
       "\n",
       "    .dataframe thead th {\n",
       "        text-align: right;\n",
       "    }\n",
       "</style>\n",
       "<table border=\"1\" class=\"dataframe\">\n",
       "  <thead>\n",
       "    <tr style=\"text-align: right;\">\n",
       "      <th></th>\n",
       "      <th>st</th>\n",
       "      <th>gender</th>\n",
       "      <th>education</th>\n",
       "      <th>customer lifetime value</th>\n",
       "      <th>income</th>\n",
       "      <th>monthly premium auto</th>\n",
       "      <th>number of open complaints</th>\n",
       "      <th>policy type</th>\n",
       "      <th>vehicle class</th>\n",
       "      <th>total claim amount</th>\n",
       "    </tr>\n",
       "  </thead>\n",
       "  <tbody>\n",
       "    <tr>\n",
       "      <th>0</th>\n",
       "      <td>WA</td>\n",
       "      <td>NaN</td>\n",
       "      <td>Master</td>\n",
       "      <td>0.00</td>\n",
       "      <td>0.0</td>\n",
       "      <td>1000.0</td>\n",
       "      <td>0</td>\n",
       "      <td>Personal Auto</td>\n",
       "      <td>Four-Door Car</td>\n",
       "      <td>2.704934</td>\n",
       "    </tr>\n",
       "    <tr>\n",
       "      <th>1</th>\n",
       "      <td>AZ</td>\n",
       "      <td>F</td>\n",
       "      <td>Bachelor</td>\n",
       "      <td>697953.59</td>\n",
       "      <td>0.0</td>\n",
       "      <td>94.0</td>\n",
       "      <td>0</td>\n",
       "      <td>Personal Auto</td>\n",
       "      <td>Four-Door Car</td>\n",
       "      <td>1131.464935</td>\n",
       "    </tr>\n",
       "    <tr>\n",
       "      <th>2</th>\n",
       "      <td>NV</td>\n",
       "      <td>F</td>\n",
       "      <td>Bachelor</td>\n",
       "      <td>1288743.17</td>\n",
       "      <td>48767.0</td>\n",
       "      <td>108.0</td>\n",
       "      <td>0</td>\n",
       "      <td>Personal Auto</td>\n",
       "      <td>Two-Door Car</td>\n",
       "      <td>566.472247</td>\n",
       "    </tr>\n",
       "    <tr>\n",
       "      <th>3</th>\n",
       "      <td>CA</td>\n",
       "      <td>M</td>\n",
       "      <td>Bachelor</td>\n",
       "      <td>764586.18</td>\n",
       "      <td>0.0</td>\n",
       "      <td>106.0</td>\n",
       "      <td>0</td>\n",
       "      <td>Corporate Auto</td>\n",
       "      <td>SUV</td>\n",
       "      <td>529.881344</td>\n",
       "    </tr>\n",
       "    <tr>\n",
       "      <th>4</th>\n",
       "      <td>WA</td>\n",
       "      <td>M</td>\n",
       "      <td>High School or Below</td>\n",
       "      <td>536307.65</td>\n",
       "      <td>36357.0</td>\n",
       "      <td>68.0</td>\n",
       "      <td>0</td>\n",
       "      <td>Personal Auto</td>\n",
       "      <td>Four-Door Car</td>\n",
       "      <td>17.269323</td>\n",
       "    </tr>\n",
       "    <tr>\n",
       "      <th>...</th>\n",
       "      <td>...</td>\n",
       "      <td>...</td>\n",
       "      <td>...</td>\n",
       "      <td>...</td>\n",
       "      <td>...</td>\n",
       "      <td>...</td>\n",
       "      <td>...</td>\n",
       "      <td>...</td>\n",
       "      <td>...</td>\n",
       "      <td>...</td>\n",
       "    </tr>\n",
       "    <tr>\n",
       "      <th>4999</th>\n",
       "      <td>AZ</td>\n",
       "      <td>M</td>\n",
       "      <td>Master</td>\n",
       "      <td>847141.75</td>\n",
       "      <td>63513.0</td>\n",
       "      <td>70.0</td>\n",
       "      <td>0</td>\n",
       "      <td>Personal Auto</td>\n",
       "      <td>Four-Door Car</td>\n",
       "      <td>185.667213</td>\n",
       "    </tr>\n",
       "    <tr>\n",
       "      <th>5000</th>\n",
       "      <td>AZ</td>\n",
       "      <td>F</td>\n",
       "      <td>College</td>\n",
       "      <td>543121.91</td>\n",
       "      <td>58161.0</td>\n",
       "      <td>68.0</td>\n",
       "      <td>0</td>\n",
       "      <td>Corporate Auto</td>\n",
       "      <td>Four-Door Car</td>\n",
       "      <td>140.747286</td>\n",
       "    </tr>\n",
       "    <tr>\n",
       "      <th>5001</th>\n",
       "      <td>NV</td>\n",
       "      <td>F</td>\n",
       "      <td>College</td>\n",
       "      <td>568964.41</td>\n",
       "      <td>83640.0</td>\n",
       "      <td>70.0</td>\n",
       "      <td>0</td>\n",
       "      <td>Corporate Auto</td>\n",
       "      <td>Two-Door Car</td>\n",
       "      <td>471.050488</td>\n",
       "    </tr>\n",
       "    <tr>\n",
       "      <th>5002</th>\n",
       "      <td>CA</td>\n",
       "      <td>F</td>\n",
       "      <td>Master</td>\n",
       "      <td>368672.38</td>\n",
       "      <td>0.0</td>\n",
       "      <td>96.0</td>\n",
       "      <td>0</td>\n",
       "      <td>Personal Auto</td>\n",
       "      <td>Two-Door Car</td>\n",
       "      <td>28.460568</td>\n",
       "    </tr>\n",
       "    <tr>\n",
       "      <th>5003</th>\n",
       "      <td>CA</td>\n",
       "      <td>M</td>\n",
       "      <td>Bachelor</td>\n",
       "      <td>399258.39</td>\n",
       "      <td>0.0</td>\n",
       "      <td>111.0</td>\n",
       "      <td>0</td>\n",
       "      <td>Personal Auto</td>\n",
       "      <td>SUV</td>\n",
       "      <td>700.349052</td>\n",
       "    </tr>\n",
       "  </tbody>\n",
       "</table>\n",
       "<p>2049 rows × 10 columns</p>\n",
       "</div>"
      ],
      "text/plain": [
       "      st gender             education  customer lifetime value   income  \\\n",
       "0     WA    NaN                Master                     0.00      0.0   \n",
       "1     AZ      F              Bachelor                697953.59      0.0   \n",
       "2     NV      F              Bachelor               1288743.17  48767.0   \n",
       "3     CA      M              Bachelor                764586.18      0.0   \n",
       "4     WA      M  High School or Below                536307.65  36357.0   \n",
       "...   ..    ...                   ...                      ...      ...   \n",
       "4999  AZ      M                Master                847141.75  63513.0   \n",
       "5000  AZ      F               College                543121.91  58161.0   \n",
       "5001  NV      F               College                568964.41  83640.0   \n",
       "5002  CA      F                Master                368672.38      0.0   \n",
       "5003  CA      M              Bachelor                399258.39      0.0   \n",
       "\n",
       "      monthly premium auto  number of open complaints     policy type  \\\n",
       "0                   1000.0                          0   Personal Auto   \n",
       "1                     94.0                          0   Personal Auto   \n",
       "2                    108.0                          0   Personal Auto   \n",
       "3                    106.0                          0  Corporate Auto   \n",
       "4                     68.0                          0   Personal Auto   \n",
       "...                    ...                        ...             ...   \n",
       "4999                  70.0                          0   Personal Auto   \n",
       "5000                  68.0                          0  Corporate Auto   \n",
       "5001                  70.0                          0  Corporate Auto   \n",
       "5002                  96.0                          0   Personal Auto   \n",
       "5003                 111.0                          0   Personal Auto   \n",
       "\n",
       "      vehicle class  total claim amount  \n",
       "0     Four-Door Car            2.704934  \n",
       "1     Four-Door Car         1131.464935  \n",
       "2      Two-Door Car          566.472247  \n",
       "3               SUV          529.881344  \n",
       "4     Four-Door Car           17.269323  \n",
       "...             ...                 ...  \n",
       "4999  Four-Door Car          185.667213  \n",
       "5000  Four-Door Car          140.747286  \n",
       "5001   Two-Door Car          471.050488  \n",
       "5002   Two-Door Car           28.460568  \n",
       "5003            SUV          700.349052  \n",
       "\n",
       "[2049 rows x 10 columns]"
      ]
     },
     "execution_count": 142,
     "metadata": {},
     "output_type": "execute_result"
    }
   ],
   "source": [
    "df2.drop_duplicates()"
   ]
  },
  {
   "cell_type": "code",
   "execution_count": 143,
   "id": "4156767b",
   "metadata": {},
   "outputs": [],
   "source": [
    "#index should be from 0 to 2055\n",
    "import numpy as np\n",
    "df2.index = np.arange(0,5004)"
   ]
  },
  {
   "cell_type": "code",
   "execution_count": 144,
   "id": "1b802668",
   "metadata": {},
   "outputs": [],
   "source": [
    "#df2"
   ]
  },
  {
   "cell_type": "markdown",
   "id": "fec7164d",
   "metadata": {},
   "source": [
    "7. Optional:Replacing null values – Replace missing values with means of the column (for numerical columns)"
   ]
  },
  {
   "cell_type": "code",
   "execution_count": 145,
   "id": "5b687f0d",
   "metadata": {},
   "outputs": [
    {
     "data": {
      "text/plain": [
       "Index(['st', 'gender', 'education', 'customer lifetime value', 'income',\n",
       "       'monthly premium auto', 'number of open complaints', 'policy type',\n",
       "       'vehicle class', 'total claim amount'],\n",
       "      dtype='object')"
      ]
     },
     "execution_count": 145,
     "metadata": {},
     "output_type": "execute_result"
    }
   ],
   "source": [
    "df2.columns"
   ]
  },
  {
   "cell_type": "code",
   "execution_count": 146,
   "id": "977f6b91",
   "metadata": {},
   "outputs": [
    {
     "data": {
      "text/plain": [
       "321081.0141846531"
      ]
     },
     "execution_count": 146,
     "metadata": {},
     "output_type": "execute_result"
    }
   ],
   "source": [
    "df2[\"customer lifetime value\"].mean()"
   ]
  },
  {
   "cell_type": "code",
   "execution_count": 147,
   "id": "9e68ef13",
   "metadata": {},
   "outputs": [],
   "source": [
    "#replace empty fields with mean\n",
    "df2['customer lifetime value'].fillna(df2[\"customer lifetime value\"].mean(),inplace=True )"
   ]
  },
  {
   "cell_type": "code",
   "execution_count": 148,
   "id": "cc972676",
   "metadata": {},
   "outputs": [],
   "source": [
    "df2['income'].fillna(df2[\"income\"].mean(),inplace=True)"
   ]
  },
  {
   "cell_type": "code",
   "execution_count": 149,
   "id": "d58875c2",
   "metadata": {},
   "outputs": [],
   "source": [
    "df2['monthly premium auto'].fillna(df2[\"monthly premium auto\"].mean(),inplace=True)"
   ]
  },
  {
   "cell_type": "code",
   "execution_count": 150,
   "id": "4788eae8",
   "metadata": {},
   "outputs": [],
   "source": [
    "df2['total claim amount'].fillna(df2[\"total claim amount\"].mean(),inplace=True)"
   ]
  },
  {
   "cell_type": "code",
   "execution_count": 151,
   "id": "008d86e3",
   "metadata": {},
   "outputs": [],
   "source": [
    "df2['number of open complaints'].fillna(df2[\"number of open complaints\"].mean(),inplace=True)"
   ]
  },
  {
   "cell_type": "code",
   "execution_count": 152,
   "id": "32f20745",
   "metadata": {},
   "outputs": [],
   "source": [
    "# isn't working:\n",
    "#df2 = df2.applymap(lambda i: i.mean() if type(df2.columns) == float or  type(df2.columns)== int else i)"
   ]
  },
  {
   "cell_type": "code",
   "execution_count": 153,
   "id": "70a3ed1e",
   "metadata": {},
   "outputs": [
    {
     "data": {
      "text/plain": [
       "14807"
      ]
     },
     "execution_count": 153,
     "metadata": {},
     "output_type": "execute_result"
    }
   ],
   "source": [
    "df2.isnull().sum().sum()"
   ]
  },
  {
   "cell_type": "markdown",
   "id": "c6be8b9b",
   "metadata": {},
   "source": [
    "## 8. Bucketing the data - Write a function to replace column \"State\" to different zones. California as West Region, Oregon as North West, and Washington as East, and Arizona and Nevada as Central\n"
   ]
  },
  {
   "cell_type": "code",
   "execution_count": 154,
   "id": "3d21859d",
   "metadata": {},
   "outputs": [],
   "source": [
    "df2.st.unique()\n",
    "def st_region(x):\n",
    "    if not x == x:\n",
    "    #then i know that x is = none\n",
    "        return x\n",
    "    else:\n",
    "        region= {'AZ': 'Central', \n",
    "                  'CA': 'West',\n",
    "                 'NV': 'Central', \n",
    "                 'OR':'North West', \n",
    "                  'AZ':'Central', \n",
    "                 'WA':'East'}\n",
    "        \n",
    "        return region[x]\n",
    "    \n",
    "df2[\"st\"] = df2[\"st\"].apply(st_region)"
   ]
  },
  {
   "cell_type": "code",
   "execution_count": 155,
   "id": "298c08e5",
   "metadata": {},
   "outputs": [],
   "source": [
    "df2 = df2.rename(columns={'st': 'region'})"
   ]
  },
  {
   "cell_type": "markdown",
   "id": "4a8e7062",
   "metadata": {},
   "source": [
    "## 9. Standardizing the data – Use string functions to standardize the text data (lower case)"
   ]
  },
  {
   "cell_type": "code",
   "execution_count": 156,
   "id": "5b2af3d0",
   "metadata": {},
   "outputs": [],
   "source": [
    "df2 = df2.applymap(lambda i: i.lower() if type(i) == str else i)\n"
   ]
  },
  {
   "cell_type": "code",
   "execution_count": 39,
   "id": "c711f1da",
   "metadata": {},
   "outputs": [
    {
     "data": {
      "text/plain": [
       "'lambda x : x **2'"
      ]
     },
     "execution_count": 39,
     "metadata": {},
     "output_type": "execute_result"
    }
   ],
   "source": [
    "# of topic lambda\n",
    "def my_func(x):\n",
    "    return x **2\n",
    "#is like lambda but lambda cannot be called later (have no specific name), useful if you just need a function ones:\n",
    "'lambda x : x **2'"
   ]
  },
  {
   "cell_type": "markdown",
   "id": "d4c8638a",
   "metadata": {},
   "source": [
    "\n",
    "## 10. Which columns are numerical?"
   ]
  },
  {
   "cell_type": "code",
   "execution_count": 157,
   "id": "f7d9227d",
   "metadata": {},
   "outputs": [
    {
     "data": {
      "text/plain": [
       "['customer lifetime value',\n",
       " 'income',\n",
       " 'monthly premium auto',\n",
       " 'number of open complaints',\n",
       " 'total claim amount']"
      ]
     },
     "execution_count": 157,
     "metadata": {},
     "output_type": "execute_result"
    }
   ],
   "source": [
    "df2_numerical= df2.select_dtypes(include=np.number).columns.tolist()\n",
    "df2_numerical"
   ]
  },
  {
   "cell_type": "markdown",
   "id": "49ec8f1e",
   "metadata": {},
   "source": [
    "## 11. Which columns are categorical?"
   ]
  },
  {
   "cell_type": "code",
   "execution_count": 158,
   "id": "f793f6a3",
   "metadata": {},
   "outputs": [
    {
     "data": {
      "text/plain": [
       "['region', 'gender', 'education', 'policy type', 'vehicle class']"
      ]
     },
     "execution_count": 158,
     "metadata": {},
     "output_type": "execute_result"
    }
   ],
   "source": [
    "df2_categorical = df2.select_dtypes(include=object).columns.tolist()\n",
    "df2_categorical"
   ]
  },
  {
   "cell_type": "markdown",
   "id": "532e56fd",
   "metadata": {},
   "source": [
    "\n",
    "## 12. Check and deal with NaN values. (Hint:Replacing null values – Replace missing values with means of the column (for numerical columns))."
   ]
  },
  {
   "cell_type": "code",
   "execution_count": 160,
   "id": "7bf92aa0",
   "metadata": {},
   "outputs": [],
   "source": [
    "df2.fillna(0,inplace=True)"
   ]
  },
  {
   "cell_type": "code",
   "execution_count": 161,
   "id": "d619c570",
   "metadata": {},
   "outputs": [
    {
     "data": {
      "text/plain": [
       "0"
      ]
     },
     "execution_count": 161,
     "metadata": {},
     "output_type": "execute_result"
    }
   ],
   "source": [
    "df2.isnull().sum().sum()"
   ]
  },
  {
   "cell_type": "markdown",
   "id": "92305335",
   "metadata": {},
   "source": [
    "## 13. Datetime format - Extract the months from the dataset and store in a separate column. Then filter the data to show only the information for the first quarter , ie. January, February and March. Hint: If data from March does not exist, consider only January and February."
   ]
  },
  {
   "cell_type": "code",
   "execution_count": 162,
   "id": "bed4b14e",
   "metadata": {},
   "outputs": [],
   "source": [
    "df3 = pd.read_csv(\"Data_Marketing_Customer_Analysis_Round2.csv\")\n",
    "\n",
    "\n",
    "df3['date']= pd.to_datetime(df3['Effective To Date'])"
   ]
  },
  {
   "cell_type": "code",
   "execution_count": 163,
   "id": "8ac93320",
   "metadata": {},
   "outputs": [],
   "source": [
    "df3['date']=list(map(lambda date:date.strftime(format='%B'),df3['date']))"
   ]
  },
  {
   "cell_type": "code",
   "execution_count": 165,
   "id": "4495e2c9",
   "metadata": {},
   "outputs": [
    {
     "data": {
      "text/plain": [
       "array(['February', 'January'], dtype=object)"
      ]
     },
     "execution_count": 165,
     "metadata": {},
     "output_type": "execute_result"
    }
   ],
   "source": [
    "df3['date'].unique()\n",
    "#there is only data for the first quarter, so no filtering is needed\n"
   ]
  },
  {
   "cell_type": "markdown",
   "id": "8c99b307",
   "metadata": {},
   "source": [
    "## 14. BONUS: Put all the previously mentioned data transformations into a function/functions."
   ]
  },
  {
   "cell_type": "markdown",
   "id": "8c84290a",
   "metadata": {},
   "source": [
    "### Putting cleaning activities into functions "
   ]
  },
  {
   "cell_type": "code",
   "execution_count": 166,
   "id": "9141ae44",
   "metadata": {},
   "outputs": [],
   "source": [
    "def load_data(path):\n",
    "    return pd.read_csv(path)"
   ]
  },
  {
   "cell_type": "code",
   "execution_count": 167,
   "id": "37bd7c64",
   "metadata": {},
   "outputs": [],
   "source": [
    "def lower_case_column(df3):\n",
    "    df3.columns = [i.lower() for i in df3]\n",
    "    return df3"
   ]
  },
  {
   "cell_type": "code",
   "execution_count": 168,
   "id": "0df58b4a",
   "metadata": {},
   "outputs": [],
   "source": [
    "def rename_columns(df3):\n",
    "    df3.rename(columns={'state':'STATE'},inplace =True)\n",
    "    return df3"
   ]
  },
  {
   "cell_type": "markdown",
   "id": "3eaebb6f",
   "metadata": {},
   "source": [
    "### Pipeline control - to be put at the top to rerun (just comment the function you don't want to be runned)\n"
   ]
  },
  {
   "cell_type": "code",
   "execution_count": 169,
   "id": "9b844841",
   "metadata": {},
   "outputs": [],
   "source": [
    "df3 = load_data(path =\"Data_Marketing_Customer_Analysis_Round2.csv\")\\\n",
    ".pipe(lower_case_column)\\\n",
    ".pipe(rename_columns)\n",
    "#..."
   ]
  },
  {
   "cell_type": "code",
   "execution_count": 170,
   "id": "ac3dbc7e",
   "metadata": {},
   "outputs": [
    {
     "data": {
      "text/html": [
       "<div>\n",
       "<style scoped>\n",
       "    .dataframe tbody tr th:only-of-type {\n",
       "        vertical-align: middle;\n",
       "    }\n",
       "\n",
       "    .dataframe tbody tr th {\n",
       "        vertical-align: top;\n",
       "    }\n",
       "\n",
       "    .dataframe thead th {\n",
       "        text-align: right;\n",
       "    }\n",
       "</style>\n",
       "<table border=\"1\" class=\"dataframe\">\n",
       "  <thead>\n",
       "    <tr style=\"text-align: right;\">\n",
       "      <th></th>\n",
       "      <th>unnamed: 0</th>\n",
       "      <th>customer</th>\n",
       "      <th>STATE</th>\n",
       "      <th>customer lifetime value</th>\n",
       "      <th>response</th>\n",
       "      <th>coverage</th>\n",
       "      <th>education</th>\n",
       "      <th>effective to date</th>\n",
       "      <th>employmentstatus</th>\n",
       "      <th>gender</th>\n",
       "      <th>...</th>\n",
       "      <th>number of open complaints</th>\n",
       "      <th>number of policies</th>\n",
       "      <th>policy type</th>\n",
       "      <th>policy</th>\n",
       "      <th>renew offer type</th>\n",
       "      <th>sales channel</th>\n",
       "      <th>total claim amount</th>\n",
       "      <th>vehicle class</th>\n",
       "      <th>vehicle size</th>\n",
       "      <th>vehicle type</th>\n",
       "    </tr>\n",
       "  </thead>\n",
       "  <tbody>\n",
       "    <tr>\n",
       "      <th>0</th>\n",
       "      <td>0</td>\n",
       "      <td>DK49336</td>\n",
       "      <td>Arizona</td>\n",
       "      <td>4809.216960</td>\n",
       "      <td>No</td>\n",
       "      <td>Basic</td>\n",
       "      <td>College</td>\n",
       "      <td>2/18/11</td>\n",
       "      <td>Employed</td>\n",
       "      <td>M</td>\n",
       "      <td>...</td>\n",
       "      <td>0.0</td>\n",
       "      <td>9</td>\n",
       "      <td>Corporate Auto</td>\n",
       "      <td>Corporate L3</td>\n",
       "      <td>Offer3</td>\n",
       "      <td>Agent</td>\n",
       "      <td>292.800000</td>\n",
       "      <td>Four-Door Car</td>\n",
       "      <td>Medsize</td>\n",
       "      <td>NaN</td>\n",
       "    </tr>\n",
       "    <tr>\n",
       "      <th>1</th>\n",
       "      <td>1</td>\n",
       "      <td>KX64629</td>\n",
       "      <td>California</td>\n",
       "      <td>2228.525238</td>\n",
       "      <td>No</td>\n",
       "      <td>Basic</td>\n",
       "      <td>College</td>\n",
       "      <td>1/18/11</td>\n",
       "      <td>Unemployed</td>\n",
       "      <td>F</td>\n",
       "      <td>...</td>\n",
       "      <td>0.0</td>\n",
       "      <td>1</td>\n",
       "      <td>Personal Auto</td>\n",
       "      <td>Personal L3</td>\n",
       "      <td>Offer4</td>\n",
       "      <td>Call Center</td>\n",
       "      <td>744.924331</td>\n",
       "      <td>Four-Door Car</td>\n",
       "      <td>Medsize</td>\n",
       "      <td>NaN</td>\n",
       "    </tr>\n",
       "    <tr>\n",
       "      <th>2</th>\n",
       "      <td>2</td>\n",
       "      <td>LZ68649</td>\n",
       "      <td>Washington</td>\n",
       "      <td>14947.917300</td>\n",
       "      <td>No</td>\n",
       "      <td>Basic</td>\n",
       "      <td>Bachelor</td>\n",
       "      <td>2/10/11</td>\n",
       "      <td>Employed</td>\n",
       "      <td>M</td>\n",
       "      <td>...</td>\n",
       "      <td>0.0</td>\n",
       "      <td>2</td>\n",
       "      <td>Personal Auto</td>\n",
       "      <td>Personal L3</td>\n",
       "      <td>Offer3</td>\n",
       "      <td>Call Center</td>\n",
       "      <td>480.000000</td>\n",
       "      <td>SUV</td>\n",
       "      <td>Medsize</td>\n",
       "      <td>A</td>\n",
       "    </tr>\n",
       "    <tr>\n",
       "      <th>3</th>\n",
       "      <td>3</td>\n",
       "      <td>XL78013</td>\n",
       "      <td>Oregon</td>\n",
       "      <td>22332.439460</td>\n",
       "      <td>Yes</td>\n",
       "      <td>Extended</td>\n",
       "      <td>College</td>\n",
       "      <td>1/11/11</td>\n",
       "      <td>Employed</td>\n",
       "      <td>M</td>\n",
       "      <td>...</td>\n",
       "      <td>0.0</td>\n",
       "      <td>2</td>\n",
       "      <td>Corporate Auto</td>\n",
       "      <td>Corporate L3</td>\n",
       "      <td>Offer2</td>\n",
       "      <td>Branch</td>\n",
       "      <td>484.013411</td>\n",
       "      <td>Four-Door Car</td>\n",
       "      <td>Medsize</td>\n",
       "      <td>A</td>\n",
       "    </tr>\n",
       "    <tr>\n",
       "      <th>4</th>\n",
       "      <td>4</td>\n",
       "      <td>QA50777</td>\n",
       "      <td>Oregon</td>\n",
       "      <td>9025.067525</td>\n",
       "      <td>No</td>\n",
       "      <td>Premium</td>\n",
       "      <td>Bachelor</td>\n",
       "      <td>1/17/11</td>\n",
       "      <td>Medical Leave</td>\n",
       "      <td>F</td>\n",
       "      <td>...</td>\n",
       "      <td>NaN</td>\n",
       "      <td>7</td>\n",
       "      <td>Personal Auto</td>\n",
       "      <td>Personal L2</td>\n",
       "      <td>Offer1</td>\n",
       "      <td>Branch</td>\n",
       "      <td>707.925645</td>\n",
       "      <td>Four-Door Car</td>\n",
       "      <td>Medsize</td>\n",
       "      <td>NaN</td>\n",
       "    </tr>\n",
       "    <tr>\n",
       "      <th>...</th>\n",
       "      <td>...</td>\n",
       "      <td>...</td>\n",
       "      <td>...</td>\n",
       "      <td>...</td>\n",
       "      <td>...</td>\n",
       "      <td>...</td>\n",
       "      <td>...</td>\n",
       "      <td>...</td>\n",
       "      <td>...</td>\n",
       "      <td>...</td>\n",
       "      <td>...</td>\n",
       "      <td>...</td>\n",
       "      <td>...</td>\n",
       "      <td>...</td>\n",
       "      <td>...</td>\n",
       "      <td>...</td>\n",
       "      <td>...</td>\n",
       "      <td>...</td>\n",
       "      <td>...</td>\n",
       "      <td>...</td>\n",
       "      <td>...</td>\n",
       "    </tr>\n",
       "    <tr>\n",
       "      <th>10905</th>\n",
       "      <td>10905</td>\n",
       "      <td>FE99816</td>\n",
       "      <td>Nevada</td>\n",
       "      <td>15563.369440</td>\n",
       "      <td>No</td>\n",
       "      <td>Premium</td>\n",
       "      <td>Bachelor</td>\n",
       "      <td>1/19/11</td>\n",
       "      <td>Unemployed</td>\n",
       "      <td>F</td>\n",
       "      <td>...</td>\n",
       "      <td>NaN</td>\n",
       "      <td>7</td>\n",
       "      <td>Personal Auto</td>\n",
       "      <td>Personal L1</td>\n",
       "      <td>Offer3</td>\n",
       "      <td>Web</td>\n",
       "      <td>1214.400000</td>\n",
       "      <td>Luxury Car</td>\n",
       "      <td>Medsize</td>\n",
       "      <td>A</td>\n",
       "    </tr>\n",
       "    <tr>\n",
       "      <th>10906</th>\n",
       "      <td>10906</td>\n",
       "      <td>KX53892</td>\n",
       "      <td>Oregon</td>\n",
       "      <td>5259.444853</td>\n",
       "      <td>No</td>\n",
       "      <td>Basic</td>\n",
       "      <td>College</td>\n",
       "      <td>1/6/11</td>\n",
       "      <td>Employed</td>\n",
       "      <td>F</td>\n",
       "      <td>...</td>\n",
       "      <td>0.0</td>\n",
       "      <td>6</td>\n",
       "      <td>Personal Auto</td>\n",
       "      <td>Personal L3</td>\n",
       "      <td>Offer2</td>\n",
       "      <td>Branch</td>\n",
       "      <td>273.018929</td>\n",
       "      <td>Four-Door Car</td>\n",
       "      <td>Medsize</td>\n",
       "      <td>A</td>\n",
       "    </tr>\n",
       "    <tr>\n",
       "      <th>10907</th>\n",
       "      <td>10907</td>\n",
       "      <td>TL39050</td>\n",
       "      <td>Arizona</td>\n",
       "      <td>23893.304100</td>\n",
       "      <td>No</td>\n",
       "      <td>Extended</td>\n",
       "      <td>Bachelor</td>\n",
       "      <td>2/6/11</td>\n",
       "      <td>Employed</td>\n",
       "      <td>F</td>\n",
       "      <td>...</td>\n",
       "      <td>0.0</td>\n",
       "      <td>2</td>\n",
       "      <td>Corporate Auto</td>\n",
       "      <td>Corporate L3</td>\n",
       "      <td>Offer1</td>\n",
       "      <td>Web</td>\n",
       "      <td>381.306996</td>\n",
       "      <td>Luxury SUV</td>\n",
       "      <td>Medsize</td>\n",
       "      <td>NaN</td>\n",
       "    </tr>\n",
       "    <tr>\n",
       "      <th>10908</th>\n",
       "      <td>10908</td>\n",
       "      <td>WA60547</td>\n",
       "      <td>California</td>\n",
       "      <td>11971.977650</td>\n",
       "      <td>No</td>\n",
       "      <td>Premium</td>\n",
       "      <td>College</td>\n",
       "      <td>2/13/11</td>\n",
       "      <td>Employed</td>\n",
       "      <td>F</td>\n",
       "      <td>...</td>\n",
       "      <td>4.0</td>\n",
       "      <td>6</td>\n",
       "      <td>Personal Auto</td>\n",
       "      <td>Personal L1</td>\n",
       "      <td>Offer1</td>\n",
       "      <td>Branch</td>\n",
       "      <td>618.288849</td>\n",
       "      <td>SUV</td>\n",
       "      <td>Medsize</td>\n",
       "      <td>A</td>\n",
       "    </tr>\n",
       "    <tr>\n",
       "      <th>10909</th>\n",
       "      <td>10909</td>\n",
       "      <td>IV32877</td>\n",
       "      <td>NaN</td>\n",
       "      <td>6857.519928</td>\n",
       "      <td>NaN</td>\n",
       "      <td>Basic</td>\n",
       "      <td>Bachelor</td>\n",
       "      <td>1/8/11</td>\n",
       "      <td>Unemployed</td>\n",
       "      <td>M</td>\n",
       "      <td>...</td>\n",
       "      <td>0.0</td>\n",
       "      <td>3</td>\n",
       "      <td>Personal Auto</td>\n",
       "      <td>Personal L1</td>\n",
       "      <td>Offer4</td>\n",
       "      <td>Web</td>\n",
       "      <td>1021.719397</td>\n",
       "      <td>SUV</td>\n",
       "      <td>Medsize</td>\n",
       "      <td>NaN</td>\n",
       "    </tr>\n",
       "  </tbody>\n",
       "</table>\n",
       "<p>10910 rows × 26 columns</p>\n",
       "</div>"
      ],
      "text/plain": [
       "       unnamed: 0 customer       STATE  customer lifetime value response  \\\n",
       "0               0  DK49336     Arizona              4809.216960       No   \n",
       "1               1  KX64629  California              2228.525238       No   \n",
       "2               2  LZ68649  Washington             14947.917300       No   \n",
       "3               3  XL78013      Oregon             22332.439460      Yes   \n",
       "4               4  QA50777      Oregon              9025.067525       No   \n",
       "...           ...      ...         ...                      ...      ...   \n",
       "10905       10905  FE99816      Nevada             15563.369440       No   \n",
       "10906       10906  KX53892      Oregon              5259.444853       No   \n",
       "10907       10907  TL39050     Arizona             23893.304100       No   \n",
       "10908       10908  WA60547  California             11971.977650       No   \n",
       "10909       10909  IV32877         NaN              6857.519928      NaN   \n",
       "\n",
       "       coverage education effective to date employmentstatus gender  ...  \\\n",
       "0         Basic   College           2/18/11         Employed      M  ...   \n",
       "1         Basic   College           1/18/11       Unemployed      F  ...   \n",
       "2         Basic  Bachelor           2/10/11         Employed      M  ...   \n",
       "3      Extended   College           1/11/11         Employed      M  ...   \n",
       "4       Premium  Bachelor           1/17/11    Medical Leave      F  ...   \n",
       "...         ...       ...               ...              ...    ...  ...   \n",
       "10905   Premium  Bachelor           1/19/11       Unemployed      F  ...   \n",
       "10906     Basic   College            1/6/11         Employed      F  ...   \n",
       "10907  Extended  Bachelor            2/6/11         Employed      F  ...   \n",
       "10908   Premium   College           2/13/11         Employed      F  ...   \n",
       "10909     Basic  Bachelor            1/8/11       Unemployed      M  ...   \n",
       "\n",
       "       number of open complaints number of policies     policy type  \\\n",
       "0                            0.0                  9  Corporate Auto   \n",
       "1                            0.0                  1   Personal Auto   \n",
       "2                            0.0                  2   Personal Auto   \n",
       "3                            0.0                  2  Corporate Auto   \n",
       "4                            NaN                  7   Personal Auto   \n",
       "...                          ...                ...             ...   \n",
       "10905                        NaN                  7   Personal Auto   \n",
       "10906                        0.0                  6   Personal Auto   \n",
       "10907                        0.0                  2  Corporate Auto   \n",
       "10908                        4.0                  6   Personal Auto   \n",
       "10909                        0.0                  3   Personal Auto   \n",
       "\n",
       "             policy  renew offer type  sales channel  total claim amount  \\\n",
       "0      Corporate L3            Offer3          Agent          292.800000   \n",
       "1       Personal L3            Offer4    Call Center          744.924331   \n",
       "2       Personal L3            Offer3    Call Center          480.000000   \n",
       "3      Corporate L3            Offer2         Branch          484.013411   \n",
       "4       Personal L2            Offer1         Branch          707.925645   \n",
       "...             ...               ...            ...                 ...   \n",
       "10905   Personal L1            Offer3            Web         1214.400000   \n",
       "10906   Personal L3            Offer2         Branch          273.018929   \n",
       "10907  Corporate L3            Offer1            Web          381.306996   \n",
       "10908   Personal L1            Offer1         Branch          618.288849   \n",
       "10909   Personal L1            Offer4            Web         1021.719397   \n",
       "\n",
       "       vehicle class vehicle size vehicle type  \n",
       "0      Four-Door Car      Medsize          NaN  \n",
       "1      Four-Door Car      Medsize          NaN  \n",
       "2                SUV      Medsize            A  \n",
       "3      Four-Door Car      Medsize            A  \n",
       "4      Four-Door Car      Medsize          NaN  \n",
       "...              ...          ...          ...  \n",
       "10905     Luxury Car      Medsize            A  \n",
       "10906  Four-Door Car      Medsize            A  \n",
       "10907     Luxury SUV      Medsize          NaN  \n",
       "10908            SUV      Medsize            A  \n",
       "10909            SUV      Medsize          NaN  \n",
       "\n",
       "[10910 rows x 26 columns]"
      ]
     },
     "execution_count": 170,
     "metadata": {},
     "output_type": "execute_result"
    }
   ],
   "source": [
    "df3"
   ]
  },
  {
   "cell_type": "code",
   "execution_count": null,
   "id": "3c44c29b",
   "metadata": {},
   "outputs": [],
   "source": [
    "#df3.to_csv(\".../cleaned_file.csv\")"
   ]
  }
 ],
 "metadata": {
  "kernelspec": {
   "display_name": "Python 3",
   "language": "python",
   "name": "python3"
  },
  "language_info": {
   "codemirror_mode": {
    "name": "ipython",
    "version": 3
   },
   "file_extension": ".py",
   "mimetype": "text/x-python",
   "name": "python",
   "nbconvert_exporter": "python",
   "pygments_lexer": "ipython3",
   "version": "3.9.6"
  }
 },
 "nbformat": 4,
 "nbformat_minor": 5
}
