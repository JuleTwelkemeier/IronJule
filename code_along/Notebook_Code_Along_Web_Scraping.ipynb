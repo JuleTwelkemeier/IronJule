{
 "cells": [
  {
   "cell_type": "markdown",
   "metadata": {
    "id": "2MeowL7BaAbT"
   },
   "source": [
    "# Intro to web scraping"
   ]
  },
  {
   "cell_type": "markdown",
   "metadata": {
    "id": "xdO0nKqpaAba"
   },
   "source": [
    "The first step of web scraping is to identify a website and download the html code from it. \n",
    "\n",
    "Real html from websites tends to be long and a bit too chaotic for a total beginner. Here we will start with a dummy html document and learn the basics of extracting info with beautifulsoup."
   ]
  },
  {
   "cell_type": "code",
   "execution_count": 39,
   "metadata": {
    "executionInfo": {
     "elapsed": 660,
     "status": "ok",
     "timestamp": 1617465193963,
     "user": {
      "displayName": "Ignacio Soteras",
      "photoUrl": "",
      "userId": "02050793736257155229"
     },
     "user_tz": -120
    },
    "id": "iYgB5Jt4aAbb"
   },
   "outputs": [],
   "source": [
    "html_doc = \"\"\"\n",
    "<!DOCTYPE html>\n",
    "<html><head><title>The Dormouse's story</title></head>\n",
    "<body>\n",
    "<p class=\"title\"><b>The Dormouse's story</b></p>\n",
    "\n",
    "<p class=\"story\">Once upon a time there were three little sisters; and their names were\n",
    "<a href=\"http://example.com/elsie\" class=\"sister\" id=\"link1\">Elsie</a>,\n",
    "<a href=\"http://example.com/lacie\" class=\"sister\" id=\"link2\">Lacie</a> and\n",
    "<a href=\"http://example.com/tillie\" class=\"sister\" id=\"link3\">Tillie</a>;\n",
    "and they lived at the bottom of a well.</p>\n",
    "\n",
    "<p class=\"story\">...</p>\n",
    "</html>\n",
    "\"\"\""
   ]
  },
  {
   "cell_type": "code",
   "execution_count": 40,
   "metadata": {
    "colab": {
     "base_uri": "https://localhost:8080/",
     "height": 86
    },
    "executionInfo": {
     "elapsed": 561,
     "status": "ok",
     "timestamp": 1617465197153,
     "user": {
      "displayName": "Ignacio Soteras",
      "photoUrl": "",
      "userId": "02050793736257155229"
     },
     "user_tz": -120
    },
    "id": "9ndQx21PaAbb",
    "outputId": "dacc5618-8d74-4646-8321-f9116687e41b"
   },
   "outputs": [
    {
     "data": {
      "text/plain": [
       "'\\n<!DOCTYPE html>\\n<html><head><title>The Dormouse\\'s story</title></head>\\n<body>\\n<p class=\"title\"><b>The Dormouse\\'s story</b></p>\\n\\n<p class=\"story\">Once upon a time there were three little sisters; and their names were\\n<a href=\"http://example.com/elsie\" class=\"sister\" id=\"link1\">Elsie</a>,\\n<a href=\"http://example.com/lacie\" class=\"sister\" id=\"link2\">Lacie</a> and\\n<a href=\"http://example.com/tillie\" class=\"sister\" id=\"link3\">Tillie</a>;\\nand they lived at the bottom of a well.</p>\\n\\n<p class=\"story\">...</p>\\n</html>\\n'"
      ]
     },
     "execution_count": 40,
     "metadata": {},
     "output_type": "execute_result"
    }
   ],
   "source": [
    "html_doc"
   ]
  },
  {
   "cell_type": "code",
   "execution_count": 41,
   "metadata": {
    "executionInfo": {
     "elapsed": 533,
     "status": "ok",
     "timestamp": 1617465207602,
     "user": {
      "displayName": "Ignacio Soteras",
      "photoUrl": "",
      "userId": "02050793736257155229"
     },
     "user_tz": -120
    },
    "id": "KsSDasPgaAbc"
   },
   "outputs": [],
   "source": [
    "from bs4 import BeautifulSoup"
   ]
  },
  {
   "cell_type": "markdown",
   "metadata": {
    "id": "i1OdYTuJaAbd"
   },
   "source": [
    "#### \"creating the soup\""
   ]
  },
  {
   "cell_type": "code",
   "execution_count": 42,
   "metadata": {
    "executionInfo": {
     "elapsed": 532,
     "status": "ok",
     "timestamp": 1617465228581,
     "user": {
      "displayName": "Ignacio Soteras",
      "photoUrl": "",
      "userId": "02050793736257155229"
     },
     "user_tz": -120
    },
    "id": "cs0ECFiBaAbd"
   },
   "outputs": [],
   "source": [
    "# parse the element\n",
    "soup = BeautifulSoup(html_doc, 'html.parser') "
   ]
  },
  {
   "cell_type": "code",
   "execution_count": 43,
   "metadata": {
    "colab": {
     "base_uri": "https://localhost:8080/"
    },
    "executionInfo": {
     "elapsed": 604,
     "status": "ok",
     "timestamp": 1617465232052,
     "user": {
      "displayName": "Ignacio Soteras",
      "photoUrl": "",
      "userId": "02050793736257155229"
     },
     "user_tz": -120
    },
    "id": "cjxmHr95aAbd",
    "outputId": "7640c9b2-74a6-473c-ed92-b065135402c2"
   },
   "outputs": [
    {
     "data": {
      "text/plain": [
       "<bound method Tag.prettify of \n",
       "<!DOCTYPE html>\n",
       "\n",
       "<html><head><title>The Dormouse's story</title></head>\n",
       "<body>\n",
       "<p class=\"title\"><b>The Dormouse's story</b></p>\n",
       "<p class=\"story\">Once upon a time there were three little sisters; and their names were\n",
       "<a class=\"sister\" href=\"http://example.com/elsie\" id=\"link1\">Elsie</a>,\n",
       "<a class=\"sister\" href=\"http://example.com/lacie\" id=\"link2\">Lacie</a> and\n",
       "<a class=\"sister\" href=\"http://example.com/tillie\" id=\"link3\">Tillie</a>;\n",
       "and they lived at the bottom of a well.</p>\n",
       "<p class=\"story\">...</p>\n",
       "</body></html>\n",
       ">"
      ]
     },
     "execution_count": 43,
     "metadata": {},
     "output_type": "execute_result"
    }
   ],
   "source": [
    "soup.prettify"
   ]
  },
  {
   "cell_type": "markdown",
   "metadata": {
    "id": "RLuvDPDzaAbd"
   },
   "source": [
    "#### accessing single elements"
   ]
  },
  {
   "cell_type": "markdown",
   "metadata": {
    "id": "JBSO_YnfcXrX"
   },
   "source": [
    "We can access to the html tags appending to the correspoding `soup` a dot `.` and the name of the corresponding tag. In case of having multiple instances of the tag, only the first one will be retrieved.  "
   ]
  },
  {
   "cell_type": "code",
   "execution_count": 44,
   "metadata": {
    "colab": {
     "base_uri": "https://localhost:8080/"
    },
    "executionInfo": {
     "elapsed": 566,
     "status": "ok",
     "timestamp": 1617465238564,
     "user": {
      "displayName": "Ignacio Soteras",
      "photoUrl": "",
      "userId": "02050793736257155229"
     },
     "user_tz": -120
    },
    "id": "pnxH2FiPaAbe",
    "outputId": "b55fa1b7-8959-4b30-c09c-5a2276531e87"
   },
   "outputs": [
    {
     "data": {
      "text/plain": [
       "<title>The Dormouse's story</title>"
      ]
     },
     "execution_count": 44,
     "metadata": {},
     "output_type": "execute_result"
    }
   ],
   "source": [
    "soup.title"
   ]
  },
  {
   "cell_type": "code",
   "execution_count": 64,
   "metadata": {
    "colab": {
     "base_uri": "https://localhost:8080/",
     "height": 35
    },
    "executionInfo": {
     "elapsed": 519,
     "status": "ok",
     "timestamp": 1617465248023,
     "user": {
      "displayName": "Ignacio Soteras",
      "photoUrl": "",
      "userId": "02050793736257155229"
     },
     "user_tz": -120
    },
    "id": "z2b2j_SqaAbe",
    "outputId": "5fd080c8-29b6-4c17-d7b2-a48b70d68552"
   },
   "outputs": [
    {
     "data": {
      "text/plain": [
       "\"The Dormouse's story\""
      ]
     },
     "execution_count": 64,
     "metadata": {},
     "output_type": "execute_result"
    }
   ],
   "source": [
    "soup.title.string"
   ]
  },
  {
   "cell_type": "code",
   "execution_count": 61,
   "metadata": {
    "colab": {
     "base_uri": "https://localhost:8080/",
     "height": 35
    },
    "executionInfo": {
     "elapsed": 559,
     "status": "ok",
     "timestamp": 1617465253514,
     "user": {
      "displayName": "Ignacio Soteras",
      "photoUrl": "",
      "userId": "02050793736257155229"
     },
     "user_tz": -120
    },
    "id": "f0MsU15MaAbe",
    "outputId": "d0d9b290-7934-414f-be4c-ef8cc95dca25"
   },
   "outputs": [
    {
     "data": {
      "text/plain": [
       "'head'"
      ]
     },
     "execution_count": 61,
     "metadata": {},
     "output_type": "execute_result"
    }
   ],
   "source": [
    "soup.title.parent.name\n"
   ]
  },
  {
   "cell_type": "code",
   "execution_count": 67,
   "metadata": {
    "colab": {
     "base_uri": "https://localhost:8080/"
    },
    "executionInfo": {
     "elapsed": 569,
     "status": "ok",
     "timestamp": 1617465256917,
     "user": {
      "displayName": "Ignacio Soteras",
      "photoUrl": "",
      "userId": "02050793736257155229"
     },
     "user_tz": -120
    },
    "id": "YpUQh0exaAbe",
    "outputId": "605f9d35-44a9-42fa-b326-22a0a26b17db"
   },
   "outputs": [
    {
     "data": {
      "text/plain": [
       "<body>\n",
       "<p class=\"title\"><b>The Dormouse's story</b></p>\n",
       "<p class=\"story\">Once upon a time there were three little sisters; and their names were\n",
       "<a class=\"sister\" href=\"http://example.com/elsie\" id=\"link1\">Elsie</a>,\n",
       "<a class=\"sister\" href=\"http://example.com/lacie\" id=\"link2\">Lacie</a> and\n",
       "<a class=\"sister\" href=\"http://example.com/tillie\" id=\"link3\">Tillie</a>;\n",
       "and they lived at the bottom of a well.</p>\n",
       "<p class=\"story\">...</p>\n",
       "</body>"
      ]
     },
     "execution_count": 67,
     "metadata": {},
     "output_type": "execute_result"
    }
   ],
   "source": [
    "soup.body"
   ]
  },
  {
   "cell_type": "code",
   "execution_count": 48,
   "metadata": {
    "colab": {
     "base_uri": "https://localhost:8080/"
    },
    "executionInfo": {
     "elapsed": 645,
     "status": "ok",
     "timestamp": 1617465265285,
     "user": {
      "displayName": "Ignacio Soteras",
      "photoUrl": "",
      "userId": "02050793736257155229"
     },
     "user_tz": -120
    },
    "id": "9FL9FBEzaAbf",
    "outputId": "c0a33bd0-19f2-4cea-971a-32d79cf1e021"
   },
   "outputs": [
    {
     "data": {
      "text/plain": [
       "<p class=\"title\"><b>The Dormouse's story</b></p>"
      ]
     },
     "execution_count": 48,
     "metadata": {},
     "output_type": "execute_result"
    }
   ],
   "source": [
    "# this method only retrieves the first element of the specified tag\n",
    "soup.p"
   ]
  },
  {
   "cell_type": "markdown",
   "metadata": {
    "id": "2zgj0GceaAbf"
   },
   "source": [
    "#### finding all elements of a tag with find_all()"
   ]
  },
  {
   "cell_type": "code",
   "execution_count": 88,
   "metadata": {
    "colab": {
     "base_uri": "https://localhost:8080/"
    },
    "executionInfo": {
     "elapsed": 543,
     "status": "ok",
     "timestamp": 1617465454278,
     "user": {
      "displayName": "Ignacio Soteras",
      "photoUrl": "",
      "userId": "02050793736257155229"
     },
     "user_tz": -120
    },
    "id": "opAvwEFZaAbf",
    "outputId": "ead0b364-e609-4a5c-b5da-17b7c824cfaa"
   },
   "outputs": [
    {
     "data": {
      "text/plain": [
       "'...'"
      ]
     },
     "execution_count": 88,
     "metadata": {},
     "output_type": "execute_result"
    }
   ],
   "source": [
    "p_tags = soup.find_all(\"p\")\n",
    "p_tags[2].string #gives the secon paragraph as a string"
   ]
  },
  {
   "cell_type": "markdown",
   "metadata": {
    "id": "WuGgfL7EdF65"
   },
   "source": [
    "To get the `text`from the corresponding html code, we can use the function: get_text()"
   ]
  },
  {
   "cell_type": "code",
   "execution_count": 90,
   "metadata": {
    "id": "tlzGmYxVaAbf",
    "outputId": "5b891a84-bf77-4844-b0e0-8a60a8420551"
   },
   "outputs": [
    {
     "name": "stdout",
     "output_type": "stream",
     "text": [
      "The Dormouse's story\n",
      "Once upon a time there were three little sisters; and their names were\n",
      "Elsie,\n",
      "Lacie and\n",
      "Tillie;\n",
      "and they lived at the bottom of a well.\n",
      "...\n"
     ]
    }
   ],
   "source": [
    "for p in p_tags:\n",
    "    print(p.get_text())"
   ]
  },
  {
   "cell_type": "markdown",
   "metadata": {
    "id": "iSzD6IxbaAbf"
   },
   "source": [
    "#### Using css selectors\n",
    "\n",
    "Let's learn first the syntax of css selectors playing this game: https://flukeout.github.io/\n",
    "\n",
    "Everyone should reach level 6!"
   ]
  },
  {
   "cell_type": "code",
   "execution_count": 92,
   "metadata": {
    "id": "dNk8C2hoaAbf",
    "outputId": "900aa5e6-ae40-45c2-e894-7795b15c20ff"
   },
   "outputs": [
    {
     "name": "stdout",
     "output_type": "stream",
     "text": [
      "Elsie\n",
      "Lacie\n",
      "Tillie\n"
     ]
    }
   ],
   "source": [
    "soup.select(\"a\")\n",
    "\n",
    "for a in soup.select('a'):\n",
    "    print(a.get_text())"
   ]
  },
  {
   "cell_type": "code",
   "execution_count": 93,
   "metadata": {
    "id": "zzColpFDaAbg",
    "outputId": "5f20e08b-157c-43de-f8f6-7a75fbc01416"
   },
   "outputs": [
    {
     "data": {
      "text/plain": [
       "[<p class=\"title\"><b>The Dormouse's story</b></p>]"
      ]
     },
     "execution_count": 93,
     "metadata": {},
     "output_type": "execute_result"
    }
   ],
   "source": [
    "soup.select(\".title\")"
   ]
  },
  {
   "cell_type": "code",
   "execution_count": 94,
   "metadata": {
    "colab": {
     "base_uri": "https://localhost:8080/"
    },
    "executionInfo": {
     "elapsed": 571,
     "status": "ok",
     "timestamp": 1617465565574,
     "user": {
      "displayName": "Ignacio Soteras",
      "photoUrl": "",
      "userId": "02050793736257155229"
     },
     "user_tz": -120
    },
    "id": "n4dJ3ZmmaAbg",
    "outputId": "5e1911c9-d6e3-4be4-eab8-b37db79749eb"
   },
   "outputs": [
    {
     "data": {
      "text/plain": [
       "[<a class=\"sister\" href=\"http://example.com/lacie\" id=\"link2\">Lacie</a>]"
      ]
     },
     "execution_count": 94,
     "metadata": {},
     "output_type": "execute_result"
    }
   ],
   "source": [
    "soup.select(\"#link2\")"
   ]
  },
  {
   "cell_type": "code",
   "execution_count": 95,
   "metadata": {
    "colab": {
     "base_uri": "https://localhost:8080/"
    },
    "executionInfo": {
     "elapsed": 589,
     "status": "ok",
     "timestamp": 1617465582120,
     "user": {
      "displayName": "Ignacio Soteras",
      "photoUrl": "",
      "userId": "02050793736257155229"
     },
     "user_tz": -120
    },
    "id": "6mZMh6fEaAbg",
    "outputId": "4c422533-a45e-408d-9cd7-01c0aaf59a16",
    "scrolled": true
   },
   "outputs": [
    {
     "data": {
      "text/plain": [
       "[<a class=\"sister\" href=\"http://example.com/elsie\" id=\"link1\">Elsie</a>,\n",
       " <a class=\"sister\" href=\"http://example.com/lacie\" id=\"link2\">Lacie</a>,\n",
       " <a class=\"sister\" href=\"http://example.com/tillie\" id=\"link3\">Tillie</a>]"
      ]
     },
     "execution_count": 95,
     "metadata": {},
     "output_type": "execute_result"
    }
   ],
   "source": [
    "soup.select(\".sister\")"
   ]
  },
  {
   "cell_type": "markdown",
   "metadata": {
    "id": "pmG7uZlQaAbg"
   },
   "source": [
    "We can combine the `select()` method with other bs4 methods, such as `get_text()`.\n",
    "\n",
    "`get_text()`, however, can only be applied to single elements, while `select()` might return multiple elements. It's common to iterate through the output of `select()`"
   ]
  },
  {
   "cell_type": "code",
   "execution_count": 96,
   "metadata": {
    "colab": {
     "base_uri": "https://localhost:8080/"
    },
    "executionInfo": {
     "elapsed": 556,
     "status": "ok",
     "timestamp": 1617465602862,
     "user": {
      "displayName": "Ignacio Soteras",
      "photoUrl": "",
      "userId": "02050793736257155229"
     },
     "user_tz": -120
    },
    "id": "xMaRktqaaAbg",
    "outputId": "c31aede1-3671-4e01-dda8-4ad1c34236f4"
   },
   "outputs": [
    {
     "name": "stdout",
     "output_type": "stream",
     "text": [
      "Once upon a time there were three little sisters; and their names were\n",
      "Elsie,\n",
      "Lacie and\n",
      "Tillie;\n",
      "and they lived at the bottom of a well.\n"
     ]
    }
   ],
   "source": [
    "print(soup.select(\"p.story\")[0].get_text())"
   ]
  },
  {
   "cell_type": "code",
   "execution_count": 97,
   "metadata": {
    "colab": {
     "base_uri": "https://localhost:8080/"
    },
    "executionInfo": {
     "elapsed": 545,
     "status": "ok",
     "timestamp": 1617465606338,
     "user": {
      "displayName": "Ignacio Soteras",
      "photoUrl": "",
      "userId": "02050793736257155229"
     },
     "user_tz": -120
    },
    "id": "-I92xAykaAbh",
    "outputId": "cb2ac2fc-f842-4141-f742-bcb76a70d0ca"
   },
   "outputs": [
    {
     "name": "stdout",
     "output_type": "stream",
     "text": [
      "Once upon a time there were three little sisters; and their names were\n",
      "Elsie,\n",
      "Lacie and\n",
      "Tillie;\n",
      "and they lived at the bottom of a well.\n",
      "...\n"
     ]
    }
   ],
   "source": [
    "for p in soup.select(\"p.story\"):\n",
    "    print(p.get_text())"
   ]
  },
  {
   "cell_type": "markdown",
   "metadata": {
    "id": "6KfG8vDwaAbh"
   },
   "source": [
    "\n",
    "\n",
    "Write code to print the following contents (not including the html tags, only human-readable text): \n",
    "\n",
    "1. All the \"fun facts\". \n",
    "\n",
    "2. The names of all the places. \n",
    "\n",
    "3. The content (name and fact) of all the cities (only cities, not countries!) \n",
    "\n",
    "4. The names (not facts!) of all the cities (not countries!)"
   ]
  },
  {
   "cell_type": "code",
   "execution_count": 98,
   "metadata": {
    "executionInfo": {
     "elapsed": 537,
     "status": "ok",
     "timestamp": 1617465616779,
     "user": {
      "displayName": "Ignacio Soteras",
      "photoUrl": "",
      "userId": "02050793736257155229"
     },
     "user_tz": -120
    },
    "id": "IeMQdO9oaAbh"
   },
   "outputs": [],
   "source": [
    "geography = \"\"\"\n",
    "<!DOCTYPE html>\n",
    "<html>\n",
    "<head> Geography</head>\n",
    "<body>\n",
    "\n",
    "<div class=\"city\">\n",
    "  <h2>London</h2>\n",
    "  <p>London is the most popular tourist destination in the world.</p>\n",
    "</div>\n",
    "\n",
    "<div class=\"city\">\n",
    "  <h2>Paris</h2>\n",
    "  <p>Paris was originally a Roman City called Lutetia.</p>\n",
    "</div>\n",
    "\n",
    "<div class=\"country\">\n",
    "  <h2>Spain</h2>\n",
    "  <p>Spain produces 43,8% of all the world's Olive Oil.</p>\n",
    "</div>\n",
    "\n",
    "</body>\n",
    "</html>\n",
    "\"\"\""
   ]
  },
  {
   "cell_type": "code",
   "execution_count": 99,
   "metadata": {
    "colab": {
     "base_uri": "https://localhost:8080/"
    },
    "executionInfo": {
     "elapsed": 558,
     "status": "ok",
     "timestamp": 1617465618931,
     "user": {
      "displayName": "Ignacio Soteras",
      "photoUrl": "",
      "userId": "02050793736257155229"
     },
     "user_tz": -120
    },
    "id": "N30WN3l0aAbh",
    "outputId": "c60877a2-c689-412d-a2a5-7f74d019cb07"
   },
   "outputs": [
    {
     "name": "stdout",
     "output_type": "stream",
     "text": [
      "<!DOCTYPE html>\n",
      "<html>\n",
      " <head>\n",
      "  Geography\n",
      " </head>\n",
      " <body>\n",
      "  <div class=\"city\">\n",
      "   <h2>\n",
      "    London\n",
      "   </h2>\n",
      "   <p>\n",
      "    London is the most popular tourist destination in the world.\n",
      "   </p>\n",
      "  </div>\n",
      "  <div class=\"city\">\n",
      "   <h2>\n",
      "    Paris\n",
      "   </h2>\n",
      "   <p>\n",
      "    Paris was originally a Roman City called Lutetia.\n",
      "   </p>\n",
      "  </div>\n",
      "  <div class=\"country\">\n",
      "   <h2>\n",
      "    Spain\n",
      "   </h2>\n",
      "   <p>\n",
      "    Spain produces 43,8% of all the world's Olive Oil.\n",
      "   </p>\n",
      "  </div>\n",
      " </body>\n",
      "</html>\n",
      "\n"
     ]
    }
   ],
   "source": [
    "soup = BeautifulSoup(geography, 'html.parser')\n",
    "\n",
    "print(soup.prettify())"
   ]
  },
  {
   "cell_type": "code",
   "execution_count": 100,
   "metadata": {
    "id": "4OhscnTkaAbh",
    "outputId": "38afc35d-f909-45c4-c04e-1ead4ce25b15"
   },
   "outputs": [
    {
     "name": "stdout",
     "output_type": "stream",
     "text": [
      "London is the most popular tourist destination in the world.\n",
      "Paris was originally a Roman City called Lutetia.\n",
      "Spain produces 43,8% of all the world's Olive Oil.\n"
     ]
    }
   ],
   "source": [
    "# 1. All the \"fun facts\"\n",
    "for i in soup.find_all(\"p\"):\n",
    "    print(i.get_text())"
   ]
  },
  {
   "cell_type": "code",
   "execution_count": 101,
   "metadata": {
    "id": "5nqiDNSYaAbh",
    "outputId": "eb56b95f-78d3-4c96-bde5-604f1fc1a576"
   },
   "outputs": [
    {
     "name": "stdout",
     "output_type": "stream",
     "text": [
      "London\n",
      "Paris\n",
      "Spain\n"
     ]
    }
   ],
   "source": [
    "# 2. The names of all the places.\n",
    "for i in soup.find_all(\"h2\"):\n",
    "    print(i.get_text())"
   ]
  },
  {
   "cell_type": "markdown",
   "metadata": {
    "id": "L56I9zZtd7dF"
   },
   "source": [
    "If we want to the tags which has an `id` or `class`, we can provide a dictionary to find_all "
   ]
  },
  {
   "cell_type": "code",
   "execution_count": 102,
   "metadata": {
    "id": "RO4CaRQGaAbi",
    "outputId": "f942364b-e3af-4653-b847-7108c4df1188"
   },
   "outputs": [
    {
     "name": "stdout",
     "output_type": "stream",
     "text": [
      "\n",
      "London\n",
      "London is the most popular tourist destination in the world.\n",
      "\n",
      "\n",
      "Paris\n",
      "Paris was originally a Roman City called Lutetia.\n",
      "\n"
     ]
    }
   ],
   "source": [
    "# 3. All the content (name and fact) of all the cities (only cities, not countries!)\n",
    "for i in soup.find_all(\"div\", {\"class\":\"city\"}):\n",
    "    print(i.get_text())"
   ]
  },
  {
   "cell_type": "code",
   "execution_count": 24,
   "metadata": {
    "id": "qr96_8fCaAbi",
    "outputId": "696ce786-0f31-4970-d5d2-adba7eb2298b"
   },
   "outputs": [
    {
     "name": "stdout",
     "output_type": "stream",
     "text": [
      "London\n",
      "Paris\n"
     ]
    }
   ],
   "source": [
    "# 4. The names (not facts!) of all the cities (not countries!)\n",
    "for i in soup.find_all(\"div\", {\"class\":\"city\"}):\n",
    "    print(i.h2.get_text())"
   ]
  },
  {
   "cell_type": "markdown",
   "metadata": {
    "id": "du1eWZioaAbi"
   },
   "source": [
    "## Use case: imdb top charts\n",
    "\n",
    "Let's go to https://www.imdb.com/chart/top, where we'll see the top 250 movies according to IMDb ratings.\n",
    "\n",
    "Notice how each movie has the following elements:\n",
    "\n",
    "- Title\n",
    "\n",
    "- Release Year\n",
    "\n",
    "- IMDb rating\n",
    "\n",
    "- Director & main stars (they appear when you hover over the title)\n",
    "\n",
    "Our objective is going to be to scrape this information and store it in a pandas dataframe.\n",
    "\n"
   ]
  },
  {
   "cell_type": "code",
   "execution_count": 1,
   "metadata": {
    "id": "yVB5PyUKaAbi"
   },
   "outputs": [],
   "source": [
    "# 1. import libraries\n",
    "from bs4 import BeautifulSoup\n",
    "import requests\n",
    "import pandas as pd"
   ]
  },
  {
   "cell_type": "code",
   "execution_count": 2,
   "metadata": {
    "id": "aeTnMAh4aAbi"
   },
   "outputs": [],
   "source": [
    "# 2. find url and store it in a variable\n",
    "url = \"https://www.imdb.com/chart/top\""
   ]
  },
  {
   "cell_type": "code",
   "execution_count": 3,
   "metadata": {
    "id": "wY1bee2oaAbi",
    "outputId": "c0d28c71-973c-43d4-e325-95eb14468348"
   },
   "outputs": [
    {
     "data": {
      "text/plain": [
       "200"
      ]
     },
     "execution_count": 3,
     "metadata": {},
     "output_type": "execute_result"
    }
   ],
   "source": [
    "# 3. download html with a get request\n",
    "response = requests.get(url)\n",
    "response.status_code # 200 status code means OK! when it starts with 4 or 5 it is an error"
   ]
  },
  {
   "cell_type": "code",
   "execution_count": 4,
   "metadata": {
    "id": "N4muU72MaAbj",
    "outputId": "fd2d1078-7507-41ac-b3cd-2d872f2053bc"
   },
   "outputs": [],
   "source": [
    "# 4.1. parse html (create the 'soup')\n",
    "soup = BeautifulSoup(response.content, \"html.parser\")\n",
    "# 4.2. check that the html code looks like it should\n",
    "#soup"
   ]
  },
  {
   "cell_type": "code",
   "execution_count": 5,
   "metadata": {
    "id": "uDbGxDzHaAbj",
    "outputId": "668ba012-76a6-4b18-a1ae-f53de2e8415a"
   },
   "outputs": [
    {
     "data": {
      "text/plain": [
       "'Die Verurteilten'"
      ]
     },
     "execution_count": 5,
     "metadata": {},
     "output_type": "execute_result"
    }
   ],
   "source": [
    "# 5. retrieve/extract the desired info (here, you'll paste the \"Selector\" you copied before to get the element that belongs to the top movie)\n",
    "\n",
    "soup.select(\"#main > div > span > div > div > div.lister > table > tbody > tr:nth-child(1) > td.titleColumn > a\")[0].get_text()"
   ]
  },
  {
   "cell_type": "markdown",
   "metadata": {
    "id": "9IpUzgKYaAbj"
   },
   "source": [
    "This long selector we copied is kind of long and ugly, isn't it? And it only selects one single movie, while we will want to collect data from all of them. Going from that particular selector to one that's more \"general\" and \"elegant\" is the actual work the web scraper needs to do.\n",
    "\n",
    "In this case, we can play around a bit with different tags and classes, until we notice that all the information about the movies is under the tag <td class=\"titleColumn\">. We're lucky that under this tag there's not much \"trash\", just the info we need."
   ]
  },
  {
   "cell_type": "code",
   "execution_count": 6,
   "metadata": {
    "id": "zSTrMH3AaAbj",
    "outputId": "5142b807-1e96-483c-c5c1-d8a2240dbeca"
   },
   "outputs": [],
   "source": [
    "#soup.select(\"td.titleColumn\") # all the info about all the movies"
   ]
  },
  {
   "cell_type": "code",
   "execution_count": 7,
   "metadata": {
    "id": "BATywxK4aAbk",
    "outputId": "ec5776a1-a476-4834-a26d-ef54910e372b"
   },
   "outputs": [],
   "source": [
    "#soup.select(\"td.titleColumn a\") # all elements containing movie titles"
   ]
  },
  {
   "cell_type": "code",
   "execution_count": 8,
   "metadata": {
    "id": "kz_XADFsaAbk",
    "outputId": "ad8e5fac-5a23-4c6e-db6e-f683d3622bd0"
   },
   "outputs": [
    {
     "data": {
      "text/plain": [
       "'Die Verurteilten'"
      ]
     },
     "execution_count": 8,
     "metadata": {},
     "output_type": "execute_result"
    }
   ],
   "source": [
    "# we can use .get_text() to extract the content of the tags we selected\n",
    "# we'll need to do it to each tag with a for loop: here we do it to the first one\n",
    "soup.select(\"td.titleColumn a\")[0]\n",
    "soup.select(\"td.titleColumn a\")[0].get_text()"
   ]
  },
  {
   "cell_type": "code",
   "execution_count": 9,
   "metadata": {
    "id": "H-Q8ZJsGaAbk",
    "outputId": "80f92e9c-9dc9-4d14-c3d4-0389ddf6a502"
   },
   "outputs": [
    {
     "data": {
      "text/plain": [
       "'Frank Darabont (dir.), Tim Robbins, Morgan Freeman'"
      ]
     },
     "execution_count": 9,
     "metadata": {},
     "output_type": "execute_result"
    }
   ],
   "source": [
    "# the director and main stars are in the same tag, but as a value of the attribute \"title\"\n",
    "# we can access attributes as key-value pairs of dictionaries: using [\"key\"] to get the value:\n",
    "soup.select(\"td.titleColumn a\")[0][\"title\"] \n",
    "\n",
    "# instead of [\"title\"] we could use .get(\"title\"): choose whatever you prefer"
   ]
  },
  {
   "cell_type": "code",
   "execution_count": 10,
   "metadata": {
    "id": "1onDNRx2aAbk",
    "outputId": "5b27e287-8ccd-4f37-8c9a-aca818c6f2b4"
   },
   "outputs": [
    {
     "data": {
      "text/plain": [
       "'(1994)'"
      ]
     },
     "execution_count": 10,
     "metadata": {},
     "output_type": "execute_result"
    }
   ],
   "source": [
    "# the years are inside a 'span' tag with the 'secondaryInfo' class\n",
    "# we also specify the parent tag and its class, which is the same we used before\n",
    "# the years are inside parentheses, but we'll take care of that later\n",
    "soup.select(\"td.titleColumn span.secondaryInfo\")[0].get_text()"
   ]
  },
  {
   "cell_type": "markdown",
   "metadata": {
    "id": "kXxPimjraAbk"
   },
   "source": [
    "#### Building the dataframe"
   ]
  },
  {
   "cell_type": "code",
   "execution_count": 11,
   "metadata": {
    "id": "iYDWTFeOaAbk"
   },
   "outputs": [],
   "source": [
    "#initialize empty lists\n",
    "title = []\n",
    "dir_stars = []\n",
    "year = []"
   ]
  },
  {
   "cell_type": "code",
   "execution_count": 12,
   "metadata": {
    "id": "fWbnRUBfaAbl"
   },
   "outputs": [],
   "source": [
    "# define the number of iterations of our for loop \n",
    "# by checking how many elements are in the retrieved result set\n",
    "# (this is equivalent but more robust than just explicitly defining 250 iterations)\n",
    "num_iter = len(soup.select(\"td.titleColumn a\"))"
   ]
  },
  {
   "cell_type": "code",
   "execution_count": 13,
   "metadata": {
    "id": "4dofV0-OaAbl"
   },
   "outputs": [],
   "source": [
    "# iterate through the result set and retrive all the data\n",
    "for i in range(num_iter):\n",
    "    title.append(soup.select(\"td.titleColumn a\")[i].get_text())\n",
    "    dir_stars.append(soup.select(\"td.titleColumn a\")[i][\"title\"])\n",
    "    year.append(soup.select(\"td.titleColumn span.secondaryInfo\")[i].get_text())"
   ]
  },
  {
   "cell_type": "code",
   "execution_count": 14,
   "metadata": {
    "id": "KBd1BiEgaAbl"
   },
   "outputs": [
    {
     "name": "stdout",
     "output_type": "stream",
     "text": [
      "['Die Verurteilten', 'Der Pate', 'Der Pate 2', 'The Dark Knight', 'Die zwölf Geschworenen', 'Schindlers Liste', 'Der Herr der Ringe: Die Rückkehr des Königs', 'Pulp Fiction', 'Zwei glorreiche Halunken', 'Der Herr der Ringe: Die Gefährten', 'Fight Club', 'Forrest Gump', 'Inception', 'Der Herr der Ringe: Die zwei Türme', 'Das Imperium schlägt zurück', 'Matrix', 'GoodFellas - Drei Jahrzehnte in der Mafia', 'Einer flog über das Kuckucksnest', 'Die sieben Samurai', 'Sieben', 'Das Schweigen der Lämmer', 'City of God', 'Das Leben ist schön', 'Ist das Leben nicht schön?', 'Krieg der Sterne', 'Der Soldat James Ryan', 'Interstellar', 'Chihiros Reise ins Zauberland', 'The Green Mile', 'Parasite', 'Léon: Der Profi', 'Harakiri', 'Der Pianist', 'Die üblichen Verdächtigen', 'Terminator 2: Tag der Abrechnung', 'Zurück in die Zukunft', 'Psycho', 'Moderne Zeiten', 'Der König der Löwen', 'American History X', 'Lichter der Großstadt - Eine Komödien-Romance als Pantomime', 'Die letzten Glühwürmchen', 'Whiplash', 'Gladiator', 'Departed: Unter Feinden', 'Ziemlich beste Freunde', 'Prestige: Die Meister der Magie', 'Casablanca', 'Spiel mir das Lied vom Tod', 'Das Fenster zum Hof', 'Cinema Paradiso', 'Alien - Das unheimliche Wesen aus einer fremden Welt', 'Apocalypse Now', 'Memento', 'Jäger des verlorenen Schatzes', 'Der große Diktator', 'Das Leben der Anderen', 'Django Unchained', 'Wege zum Ruhm', 'Boulevard der Dämmerung', 'WALL·E: Der Letzte räumt die Erde auf', 'Shining', 'Avengers: Infinity War', 'Zeugin der Anklage', 'Dr. Seltsam oder: Wie ich lernte, die Bombe zu lieben', 'Spider-Man: A New Universe', 'Joker', 'Prinzessin Mononoke', 'Oldboy', 'Your Name.', 'Es war einmal in Amerika', 'The Dark Knight Rises', 'Aliens - Die Rückkehr', 'Coco: Lebendiger als das Leben', 'Hamilton', 'Capernaum: Stadt der Hoffnung', 'Avengers: Endgame', 'Das Boot', 'Zwischen Himmel und Hölle', 'American Beauty', 'Toy Story', '3 Idiots', 'Braveheart', 'Amadeus', 'Inglourious Basterds', 'Good Will Hunting: Der gute Will Hunting', 'Die Rückkehr der Jedi-Ritter', '2001: Odyssee im Weltraum', 'Reservoir Dogs: Wilde Hunde', 'M: Eine Stadt sucht einen Mörder', 'Taare Zameen Par: Ein Stern auf Erden', 'Vertigo - Aus dem Reich der Toten', 'Citizen Kane', \"Komm und sieh'\", 'Die Jagd', 'Requiem for a Dream', 'Apus Weg ins Leben - 1.: Auf der Straße', 'Du sollst mein Glücksstern sein', 'Der unsichtbare Dritte', 'Vergiss mein nicht', 'Ikiru - Einmal wirklich leben', 'Fahrraddiebe', 'Lawrence von Arabien', 'Der Vagabund und das Kind', 'Dangal: Die Hoffnung auf den großen Sieg', 'Full Metal Jacket', 'The Father', 'Uhrwerk Orange', 'Metropolis', 'Das Appartement', 'Taxi Driver', 'Die Frau die singt - Incendies', 'Frau ohne Gewissen', 'Der Clou', 'Nader und Simin - eine Trennung', 'Scarface', '1917', 'Snatch: Schweine und Diamanten', 'Die fabelhafte Welt der Amelie', 'Toy Story 3', 'Wer die Nachtigall stört', 'Für ein paar Dollar mehr', 'Oben', 'Indiana Jones und der letzte Kreuzzug', 'L.A. Confidential', 'Heat', 'Rashomon - Das Lustwäldchen', 'Yojimbo - Der Leibwächter', 'Ran', 'Stirb langsam', 'Green Book - Eine besondere Freundschaft', 'Der Untergang', 'Die Ritter der Kokosnuß', 'Alles über Eva', \"Manche mögen's heiß\", 'Batman Begins', 'Erbarmungslos', 'Kinder des Himmels', 'Das wandelnde Schloss', 'The Wolf of Wall Street', 'Gesprengte Ketten', 'Das Urteil von Nürnberg', 'Casino', 'Der Schatz der Sierra Madre', 'There Will Be Blood', 'Pans Labyrinth', 'A Beautiful Mind: Genie und Wahnsinn', 'In ihren Augen', 'Wie ein wilder Stier', 'Mein Nachbar Totoro', 'Chinatown', 'Bube Dame König grAS', 'Goldrausch', 'Shutter Island', 'No Country for Old Men', 'Bei Anruf Mord', 'Das siebente Siegel', 'Three Billboards Outside Ebbing, Missouri', 'Der Elefantenmensch', 'Das Ding aus einer anderen Welt', 'The Sixth Sense - Nicht jede Gabe ist ein Segen', 'Klaus', 'Der dritte Mann', 'Wilde Erdbeeren', 'V wie Vendetta', 'Alles steht Kopf', 'Jurassic Park', 'Die Truman Show', 'Memories of Murder', 'Der Blade Runner', 'Trainspotting - Neue Helden', 'Die Brücke am Kwai', 'Warrior', 'Fargo: Blutiger Schnee', 'Findet Nemo', 'Vom Winde verweht', 'Die Reise nach Tokio', 'Mein Vater und mein Sohn', 'Kill Bill: Vol. 1', 'Die Faust im Nacken', 'Stalker', 'Sherlock Holmes Jr.', 'Wild Tales: Jeder dreht mal durch!', 'Der General', 'Die durch die Hölle gehen', 'Gran Torino', 'Persona', 'Grand Budapest Hotel', 'Before Sunrise - Zwischenstopp in Wien', 'Prisoners', 'Mary & Max, oder - Schrumpfen Schafe, wenn es regnet', 'Raum', 'Mr. Smith geht nach Washington', 'Im Namen des Vaters', 'Catch Me If You Can', 'Barry Lyndon', 'Gone Girl - Das perfekte Opfer', 'Hacksaw Ridge - Die Entscheidung', 'Andhadhun', 'Sein oder Nichtsein', \"Die Passion der Jeanne d'Arc\", 'Le Mans 66 - Gegen jede Chance', '12 Years a Slave', 'The Big Lebowski', 'Drachenzähmen leicht gemacht', 'Mad Max: Fury Road', 'Der Club der toten Dichter', 'Ben Hur', 'Lohn der Angst', 'Million Dollar Baby', 'Herbstsonate', 'Harry Potter und die Heiligtümer des Todes - Teil 2', 'Network', 'Die Taschendiebin', 'Stand by Me - Das Geheimnis eines Sommers', 'Der Unbeugsame', 'Sie küßten und sie schlugen ihn', 'Logan: The Wolverine', 'Hachiko - Eine wunderbare Freundschaft', 'Gangs of Wasseypur', 'Hass', 'Eskiya - Der Bandit', 'Platoon', 'Spotlight', 'Koe no katachi', 'Das Leben des Brian', 'Rebecca', 'Die Monster AG', 'Hotel Ruanda', 'Rush: Alles für den Sieg', 'In the Mood for Love - Der Klang der Liebe', 'Andrej Rubljow', 'Into the Wild', 'Amores perros', 'Rocky', 'Es geschah in einer Nacht', 'Nausicaä - Prinzessin aus dem Tal der Winde', 'Neon Genesis Evangelion - The End of Evangelion', 'Schlacht um Algier', 'Before Sunset', 'Fanny und Alexander', 'Kimetsu no Yaiba: Mugen Ressha-Hen', 'Drei Farben - Rot', 'Paris, Texas', 'Die Braut des Prinzen', 'Ratsasan', 'Rififi', 'Die Nächte der Cabiria', 'Sonnenaufgang', 'Hera Pheri']\n"
     ]
    }
   ],
   "source": [
    "print(title)"
   ]
  },
  {
   "cell_type": "code",
   "execution_count": 15,
   "metadata": {
    "id": "oby27ZGsaAbl"
   },
   "outputs": [
    {
     "name": "stdout",
     "output_type": "stream",
     "text": [
      "['Frank Darabont (dir.), Tim Robbins, Morgan Freeman', 'Francis Ford Coppola (dir.), Marlon Brando, Al Pacino', 'Francis Ford Coppola (dir.), Al Pacino, Robert De Niro', 'Christopher Nolan (dir.), Christian Bale, Heath Ledger', 'Sidney Lumet (dir.), Henry Fonda, Lee J. Cobb', 'Steven Spielberg (dir.), Liam Neeson, Ralph Fiennes', 'Peter Jackson (dir.), Elijah Wood, Viggo Mortensen', 'Quentin Tarantino (dir.), John Travolta, Uma Thurman', 'Sergio Leone (dir.), Clint Eastwood, Eli Wallach', 'Peter Jackson (dir.), Elijah Wood, Ian McKellen', 'David Fincher (dir.), Brad Pitt, Edward Norton', 'Robert Zemeckis (dir.), Tom Hanks, Robin Wright', 'Christopher Nolan (dir.), Leonardo DiCaprio, Joseph Gordon-Levitt', 'Peter Jackson (dir.), Elijah Wood, Ian McKellen', 'Irvin Kershner (dir.), Mark Hamill, Harrison Ford', 'Lana Wachowski (dir.), Keanu Reeves, Laurence Fishburne', 'Martin Scorsese (dir.), Robert De Niro, Ray Liotta', 'Milos Forman (dir.), Jack Nicholson, Louise Fletcher', 'Akira Kurosawa (dir.), Toshirô Mifune, Takashi Shimura', 'David Fincher (dir.), Morgan Freeman, Brad Pitt', 'Jonathan Demme (dir.), Jodie Foster, Anthony Hopkins', 'Fernando Meirelles (dir.), Alexandre Rodrigues, Leandro Firmino', 'Roberto Benigni (dir.), Roberto Benigni, Nicoletta Braschi', 'Frank Capra (dir.), James Stewart, Donna Reed', 'George Lucas (dir.), Mark Hamill, Harrison Ford', 'Steven Spielberg (dir.), Tom Hanks, Matt Damon', 'Christopher Nolan (dir.), Matthew McConaughey, Anne Hathaway', 'Hayao Miyazaki (dir.), Daveigh Chase, Suzanne Pleshette', 'Frank Darabont (dir.), Tom Hanks, Michael Clarke Duncan', 'Bong Joon Ho (dir.), Kang-ho Song, Sun-kyun Lee', 'Luc Besson (dir.), Jean Reno, Gary Oldman', 'Masaki Kobayashi (dir.), Tatsuya Nakadai, Akira Ishihama', 'Roman Polanski (dir.), Adrien Brody, Thomas Kretschmann', 'Bryan Singer (dir.), Kevin Spacey, Gabriel Byrne', 'James Cameron (dir.), Arnold Schwarzenegger, Linda Hamilton', 'Robert Zemeckis (dir.), Michael J. Fox, Christopher Lloyd', 'Alfred Hitchcock (dir.), Anthony Perkins, Janet Leigh', 'Charles Chaplin (dir.), Charles Chaplin, Paulette Goddard', 'Roger Allers (dir.), Matthew Broderick, Jeremy Irons', 'Tony Kaye (dir.), Edward Norton, Edward Furlong', 'Charles Chaplin (dir.), Charles Chaplin, Virginia Cherrill', 'Isao Takahata (dir.), Tsutomu Tatsumi, Ayano Shiraishi', 'Damien Chazelle (dir.), Miles Teller, J.K. Simmons', 'Ridley Scott (dir.), Russell Crowe, Joaquin Phoenix', 'Martin Scorsese (dir.), Leonardo DiCaprio, Matt Damon', 'Olivier Nakache (dir.), François Cluzet, Omar Sy', 'Christopher Nolan (dir.), Christian Bale, Hugh Jackman', 'Michael Curtiz (dir.), Humphrey Bogart, Ingrid Bergman', 'Sergio Leone (dir.), Henry Fonda, Charles Bronson', 'Alfred Hitchcock (dir.), James Stewart, Grace Kelly', 'Giuseppe Tornatore (dir.), Philippe Noiret, Enzo Cannavale', 'Ridley Scott (dir.), Sigourney Weaver, Tom Skerritt', 'Francis Ford Coppola (dir.), Martin Sheen, Marlon Brando', 'Christopher Nolan (dir.), Guy Pearce, Carrie-Anne Moss', 'Steven Spielberg (dir.), Harrison Ford, Karen Allen', 'Charles Chaplin (dir.), Charles Chaplin, Paulette Goddard', 'Florian Henckel von Donnersmarck (dir.), Ulrich Mühe, Martina Gedeck', 'Quentin Tarantino (dir.), Jamie Foxx, Christoph Waltz', 'Stanley Kubrick (dir.), Kirk Douglas, Ralph Meeker', 'Billy Wilder (dir.), William Holden, Gloria Swanson', 'Andrew Stanton (dir.), Ben Burtt, Elissa Knight', 'Stanley Kubrick (dir.), Jack Nicholson, Shelley Duvall', 'Anthony Russo (dir.), Robert Downey Jr., Chris Hemsworth', 'Billy Wilder (dir.), Tyrone Power, Marlene Dietrich', 'Stanley Kubrick (dir.), Peter Sellers, George C. Scott', 'Bob Persichetti (dir.), Shameik Moore, Jake Johnson', 'Todd Phillips (dir.), Joaquin Phoenix, Robert De Niro', 'Hayao Miyazaki (dir.), Yôji Matsuda, Yuriko Ishida', 'Park Chan-Wook (dir.), Choi Min-sik, Yoo Ji-Tae', 'Makoto Shinkai (dir.), Ryûnosuke Kamiki, Mone Kamishiraishi', 'Sergio Leone (dir.), Robert De Niro, James Woods', 'Christopher Nolan (dir.), Christian Bale, Tom Hardy', 'James Cameron (dir.), Sigourney Weaver, Michael Biehn', 'Lee Unkrich (dir.), Anthony Gonzalez, Gael García Bernal', 'Thomas Kail (dir.), Lin-Manuel Miranda, Phillipa Soo', 'Nadine Labaki (dir.), Zain Al Rafeea, Yordanos Shiferaw', 'Anthony Russo (dir.), Robert Downey Jr., Chris Evans', 'Wolfgang Petersen (dir.), Jürgen Prochnow, Herbert Grönemeyer', 'Akira Kurosawa (dir.), Toshirô Mifune, Yutaka Sada', 'Sam Mendes (dir.), Kevin Spacey, Annette Bening', 'John Lasseter (dir.), Tom Hanks, Tim Allen', 'Rajkumar Hirani (dir.), Aamir Khan, Madhavan', 'Mel Gibson (dir.), Mel Gibson, Sophie Marceau', 'Milos Forman (dir.), F. Murray Abraham, Tom Hulce', 'Quentin Tarantino (dir.), Brad Pitt, Diane Kruger', 'Gus Van Sant (dir.), Robin Williams, Matt Damon', 'Richard Marquand (dir.), Mark Hamill, Harrison Ford', 'Stanley Kubrick (dir.), Keir Dullea, Gary Lockwood', 'Quentin Tarantino (dir.), Harvey Keitel, Tim Roth', 'Fritz Lang (dir.), Peter Lorre, Ellen Widmann', 'Aamir Khan (dir.), Darsheel Safary, Aamir Khan', 'Alfred Hitchcock (dir.), James Stewart, Kim Novak', 'Orson Welles (dir.), Orson Welles, Joseph Cotten', 'Elem Klimov (dir.), Aleksey Kravchenko, Olga Mironova', 'Thomas Vinterberg (dir.), Mads Mikkelsen, Thomas Bo Larsen', 'Darren Aronofsky (dir.), Ellen Burstyn, Jared Leto', 'Satyajit Ray (dir.), Kanu Bannerjee, Karuna Bannerjee', \"Stanley Donen (dir.), Gene Kelly, Donald O'Connor\", 'Alfred Hitchcock (dir.), Cary Grant, Eva Marie Saint', 'Michel Gondry (dir.), Jim Carrey, Kate Winslet', 'Akira Kurosawa (dir.), Takashi Shimura, Nobuo Kaneko', 'Vittorio De Sica (dir.), Lamberto Maggiorani, Enzo Staiola', \"David Lean (dir.), Peter O'Toole, Alec Guinness\", 'Charles Chaplin (dir.), Charles Chaplin, Edna Purviance', 'Nitesh Tiwari (dir.), Aamir Khan, Sakshi Tanwar', 'Stanley Kubrick (dir.), Matthew Modine, R. Lee Ermey', 'Florian Zeller (dir.), Anthony Hopkins, Olivia Colman', 'Stanley Kubrick (dir.), Malcolm McDowell, Patrick Magee', 'Fritz Lang (dir.), Brigitte Helm, Alfred Abel', 'Billy Wilder (dir.), Jack Lemmon, Shirley MacLaine', 'Martin Scorsese (dir.), Robert De Niro, Jodie Foster', 'Denis Villeneuve (dir.), Lubna Azabal, Mélissa Désormeaux-Poulin', 'Billy Wilder (dir.), Fred MacMurray, Barbara Stanwyck', 'George Roy Hill (dir.), Paul Newman, Robert Redford', 'Asghar Farhadi (dir.), Payman Maadi, Leila Hatami', 'Brian De Palma (dir.), Al Pacino, Michelle Pfeiffer', 'Sam Mendes (dir.), Dean-Charles Chapman, George MacKay', 'Guy Ritchie (dir.), Jason Statham, Brad Pitt', 'Jean-Pierre Jeunet (dir.), Audrey Tautou, Mathieu Kassovitz', 'Lee Unkrich (dir.), Tom Hanks, Tim Allen', 'Robert Mulligan (dir.), Gregory Peck, John Megna', 'Sergio Leone (dir.), Clint Eastwood, Lee Van Cleef', 'Pete Docter (dir.), Ed Asner, Jordan Nagai', 'Steven Spielberg (dir.), Harrison Ford, Sean Connery', 'Curtis Hanson (dir.), Kevin Spacey, Russell Crowe', 'Michael Mann (dir.), Al Pacino, Robert De Niro', 'Akira Kurosawa (dir.), Toshirô Mifune, Machiko Kyô', 'Akira Kurosawa (dir.), Toshirô Mifune, Eijirô Tôno', 'Akira Kurosawa (dir.), Tatsuya Nakadai, Akira Terao', 'John McTiernan (dir.), Bruce Willis, Alan Rickman', 'Peter Farrelly (dir.), Viggo Mortensen, Mahershala Ali', 'Oliver Hirschbiegel (dir.), Bruno Ganz, Alexandra Maria Lara', 'Terry Gilliam (dir.), Graham Chapman, John Cleese', 'Joseph L. Mankiewicz (dir.), Bette Davis, Anne Baxter', 'Billy Wilder (dir.), Marilyn Monroe, Tony Curtis', 'Christopher Nolan (dir.), Christian Bale, Michael Caine', 'Clint Eastwood (dir.), Clint Eastwood, Gene Hackman', 'Majid Majidi (dir.), Mohammad Amir Naji, Amir Farrokh Hashemian', 'Hayao Miyazaki (dir.), Chieko Baishô, Takuya Kimura', 'Martin Scorsese (dir.), Leonardo DiCaprio, Jonah Hill', 'John Sturges (dir.), Steve McQueen, James Garner', 'Stanley Kramer (dir.), Spencer Tracy, Burt Lancaster', 'Martin Scorsese (dir.), Robert De Niro, Sharon Stone', 'John Huston (dir.), Humphrey Bogart, Walter Huston', 'Paul Thomas Anderson (dir.), Daniel Day-Lewis, Paul Dano', 'Guillermo del Toro (dir.), Ivana Baquero, Ariadna Gil', 'Ron Howard (dir.), Russell Crowe, Ed Harris', 'Juan José Campanella (dir.), Ricardo Darín, Soledad Villamil', 'Martin Scorsese (dir.), Robert De Niro, Cathy Moriarty', 'Hayao Miyazaki (dir.), Hitoshi Takagi, Noriko Hidaka', 'Roman Polanski (dir.), Jack Nicholson, Faye Dunaway', 'Guy Ritchie (dir.), Jason Flemyng, Dexter Fletcher', 'Charles Chaplin (dir.), Charles Chaplin, Mack Swain', 'Martin Scorsese (dir.), Leonardo DiCaprio, Emily Mortimer', 'Ethan Coen (dir.), Tommy Lee Jones, Javier Bardem', 'Alfred Hitchcock (dir.), Ray Milland, Grace Kelly', 'Ingmar Bergman (dir.), Max von Sydow, Gunnar Björnstrand', 'Martin McDonagh (dir.), Frances McDormand, Woody Harrelson', 'David Lynch (dir.), Anthony Hopkins, John Hurt', 'John Carpenter (dir.), Kurt Russell, Wilford Brimley', 'M. Night Shyamalan (dir.), Bruce Willis, Haley Joel Osment', 'Sergio Pablos (dir.), Jason Schwartzman, J.K. Simmons', 'Carol Reed (dir.), Orson Welles, Joseph Cotten', 'Ingmar Bergman (dir.), Victor Sjöström, Bibi Andersson', 'James McTeigue (dir.), Hugo Weaving, Natalie Portman', 'Pete Docter (dir.), Amy Poehler, Bill Hader', 'Steven Spielberg (dir.), Sam Neill, Laura Dern', 'Peter Weir (dir.), Jim Carrey, Ed Harris', 'Bong Joon Ho (dir.), Kang-ho Song, Kim Sang-kyung', 'Ridley Scott (dir.), Harrison Ford, Rutger Hauer', 'Danny Boyle (dir.), Ewan McGregor, Ewen Bremner', 'David Lean (dir.), William Holden, Alec Guinness', \"Gavin O'Connor (dir.), Tom Hardy, Nick Nolte\", 'Joel Coen (dir.), William H. Macy, Frances McDormand', 'Andrew Stanton (dir.), Albert Brooks, Ellen DeGeneres', 'Victor Fleming (dir.), Clark Gable, Vivien Leigh', 'Yasujirô Ozu (dir.), Chishû Ryû, Chieko Higashiyama', 'Cagan Irmak (dir.), Eser Sariyar, Çetin Tekindor', 'Quentin Tarantino (dir.), Uma Thurman, David Carradine', 'Elia Kazan (dir.), Marlon Brando, Karl Malden', 'Andrei Tarkovsky (dir.), Alisa Freyndlikh, Aleksandr Kaydanovskiy', 'Buster Keaton (dir.), Buster Keaton, Kathryn McGuire', 'Damián Szifron (dir.), Darío Grandinetti, María Marull', 'Clyde Bruckman (dir.), Buster Keaton, Marion Mack', 'Michael Cimino (dir.), Robert De Niro, Christopher Walken', 'Clint Eastwood (dir.), Clint Eastwood, Bee Vang', 'Ingmar Bergman (dir.), Bibi Andersson, Liv Ullmann', 'Wes Anderson (dir.), Ralph Fiennes, F. Murray Abraham', 'Richard Linklater (dir.), Ethan Hawke, Julie Delpy', 'Denis Villeneuve (dir.), Hugh Jackman, Jake Gyllenhaal', 'Adam Elliot (dir.), Toni Collette, Philip Seymour Hoffman', 'Lenny Abrahamson (dir.), Brie Larson, Jacob Tremblay', 'Frank Capra (dir.), James Stewart, Jean Arthur', 'Jim Sheridan (dir.), Daniel Day-Lewis, Pete Postlethwaite', 'Steven Spielberg (dir.), Leonardo DiCaprio, Tom Hanks', \"Stanley Kubrick (dir.), Ryan O'Neal, Marisa Berenson\", 'David Fincher (dir.), Ben Affleck, Rosamund Pike', 'Mel Gibson (dir.), Andrew Garfield, Sam Worthington', 'Sriram Raghavan (dir.), Ayushmann Khurrana, Tabu', 'Ernst Lubitsch (dir.), Carole Lombard, Jack Benny', 'Carl Theodor Dreyer (dir.), Maria Falconetti, Eugene Silvain', 'James Mangold (dir.), Matt Damon, Christian Bale', 'Steve McQueen (dir.), Chiwetel Ejiofor, Michael Kenneth Williams', 'Joel Coen (dir.), Jeff Bridges, John Goodman', 'Dean DeBlois (dir.), Jay Baruchel, Gerard Butler', 'George Miller (dir.), Tom Hardy, Charlize Theron', 'Peter Weir (dir.), Robin Williams, Robert Sean Leonard', 'William Wyler (dir.), Charlton Heston, Jack Hawkins', 'Henri-Georges Clouzot (dir.), Yves Montand, Charles Vanel', 'Clint Eastwood (dir.), Hilary Swank, Clint Eastwood', 'Ingmar Bergman (dir.), Ingrid Bergman, Liv Ullmann', 'David Yates (dir.), Daniel Radcliffe, Emma Watson', 'Sidney Lumet (dir.), Faye Dunaway, William Holden', 'Park Chan-Wook (dir.), Kim Min-hee, Ha Jung-woo', 'Rob Reiner (dir.), Wil Wheaton, River Phoenix', 'Stuart Rosenberg (dir.), Paul Newman, George Kennedy', 'François Truffaut (dir.), Jean-Pierre Léaud, Albert Rémy', 'James Mangold (dir.), Hugh Jackman, Patrick Stewart', 'Lasse Hallström (dir.), Richard Gere, Joan Allen', 'Anurag Kashyap (dir.), Manoj Bajpayee, Richa Chadha', 'Mathieu Kassovitz (dir.), Vincent Cassel, Hubert Koundé', 'Yavuz Turgul (dir.), Sener Sen, Ugur Yücel', 'Oliver Stone (dir.), Charlie Sheen, Tom Berenger', 'Tom McCarthy (dir.), Mark Ruffalo, Michael Keaton', 'Naoko Yamada (dir.), Miyu Irino, Saori Hayami', 'Terry Jones (dir.), Graham Chapman, John Cleese', 'Alfred Hitchcock (dir.), Laurence Olivier, Joan Fontaine', 'Pete Docter (dir.), Billy Crystal, John Goodman', 'Terry George (dir.), Don Cheadle, Sophie Okonedo', 'Ron Howard (dir.), Daniel Brühl, Chris Hemsworth', 'Kar-Wai Wong (dir.), Tony Chiu-Wai Leung, Maggie Cheung', 'Andrei Tarkovsky (dir.), Anatoliy Solonitsyn, Ivan Lapikov', 'Sean Penn (dir.), Emile Hirsch, Vince Vaughn', 'Alejandro G. Iñárritu (dir.), Emilio Echevarría, Gael García Bernal', 'John G. Avildsen (dir.), Sylvester Stallone, Talia Shire', 'Frank Capra (dir.), Clark Gable, Claudette Colbert', 'Hayao Miyazaki (dir.), Sumi Shimamoto, Mahito Tsujimura', 'Hideaki Anno (dir.), Megumi Ogata, Megumi Hayashibara', 'Gillo Pontecorvo (dir.), Brahim Hadjadj, Jean Martin', 'Richard Linklater (dir.), Ethan Hawke, Julie Delpy', 'Ingmar Bergman (dir.), Bertil Guve, Pernilla Allwin', 'Haruo Sotozaki (dir.), Natsuki Hanae, Akari Kitô', 'Krzysztof Kieslowski (dir.), Irène Jacob, Jean-Louis Trintignant', 'Wim Wenders (dir.), Harry Dean Stanton, Nastassja Kinski', 'Rob Reiner (dir.), Cary Elwes, Mandy Patinkin', 'Ram Kumar (dir.), Vishnu Vishal, Amala Paul', 'Jules Dassin (dir.), Jean Servais, Carl Möhner', 'Federico Fellini (dir.), Giulietta Masina, François Périer', \"F.W. Murnau (dir.), George O'Brien, Janet Gaynor\", 'Priyadarshan (dir.), Akshay Kumar, Suniel Shetty']\n"
     ]
    }
   ],
   "source": [
    "print(dir_stars)"
   ]
  },
  {
   "cell_type": "code",
   "execution_count": 16,
   "metadata": {
    "id": "ZX4xtAWgaAbl"
   },
   "outputs": [
    {
     "name": "stdout",
     "output_type": "stream",
     "text": [
      "['(1994)', '(1972)', '(1974)', '(2008)', '(1957)', '(1993)', '(2003)', '(1994)', '(1966)', '(2001)', '(1999)', '(1994)', '(2010)', '(2002)', '(1980)', '(1999)', '(1990)', '(1975)', '(1954)', '(1995)', '(1991)', '(2002)', '(1997)', '(1946)', '(1977)', '(1998)', '(2014)', '(2001)', '(1999)', '(2019)', '(1994)', '(1962)', '(2002)', '(1995)', '(1991)', '(1985)', '(1960)', '(1936)', '(1994)', '(1998)', '(1931)', '(1988)', '(2014)', '(2000)', '(2006)', '(2011)', '(2006)', '(1942)', '(1968)', '(1954)', '(1988)', '(1979)', '(1979)', '(2000)', '(1981)', '(1940)', '(2006)', '(2012)', '(1957)', '(1950)', '(2008)', '(1980)', '(2018)', '(1957)', '(1964)', '(2018)', '(2019)', '(1997)', '(2003)', '(2016)', '(1984)', '(2012)', '(1986)', '(2017)', '(2020)', '(2018)', '(2019)', '(1981)', '(1963)', '(1999)', '(1995)', '(2009)', '(1995)', '(1984)', '(2009)', '(1997)', '(1983)', '(1968)', '(1992)', '(1931)', '(2007)', '(1958)', '(1941)', '(1985)', '(2012)', '(2000)', '(1955)', '(1952)', '(1959)', '(2004)', '(1952)', '(1948)', '(1962)', '(1921)', '(2016)', '(1987)', '(2020)', '(1971)', '(1927)', '(1960)', '(1976)', '(2010)', '(1944)', '(1973)', '(2011)', '(1983)', '(2019)', '(2000)', '(2001)', '(2010)', '(1962)', '(1965)', '(2009)', '(1989)', '(1997)', '(1995)', '(1950)', '(1961)', '(1985)', '(1988)', '(2018)', '(2004)', '(1975)', '(1950)', '(1959)', '(2005)', '(1992)', '(1997)', '(2004)', '(2013)', '(1963)', '(1961)', '(1995)', '(1948)', '(2007)', '(2006)', '(2001)', '(2009)', '(1980)', '(1988)', '(1974)', '(1998)', '(1925)', '(2010)', '(2007)', '(1954)', '(1957)', '(2017)', '(1980)', '(1982)', '(1999)', '(2019)', '(1949)', '(1957)', '(2005)', '(2015)', '(1993)', '(1998)', '(2003)', '(1982)', '(1996)', '(1957)', '(2011)', '(1996)', '(2003)', '(1939)', '(1953)', '(2005)', '(2003)', '(1954)', '(1979)', '(1924)', '(2014)', '(1926)', '(1978)', '(2008)', '(1966)', '(2014)', '(1995)', '(2013)', '(2009)', '(2015)', '(1939)', '(1993)', '(2002)', '(1975)', '(2014)', '(2016)', '(2018)', '(1942)', '(1928)', '(2019)', '(2013)', '(1998)', '(2010)', '(2015)', '(1989)', '(1959)', '(1953)', '(2004)', '(1978)', '(2011)', '(1976)', '(2016)', '(1986)', '(1967)', '(1959)', '(2017)', '(2009)', '(2012)', '(1995)', '(1996)', '(1986)', '(2015)', '(2016)', '(1979)', '(1940)', '(2001)', '(2004)', '(2013)', '(2000)', '(1966)', '(2007)', '(2000)', '(1976)', '(1934)', '(1984)', '(1997)', '(1966)', '(2004)', '(1982)', '(2020)', '(1994)', '(1984)', '(1987)', '(2018)', '(1955)', '(1957)', '(1927)', '(2000)']\n"
     ]
    }
   ],
   "source": [
    "print(year)"
   ]
  },
  {
   "cell_type": "code",
   "execution_count": 17,
   "metadata": {
    "id": "0yFaOd6VaAbl"
   },
   "outputs": [
    {
     "data": {
      "text/html": [
       "<div>\n",
       "<style scoped>\n",
       "    .dataframe tbody tr th:only-of-type {\n",
       "        vertical-align: middle;\n",
       "    }\n",
       "\n",
       "    .dataframe tbody tr th {\n",
       "        vertical-align: top;\n",
       "    }\n",
       "\n",
       "    .dataframe thead th {\n",
       "        text-align: right;\n",
       "    }\n",
       "</style>\n",
       "<table border=\"1\" class=\"dataframe\">\n",
       "  <thead>\n",
       "    <tr style=\"text-align: right;\">\n",
       "      <th></th>\n",
       "      <th>title</th>\n",
       "      <th>dir_stars</th>\n",
       "      <th>year</th>\n",
       "    </tr>\n",
       "  </thead>\n",
       "  <tbody>\n",
       "    <tr>\n",
       "      <th>0</th>\n",
       "      <td>Die Verurteilten</td>\n",
       "      <td>Frank Darabont (dir.), Tim Robbins, Morgan Fre...</td>\n",
       "      <td>(1994)</td>\n",
       "    </tr>\n",
       "    <tr>\n",
       "      <th>1</th>\n",
       "      <td>Der Pate</td>\n",
       "      <td>Francis Ford Coppola (dir.), Marlon Brando, Al...</td>\n",
       "      <td>(1972)</td>\n",
       "    </tr>\n",
       "    <tr>\n",
       "      <th>2</th>\n",
       "      <td>Der Pate 2</td>\n",
       "      <td>Francis Ford Coppola (dir.), Al Pacino, Robert...</td>\n",
       "      <td>(1974)</td>\n",
       "    </tr>\n",
       "    <tr>\n",
       "      <th>3</th>\n",
       "      <td>The Dark Knight</td>\n",
       "      <td>Christopher Nolan (dir.), Christian Bale, Heat...</td>\n",
       "      <td>(2008)</td>\n",
       "    </tr>\n",
       "    <tr>\n",
       "      <th>4</th>\n",
       "      <td>Die zwölf Geschworenen</td>\n",
       "      <td>Sidney Lumet (dir.), Henry Fonda, Lee J. Cobb</td>\n",
       "      <td>(1957)</td>\n",
       "    </tr>\n",
       "  </tbody>\n",
       "</table>\n",
       "</div>"
      ],
      "text/plain": [
       "                    title                                          dir_stars  \\\n",
       "0        Die Verurteilten  Frank Darabont (dir.), Tim Robbins, Morgan Fre...   \n",
       "1                Der Pate  Francis Ford Coppola (dir.), Marlon Brando, Al...   \n",
       "2              Der Pate 2  Francis Ford Coppola (dir.), Al Pacino, Robert...   \n",
       "3         The Dark Knight  Christopher Nolan (dir.), Christian Bale, Heat...   \n",
       "4  Die zwölf Geschworenen      Sidney Lumet (dir.), Henry Fonda, Lee J. Cobb   \n",
       "\n",
       "     year  \n",
       "0  (1994)  \n",
       "1  (1972)  \n",
       "2  (1974)  \n",
       "3  (2008)  \n",
       "4  (1957)  "
      ]
     },
     "execution_count": 17,
     "metadata": {},
     "output_type": "execute_result"
    }
   ],
   "source": [
    "# each list becomes a column\n",
    "movies = pd.DataFrame({\"title\":title,\n",
    "                       \"dir_stars\":dir_stars,\n",
    "                       \"year\":year\n",
    "                      })\n",
    "\n",
    "movies.head()"
   ]
  },
  {
   "cell_type": "markdown",
   "metadata": {
    "id": "nQcALDRsaAbl"
   },
   "source": [
    "#### Cleaning the data\n",
    "\n",
    "An inherent part of web scraping is data cleaning. We managed to get the information we needed, but for it to be useful, we still need some extra steps:\n",
    "\n",
    "- Take the year out of the parentheses: we know we can totally do that with regex, but string methods such as str.replace() might be simpler to use.\n",
    "\n",
    "- Change the data type of the year column to integer.\n",
    "\n",
    "- Split dir_stars into 3 columns, one for each person: \"director\", \"star_1\", \"star_2\". This could have been done by filtering when extracting the data from the html document, but it looks easier afterwards:\n",
    "\n",
    "    - The \"(dir.)\" pattern can be totally removed\n",
    "    - We can split the string at each comma"
   ]
  },
  {
   "cell_type": "code",
   "execution_count": null,
   "metadata": {
    "id": "V3hwm4jRaAbm"
   },
   "outputs": [],
   "source": [
    "director = []\n",
    "star_1 = []\n",
    "star_2 = []\n",
    "\n",
    "for movie in dir_stars:\n",
    "    crew = movie.split(\",\")\n",
    "    director.append(crew[0].replace(\" (dir.)\", \"\"))\n",
    "    star_1.append(crew[1])\n",
    "    star_2.append(crew[2])\n",
    "\n",
    "# each list becomes a column\n",
    "movies = pd.DataFrame({\"title\":title,\n",
    "                       \"director\":director,\n",
    "                       \"star_1\":star_1,\n",
    "                       \"star_2\":star_2\n",
    "                      })\n",
    "\n",
    "movies.head()"
   ]
  }
 ],
 "metadata": {
  "colab": {
   "name": "Web Scraping Code Along.ipynb",
   "provenance": [],
   "toc_visible": true
  },
  "kernelspec": {
   "display_name": "Python 3",
   "language": "python",
   "name": "python3"
  },
  "language_info": {
   "codemirror_mode": {
    "name": "ipython",
    "version": 3
   },
   "file_extension": ".py",
   "mimetype": "text/x-python",
   "name": "python",
   "nbconvert_exporter": "python",
   "pygments_lexer": "ipython3",
   "version": "3.9.6"
  }
 },
 "nbformat": 4,
 "nbformat_minor": 1
}
