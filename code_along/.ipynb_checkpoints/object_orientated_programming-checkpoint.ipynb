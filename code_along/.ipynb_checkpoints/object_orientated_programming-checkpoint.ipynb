{
 "cells": [
  {
   "cell_type": "markdown",
   "id": "39e72ff9",
   "metadata": {},
   "source": [
    "# Let's write our own class"
   ]
  },
  {
   "cell_type": "code",
   "execution_count": 28,
   "id": "680448b2",
   "metadata": {},
   "outputs": [],
   "source": [
    "class Vehicle:\n",
    "    \n",
    "    def __init__(self, driver_name, engine_type): #self is a pointer for the object\n",
    "        self.speed = 0\n",
    "        self.passengers = []\n",
    "        self.driver = driver_name\n",
    "        self.engine_type = engine_type\n",
    "        self.mileage = 0 \n",
    "        self.glovebox_content = [] #hidden\n",
    "        \n",
    "    def __del__(self): #message when object is deleted\n",
    "        print(f'object with id {id(self)} is deleted')\n",
    "        \n",
    "    def drive(self, target_speed, distance):\n",
    "        self.speed = target_speed\n",
    "        self.increase_mileage(distance)\n",
    "    \n",
    "    def increase_mileage(self, distance):\n",
    "        self.mileage += distance\n",
    "        \n",
    "    def no_self():\n",
    "        print('no self')\n",
    "    \n",
    "        \n",
    "    "
   ]
  },
  {
   "cell_type": "code",
   "execution_count": 24,
   "id": "83b3eb37",
   "metadata": {},
   "outputs": [
    {
     "name": "stdout",
     "output_type": "stream",
     "text": [
      "object with id 140512174343504 is deleted\n"
     ]
    }
   ],
   "source": [
    "my_car = Vehicle('Jule', 'electric')"
   ]
  },
  {
   "cell_type": "code",
   "execution_count": 12,
   "id": "439cca8e",
   "metadata": {},
   "outputs": [
    {
     "data": {
      "text/plain": [
       "['_Vehicle__mileage',\n",
       " '__class__',\n",
       " '__delattr__',\n",
       " '__dict__',\n",
       " '__dir__',\n",
       " '__doc__',\n",
       " '__eq__',\n",
       " '__format__',\n",
       " '__ge__',\n",
       " '__getattribute__',\n",
       " '__gt__',\n",
       " '__hash__',\n",
       " '__init__',\n",
       " '__init_subclass__',\n",
       " '__le__',\n",
       " '__lt__',\n",
       " '__module__',\n",
       " '__ne__',\n",
       " '__new__',\n",
       " '__reduce__',\n",
       " '__reduce_ex__',\n",
       " '__repr__',\n",
       " '__setattr__',\n",
       " '__sizeof__',\n",
       " '__str__',\n",
       " '__subclasshook__',\n",
       " '__weakref__',\n",
       " 'driver',\n",
       " 'engine_type',\n",
       " 'glovebox_content',\n",
       " 'passengers',\n",
       " 'speed']"
      ]
     },
     "execution_count": 12,
     "metadata": {},
     "output_type": "execute_result"
    }
   ],
   "source": [
    "dir(my_car)"
   ]
  },
  {
   "cell_type": "code",
   "execution_count": 13,
   "id": "93ff9bb7",
   "metadata": {},
   "outputs": [
    {
     "ename": "AttributeError",
     "evalue": "'Vehicle' object has no attribute '__self'",
     "output_type": "error",
     "traceback": [
      "\u001b[0;31m---------------------------------------------------------------------------\u001b[0m",
      "\u001b[0;31mAttributeError\u001b[0m                            Traceback (most recent call last)",
      "\u001b[0;32m<ipython-input-13-9ecef98b120d>\u001b[0m in \u001b[0;36m<module>\u001b[0;34m\u001b[0m\n\u001b[0;32m----> 1\u001b[0;31m \u001b[0mmy_car\u001b[0m\u001b[0;34m.\u001b[0m\u001b[0m__self\u001b[0m\u001b[0;34m.\u001b[0m\u001b[0mglovebox_content\u001b[0m\u001b[0;34m\u001b[0m\u001b[0;34m\u001b[0m\u001b[0m\n\u001b[0m\u001b[1;32m      2\u001b[0m \u001b[0;31m#python 'lies' and do not show the hidden property\u001b[0m\u001b[0;34m\u001b[0m\u001b[0;34m\u001b[0m\u001b[0;34m\u001b[0m\u001b[0m\n",
      "\u001b[0;31mAttributeError\u001b[0m: 'Vehicle' object has no attribute '__self'"
     ]
    }
   ],
   "source": [
    "my_car.__self.glovebox_content\n",
    "#python 'lies' and do not show the hidden property"
   ]
  },
  {
   "cell_type": "code",
   "execution_count": 25,
   "id": "0e9ea944",
   "metadata": {},
   "outputs": [],
   "source": [
    "my_car2 = Vehicle('Darinka', 'electric')"
   ]
  },
  {
   "cell_type": "code",
   "execution_count": 21,
   "id": "b637ee7a",
   "metadata": {},
   "outputs": [
    {
     "name": "stdout",
     "output_type": "stream",
     "text": [
      "object with id 140512174345904 is deleted\n"
     ]
    }
   ],
   "source": [
    "#del my_car2"
   ]
  },
  {
   "cell_type": "code",
   "execution_count": 26,
   "id": "6f3060f6",
   "metadata": {},
   "outputs": [],
   "source": [
    "my_car2.drive(100, 200)"
   ]
  },
  {
   "cell_type": "code",
   "execution_count": 27,
   "id": "3c25f66c",
   "metadata": {},
   "outputs": [
    {
     "data": {
      "text/plain": [
       "200"
      ]
     },
     "execution_count": 27,
     "metadata": {},
     "output_type": "execute_result"
    }
   ],
   "source": [
    "my_car2.mileage"
   ]
  },
  {
   "cell_type": "code",
   "execution_count": 29,
   "id": "d560baac",
   "metadata": {},
   "outputs": [],
   "source": [
    "my_car3 = Vehicle('Fredo', 'diesel')"
   ]
  },
  {
   "cell_type": "code",
   "execution_count": 30,
   "id": "07e81ce4",
   "metadata": {},
   "outputs": [
    {
     "data": {
      "text/plain": [
       "<bound method Vehicle.no_self of <__main__.Vehicle object at 0x7fcb8bd7ce80>>"
      ]
     },
     "execution_count": 30,
     "metadata": {},
     "output_type": "execute_result"
    }
   ],
   "source": [
    "my_car3.no_self"
   ]
  },
  {
   "cell_type": "code",
   "execution_count": null,
   "id": "6be7a5fe",
   "metadata": {},
   "outputs": [],
   "source": []
  },
  {
   "cell_type": "code",
   "execution_count": null,
   "id": "4952b01d",
   "metadata": {},
   "outputs": [],
   "source": []
  }
 ],
 "metadata": {
  "kernelspec": {
   "display_name": "Python 3",
   "language": "python",
   "name": "python3"
  },
  "language_info": {
   "codemirror_mode": {
    "name": "ipython",
    "version": 3
   },
   "file_extension": ".py",
   "mimetype": "text/x-python",
   "name": "python",
   "nbconvert_exporter": "python",
   "pygments_lexer": "ipython3",
   "version": "3.9.6"
  }
 },
 "nbformat": 4,
 "nbformat_minor": 5
}
